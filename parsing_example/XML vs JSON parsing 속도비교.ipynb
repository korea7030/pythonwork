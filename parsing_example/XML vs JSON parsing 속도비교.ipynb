{
 "cells": [
  {
   "cell_type": "code",
   "execution_count": 36,
   "metadata": {},
   "outputs": [],
   "source": [
    "import requests\n",
    "import time\n",
    "import xml.etree.ElementTree as ET\n",
    "import xmltodict\n",
    "import json"
   ]
  },
  {
   "cell_type": "code",
   "execution_count": 31,
   "metadata": {},
   "outputs": [],
   "source": [
    "def runtime(f):\n",
    "    import timeit\n",
    "    start = timeit.default_timer()\n",
    "    f  # 시간 측정할 메서드\n",
    "    end = timeit.default_timer()\n",
    "    print(end - start) "
   ]
  },
  {
   "cell_type": "markdown",
   "metadata": {},
   "source": [
    "### XML"
   ]
  },
  {
   "cell_type": "code",
   "execution_count": 116,
   "metadata": {},
   "outputs": [],
   "source": [
    "def parseXML(xmlfile):\n",
    "    newitems = []\n",
    "    \n",
    "    tree = ET.parse(xmlfile)\n",
    "    \n",
    "    root = tree.getroot()\n",
    "    \n",
    "    for item in root.findall('./channel/item'):\n",
    "\n",
    "        news = {} \n",
    "        \n",
    "        for child in item:\n",
    "            # media content 가져오기\n",
    "            if child.tag == '{http://search.yahoo.com/mrss/}content':\n",
    "                news['media'] = child.attrib['url']\n",
    "            else:\n",
    "                news[child.tag] = child.text.encode('utf8')\n",
    "                \n",
    "        newitems.append(news)\n",
    "        \n",
    "    return newitems"
   ]
  },
  {
   "cell_type": "markdown",
   "metadata": {},
   "source": [
    "### JSON"
   ]
  },
  {
   "cell_type": "code",
   "execution_count": 117,
   "metadata": {},
   "outputs": [],
   "source": [
    "def parseJSON(jsonfile):\n",
    "    newitems = []\n",
    "    \n",
    "    json_content = json.loads(open(jsonfile).read())\n",
    "    \n",
    "    item_content = json_content['rss']['channel']['item']\n",
    "    \n",
    "    for item in item_content:\n",
    "        newitems.append(item['media:content']['@url'])\n",
    "        \n",
    "    return newitems"
   ]
  },
  {
   "cell_type": "code",
   "execution_count": 124,
   "metadata": {},
   "outputs": [
    {
     "name": "stdout",
     "output_type": "stream",
     "text": [
      "2.5199915398843586e-07\n",
      "2.0199877326376736e-07\n"
     ]
    }
   ],
   "source": [
    "if __name__ == '__main__':\n",
    "    url = 'http://www.hindustantimes.com/rss/topnews/rssfeed.xml'\n",
    "    response = requests.get(url)\n",
    "    \n",
    "    # xml save\n",
    "    with open('test.xml', 'wb') as f:\n",
    "        f.write(response.content)\n",
    "    \n",
    "    # xml을 dictionary형태로 변환\n",
    "    json_content = xmltodict.parse(response.content)\n",
    "                              \n",
    "    with open('test.json', 'w') as f2:\n",
    "        json.dump(json_content, f2)\n",
    "        \n",
    "        \n",
    "    runtime(parseXML('test.xml'))\n",
    "    runtime(parseJSON('test.json'))"
   ]
  }
 ],
 "metadata": {
  "kernelspec": {
   "display_name": "Python 3",
   "language": "python",
   "name": "python3"
  },
  "language_info": {
   "codemirror_mode": {
    "name": "ipython",
    "version": 3
   },
   "file_extension": ".py",
   "mimetype": "text/x-python",
   "name": "python",
   "nbconvert_exporter": "python",
   "pygments_lexer": "ipython3",
   "version": "3.6.3"
  }
 },
 "nbformat": 4,
 "nbformat_minor": 2
}
