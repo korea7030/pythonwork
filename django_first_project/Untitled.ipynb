{
 "cells": [
  {
   "cell_type": "code",
   "execution_count": 12,
   "metadata": {
    "collapsed": false
   },
   "outputs": [],
   "source": [
    "import requests\n",
    "import xml.etree.ElementTree as ET\n",
    "from bs4 import BeautifulSoup"
   ]
  },
  {
   "cell_type": "code",
   "execution_count": 31,
   "metadata": {
    "collapsed": true
   },
   "outputs": [
    {
     "data": {
      "text/plain": [
       "'<?xml version=\"1.0\" encoding=\"UTF-8\"?><channel><description>Daum Open API search result</description><generator>Daum Open API</generator><item><author>케빈 더튼</author><barcode>BOK00020141970BA</barcode><category>인문</category><cover_l_url>http://t1.daumcdn.net/thumb/R110x160/?fname=http%3A%2F%2Ft1.daumcdn.net%2Fbook%2FBOK00020141970BA%3Fmoddttm=20141122085257</cover_l_url><cover_s_url>http://t1.daumcdn.net/thumb/R72x100/?fname=http%3A%2F%2Ft1.daumcdn.net%2Fbook%2FBOK00020141970BA%3Fmoddttm=20141122085257</cover_s_url><description>외과의사와 연쇄살인범을 구분하는 경계가 ‘모호하다’는 사실을 밝혀낸 『천재의 두 얼굴, 사이코패스』가 출간되었다. 이 책을 쓰기 위해 저자는 음침한 보호시설에 수감된 사이코패스들...</description><ebook_barcode/><etc_author/><isbn>895989222X</isbn><isbn13>9788959892228</isbn13><link>http://book.daum.net/detail/book.do?bookid=BOK00020141970BA</link><list_price>14000</list_price><pub_date>20130520</pub_date><pub_nm>미래의창</pub_nm><sale_price>12600</sale_price><sale_yn>Y</sale_yn><status_des>정상판매</status_des><title>천재의 두 얼굴 사이코패스(흰색)</title><translator>차백만</translator></item><item><author>케빈 더튼</author><barcode>BOK00020143492BA</barcode><category>인문</category><cover_l_url>http://t1.daumcdn.net/thumb/R110x160/?fname=http%3A%2F%2Ft1.daumcdn.net%2Fbook%2FBOK00020143492BA%3Fmoddttm=20170313060219</cover_l_url><cover_s_url>http://t1.daumcdn.net/thumb/R72x100/?fname=http%3A%2F%2Ft1.daumcdn.net%2Fbook%2FBOK00020143492BA%3Fmoddttm=20170313060219</cover_s_url><description>외과의사와 연쇄살인범을 구분하는 경계가 ‘모호하다’는 사실을 밝혀낸 『천재의 두 얼굴, 사이코패스』가 출간되었다. 이 책을 쓰기 위해 저자는 음침한 보호시설에 수감된 사이코패스들...</description><ebook_barcode>DGT00020219346BA</ebook_barcode><etc_author/><isbn>8959892238</isbn><isbn13>9788959892235</isbn13><link>http://book.daum.net/detail/book.do?bookid=BOK00020143492BA</link><list_price>14000</list_price><pub_date>20130520</pub_date><pub_nm>미래의창</pub_nm><sale_price>12600</sale_price><sale_yn>Y</sale_yn><status_des>정상판매</status_des><title>천재의 두 얼굴 사이코패스(검정표지)</title><translator>차백만</translator></item><item><author>케빈 더튼</author><barcode/><category>소설</category><cover_l_url>http://t1.daumcdn.net/thumb/R110x160/?fname=http%3A%2F%2Ft1.daumcdn.net%2Fbook%2FDGT00020226539AL%3Fmoddttm=20150806145837</cover_l_url><cover_s_url>http://t1.daumcdn.net/thumb/R72x100/?fname=http%3A%2F%2Ft1.daumcdn.net%2Fbook%2FDGT00020226539AL%3Fmoddttm=20150806145837</cover_s_url><description>외과의사와 연쇄살인범을 구분하는 경계가 ‘모호하다’는 사실을 밝혀낸 『천재의 두 얼굴, 사이코패스』가 출간되었다. 이 책을 쓰기 위해 저자는 음침한 보호시설에 수감된 사이코패스들...</description><ebook_barcode>DGT00020226539AL</ebook_barcode><etc_author/><isbn/><isbn13>9788959892273</isbn13><link>http://book.daum.net/detail/book.do?bookid=</link><list_price>7700</list_price><pub_date>20130602</pub_date><pub_nm>미래의창</pub_nm><sale_price>7700</sale_price><sale_yn>Y</sale_yn><status_des>정상판매</status_des><title>천재의 두 얼굴, 사이코패스</title><translator>차백만</translator></item><lastBuildDate>Wed, 15 Mar 2017 23:06:08 +0900</lastBuildDate><link>http://dna.daum.net/apis</link><pageCount>3</pageCount><result>3</result><title>Search Daum Open API</title><totalCount>3</totalCount></channel>'"
      ]
     },
     "execution_count": 31,
     "metadata": {},
     "output_type": "execute_result"
    }
   ],
   "source": [
    "url = 'https://apis.daum.net/search/book?apikey='\n",
    "apikey='917124f7f8dd51950bdfa5bbcbf98219'\n",
    "q = '천재의 두얼굴:싸이코패스'\n",
    "res = requests.get(url+apikey+\"&q=\"+q+\"&searchType=title\")\n",
    "res.text"
   ]
  },
  {
   "cell_type": "code",
   "execution_count": 32,
   "metadata": {
    "collapsed": false
   },
   "outputs": [
    {
     "data": {
      "text/plain": [
       "200"
      ]
     },
     "execution_count": 32,
     "metadata": {},
     "output_type": "execute_result"
    }
   ],
   "source": [
    "res.status_code"
   ]
  },
  {
   "cell_type": "code",
   "execution_count": 15,
   "metadata": {
    "collapsed": false
   },
   "outputs": [],
   "source": [
    "soup = BeautifulSoup(res.text, \"lxml\")"
   ]
  },
  {
   "cell_type": "code",
   "execution_count": 29,
   "metadata": {
    "collapsed": true
   },
   "outputs": [
    {
     "ename": "FileNotFoundError",
     "evalue": "[Errno 2] No such file or directory: '<?xml version=\"1.0\" encoding=\"UTF-8\"?><channel><description>Daum Open API search result</description><generator>Daum Open API</generator><item><author>케빈 더튼</author><barcode>BOK00020141970BA</barcode><category>인문</category><cover_l_url>http://t1.daumcdn.net/thumb/R110x160/?fname=http%3A%2F%2Ft1.daumcdn.net%2Fbook%2FBOK00020141970BA%3Fmoddttm=20141122085257</cover_l_url><cover_s_url>http://t1.daumcdn.net/thumb/R72x100/?fname=http%3A%2F%2Ft1.daumcdn.net%2Fbook%2FBOK00020141970BA%3Fmoddttm=20141122085257</cover_s_url><description>외과의사와 연쇄살인범을 구분하는 경계가 ‘모호하다’는 사실을 밝혀낸 『천재의 두 얼굴, 사이코패스』가 출간되었다. 이 책을 쓰기 위해 저자는 음침한 보호시설에 수감된 사이코패스들...</description><ebook_barcode/><etc_author/><isbn>895989222X</isbn><isbn13>9788959892228</isbn13><link>http://book.daum.net/detail/book.do?bookid=BOK00020141970BA</link><list_price>14000</list_price><pub_date>20130520</pub_date><pub_nm>미래의창</pub_nm><sale_price>12600</sale_price><sale_yn>Y</sale_yn><status_des>정상판매</status_des><title>천재의 두 얼굴 사이코패스(흰색)</title><translator>차백만</translator></item><item><author>케빈 더튼</author><barcode>BOK00020143492BA</barcode><category>인문</category><cover_l_url>http://t1.daumcdn.net/thumb/R110x160/?fname=http%3A%2F%2Ft1.daumcdn.net%2Fbook%2FBOK00020143492BA%3Fmoddttm=20170313060219</cover_l_url><cover_s_url>http://t1.daumcdn.net/thumb/R72x100/?fname=http%3A%2F%2Ft1.daumcdn.net%2Fbook%2FBOK00020143492BA%3Fmoddttm=20170313060219</cover_s_url><description>외과의사와 연쇄살인범을 구분하는 경계가 ‘모호하다’는 사실을 밝혀낸 『천재의 두 얼굴, 사이코패스』가 출간되었다. 이 책을 쓰기 위해 저자는 음침한 보호시설에 수감된 사이코패스들...</description><ebook_barcode>DGT00020219346BA</ebook_barcode><etc_author/><isbn>8959892238</isbn><isbn13>9788959892235</isbn13><link>http://book.daum.net/detail/book.do?bookid=BOK00020143492BA</link><list_price>14000</list_price><pub_date>20130520</pub_date><pub_nm>미래의창</pub_nm><sale_price>12600</sale_price><sale_yn>Y</sale_yn><status_des>정상판매</status_des><title>천재의 두 얼굴 사이코패스(검정표지)</title><translator>차백만</translator></item><item><author>케빈 더튼</author><barcode/><category>소설</category><cover_l_url>http://t1.daumcdn.net/thumb/R110x160/?fname=http%3A%2F%2Ft1.daumcdn.net%2Fbook%2FDGT00020226539AL%3Fmoddttm=20150806145837</cover_l_url><cover_s_url>http://t1.daumcdn.net/thumb/R72x100/?fname=http%3A%2F%2Ft1.daumcdn.net%2Fbook%2FDGT00020226539AL%3Fmoddttm=20150806145837</cover_s_url><description>외과의사와 연쇄살인범을 구분하는 경계가 ‘모호하다’는 사실을 밝혀낸 『천재의 두 얼굴, 사이코패스』가 출간되었다. 이 책을 쓰기 위해 저자는 음침한 보호시설에 수감된 사이코패스들...</description><ebook_barcode>DGT00020226539AL</ebook_barcode><etc_author/><isbn/><isbn13>9788959892273</isbn13><link>http://book.daum.net/detail/book.do?bookid=</link><list_price>7700</list_price><pub_date>20130602</pub_date><pub_nm>미래의창</pub_nm><sale_price>7700</sale_price><sale_yn>Y</sale_yn><status_des>정상판매</status_des><title>천재의 두 얼굴, 사이코패스</title><translator>차백만</translator></item><lastBuildDate>Wed, 15 Mar 2017 22:56:58 +0900</lastBuildDate><link>http://dna.daum.net/apis</link><pageCount>3</pageCount><result>3</result><title>Search Daum Open API</title><totalCount>3</totalCount></channel>'",
     "output_type": "error",
     "traceback": [
      "\u001b[1;31m---------------------------------------------------------------------------\u001b[0m",
      "\u001b[1;31mFileNotFoundError\u001b[0m                         Traceback (most recent call last)",
      "\u001b[1;32m<ipython-input-29-fd183ef819dd>\u001b[0m in \u001b[0;36m<module>\u001b[1;34m()\u001b[0m\n\u001b[0;32m      1\u001b[0m \u001b[1;32mfrom\u001b[0m \u001b[0mxml\u001b[0m\u001b[1;33m.\u001b[0m\u001b[0metree\u001b[0m\u001b[1;33m.\u001b[0m\u001b[0mElementTree\u001b[0m \u001b[1;32mimport\u001b[0m \u001b[0mElement\u001b[0m\u001b[1;33m,\u001b[0m \u001b[0mdump\u001b[0m\u001b[1;33m,\u001b[0m \u001b[0mparse\u001b[0m\u001b[1;33m\u001b[0m\u001b[0m\n\u001b[1;32m----> 2\u001b[1;33m \u001b[0mparse\u001b[0m\u001b[1;33m(\u001b[0m\u001b[0mres\u001b[0m\u001b[1;33m.\u001b[0m\u001b[0mtext\u001b[0m\u001b[1;33m)\u001b[0m\u001b[1;33m\u001b[0m\u001b[0m\n\u001b[0m",
      "\u001b[1;32mC:\\Users\\Administrator\\Anaconda3\\lib\\xml\\etree\\ElementTree.py\u001b[0m in \u001b[0;36mparse\u001b[1;34m(source, parser)\u001b[0m\n\u001b[0;32m   1182\u001b[0m     \"\"\"\n\u001b[0;32m   1183\u001b[0m     \u001b[0mtree\u001b[0m \u001b[1;33m=\u001b[0m \u001b[0mElementTree\u001b[0m\u001b[1;33m(\u001b[0m\u001b[1;33m)\u001b[0m\u001b[1;33m\u001b[0m\u001b[0m\n\u001b[1;32m-> 1184\u001b[1;33m     \u001b[0mtree\u001b[0m\u001b[1;33m.\u001b[0m\u001b[0mparse\u001b[0m\u001b[1;33m(\u001b[0m\u001b[0msource\u001b[0m\u001b[1;33m,\u001b[0m \u001b[0mparser\u001b[0m\u001b[1;33m)\u001b[0m\u001b[1;33m\u001b[0m\u001b[0m\n\u001b[0m\u001b[0;32m   1185\u001b[0m     \u001b[1;32mreturn\u001b[0m \u001b[0mtree\u001b[0m\u001b[1;33m\u001b[0m\u001b[0m\n\u001b[0;32m   1186\u001b[0m \u001b[1;33m\u001b[0m\u001b[0m\n",
      "\u001b[1;32mC:\\Users\\Administrator\\Anaconda3\\lib\\xml\\etree\\ElementTree.py\u001b[0m in \u001b[0;36mparse\u001b[1;34m(self, source, parser)\u001b[0m\n\u001b[0;32m    583\u001b[0m         \u001b[0mclose_source\u001b[0m \u001b[1;33m=\u001b[0m \u001b[1;32mFalse\u001b[0m\u001b[1;33m\u001b[0m\u001b[0m\n\u001b[0;32m    584\u001b[0m         \u001b[1;32mif\u001b[0m \u001b[1;32mnot\u001b[0m \u001b[0mhasattr\u001b[0m\u001b[1;33m(\u001b[0m\u001b[0msource\u001b[0m\u001b[1;33m,\u001b[0m \u001b[1;34m\"read\"\u001b[0m\u001b[1;33m)\u001b[0m\u001b[1;33m:\u001b[0m\u001b[1;33m\u001b[0m\u001b[0m\n\u001b[1;32m--> 585\u001b[1;33m             \u001b[0msource\u001b[0m \u001b[1;33m=\u001b[0m \u001b[0mopen\u001b[0m\u001b[1;33m(\u001b[0m\u001b[0msource\u001b[0m\u001b[1;33m,\u001b[0m \u001b[1;34m\"rb\"\u001b[0m\u001b[1;33m)\u001b[0m\u001b[1;33m\u001b[0m\u001b[0m\n\u001b[0m\u001b[0;32m    586\u001b[0m             \u001b[0mclose_source\u001b[0m \u001b[1;33m=\u001b[0m \u001b[1;32mTrue\u001b[0m\u001b[1;33m\u001b[0m\u001b[0m\n\u001b[0;32m    587\u001b[0m         \u001b[1;32mtry\u001b[0m\u001b[1;33m:\u001b[0m\u001b[1;33m\u001b[0m\u001b[0m\n",
      "\u001b[1;31mFileNotFoundError\u001b[0m: [Errno 2] No such file or directory: '<?xml version=\"1.0\" encoding=\"UTF-8\"?><channel><description>Daum Open API search result</description><generator>Daum Open API</generator><item><author>케빈 더튼</author><barcode>BOK00020141970BA</barcode><category>인문</category><cover_l_url>http://t1.daumcdn.net/thumb/R110x160/?fname=http%3A%2F%2Ft1.daumcdn.net%2Fbook%2FBOK00020141970BA%3Fmoddttm=20141122085257</cover_l_url><cover_s_url>http://t1.daumcdn.net/thumb/R72x100/?fname=http%3A%2F%2Ft1.daumcdn.net%2Fbook%2FBOK00020141970BA%3Fmoddttm=20141122085257</cover_s_url><description>외과의사와 연쇄살인범을 구분하는 경계가 ‘모호하다’는 사실을 밝혀낸 『천재의 두 얼굴, 사이코패스』가 출간되었다. 이 책을 쓰기 위해 저자는 음침한 보호시설에 수감된 사이코패스들...</description><ebook_barcode/><etc_author/><isbn>895989222X</isbn><isbn13>9788959892228</isbn13><link>http://book.daum.net/detail/book.do?bookid=BOK00020141970BA</link><list_price>14000</list_price><pub_date>20130520</pub_date><pub_nm>미래의창</pub_nm><sale_price>12600</sale_price><sale_yn>Y</sale_yn><status_des>정상판매</status_des><title>천재의 두 얼굴 사이코패스(흰색)</title><translator>차백만</translator></item><item><author>케빈 더튼</author><barcode>BOK00020143492BA</barcode><category>인문</category><cover_l_url>http://t1.daumcdn.net/thumb/R110x160/?fname=http%3A%2F%2Ft1.daumcdn.net%2Fbook%2FBOK00020143492BA%3Fmoddttm=20170313060219</cover_l_url><cover_s_url>http://t1.daumcdn.net/thumb/R72x100/?fname=http%3A%2F%2Ft1.daumcdn.net%2Fbook%2FBOK00020143492BA%3Fmoddttm=20170313060219</cover_s_url><description>외과의사와 연쇄살인범을 구분하는 경계가 ‘모호하다’는 사실을 밝혀낸 『천재의 두 얼굴, 사이코패스』가 출간되었다. 이 책을 쓰기 위해 저자는 음침한 보호시설에 수감된 사이코패스들...</description><ebook_barcode>DGT00020219346BA</ebook_barcode><etc_author/><isbn>8959892238</isbn><isbn13>9788959892235</isbn13><link>http://book.daum.net/detail/book.do?bookid=BOK00020143492BA</link><list_price>14000</list_price><pub_date>20130520</pub_date><pub_nm>미래의창</pub_nm><sale_price>12600</sale_price><sale_yn>Y</sale_yn><status_des>정상판매</status_des><title>천재의 두 얼굴 사이코패스(검정표지)</title><translator>차백만</translator></item><item><author>케빈 더튼</author><barcode/><category>소설</category><cover_l_url>http://t1.daumcdn.net/thumb/R110x160/?fname=http%3A%2F%2Ft1.daumcdn.net%2Fbook%2FDGT00020226539AL%3Fmoddttm=20150806145837</cover_l_url><cover_s_url>http://t1.daumcdn.net/thumb/R72x100/?fname=http%3A%2F%2Ft1.daumcdn.net%2Fbook%2FDGT00020226539AL%3Fmoddttm=20150806145837</cover_s_url><description>외과의사와 연쇄살인범을 구분하는 경계가 ‘모호하다’는 사실을 밝혀낸 『천재의 두 얼굴, 사이코패스』가 출간되었다. 이 책을 쓰기 위해 저자는 음침한 보호시설에 수감된 사이코패스들...</description><ebook_barcode>DGT00020226539AL</ebook_barcode><etc_author/><isbn/><isbn13>9788959892273</isbn13><link>http://book.daum.net/detail/book.do?bookid=</link><list_price>7700</list_price><pub_date>20130602</pub_date><pub_nm>미래의창</pub_nm><sale_price>7700</sale_price><sale_yn>Y</sale_yn><status_des>정상판매</status_des><title>천재의 두 얼굴, 사이코패스</title><translator>차백만</translator></item><lastBuildDate>Wed, 15 Mar 2017 22:56:58 +0900</lastBuildDate><link>http://dna.daum.net/apis</link><pageCount>3</pageCount><result>3</result><title>Search Daum Open API</title><totalCount>3</totalCount></channel>'"
     ]
    }
   ],
   "source": [
    "from xml.etree.ElementTree import Element, dump, parse\n",
    "parse(res.text)"
   ]
  },
  {
   "cell_type": "code",
   "execution_count": 7,
   "metadata": {
    "collapsed": true
   },
   "outputs": [
    {
     "data": {
      "text/plain": [
       "{'description': 'Daum Open API search result',\n",
       " 'generator': 'Daum Open API',\n",
       " 'item': [{'author': '케빈 더튼',\n",
       "   'barcode': 'BOK00020141970BA',\n",
       "   'category': '인문',\n",
       "   'cover_l_url': 'http://t1.daumcdn.net/thumb/R110x160/?fname=http%3A%2F%2Ft1.daumcdn.net%2Fbook%2FBOK00020141970BA%3Fmoddttm=20141122085257',\n",
       "   'cover_s_url': 'http://t1.daumcdn.net/thumb/R72x100/?fname=http%3A%2F%2Ft1.daumcdn.net%2Fbook%2FBOK00020141970BA%3Fmoddttm=20141122085257',\n",
       "   'description': '외과의사와 연쇄살인범을 구분하는 경계가 ‘모호하다’는 사실을 밝혀낸 『천재의 두 얼굴, 사이코패스』가 출간되었다. 이 책을 쓰기 위해 저자는 음침한 보호시설에 수감된 사이코패스들...',\n",
       "   'ebook_barcode': '',\n",
       "   'etc_author': '',\n",
       "   'isbn': '895989222X',\n",
       "   'isbn13': '9788959892228',\n",
       "   'link': 'http://book.daum.net/detail/book.do?bookid=BOK00020141970BA',\n",
       "   'list_price': '14000',\n",
       "   'pub_date': '20130520',\n",
       "   'pub_nm': '미래의창',\n",
       "   'sale_price': '12600',\n",
       "   'sale_yn': 'Y',\n",
       "   'status_des': '정상판매',\n",
       "   'title': '천재의 두 얼굴 사이코패스(흰색)',\n",
       "   'translator': '차백만'},\n",
       "  {'author': '케빈 더튼',\n",
       "   'barcode': 'BOK00020143492BA',\n",
       "   'category': '인문',\n",
       "   'cover_l_url': 'http://t1.daumcdn.net/thumb/R110x160/?fname=http%3A%2F%2Ft1.daumcdn.net%2Fbook%2FBOK00020143492BA%3Fmoddttm=20170313060219',\n",
       "   'cover_s_url': 'http://t1.daumcdn.net/thumb/R72x100/?fname=http%3A%2F%2Ft1.daumcdn.net%2Fbook%2FBOK00020143492BA%3Fmoddttm=20170313060219',\n",
       "   'description': '외과의사와 연쇄살인범을 구분하는 경계가 ‘모호하다’는 사실을 밝혀낸 『천재의 두 얼굴, 사이코패스』가 출간되었다. 이 책을 쓰기 위해 저자는 음침한 보호시설에 수감된 사이코패스들...',\n",
       "   'ebook_barcode': 'DGT00020219346BA',\n",
       "   'etc_author': '',\n",
       "   'isbn': '8959892238',\n",
       "   'isbn13': '9788959892235',\n",
       "   'link': 'http://book.daum.net/detail/book.do?bookid=BOK00020143492BA',\n",
       "   'list_price': '14000',\n",
       "   'pub_date': '20130520',\n",
       "   'pub_nm': '미래의창',\n",
       "   'sale_price': '12600',\n",
       "   'sale_yn': 'Y',\n",
       "   'status_des': '정상판매',\n",
       "   'title': '천재의 두 얼굴 사이코패스(검정표지)',\n",
       "   'translator': '차백만'},\n",
       "  {'author': '케빈 더튼',\n",
       "   'barcode': '',\n",
       "   'category': '소설',\n",
       "   'cover_l_url': 'http://t1.daumcdn.net/thumb/R110x160/?fname=http%3A%2F%2Ft1.daumcdn.net%2Fbook%2FDGT00020226539AL%3Fmoddttm=20150806145837',\n",
       "   'cover_s_url': 'http://t1.daumcdn.net/thumb/R72x100/?fname=http%3A%2F%2Ft1.daumcdn.net%2Fbook%2FDGT00020226539AL%3Fmoddttm=20150806145837',\n",
       "   'description': '외과의사와 연쇄살인범을 구분하는 경계가 ‘모호하다’는 사실을 밝혀낸 『천재의 두 얼굴, 사이코패스』가 출간되었다. 이 책을 쓰기 위해 저자는 음침한 보호시설에 수감된 사이코패스들...',\n",
       "   'ebook_barcode': 'DGT00020226539AL',\n",
       "   'etc_author': '',\n",
       "   'isbn': '',\n",
       "   'isbn13': '9788959892273',\n",
       "   'link': 'http://book.daum.net/detail/book.do?bookid=',\n",
       "   'list_price': '7700',\n",
       "   'pub_date': '20130602',\n",
       "   'pub_nm': '미래의창',\n",
       "   'sale_price': '7700',\n",
       "   'sale_yn': 'Y',\n",
       "   'status_des': '정상판매',\n",
       "   'title': '천재의 두 얼굴, 사이코패스',\n",
       "   'translator': '차백만'}],\n",
       " 'lastBuildDate': 'Wed, 15 Mar 2017 22:42:36 +0900',\n",
       " 'link': 'http://dna.daum.net/apis',\n",
       " 'pageCount': '3',\n",
       " 'result': '3',\n",
       " 'title': 'Search Daum Open API',\n",
       " 'totalCount': '3'}"
      ]
     },
     "execution_count": 7,
     "metadata": {},
     "output_type": "execute_result"
    }
   ],
   "source": [
    "json_txt['channel']\n",
    "# 한페이지당 10개씩\n",
    "# totalCount\n",
    "# pageCount\n",
    "# result\n",
    "# item\n",
    "#    author\n",
    "#    category -> \n",
    "#    pub_date\n",
    "#    pub_nm\n",
    "#    title\n",
    "#    translator\n",
    "#    ebook_barcode -> ebook 여부 구분(값이 있으면 eBook / 없으면 Book)\n",
    "#    barcode"
   ]
  },
  {
   "cell_type": "code",
   "execution_count": 14,
   "metadata": {
    "collapsed": true
   },
   "outputs": [
    {
     "data": {
      "text/plain": [
       "dict"
      ]
     },
     "execution_count": 14,
     "metadata": {},
     "output_type": "execute_result"
    }
   ],
   "source": [
    "type(json_txt)"
   ]
  },
  {
   "cell_type": "code",
   "execution_count": 17,
   "metadata": {
    "collapsed": false
   },
   "outputs": [
    {
     "data": {
      "text/plain": [
       "10"
      ]
     },
     "execution_count": 17,
     "metadata": {},
     "output_type": "execute_result"
    }
   ],
   "source": [
    "len(json_txt['channel']['item'])"
   ]
  },
  {
   "cell_type": "code",
   "execution_count": 21,
   "metadata": {
    "collapsed": false
   },
   "outputs": [],
   "source": [
    "items = json_txt['channel']['item']"
   ]
  },
  {
   "cell_type": "code",
   "execution_count": 22,
   "metadata": {
    "collapsed": false
   },
   "outputs": [
    {
     "name": "stdout",
     "output_type": "stream",
     "text": [
      "{'pub_date': '20030825', 'author': '정비석', 'title': '초한지', 'list_price': '10000', 'category': '소설', 'etc_author': '', 'description': '', 'link': 'http://book.daum.net/category/series.do?seriesID=BG52038856', 'cover_s_url': 'http://t1.daumcdn.net/thumb/R72x100/?fname=http%3A%2F%2Ft1.daumcdn.net%2Fbook%2FKOR9788908042346%3Fmoddttm=20170310060508', 'sale_yn': 'Y', 'status_des': '정상판매', 'cover_l_url': 'http://t1.daumcdn.net/thumb/R110x160/?fname=http%3A%2F%2Ft1.daumcdn.net%2Fbook%2FKOR9788908042346%3Fmoddttm=20170310060508', 'isbn13': '9788908042346', 'ebook_barcode': '', 'barcode': 'BG52038856', 'isbn': '8908042342', 'translator': '', 'sale_price': '9000', 'pub_nm': '범우사'}\n",
      "{'pub_date': '20080614', 'author': '이문열', 'title': '초한지 세트', 'list_price': '88000', 'category': '소설', 'etc_author': '', 'description': '이야기가 이문열의 소설로 새롭게 태어난다!   &lt;사기&gt;를 원전으로 완전히 새로 쓴 이문열의『초한지』전10권 세트. 단 한번의 승리로 천하를 얻은 한 고조 유방, 단 한 번의 패배로 모든 것...', 'link': 'http://book.daum.net/detail/book.do?bookid=KOR9788937481581', 'cover_s_url': 'http://t1.daumcdn.net/thumb/P72x100/?fname=http%3A%2F%2Ft1.daumcdn.net%2Fbook%2FKOR9788937481581%3Fmoddttm=20170313060329', 'sale_yn': 'Y', 'status_des': '정상판매', 'cover_l_url': 'http://t1.daumcdn.net/thumb/P110x160/?fname=http%3A%2F%2Ft1.daumcdn.net%2Fbook%2FKOR9788937481581%3Fmoddttm=20170313060329', 'isbn13': '9788937481581', 'ebook_barcode': '', 'barcode': 'KOR9788937481581', 'isbn': '8937481588', 'translator': '', 'sale_price': '79200', 'pub_nm': '민음사'}\n",
      "{'pub_date': '20080605', 'author': '이문열', 'title': '초한지', 'list_price': '95000', 'category': '', 'etc_author': '', 'description': '', 'link': 'http://book.daum.net/category/series.do?seriesID=BG52028510', 'cover_s_url': 'http://t1.daumcdn.net/thumb/P72x100/?fname=http%3A%2F%2Ft1.daumcdn.net%2Fbook%2FBOK00003245846IN%3Fmoddttm=20161128060220', 'sale_yn': 'Y', 'status_des': '정상판매', 'cover_l_url': 'http://t1.daumcdn.net/thumb/P110x160/?fname=http%3A%2F%2Ft1.daumcdn.net%2Fbook%2FBOK00003245846IN%3Fmoddttm=20161128060220', 'isbn13': '9788937481581', 'ebook_barcode': '', 'barcode': 'BG52028510', 'isbn': '8937481588', 'translator': '', 'sale_price': '79200', 'pub_nm': '민음사'}\n",
      "{'pub_date': '20121120', 'author': '요코야마 미츠테루', 'title': '[만화] 초한지', 'list_price': '9500', 'category': '만화', 'etc_author': '', 'description': '', 'link': 'http://book.daum.net/category/series.do?seriesID=BG52004814', 'cover_s_url': 'http://t1.daumcdn.net/thumb/R72x100/?fname=http%3A%2F%2Ft1.daumcdn.net%2Fbook%2FKOR9788964073575%3Fmoddttm=20170303060515', 'sale_yn': 'Y', 'status_des': '정상판매', 'cover_l_url': 'http://t1.daumcdn.net/thumb/R110x160/?fname=http%3A%2F%2Ft1.daumcdn.net%2Fbook%2FKOR9788964073575%3Fmoddttm=20170303060515', 'isbn13': '9788964073575', 'ebook_barcode': '', 'barcode': 'BG52004814', 'isbn': '8964073576', 'translator': '', 'sale_price': '8550', 'pub_nm': '에이케이커뮤니케이션즈'}\n",
      "{'pub_date': '20150828', 'author': '', 'title': '초한지 6: 천하를 담을 그릇', 'list_price': '9500', 'category': '어린이(초등)', 'etc_author': '', 'description': '우리 시대 거장 이문열이 한국 만화계의 신화 형민우와 함께한 『초한지』 제6권 《천하를 담을 그릇》편. 원작 내용을 충실히 살리면서도 형민우 특유의 박진감 넘치는 연출로 만화적 재미...', 'link': 'http://book.daum.net/detail/book.do?bookid=KOR9788965480488', 'cover_s_url': 'http://t1.daumcdn.net/thumb/R72x100/?fname=http%3A%2F%2Ft1.daumcdn.net%2Fbook%2FKOR9788965480488%3Fmoddttm=20170303060515', 'sale_yn': 'Y', 'status_des': '정상판매', 'cover_l_url': 'http://t1.daumcdn.net/thumb/R110x160/?fname=http%3A%2F%2Ft1.daumcdn.net%2Fbook%2FKOR9788965480488%3Fmoddttm=20170303060515', 'isbn13': '9788965480488', 'ebook_barcode': '', 'barcode': 'KOR9788965480488', 'isbn': '8965480485', 'translator': '', 'sale_price': '8550', 'pub_nm': '고릴라박스(비룡소)'}\n",
      "{'pub_date': '20120330', 'author': '장영철', 'title': '샐러리맨 초한지', 'list_price': '10000', 'category': '소설', 'etc_author': '정경순', 'description': '', 'link': 'http://book.daum.net/category/series.do?seriesID=BG52007787', 'cover_s_url': 'http://t1.daumcdn.net/thumb/R72x100/?fname=http%3A%2F%2Ft1.daumcdn.net%2Fbook%2FKOR9788966214242%3Fmoddttm=20170227060207', 'sale_yn': 'Y', 'status_des': '정상판매', 'cover_l_url': 'http://t1.daumcdn.net/thumb/R110x160/?fname=http%3A%2F%2Ft1.daumcdn.net%2Fbook%2FKOR9788966214242%3Fmoddttm=20170227060207', 'isbn13': '9788966214242', 'ebook_barcode': 'DGT4808966214242', 'barcode': 'BG52007787', 'isbn': '896621424X', 'translator': '', 'sale_price': '9000', 'pub_nm': '형설라이프'}\n",
      "{'pub_date': '20150120', 'author': '장개충', 'title': '초한지', 'list_price': '6500', 'category': '소설', 'etc_author': '', 'description': '그려낸 역사소설이다 폭넓게 펼쳐지는 세상의 안목 영웅호걸들의 경륜을 배우다.이책은 ...『초한지』는 천하대사를 경륜하고 지모계략을 꾸며 영고성쇠榮枯盛衰를 펼치던 수 많은 영웅호걸...', 'link': 'http://book.daum.net/detail/book.do?bookid=BOK00024519508AL', 'cover_s_url': 'http://t1.daumcdn.net/thumb/R72x100/?fname=http%3A%2F%2Ft1.daumcdn.net%2Fbook%2FBOK00024519508AL%3Fmoddttm=20170210060454', 'sale_yn': 'Y', 'status_des': '정상판매', 'cover_l_url': 'http://t1.daumcdn.net/thumb/R110x160/?fname=http%3A%2F%2Ft1.daumcdn.net%2Fbook%2FBOK00024519508AL%3Fmoddttm=20170210060454', 'isbn13': '9791195400782', 'ebook_barcode': '', 'barcode': 'BOK00024519508AL', 'isbn': '1195400780', 'translator': '', 'sale_price': '5850', 'pub_nm': '케어북(Care Book)'}\n",
      "{'pub_date': '20140826', 'author': '김성모', 'title': '연예계 초한지 1', 'list_price': '6000', 'category': '만화', 'etc_author': '', 'description': '스타탄생의 뒤안길에서 처절하게 펼쳐지는 인생역정!', 'link': 'http://book.daum.net/detail/book.do?bookid=BOK00023598387YE', 'cover_s_url': 'http://t1.daumcdn.net/thumb/R72x100/?fname=http%3A%2F%2Ft1.daumcdn.net%2Fbook%2FBOK00023598387YE%3Fmoddttm=20160617090059', 'sale_yn': 'Y', 'status_des': '정상판매', 'cover_l_url': 'http://t1.daumcdn.net/thumb/R110x160/?fname=http%3A%2F%2Ft1.daumcdn.net%2Fbook%2FBOK00023598387YE%3Fmoddttm=20160617090059', 'isbn13': '9788965633266', 'ebook_barcode': '', 'barcode': 'BOK00023598387YE', 'isbn': '8965633265', 'translator': '', 'sale_price': '5400', 'pub_nm': '자유구역'}\n",
      "{'pub_date': '20140920', 'author': '다수 저자', 'title': '7권 선물]하우소 지식똑똑 중국역사탐구 초한지서유기[최신개정판]중국고전...', 'list_price': '500000', 'category': '어린이전집', 'etc_author': '', 'description': '', 'link': 'http://book.daum.net/detail/book.do?bookid=KOR7051842000482', 'cover_s_url': '', 'sale_yn': 'N', 'status_des': '판매불가', 'cover_l_url': '', 'isbn13': '7051842000482', 'ebook_barcode': '', 'barcode': 'KOR7051842000482', 'isbn': '', 'translator': '', 'sale_price': '450000', 'pub_nm': '통큰세상'}\n",
      "{'pub_date': '20140310', 'author': '종산거사', 'title': '한 권씩으로 엮은 중국고전 15선 - 초한지', 'list_price': '19000', 'category': '소설', 'etc_author': '', 'description': '한 권씩으로 엮은 중국고전 15선」시리즈 『초한지』. 천하패권의 용병과 지략, 인간심리의 통찰과 처세의 지혜, 숱한 흥망사 속 군상들이 그려내는 갈등과 교훈을 담은 중국고전을 소개한다...', 'link': 'http://book.daum.net/detail/book.do?bookid=KOR9788993039269', 'cover_s_url': 'http://t1.daumcdn.net/thumb/R72x100/?fname=http%3A%2F%2Ft1.daumcdn.net%2Fbook%2FKOR9788993039269%3Fmoddttm=20170313060219', 'sale_yn': 'Y', 'status_des': '정상판매', 'cover_l_url': 'http://t1.daumcdn.net/thumb/R110x160/?fname=http%3A%2F%2Ft1.daumcdn.net%2Fbook%2FKOR9788993039269%3Fmoddttm=20170313060219', 'isbn13': '9788993039269', 'ebook_barcode': '', 'barcode': 'KOR9788993039269', 'isbn': '8993039267', 'translator': '이언호', 'sale_price': '17100', 'pub_nm': '학술편수관'}\n"
     ]
    }
   ],
   "source": [
    "for item in items:\n",
    "    print(item)"
   ]
  }
 ],
 "metadata": {
  "kernelspec": {
   "display_name": "Python 3",
   "language": "python",
   "name": "python3"
  },
  "language_info": {
   "codemirror_mode": {
    "name": "ipython",
    "version": 3
   },
   "file_extension": ".py",
   "mimetype": "text/x-python",
   "name": "python",
   "nbconvert_exporter": "python",
   "pygments_lexer": "ipython3",
   "version": "3.5.1"
  }
 },
 "nbformat": 4,
 "nbformat_minor": 0
}
