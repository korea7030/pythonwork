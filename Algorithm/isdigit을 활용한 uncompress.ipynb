{
 "cells": [
  {
   "cell_type": "code",
   "execution_count": 15,
   "metadata": {},
   "outputs": [],
   "source": [
    "def uncompress(string):\n",
    "    num = 0 # 숫자 넣을 변수 선언\n",
    "    result = '' # 반환을 위한 문자 변수 선언\n",
    "    \n",
    "    # 전달받은 string for loop\n",
    "    for s in string:\n",
    "        # 숫자여부 확인\n",
    "        if s.isdigit():\n",
    "            # 숫자인 경우 num에 대입\n",
    "            num = int(s)\n",
    "        else:\n",
    "            # 문자인 경우, '문자*숫자' 한 값을 누적 대입\n",
    "            result = result + s*num\n",
    "            \n",
    "    return result"
   ]
  },
  {
   "cell_type": "code",
   "execution_count": 14,
   "metadata": {},
   "outputs": [
    {
     "name": "stdout",
     "output_type": "stream",
     "text": [
      "2a5b1c  :  aabbbbbc\n",
      "3x5y2z  :  xxxyyyyyzz\n",
      "2m4n  :  mmnnnn\n",
      "9o  :  ooooooooo\n"
     ]
    }
   ],
   "source": [
    "if __name__ =='__main__':\n",
    "    S = ['2a5b1c', '3x5y2z', '2m4n', '9o']\n",
    "    \n",
    "    for string in S:\n",
    "        new_string = uncompress(string)\n",
    "        print(string, ' : ', new_string)"
   ]
  }
 ],
 "metadata": {
  "kernelspec": {
   "display_name": "Python 3",
   "language": "python",
   "name": "python3"
  },
  "language_info": {
   "codemirror_mode": {
    "name": "ipython",
    "version": 3
   },
   "file_extension": ".py",
   "mimetype": "text/x-python",
   "name": "python",
   "nbconvert_exporter": "python",
   "pygments_lexer": "ipython3",
   "version": "3.6.3"
  }
 },
 "nbformat": 4,
 "nbformat_minor": 2
}
