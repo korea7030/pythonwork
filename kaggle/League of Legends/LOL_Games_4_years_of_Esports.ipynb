{
 "cells": [
  {
   "cell_type": "markdown",
   "metadata": {
    "deletable": true,
    "editable": true
   },
   "source": [
    "## 1. 소개"
   ]
  },
  {
   "cell_type": "markdown",
   "metadata": {
    "deletable": true,
    "editable": true
   },
   "source": [
    "- league of legends 경기 대회 관련 데이터입니다. \n",
    "- LCK, NALCS, EULCS, LMS, CBLoL, World Championship, Mid-Season invitational tournaments 대회가 포함되어 있습니다. \n",
    "- kaggle의 데이터를 활용하여 Kernels에 올라온 분석한 내용을 코드 및 데이터를 보는 관점 등을 파악하며 공부하기 위해 만들었습니다. \n",
    "- 원본 : https://www.kaggle.io/svf/1088701/7b76f31209fc5a40c70af9ddd14b16c6/__results__.html#introduction"
   ]
  },
  {
   "cell_type": "code",
   "execution_count": 133,
   "metadata": {
    "collapsed": true,
    "deletable": true,
    "editable": true
   },
   "outputs": [],
   "source": [
    "options(jupyter.plot_mimetypes = 'image/png')\n",
    "knitr::opts_chunk$set(out.width='1000px',dpi=200,message=FALSE,warning=FALSE)"
   ]
  },
  {
   "cell_type": "code",
   "execution_count": 102,
   "metadata": {
    "collapsed": false,
    "deletable": true,
    "editable": true,
    "scrolled": false
   },
   "outputs": [
    {
     "name": "stderr",
     "output_type": "stream",
     "text": [
      "Warning message:\n",
      "\"package 'gridExtra' is in use and will not be installed\""
     ]
    }
   ],
   "source": [
    "install.packages('gridExtra', repos='http://cran.us.r-project.org')"
   ]
  },
  {
   "cell_type": "code",
   "execution_count": 103,
   "metadata": {
    "collapsed": false,
    "deletable": true,
    "editable": true
   },
   "outputs": [
    {
     "name": "stderr",
     "output_type": "stream",
     "text": [
      "Warning message:\n",
      "\"package 'matrixStats' is in use and will not be installed\""
     ]
    }
   ],
   "source": [
    "install.packages('matrixStats', repos='http://cran.us.r-project.org')"
   ]
  },
  {
   "cell_type": "code",
   "execution_count": 104,
   "metadata": {
    "collapsed": true,
    "deletable": true,
    "editable": true
   },
   "outputs": [],
   "source": [
    "library(ggplot2)\n",
    "library(dplyr)\n",
    "library(gridExtra)\n",
    "library(grid)\n",
    "library(matrixStats)\n",
    "library(RColorBrewer)"
   ]
  },
  {
   "cell_type": "markdown",
   "metadata": {
    "deletable": true,
    "editable": true
   },
   "source": [
    "## 2. 데이터 파일\n",
    "- banValues.csv : 챔피언 밴 순서\n",
    "- deathValues.csv : 모든 죽음에 대한 보조인 time, victim, killer\n",
    "- goldValues.csv : 모든 팀과 플레이어의 분당 gold 값\n",
    "- LeagueofLegends.csv :  League, Season, Year, Team Names, Results, Game Length, Player Names, Champion Names\n",
    "- objValues.csv : Objective 유형 및 시간\n",
    "\n",
    "LeagueofLegends.csv 에는 주어진 게임에 대한 모든 정보가 포함되어 있고, 나머지 파일은 게임(행)에 대한 정보/ 세부정보(열) 이 있습니다."
   ]
  },
  {
   "cell_type": "code",
   "execution_count": null,
   "metadata": {
    "collapsed": true,
    "deletable": true,
    "editable": true
   },
   "outputs": [],
   "source": []
  },
  {
   "cell_type": "markdown",
   "metadata": {
    "deletable": true,
    "editable": true
   },
   "source": [
    "## 3. 일반적인 그래프"
   ]
  },
  {
   "cell_type": "code",
   "execution_count": 105,
   "metadata": {
    "collapsed": false,
    "deletable": true,
    "editable": true,
    "scrolled": true
   },
   "outputs": [
    {
     "data": {
      "text/html": [
       "FALSE"
      ],
      "text/latex": [
       "FALSE"
      ],
      "text/markdown": [
       "FALSE"
      ],
      "text/plain": [
       "[1] FALSE"
      ]
     },
     "metadata": {},
     "output_type": "display_data"
    }
   ],
   "source": [
    "global <- read.csv('data//LeagueofLegends.csv', sep=',')\n",
    "any(is.na(global))"
   ]
  },
  {
   "cell_type": "markdown",
   "metadata": {
    "deletable": true,
    "editable": true
   },
   "source": [
    "## 3.1 일부 정의\n",
    "- CBLOL : Cricutio Brasileio de Legends of Legends는 전문 Brazilian 팀을 특징으로 하는 토너먼트\n",
    "- Europe : Legends Championship Series (EU LCS) 리그 1위(유럽 베를린)\n",
    "- LCK : 리그 오브 레전드 챔피언스 리그(LCK) 1위(한국)\n",
    "- LMS : 리그 오브 레전드 마스터 시리즈 1위(타이페이)\n",
    "- Mid-Season_Invitational : Riot Games가 현재 리그 시즌의 봄과 여름 경기를 주최하는 토너먼트\n",
    "- North_America : 리그 오브 레전드 챔피언십 시리즈(NA LCS) 1위(북미)\n",
    "- Season_World_Championship : Legends World Championship은 Riot Games가 매년 주최하는 연례 세계 챔피언십 토너먼트"
   ]
  },
  {
   "cell_type": "markdown",
   "metadata": {
    "deletable": true,
    "editable": true
   },
   "source": [
    "## 3.2 리그 및 연당 게임 수"
   ]
  },
  {
   "cell_type": "code",
   "execution_count": 106,
   "metadata": {
    "collapsed": false,
    "deletable": true,
    "editable": true
   },
   "outputs": [
    {
     "name": "stderr",
     "output_type": "stream",
     "text": [
      "Warning message:\n",
      "\"Ignoring unknown parameters: binwidth, bins, pad\"Warning message:\n",
      "\"Ignoring unknown parameters: binwidth, bins, pad\""
     ]
    },
    {
     "data": {
      "image/png": "[encoded data removed]"
     },
     "metadata": {},
     "output_type": "display_data"
    }
   ],
   "source": [
    "g1<-global %>% \n",
    "  group_by(League, Season, Year) %>% summarise(number=n()) %>% # 연당 league, season 별 count\n",
    "  ggplot(aes(x=Year,y=number,fill=League)) + \n",
    "  geom_histogram(stat='identity',position='stack') + # stack 형식으로 쌓기\n",
    "  scale_fill_manual(values=c(\"#3B9AB2\", \"#78B7C5\", \"#EBCC2A\", \"#E1AF00\", \"#F21A00\",\"#9A8822\", \"#F5CDB4\", \"#F8AFA8\")) + \n",
    "  theme(legend.position='none')  + xlab('') + ylab('number of games')\n",
    "\n",
    "g2<-global %>% \n",
    "  group_by(League) %>% summarise(number=n()) %>% # league 별 count\n",
    "  ggplot(aes(x=reorder(League,-number),y=number,fill=League)) + \n",
    "  geom_histogram(stat='identity') + \n",
    "  scale_fill_manual(values=c(\"#3B9AB2\", \"#78B7C5\", \"#EBCC2A\", \"#E1AF00\", \"#F21A00\",\"#9A8822\", \"#F5CDB4\", \"#F8AFA8\")) + \n",
    "  theme(legend.position='top',axis.text.x = element_text(angle=45, hjust=1),legend.text=element_text(size=8),legend.key.size = unit(.3, \"cm\"))  + xlab('') + ylab('number of games')\n",
    "\n",
    "grid.arrange(g1,g2,ncol=2)"
   ]
  },
  {
   "cell_type": "markdown",
   "metadata": {
    "deletable": true,
    "editable": true
   },
   "source": [
    "이 dataset에서는 LCK League에서 가장 많은 게임이 나온걸 알 수 있음"
   ]
  },
  {
   "cell_type": "markdown",
   "metadata": {
    "deletable": true,
    "editable": true
   },
   "source": [
    "## 3.3 시즌 당 게임 수, 리그와 연도별 breakdown "
   ]
  },
  {
   "cell_type": "code",
   "execution_count": 107,
   "metadata": {
    "collapsed": false,
    "deletable": true,
    "editable": true,
    "scrolled": false
   },
   "outputs": [
    {
     "data": {},
     "metadata": {},
     "output_type": "display_data"
    },
    {
     "data": {
      "image/png": "[encoded data removed]"
     },
     "metadata": {},
     "output_type": "display_data"
    }
   ],
   "source": [
    "global %>% \n",
    "  group_by(League,Season,Year) %>% summarise(number=n()) %>% \n",
    "  ggplot(aes(x=Year,y=League, size=number,color=Season)) + \n",
    "  geom_point() + facet_wrap(~Season) + \n",
    "  theme(legend.position=\"top\",legend.text=element_text(size=8),legend.key.size = unit(.4, \"cm\")) + \n",
    "  scale_color_manual(values=c(\"#3B9AB2\", \"#78B7C5\", \"#EBCC2A\", \"#E1AF00\", \"#F21A00\",\"#9A8822\", \"#F5CDB4\", \"#F8AFA8\"))"
   ]
  },
  {
   "cell_type": "markdown",
   "metadata": {
    "deletable": true,
    "editable": true
   },
   "source": [
    "- Winter_Playoffs와 Winter_Season에는 CBLOL 리그만 진행됨.\n",
    "- Spring 과 Summer_Season에 많은 리그가 진행됨."
   ]
  },
  {
   "cell_type": "markdown",
   "metadata": {
    "deletable": true,
    "editable": true
   },
   "source": [
    "## 3.4 게임 평균 시간(리그당)"
   ]
  },
  {
   "cell_type": "code",
   "execution_count": 108,
   "metadata": {
    "collapsed": false,
    "deletable": true,
    "editable": true
   },
   "outputs": [
    {
     "data": {},
     "metadata": {},
     "output_type": "display_data"
    },
    {
     "ename": "ERROR",
     "evalue": "Error: Don't know how to add RHS to a theme object\n",
     "output_type": "error",
     "traceback": [
      "Error: Don't know how to add RHS to a theme object\nTraceback:\n",
      "1. `+.gg`(theme(legend.position = \"top\"), scale_fill_manual(values = c(\"#3B9AB2\", \n .     \"#78B7C5\", \"#EBCC2A\", \"#E1AF00\", \"#F21A00\", \"#9A8822\", \"#F5CDB4\", \n .     \"#F8AFA8\")))",
      "2. add_theme(e1, e2, e2name)",
      "3. stop(\"Don't know how to add RHS to a theme object\", call. = FALSE)"
     ]
    },
    {
     "data": {
      "image/png": "[encoded data removed]"
     },
     "metadata": {},
     "output_type": "display_data"
    }
   ],
   "source": [
    "global %>%\n",
    "dplyr::select(League, Season, gamelength) %>%\n",
    "group_by(League) %>%\n",
    "ggplot(aes(x=gamelength))+\n",
    "geom_density(aes(fill=League), alpha=.5)+\n",
    "facet_wrap(~League, ncol=4)\n",
    "theme(legend.position='top')+\n",
    "scale_fill_manual(values=c(\"#3B9AB2\", \"#78B7C5\", \"#EBCC2A\", \"#E1AF00\", \"#F21A00\",\"#9A8822\", \"#F5CDB4\", \"#F8AFA8\"))+xlab('[minutes]')+ylab('')"
   ]
  },
  {
   "cell_type": "markdown",
   "metadata": {
    "deletable": true,
    "editable": true
   },
   "source": [
    "Season_World_Championship 의 경우 대회 기간동안 게임 시간이 가장 타이트 한 것을 알 수 있다."
   ]
  },
  {
   "cell_type": "markdown",
   "metadata": {
    "deletable": true,
    "editable": true
   },
   "source": [
    "## 3.5 Blue/Red 팀별 승수"
   ]
  },
  {
   "cell_type": "code",
   "execution_count": 109,
   "metadata": {
    "collapsed": false,
    "deletable": true,
    "editable": true,
    "scrolled": false
   },
   "outputs": [
    {
     "data": {},
     "metadata": {},
     "output_type": "display_data"
    },
    {
     "data": {
      "image/png": "[encoded data removed]"
     },
     "metadata": {},
     "output_type": "display_data"
    }
   ],
   "source": [
    "global %>%\n",
    "dplyr::select(blueTeamTag, bResult, Year) %>%\n",
    "dplyr::filter(bResult==1) %>%\n",
    "dplyr::group_by(blueTeamTag, Year) %>%\n",
    "summarise(number=n()) %>%\n",
    "ggplot(aes(x=blueTeamTag, y=number, fill=number))+\n",
    "geom_bar(stat='identity', width=.75)+\n",
    "theme(legend.position='top', axis.text.x = element_text(angle=90, hjust=1, size=5))+\n",
    "facet_wrap(~Year, ncol=1)+\n",
    "xlab('')+ylab('')+scale_fill_gradient(name='# of wins as Blue Team', low='#85D4E3', high='#3B9AB2')"
   ]
  },
  {
   "cell_type": "markdown",
   "metadata": {
    "deletable": true,
    "editable": true
   },
   "source": [
    "한국에서 상위권에 속하는 팀들이 blue 팀에서 승리한 경우가 많다.(게임수 때문인지, 진짜인지는 봐야할 듯 하다.)"
   ]
  },
  {
   "cell_type": "code",
   "execution_count": 110,
   "metadata": {
    "collapsed": false,
    "deletable": true,
    "editable": true
   },
   "outputs": [
    {
     "data": {},
     "metadata": {},
     "output_type": "display_data"
    },
    {
     "data": {
      "image/png": "[encoded data removed]"
     },
     "metadata": {},
     "output_type": "display_data"
    }
   ],
   "source": [
    "global %>%\n",
    "dplyr::select(redTeamTag, bResult, Year) %>%\n",
    "dplyr::filter(bResult==1) %>%\n",
    "dplyr::group_by(redTeamTag, Year) %>%\n",
    "summarise(number=n()) %>%\n",
    "ggplot(aes(x=redTeamTag, y=number, fill=number))+\n",
    "geom_bar(stat='identity', width=.75)+\n",
    "theme(legend.position='top', axis.text.x = element_text(angle=90, hjust=1, size=5))+\n",
    "facet_wrap(~Year, ncol=1)+xlab('') + ylab('') + scale_fill_gradient(name='# of wins as Red Team',low=\"#F8AFA8\", high=\"#F21A00\")"
   ]
  },
  {
   "cell_type": "markdown",
   "metadata": {
    "deletable": true,
    "editable": true
   },
   "source": [
    "regTeam의 경우 한국팀 뿐만 아니라 외국의 팀들 중에도 red 팀에서 이긴 경우가 blue 팀보다 많은 것으로 보인다."
   ]
  },
  {
   "cell_type": "markdown",
   "metadata": {
    "deletable": true,
    "editable": true
   },
   "source": [
    "## 4. 경기 상세"
   ]
  },
  {
   "cell_type": "markdown",
   "metadata": {
    "deletable": true,
    "editable": true
   },
   "source": [
    "### 4.1.1 팀당 골드 차이"
   ]
  },
  {
   "cell_type": "markdown",
   "metadata": {
    "deletable": true,
    "editable": true
   },
   "source": [
    "골드 차이 = 블루팀 골드 - 레드팀 골드"
   ]
  },
  {
   "cell_type": "markdown",
   "metadata": {
    "deletable": true,
    "editable": true
   },
   "source": [
    "- 게임을 선택하고 분을 row로 하도록 데이터를 변환한다.\n",
    "- 블루팀과 레드팀의 결과를 얻기 위해 데이터 셋을 전체 데이터셋과 병합한다\n",
    "- 분 컬럼을 추가한다\n",
    "- 게임 결과 컬럼을 추가한다\n",
    "- 그래프 : gold의 차이가 양수이면 블루팀이 많이 가진 것으로 생각해서 팀색깔로 그래프를 표시"
   ]
  },
  {
   "cell_type": "code",
   "execution_count": 111,
   "metadata": {
    "collapsed": false,
    "deletable": true,
    "editable": true
   },
   "outputs": [],
   "source": [
    "gold <- read.csv('data/goldValues.csv', sep=\",\")\n",
    "death <- read.csv('data/deathValues.csv', sep=\",\")\n",
    "objects <- read.csv('data/objValues.csv', sep=\",\")\n",
    "bans <- read.csv('data/banValues.csv', sep=\",\")"
   ]
  },
  {
   "cell_type": "code",
   "execution_count": 112,
   "metadata": {
    "collapsed": true,
    "deletable": true,
    "editable": true
   },
   "outputs": [],
   "source": [
    "game_id <- 1"
   ]
  },
  {
   "cell_type": "code",
   "execution_count": 113,
   "metadata": {
    "collapsed": true,
    "deletable": true,
    "editable": true
   },
   "outputs": [],
   "source": [
    "game1<-data.frame(t(gold[game_id,3:83]))\n",
    "colnames(game1)<-'gold_diff'\n",
    "features<-rownames(game1)\n",
    "rownames(game1)<-1:nrow(game1)\n",
    "game1$time<-rep(1:nrow(game1))\n",
    "game1$MatchHistory<-rep(global$MatchHistory[1],nrow(game1))\n",
    "res<-data.frame(merge(game1, global %>% select(MatchHistory,League,Season,Year,blueTeamTag,bResult, redTeamTag,rResult,gamelength),by='MatchHistory',y.all=T))\n",
    "res$blueTeam<-ifelse(res$bResult==1,\"BLUE:W ; RED:L\",\"BLUE:L ; RED:W\")"
   ]
  },
  {
   "cell_type": "code",
   "execution_count": 114,
   "metadata": {
    "collapsed": false,
    "deletable": true,
    "editable": true,
    "scrolled": false
   },
   "outputs": [
    {
     "name": "stderr",
     "output_type": "stream",
     "text": [
      "Warning message:\n",
      "\"Ignoring unknown parameters: binwidth, bins, pad\""
     ]
    },
    {
     "data": {},
     "metadata": {},
     "output_type": "display_data"
    },
    {
     "data": {
      "image/png": "[encoded data removed]"
     },
     "metadata": {},
     "output_type": "display_data"
    }
   ],
   "source": [
    "res %>% na.omit() %>% \n",
    "  ggplot(aes(x=time,y=gold_diff,shape=blueTeam,fill=ifelse(gold_diff>0,\"blue\",\"red\"))) + \n",
    "  geom_histogram(stat='identity',size=1) + \n",
    "  scale_fill_manual(name=\"Team\",values=c(blue=\"#3B9AB2\",red=\"#F21A00\")) + \n",
    "  scale_shape_manual(name='Result',values = c(19)) + \n",
    "  theme(legend.position='none') + ggtitle(res$blueTeam) + \n",
    "  xlab('minutes') + ylab('Gold difference btw Blue and Red team')"
   ]
  },
  {
   "cell_type": "markdown",
   "metadata": {
    "deletable": true,
    "editable": true
   },
   "source": [
    "### 4.1.2 팀 플레이 킬수"
   ]
  },
  {
   "cell_type": "markdown",
   "metadata": {
    "deletable": true,
    "editable": true
   },
   "source": [
    "- blue 팀에서 red팀을 킬한 경우 +1 \n",
    "- red 팀에서 blue팀을 죽이면 -1\n",
    "- 또한 게임의 길이를 얻기 위해 데이터셋을 전체 데이터셋에 합침"
   ]
  },
  {
   "cell_type": "code",
   "execution_count": 115,
   "metadata": {
    "collapsed": true,
    "deletable": true,
    "editable": true
   },
   "outputs": [],
   "source": [
    "# 특정 게임id에 대해 데이터 뽑기\n",
    "gameIndex <- global$MatchHistory[game_id]\n",
    "resD <- death %>% \n",
    "  filter(MatchHistory==global$MatchHistory[game_id]) %>% \n",
    "  merge(global %>% select(MatchHistory,League,Season,Year,blueTeamTag,bResult,redTeamTag,rResult,gamelength),by='MatchHistory',y.all=T)"
   ]
  },
  {
   "cell_type": "code",
   "execution_count": 116,
   "metadata": {
    "collapsed": false,
    "deletable": true,
    "editable": true,
    "scrolled": true
   },
   "outputs": [
    {
     "data": {
      "text/html": [
       "25"
      ],
      "text/latex": [
       "25"
      ],
      "text/markdown": [
       "25"
      ],
      "text/plain": [
       "[1] 25"
      ]
     },
     "metadata": {},
     "output_type": "display_data"
    }
   ],
   "source": [
    "nrow(resD)"
   ]
  },
  {
   "cell_type": "code",
   "execution_count": 117,
   "metadata": {
    "collapsed": false,
    "deletable": true,
    "editable": true
   },
   "outputs": [
    {
     "name": "stderr",
     "output_type": "stream",
     "text": [
      "Warning message:\n",
      "\"Ignoring unknown parameters: binwidth, bins, pad\"Warning message:\n",
      "\"position_stack requires non-overlapping x intervals\"Warning message:\n",
      "\"position_stack requires non-overlapping x intervals\""
     ]
    },
    {
     "data": {},
     "metadata": {},
     "output_type": "display_data"
    },
    {
     "data": {
      "image/png": "[encoded data removed]"
     },
     "metadata": {},
     "output_type": "display_data"
    }
   ],
   "source": [
    "ggplot(data=resD,aes(x=Time,y=ifelse(TeamColor=='Blue',1,-1),fill=ifelse(TeamColor=='Blue','blue','red'))) + \n",
    "  geom_histogram(stat='identity',width=.25,alpha=.5) +\n",
    "  scale_fill_manual(name=\"Team\",values=c(blue=\"#3B9AB2\",red=\"#F21A00\")) +\n",
    "  xlab('minutes') + ylab('Kill occurence') +\n",
    "  theme(legend.position='none') + xlim(0,resD$gamelength[1])"
   ]
  },
  {
   "cell_type": "markdown",
   "metadata": {
    "deletable": true,
    "editable": true
   },
   "source": [
    "### 4.1.3 몬스터 킬(드래곤,타워,바론)"
   ]
  },
  {
   "cell_type": "markdown",
   "metadata": {
    "deletable": true,
    "editable": true
   },
   "source": [
    "여기서 아이디어는 두 개의 별도 데이터 프레임 (파란색과 빨간색)을 만들고 다시 바인딩하는 것입니다. 별도로 파란색과 빨간색 레이블을 만들 수 있습니다.(skip - 데이터문제)"
   ]
  },
  {
   "cell_type": "markdown",
   "metadata": {
    "deletable": true,
    "editable": true
   },
   "source": [
    "## 4.2 모든 데이터 확인"
   ]
  },
  {
   "cell_type": "code",
   "execution_count": 118,
   "metadata": {
    "collapsed": false,
    "deletable": true,
    "editable": true
   },
   "outputs": [
    {
     "name": "stderr",
     "output_type": "stream",
     "text": [
      "Warning message:\n",
      "\"Ignoring unknown parameters: binwidth, bins, pad\"Warning message:\n",
      "\"Ignoring unknown parameters: binwidth, bins, pad\"Warning message:\n",
      "\"position_stack requires non-overlapping x intervals\"Warning message:\n",
      "\"position_stack requires non-overlapping x intervals\""
     ]
    },
    {
     "data": {
      "image/png": "[encoded data removed]"
     },
     "metadata": {},
     "output_type": "display_data"
    }
   ],
   "source": [
    "g1<-res %>% na.omit() %>% \n",
    "  ggplot(aes(x=time,y=gold_diff,shape=blueTeam,fill=ifelse(gold_diff>0,\"blue\",\"red\"))) + \n",
    "  geom_histogram(stat='identity',size=1) + \n",
    "  scale_fill_manual(name=\"Team\",values=c(blue=\"#3B9AB2\",red=\"#F21A00\")) + \n",
    "  scale_shape_manual(name='Result',values = c(19)) + ggtitle(res$blueTeam) + \n",
    "  theme(axis.title.x=element_blank(),axis.text.x=element_blank(),axis.ticks.x=element_blank(),axis.title.y = element_text(size=8),axis.text.y=element_blank(),axis.ticks.y=element_blank(),legend.position='none') +  ylab('Gold diff.') + xlim(0,res$gamelength[1])\n",
    "\n",
    "g2<-ggplot(data=resD,aes(x=Time,y=ifelse(TeamColor=='Blue',1,-1),fill=ifelse(TeamColor=='Blue','blue','red'))) + \n",
    "  geom_histogram(stat='identity',width=.25,alpha=.5) +\n",
    "  scale_fill_manual(name=\"Team\",values=c(blue=\"#3B9AB2\",red=\"#F21A00\")) +\n",
    "  xlab('minutes') + ylab('Kills') +\n",
    "  theme(axis.title.x=element_blank(),axis.text.x=element_blank(),axis.ticks.x=element_blank(),axis.title.y = element_text(size=8),axis.text.y=element_blank(),axis.ticks.y=element_blank(),legend.position='none') + xlim(0,resD$gamelength[1])\n",
    "\n",
    "grid.arrange(g1,g2, ncol=1)"
   ]
  },
  {
   "cell_type": "markdown",
   "metadata": {
    "deletable": true,
    "editable": true
   },
   "source": [
    "## 5. 골드 vs 플레이 시간\n",
    "- 승자/패자를 나누어 데이터 얻기\n",
    "- MatchHistory로 결과를 goldValues 데이터셋과 병합\n",
    "- 시간에 따라 최대 및 최소값을 계산\n",
    "- 연도별 breakdown\n",
    "- 오류 막대가 있는 그래프"
   ]
  },
  {
   "cell_type": "code",
   "execution_count": 119,
   "metadata": {
    "collapsed": false,
    "deletable": true,
    "editable": true
   },
   "outputs": [],
   "source": [
    "getGold<- function(x) {\n",
    "    # blue winners\n",
    "    bW <- merge((global %>% filter(bResult == 1 & Year == x) %>% select(MatchHistory, gamelength, Season, Year, blueTeamTag, redTeamTag)), (gold %>% filter(NameType=='goldblue')) , by='MatchHistory')\n",
    "    # red winners\n",
    "    rW<-merge( (global %>% filter(rResult==1 & Year==x) %>% select(MatchHistory,gamelength,Season,Year,blueTeamTag,redTeamTag)),(gold %>% filter(NameType=='goldred')),by='MatchHistory')\n",
    "    # dataset 합치기\n",
    "    allWins <- data.frame(rbind(rW,bW))\n",
    "    \n",
    "    games_w <- data.frame(t(allWins[,8:83]))\n",
    "    \n",
    "    # 모든 게임의 평균,최대,최소 계산\n",
    "    meanWG <- (games_w %>% select_if(is.numeric) %>% mutate(mean = rowMeans(.,na.rm=T)))$mean\n",
    "    minWG <- rowMins(as.matrix(games_w), na.rm=T)\n",
    "    maxWG <- rowMaxs(as.matrix(games_w), na.rm=T)\n",
    "    \n",
    "    # blue losers\n",
    "    bL <- merge((global %>% filter(bResult == 0 & Year == x) %>% select(MatchHistory, gamelength, Season, Year, blueTeamTag, redTeamTag)),(gold %>% filter(NameType=='goldblue')), by='MatchHistory')\n",
    "    rL <- merge((global %>% filter(rResult == 0 & Year == x) %>% select(MatchHistory, gamelength, Season, Year, blueTeamTag, redTeamTag)),(gold%>% filter(NameType=='goldred')), by='MatchHistory')\n",
    "    \n",
    "    allLoses <- data.frame(rbind(rL, bL))\n",
    "    games_l <- data.frame(t(allLoses[,8:83]))\n",
    "    \n",
    "    meanLG <- (games_l %>% select_if(is.numeric) %>% mutate(mean = rowMeans(.,na.rm=T)))$mean\n",
    "    minLG <- rowMins(as.matrix(games_l), na.rm=T)\n",
    "    maxLG <- rowMaxs(as.matrix(games_l), na.rm=T)\n",
    "    \n",
    "    # 모든 데이터 합치기\n",
    "    res <- as.data.frame(cbind(meanWG, minWG, maxWG, meanLG, minLG, maxLG))\n",
    "    \n",
    "    res$time <- rep(1:nrow(res))\n",
    "    res$year <- rep(x,nrow(res))\n",
    "    \n",
    "    return(res)\n",
    "}\n",
    "\n",
    "gold_2014<-getGold(2014)\n",
    "gold_2015<-getGold(2015)\n",
    "gold_2016<-getGold(2016)\n",
    "gold_2017<-getGold(2017)"
   ]
  },
  {
   "cell_type": "code",
   "execution_count": 120,
   "metadata": {
    "collapsed": true,
    "deletable": true,
    "editable": true
   },
   "outputs": [],
   "source": [
    "res<-as.data.frame(rbind(gold_2014,gold_2015,gold_2016,gold_2017))"
   ]
  },
  {
   "cell_type": "code",
   "execution_count": 121,
   "metadata": {
    "collapsed": false,
    "deletable": true,
    "editable": true,
    "scrolled": true
   },
   "outputs": [
    {
     "data": {
      "text/html": [
       "<table>\n",
       "<thead><tr><th></th><th scope=col>meanWG</th><th scope=col>minWG</th><th scope=col>maxWG</th><th scope=col>meanLG</th><th scope=col>minLG</th><th scope=col>maxLG</th><th scope=col>time</th><th scope=col>year</th></tr></thead>\n",
       "<tbody>\n",
       "\t<tr><th scope=row>min_1</th><td>2424.744</td><td>2375    </td><td>2455    </td><td>2419.615</td><td>2375    </td><td>2455    </td><td>1       </td><td>2014    </td></tr>\n",
       "\t<tr><th scope=row>min_2</th><td>2438.590</td><td>2375    </td><td>3333    </td><td>2421.500</td><td>2375    </td><td>2468    </td><td>2       </td><td>2014    </td></tr>\n",
       "\t<tr><th scope=row>min_3</th><td>2822.449</td><td>2660    </td><td>4858    </td><td>2732.744</td><td>2660    </td><td>3280    </td><td>3       </td><td>2014    </td></tr>\n",
       "\t<tr><th scope=row>min_4</th><td>3988.179</td><td>3377    </td><td>5898    </td><td>3874.282</td><td>3299    </td><td>4432    </td><td>4       </td><td>2014    </td></tr>\n",
       "\t<tr><th scope=row>min_5</th><td>5304.064</td><td>4332    </td><td>7717    </td><td>5158.321</td><td>4429    </td><td>6890    </td><td>5       </td><td>2014    </td></tr>\n",
       "\t<tr><th scope=row>min_6</th><td>6593.974</td><td>5527    </td><td>8933    </td><td>6405.782</td><td>5471    </td><td>8212    </td><td>6       </td><td>2014    </td></tr>\n",
       "</tbody>\n",
       "</table>\n"
      ],
      "text/latex": [
       "\\begin{tabular}{r|llllllll}\n",
       "  & meanWG & minWG & maxWG & meanLG & minLG & maxLG & time & year\\\\\n",
       "\\hline\n",
       "\tmin\\_1 & 2424.744 & 2375     & 2455     & 2419.615 & 2375     & 2455     & 1        & 2014    \\\\\n",
       "\tmin\\_2 & 2438.590 & 2375     & 3333     & 2421.500 & 2375     & 2468     & 2        & 2014    \\\\\n",
       "\tmin\\_3 & 2822.449 & 2660     & 4858     & 2732.744 & 2660     & 3280     & 3        & 2014    \\\\\n",
       "\tmin\\_4 & 3988.179 & 3377     & 5898     & 3874.282 & 3299     & 4432     & 4        & 2014    \\\\\n",
       "\tmin\\_5 & 5304.064 & 4332     & 7717     & 5158.321 & 4429     & 6890     & 5        & 2014    \\\\\n",
       "\tmin\\_6 & 6593.974 & 5527     & 8933     & 6405.782 & 5471     & 8212     & 6        & 2014    \\\\\n",
       "\\end{tabular}\n"
      ],
      "text/markdown": [
       "\n",
       "| <!--/--> | meanWG | minWG | maxWG | meanLG | minLG | maxLG | time | year | \n",
       "|---|---|---|---|---|---|\n",
       "| min_1 | 2424.744 | 2375     | 2455     | 2419.615 | 2375     | 2455     | 1        | 2014     | \n",
       "| min_2 | 2438.590 | 2375     | 3333     | 2421.500 | 2375     | 2468     | 2        | 2014     | \n",
       "| min_3 | 2822.449 | 2660     | 4858     | 2732.744 | 2660     | 3280     | 3        | 2014     | \n",
       "| min_4 | 3988.179 | 3377     | 5898     | 3874.282 | 3299     | 4432     | 4        | 2014     | \n",
       "| min_5 | 5304.064 | 4332     | 7717     | 5158.321 | 4429     | 6890     | 5        | 2014     | \n",
       "| min_6 | 6593.974 | 5527     | 8933     | 6405.782 | 5471     | 8212     | 6        | 2014     | \n",
       "\n",
       "\n"
      ],
      "text/plain": [
       "      meanWG   minWG maxWG meanLG   minLG maxLG time year\n",
       "min_1 2424.744 2375  2455  2419.615 2375  2455  1    2014\n",
       "min_2 2438.590 2375  3333  2421.500 2375  2468  2    2014\n",
       "min_3 2822.449 2660  4858  2732.744 2660  3280  3    2014\n",
       "min_4 3988.179 3377  5898  3874.282 3299  4432  4    2014\n",
       "min_5 5304.064 4332  7717  5158.321 4429  6890  5    2014\n",
       "min_6 6593.974 5527  8933  6405.782 5471  8212  6    2014"
      ]
     },
     "metadata": {},
     "output_type": "display_data"
    }
   ],
   "source": [
    "head(res)"
   ]
  },
  {
   "cell_type": "markdown",
   "metadata": {
    "deletable": true,
    "editable": true
   },
   "source": [
    "## 5.1 연도별 평균 골드"
   ]
  },
  {
   "cell_type": "code",
   "execution_count": 122,
   "metadata": {
    "collapsed": false,
    "deletable": true,
    "editable": true
   },
   "outputs": [
    {
     "name": "stderr",
     "output_type": "stream",
     "text": [
      "Warning message:\n",
      "\"Removed 4 rows containing missing values (geom_point).\"Warning message:\n",
      "\"Removed 4 rows containing missing values (geom_point).\""
     ]
    },
    {
     "data": {
      "image/png": "[encoded data removed]"
     },
     "metadata": {},
     "output_type": "display_data"
    }
   ],
   "source": [
    "h1<-ggplot() + geom_point(data=res,aes(x=time,y=meanWG,color=factor(year))) +\n",
    "  scale_color_manual(values=c(\"#78B7C5\", \"#EBCC2A\", \"#F8AFA8\", \"#F21A00\")) + \n",
    "  xlab('minutes') + ylab('mean gold winners') + theme(legend.position='top')\n",
    "\n",
    "h2<-ggplot() + geom_point(data=res,aes(x=time,y=meanLG,color=factor(year))) +\n",
    "  scale_color_manual(values=c(\"#78B7C5\", \"#EBCC2A\", \"#F8AFA8\", \"#F21A00\")) + \n",
    "  xlab('minutes') + ylab('mean gold losers') + theme(legend.position='top')\n",
    "grid.arrange(h1,h2,ncol=2)"
   ]
  },
  {
   "cell_type": "markdown",
   "metadata": {
    "deletable": true,
    "editable": true
   },
   "source": [
    "평균 골드 값이 2016,2017 / 2014,2015 각각 추세가 비슷하다고 볼수 있다."
   ]
  },
  {
   "cell_type": "markdown",
   "metadata": {
    "deletable": true,
    "editable": true
   },
   "source": [
    "### 5.2 연대비 평균 골드, breakdown by win/lose"
   ]
  },
  {
   "cell_type": "code",
   "execution_count": 123,
   "metadata": {
    "collapsed": false,
    "deletable": true,
    "editable": true
   },
   "outputs": [
    {
     "name": "stderr",
     "output_type": "stream",
     "text": [
      "Warning message:\n",
      "\"Removed 4 rows containing missing values (geom_point).\"Warning message:\n",
      "\"Removed 4 rows containing missing values (geom_point).\""
     ]
    },
    {
     "data": {},
     "metadata": {},
     "output_type": "display_data"
    },
    {
     "data": {
      "image/png": "[encoded data removed]"
     },
     "metadata": {},
     "output_type": "display_data"
    }
   ],
   "source": [
    "ggplot() + geom_point(data=res,aes(x=time,y=meanWG,color=\"win\")) + geom_point(data=res,aes(x=time,y=meanLG,color=\"loss\"))  +\n",
    "  scale_color_manual(name=\"\",values=c(win=\"#3B9AB2\",loss=\"#F21A00\")) + \n",
    "  xlab('minutes') + ylab('Mean gold acquired') + theme(legend.position='top') + facet_grid(~factor(res$year))"
   ]
  },
  {
   "cell_type": "markdown",
   "metadata": {
    "deletable": true,
    "editable": true
   },
   "source": [
    "### 5.2.1 평균 골드 대비 연, breakdown by win/lose, with errors bars"
   ]
  },
  {
   "cell_type": "code",
   "execution_count": 124,
   "metadata": {
    "collapsed": false,
    "deletable": true,
    "editable": true
   },
   "outputs": [
    {
     "name": "stderr",
     "output_type": "stream",
     "text": [
      "Warning message:\n",
      "\"Ignoring unknown aesthetics: y\"Warning message:\n",
      "\"Ignoring unknown aesthetics: y\"Warning message:\n",
      "\"Ignoring unknown aesthetics: y\"Warning message:\n",
      "\"Ignoring unknown aesthetics: y\"Warning message:\n",
      "\"Ignoring unknown aesthetics: y\"Warning message:\n",
      "\"Ignoring unknown aesthetics: y\"Warning message:\n",
      "\"Ignoring unknown aesthetics: y\"Warning message:\n",
      "\"Ignoring unknown aesthetics: y\""
     ]
    }
   ],
   "source": [
    "list_plot<-list()\n",
    "cnt<-1\n",
    "for(i in 2014:2017){\n",
    "  list_plot[[cnt]] <- ggplot() + \n",
    "    geom_errorbar(data=filter(res,year==i),aes(x=time,y=meanWG,ymin=minWG, ymax=maxWG),alpha=.5) + \n",
    "    geom_line() + geom_point(data=filter(res,year==i),aes(x=time,y=meanWG,color='win')) +\n",
    "    scale_color_manual(name=\"\",values=c(win=\"#3B9AB2\")) + ggtitle(paste0('wins ; ',i)) +\n",
    "    theme(legend.position='none') + ylab('')\n",
    "  \n",
    "  list_plot[[cnt+4]] <- ggplot() + \n",
    "    geom_errorbar(data=filter(res,year==i),aes(x=time,y=meanLG,ymin=minLG, ymax=maxLG),alpha=.5) + \n",
    "    geom_line() + geom_point(data=filter(res,year==i),aes(x=time,y=meanLG,color='loss')) +\n",
    "    scale_color_manual(name=\"\",values=c(loss=\"#F21A00\")) + ggtitle(paste0('losses ;',i)) +\n",
    "    theme(legend.position='none') + ylab('')\n",
    "  \n",
    "  cnt<-cnt + 1\n",
    "}"
   ]
  },
  {
   "cell_type": "code",
   "execution_count": 125,
   "metadata": {
    "collapsed": false,
    "deletable": true,
    "editable": true,
    "scrolled": false
   },
   "outputs": [
    {
     "name": "stderr",
     "output_type": "stream",
     "text": [
      "Warning message:\n",
      "\"Removed 4 rows containing missing values (geom_point).\"Warning message:\n",
      "\"Removed 4 rows containing missing values (geom_point).\""
     ]
    },
    {
     "data": {
      "image/png": "[encoded data removed]"
     },
     "metadata": {},
     "output_type": "display_data"
    }
   ],
   "source": [
    "grid.arrange(list_plot[[1]],list_plot[[2]],list_plot[[3]],list_plot[[4]],\n",
    "             list_plot[[5]],list_plot[[6]],list_plot[[7]],list_plot[[8]],ncol=4)"
   ]
  },
  {
   "cell_type": "markdown",
   "metadata": {
    "deletable": true,
    "editable": true
   },
   "source": [
    "## 6. Ban 분석"
   ]
  },
  {
   "cell_type": "code",
   "execution_count": 126,
   "metadata": {
    "collapsed": false,
    "deletable": true,
    "editable": true
   },
   "outputs": [
    {
     "data": {
      "text/html": [
       "<table>\n",
       "<thead><tr><th scope=col>MatchHistory</th><th scope=col>TeamColor</th><th scope=col>ban_1</th><th scope=col>ban_2</th><th scope=col>ban_3</th><th scope=col>ban_4</th><th scope=col>ban_5</th></tr></thead>\n",
       "<tbody>\n",
       "\t<tr><td>http://matchhistory.na.leagueoflegends.com/en/#match-details/TRLH1/30030?gameHash=fbb300951ad8327c</td><td>Blue                                                                                              </td><td>Rumble                                                                                            </td><td>Kassadin                                                                                          </td><td>Lissandra                                                                                         </td><td>                                                                                                  </td><td>                                                                                                  </td></tr>\n",
       "\t<tr><td>http://matchhistory.na.leagueoflegends.com/en/#match-details/TRLH1/30054?gameHash=055b17da8456fdc8</td><td>Blue                                                                                              </td><td>Kassadin                                                                                          </td><td>Sivir                                                                                             </td><td>Lissandra                                                                                         </td><td>                                                                                                  </td><td>                                                                                                  </td></tr>\n",
       "\t<tr><td>http://matchhistory.na.leagueoflegends.com/en/#match-details/TRLH1/30067?gameHash=8e8a9b58df366e2d</td><td>Blue                                                                                              </td><td>JarvanIV                                                                                          </td><td>Lissandra                                                                                         </td><td>Kassadin                                                                                          </td><td>                                                                                                  </td><td>                                                                                                  </td></tr>\n",
       "\t<tr><td>http://matchhistory.na.leagueoflegends.com/en/#match-details/TRLH1/30091?gameHash=0ed1cd0e0e57329c</td><td>Blue                                                                                              </td><td>Annie                                                                                             </td><td>Lissandra                                                                                         </td><td>Kassadin                                                                                          </td><td>                                                                                                  </td><td>                                                                                                  </td></tr>\n",
       "\t<tr><td>http://matchhistory.na.leagueoflegends.com/en/#match-details/TRLH1/30105?gameHash=f932becf86175f38</td><td>Blue                                                                                              </td><td>Irelia                                                                                            </td><td>Pantheon                                                                                          </td><td>Kassadin                                                                                          </td><td>                                                                                                  </td><td>                                                                                                  </td></tr>\n",
       "\t<tr><td>http://matchhistory.na.leagueoflegends.com/en/#match-details/TRLH1/30131?gameHash=194c672d7969984f</td><td>Blue                                                                                              </td><td>LeeSin                                                                                            </td><td>Rumble                                                                                            </td><td>Janna                                                                                             </td><td>                                                                                                  </td><td>                                                                                                  </td></tr>\n",
       "</tbody>\n",
       "</table>\n"
      ],
      "text/latex": [
       "\\begin{tabular}{r|lllllll}\n",
       " MatchHistory & TeamColor & ban\\_1 & ban\\_2 & ban\\_3 & ban\\_4 & ban\\_5\\\\\n",
       "\\hline\n",
       "\t http://matchhistory.na.leagueoflegends.com/en/\\#match-details/TRLH1/30030?gameHash=fbb300951ad8327c & Blue                                                                                                 & Rumble                                                                                               & Kassadin                                                                                             & Lissandra                                                                                            &                                                                                                      &                                                                                                     \\\\\n",
       "\t http://matchhistory.na.leagueoflegends.com/en/\\#match-details/TRLH1/30054?gameHash=055b17da8456fdc8 & Blue                                                                                                 & Kassadin                                                                                             & Sivir                                                                                                & Lissandra                                                                                            &                                                                                                      &                                                                                                     \\\\\n",
       "\t http://matchhistory.na.leagueoflegends.com/en/\\#match-details/TRLH1/30067?gameHash=8e8a9b58df366e2d & Blue                                                                                                 & JarvanIV                                                                                             & Lissandra                                                                                            & Kassadin                                                                                             &                                                                                                      &                                                                                                     \\\\\n",
       "\t http://matchhistory.na.leagueoflegends.com/en/\\#match-details/TRLH1/30091?gameHash=0ed1cd0e0e57329c & Blue                                                                                                 & Annie                                                                                                & Lissandra                                                                                            & Kassadin                                                                                             &                                                                                                      &                                                                                                     \\\\\n",
       "\t http://matchhistory.na.leagueoflegends.com/en/\\#match-details/TRLH1/30105?gameHash=f932becf86175f38 & Blue                                                                                                 & Irelia                                                                                               & Pantheon                                                                                             & Kassadin                                                                                             &                                                                                                      &                                                                                                     \\\\\n",
       "\t http://matchhistory.na.leagueoflegends.com/en/\\#match-details/TRLH1/30131?gameHash=194c672d7969984f & Blue                                                                                                 & LeeSin                                                                                               & Rumble                                                                                               & Janna                                                                                                &                                                                                                      &                                                                                                     \\\\\n",
       "\\end{tabular}\n"
      ],
      "text/markdown": [
       "\n",
       "MatchHistory | TeamColor | ban_1 | ban_2 | ban_3 | ban_4 | ban_5 | \n",
       "|---|---|---|---|---|---|\n",
       "| http://matchhistory.na.leagueoflegends.com/en/#match-details/TRLH1/30030?gameHash=fbb300951ad8327c | Blue                                                                                               | Rumble                                                                                             | Kassadin                                                                                           | Lissandra                                                                                          |                                                                                                    |                                                                                                    | \n",
       "| http://matchhistory.na.leagueoflegends.com/en/#match-details/TRLH1/30054?gameHash=055b17da8456fdc8 | Blue                                                                                               | Kassadin                                                                                           | Sivir                                                                                              | Lissandra                                                                                          |                                                                                                    |                                                                                                    | \n",
       "| http://matchhistory.na.leagueoflegends.com/en/#match-details/TRLH1/30067?gameHash=8e8a9b58df366e2d | Blue                                                                                               | JarvanIV                                                                                           | Lissandra                                                                                          | Kassadin                                                                                           |                                                                                                    |                                                                                                    | \n",
       "| http://matchhistory.na.leagueoflegends.com/en/#match-details/TRLH1/30091?gameHash=0ed1cd0e0e57329c | Blue                                                                                               | Annie                                                                                              | Lissandra                                                                                          | Kassadin                                                                                           |                                                                                                    |                                                                                                    | \n",
       "| http://matchhistory.na.leagueoflegends.com/en/#match-details/TRLH1/30105?gameHash=f932becf86175f38 | Blue                                                                                               | Irelia                                                                                             | Pantheon                                                                                           | Kassadin                                                                                           |                                                                                                    |                                                                                                    | \n",
       "| http://matchhistory.na.leagueoflegends.com/en/#match-details/TRLH1/30131?gameHash=194c672d7969984f | Blue                                                                                               | LeeSin                                                                                             | Rumble                                                                                             | Janna                                                                                              |                                                                                                    |                                                                                                    | \n",
       "\n",
       "\n"
      ],
      "text/plain": [
       "  MatchHistory                                                                                      \n",
       "1 http://matchhistory.na.leagueoflegends.com/en/#match-details/TRLH1/30030?gameHash=fbb300951ad8327c\n",
       "2 http://matchhistory.na.leagueoflegends.com/en/#match-details/TRLH1/30054?gameHash=055b17da8456fdc8\n",
       "3 http://matchhistory.na.leagueoflegends.com/en/#match-details/TRLH1/30067?gameHash=8e8a9b58df366e2d\n",
       "4 http://matchhistory.na.leagueoflegends.com/en/#match-details/TRLH1/30091?gameHash=0ed1cd0e0e57329c\n",
       "5 http://matchhistory.na.leagueoflegends.com/en/#match-details/TRLH1/30105?gameHash=f932becf86175f38\n",
       "6 http://matchhistory.na.leagueoflegends.com/en/#match-details/TRLH1/30131?gameHash=194c672d7969984f\n",
       "  TeamColor ban_1    ban_2     ban_3     ban_4 ban_5\n",
       "1 Blue      Rumble   Kassadin  Lissandra            \n",
       "2 Blue      Kassadin Sivir     Lissandra            \n",
       "3 Blue      JarvanIV Lissandra Kassadin             \n",
       "4 Blue      Annie    Lissandra Kassadin             \n",
       "5 Blue      Irelia   Pantheon  Kassadin             \n",
       "6 Blue      LeeSin   Rumble    Janna                "
      ]
     },
     "metadata": {},
     "output_type": "display_data"
    }
   ],
   "source": [
    "head(bans)"
   ]
  },
  {
   "cell_type": "code",
   "execution_count": 127,
   "metadata": {
    "collapsed": false,
    "deletable": true,
    "editable": true
   },
   "outputs": [],
   "source": [
    "# 팔레트\n",
    "colfuncBlue <- colorRampPalette(c(\"black\", \"#3B9AB2\"))\n",
    "colfuncRed <- colorRampPalette(c(\"black\", \"#F21A00\"))"
   ]
  },
  {
   "cell_type": "code",
   "execution_count": 128,
   "metadata": {
    "collapsed": false,
    "deletable": true,
    "editable": true
   },
   "outputs": [],
   "source": [
    "colsBlue <- colfuncBlue(4)\n",
    "colsRed <- colfuncRed(4)\n",
    "bans[bans==\"\"] <- NA"
   ]
  },
  {
   "cell_type": "code",
   "execution_count": 129,
   "metadata": {
    "collapsed": true,
    "deletable": true,
    "editable": true
   },
   "outputs": [],
   "source": [
    "bans$numBans <- rowSums(!is.na(bans[-(1:2)]))\n",
    "redBans <- data.frame(merge(global %>% select(MatchHistory, League, Season, Year, redTeamTag, rResult, gamelength), bans %>% filter(TeamColor=='Red') %>% select(MatchHistory, numBans), by='MatchHistory'))\n",
    "redBans$RES <- ifelse(redBans$rResult == 0, 'LOSS', 'WIN')"
   ]
  },
  {
   "cell_type": "code",
   "execution_count": 130,
   "metadata": {
    "collapsed": true,
    "deletable": true,
    "editable": true
   },
   "outputs": [],
   "source": [
    "blueBans <- data.frame(merge(global %>% select(MatchHistory, League, Season, Year, blueTeamTag, bResult, gamelength), bans %>% filter(TeamColor == 'Blue') %>% select(MatchHistory, numBans), by='MatchHistory'))\n",
    "blueBans$RES <- ifelse(blueBans$bResult==0, 'LOSS', 'WIN')"
   ]
  },
  {
   "cell_type": "code",
   "execution_count": 131,
   "metadata": {
    "collapsed": true,
    "deletable": true,
    "editable": true
   },
   "outputs": [],
   "source": [
    "rBans<-ggplot(data=redBans,aes(x=numBans,fill=factor(Year))) + geom_bar(position='dodge',width=.5) + scale_y_log10() + facet_grid(~factor(RES)) + scale_fill_manual(name=\"\",values=colsRed) + xlab('number of bans') + theme(legend.position=\"right\",axis.title.x=element_blank(),axis.text.x=element_blank(),axis.ticks.x=element_blank())\n",
    "bBans<-ggplot(data=blueBans,aes(x=numBans,fill=factor(Year))) + geom_bar(position='dodge',width=.5) + scale_y_log10() + facet_grid(~factor(RES)) + scale_fill_manual(name=\"\",values=colsBlue) + xlab('number of bans') + theme(legend.position=\"right\")"
   ]
  },
  {
   "cell_type": "code",
   "execution_count": 132,
   "metadata": {
    "collapsed": false,
    "deletable": true,
    "editable": true
   },
   "outputs": [
    {
     "data": {
      "image/png": "[encoded data removed]"
     },
     "metadata": {},
     "output_type": "display_data"
    }
   ],
   "source": [
    "grid.arrange(rBans,bBans,ncol=1)"
   ]
  },
  {
   "cell_type": "markdown",
   "metadata": {
    "deletable": true,
    "editable": true
   },
   "source": [
    "2017년에 밴 수가 3에서 5로 증가"
   ]
  }
 ],
 "metadata": {
  "kernelspec": {
   "display_name": "R",
   "language": "R",
   "name": "ir"
  },
  "language_info": {
   "codemirror_mode": "r",
   "file_extension": ".r",
   "mimetype": "text/x-r-source",
   "name": "R",
   "pygments_lexer": "r",
   "version": "3.3.2"
  }
 },
 "nbformat": 4,
 "nbformat_minor": 0
}
