{
 "cells": [
  {
   "cell_type": "markdown",
   "metadata": {},
   "source": [
    "## 소개\n",
    "- 경기 결과에 대한 포지션별 중요성 조사 내용\n",
    "- 게임 당 포지션별로 평균 골드 차이를 계산하고 어떤 팀이 승리했는지 계산\n",
    "- 게산 후 각 포지션별로 순위 계산\n",
    "- 출처 : [A role's influence on the game.](https://www.kaggle.com/siriuscorp/a-role-s-influence-on-the-game)"
   ]
  },
  {
   "cell_type": "code",
   "execution_count": 1,
   "metadata": {
    "collapsed": true
   },
   "outputs": [],
   "source": [
    "library(ggplot2)\n",
    "library(readr)"
   ]
  },
  {
   "cell_type": "code",
   "execution_count": 2,
   "metadata": {
    "collapsed": true
   },
   "outputs": [],
   "source": [
    "main <- read.csv('data/_LeagueofLegends.csv')"
   ]
  },
  {
   "cell_type": "markdown",
   "metadata": {},
   "source": [
    "- 매 분마다 포지션에 대한 골드 차이를 추가하는 함수를 생성하여 게임에 대한 총 차이를 구한다.\n",
    "- 레드팀 포지션 골드 - 블루팀 포지션 골드\n",
    "- 이 값이 양수이면 레드팀이 많은것이고, 음수이면 블루팀이 많은것이다."
   ]
  },
  {
   "cell_type": "code",
   "execution_count": 3,
   "metadata": {
    "collapsed": false
   },
   "outputs": [
    {
     "data": {
      "text/html": [
       "-423.763157894737"
      ],
      "text/latex": [
       "-423.763157894737"
      ],
      "text/markdown": [
       "-423.763157894737"
      ],
      "text/plain": [
       "[1] -423.7632"
      ]
     },
     "metadata": {},
     "output_type": "display_data"
    }
   ],
   "source": [
    "red <- vector(\"list\", 3645)\n",
    "blue <- vector(\"list\", 3645)\n",
    "\n",
    "#for red, function can be better abstracted but I don't have time.\n",
    "for(i in 1:length(main$goldredTop)){\n",
    "    y <- gsub(\"\\\\[|\\\\]\", \"\", main$goldredTop[i])\n",
    "    y <- gsub(\" \",\"\",y)\n",
    "    numbers <- strsplit(y,',')\n",
    "    numbers <- unlist(numbers)\n",
    "    red[[i]] <- as.numeric(numbers)\n",
    "}\n",
    "   #for blue\n",
    "   for(i in 1:length(main$goldblueTop)){\n",
    "    y <- gsub(\"\\\\[|\\\\]\", \"\", main$goldblueTop[i])\n",
    "    y <- gsub(\" \",\"\",y)\n",
    "    numbers <- strsplit(y,',')\n",
    "    numbers <- unlist(numbers)\n",
    "    blue[[i]] <- as.numeric(numbers)\n",
    "}\n",
    "\n",
    "mean(red[[2]] - blue[[2]])"
   ]
  },
  {
   "cell_type": "markdown",
   "metadata": {},
   "source": [
    "## 데이터 비교"
   ]
  },
  {
   "cell_type": "code",
   "execution_count": 4,
   "metadata": {
    "collapsed": true
   },
   "outputs": [],
   "source": [
    "RoleGoldDiff <- function(role){\n",
    "       result<-numeric(length = 3645)\n",
    "       red <- vector(\"list\",3645)\n",
    "      blue<- vector(\"list\",3645)\n",
    "   if(role == \"top\"){\n",
    " \n",
    "   \n",
    "    for(i in 1:length(main$goldredTop)){\n",
    "        y <- gsub(\"\\\\[|\\\\]\", \"\", main$goldredTop[i])\n",
    "        y <- gsub(\" \",\"\",y)\n",
    "        numbers <- strsplit(y,',')\n",
    "        numbers <- unlist(numbers)\n",
    "        red[[i]] <- as.numeric(numbers)\n",
    "    }\n",
    "       #for blue\n",
    "       for(i in 1:length(main$goldblueTop)){\n",
    "        y <- gsub(\"\\\\[|\\\\]\", \"\", main$goldblueTop[i])\n",
    "        y <- gsub(\" \",\"\",y)\n",
    "        numbers <- strsplit(y,',')\n",
    "        numbers <- unlist(numbers)\n",
    "        blue[[i]] <- as.numeric(numbers)\n",
    "    }\n",
    " \n",
    "   }\n",
    "    else if(role == \"jun\"){\n",
    " \n",
    "     #for red, function can be better abstracted but I don't have time.\n",
    "    for(i in 1:length(main$goldredJungle)){\n",
    "        y <- gsub(\"\\\\[|\\\\]\", \"\", main$goldredJungle[i])\n",
    "        y <- gsub(\" \",\"\",y)\n",
    "        numbers <- strsplit(y,',')\n",
    "        numbers <- unlist(numbers)\n",
    "        red[[i]] <- as.numeric(numbers)\n",
    "    }\n",
    "       #for blue\n",
    "       for(i in 1:length(main$goldblueJungle)){\n",
    "        y <- gsub(\"\\\\[|\\\\]\", \"\", main$goldblueJungle[i])\n",
    "        y <- gsub(\" \",\"\",y)\n",
    "        numbers <- strsplit(y,',')\n",
    "        numbers <- unlist(numbers)\n",
    "        blue[[i]] <- as.numeric(numbers)\n",
    "    }\n",
    "  \n",
    "   \n",
    "   }\n",
    "    else if(role == \"mid\"){\n",
    " \n",
    "     #for red, function can be better abstracted but I don't have time.\n",
    "    for(i in 1:length(main$goldredMiddle)){\n",
    "        y <- gsub(\"\\\\[|\\\\]\", \"\", main$goldredMiddle[i])\n",
    "        y <- gsub(\" \",\"\",y)\n",
    "        numbers <- strsplit(y,',')\n",
    "        numbers <- unlist(numbers)\n",
    "        red[[i]] <- as.numeric(numbers)\n",
    "    }\n",
    "       #for blue\n",
    "       for(i in 1:length(main$goldblueMiddle)){\n",
    "        y <- gsub(\"\\\\[|\\\\]\", \"\", main$goldblueMiddle[i])\n",
    "        y <- gsub(\" \",\"\",y)\n",
    "        numbers <- strsplit(y,',')\n",
    "        numbers <- unlist(numbers)\n",
    "        blue[[i]] <- as.numeric(numbers)\n",
    "    }\n",
    "  \n",
    "\n",
    "   }\n",
    "    else if(role == \"adc\"){\n",
    " \n",
    "     #for red, function can be better abstracted but I don't have time.\n",
    "    for(i in 1:length(main$goldredADC)){\n",
    "        y <- gsub(\"\\\\[|\\\\]\", \"\", main$goldredADC[i])\n",
    "        y <- gsub(\" \",\"\",y)\n",
    "        numbers <- strsplit(y,',')\n",
    "        numbers <- unlist(numbers)\n",
    "        red[[i]] <- as.numeric(numbers)\n",
    "    }\n",
    "       #for blue\n",
    "       for(i in 1:length(main$goldblueADC)){\n",
    "        y <- gsub(\"\\\\[|\\\\]\", \"\", main$goldblueADC[i])\n",
    "        y <- gsub(\" \",\"\",y)\n",
    "        numbers <- strsplit(y,',')\n",
    "        numbers <- unlist(numbers)\n",
    "        blue[[i]] <- as.numeric(numbers)\n",
    "    }\n",
    "  \n",
    "  \n",
    "   }\n",
    "    else{\n",
    " \n",
    "     #for red, function can be better abstracted but I don't have time.\n",
    "    for(i in 1:length(main$goldredSupport)){\n",
    "        y <- gsub(\"\\\\[|\\\\]\", \"\", main$goldredSupport[i])\n",
    "        y <- gsub(\" \",\"\",y)\n",
    "        numbers <- strsplit(y,',')\n",
    "        numbers <- unlist(numbers)\n",
    "        red[[i]] <- as.numeric(numbers)\n",
    "    }\n",
    "       #for blue\n",
    "       for(i in 1:length(main$goldblueSupport)){\n",
    "        y <- gsub(\"\\\\[|\\\\]\", \"\", main$goldblueSupport[i])\n",
    "        y <- gsub(\" \",\"\",y)\n",
    "        numbers <- strsplit(y,',')\n",
    "        numbers <- unlist(numbers)\n",
    "        blue[[i]] <- as.numeric(numbers)\n",
    "    }\n",
    "  \n",
    "      \n",
    "   }\n",
    "    for(i in 1:length(result)){\n",
    "          result[i] <- mean(red[[i]] - blue[[i]])\n",
    "          }    \n",
    "     result\n",
    "}"
   ]
  },
  {
   "cell_type": "code",
   "execution_count": 5,
   "metadata": {
    "collapsed": false,
    "scrolled": true
   },
   "outputs": [
    {
     "data": {
      "text/html": [
       "<table>\n",
       "<thead><tr><th scope=col>MatchHistory</th><th scope=col>League</th><th scope=col>Season</th><th scope=col>Year</th><th scope=col>blueTeamTag</th><th scope=col>bResult</th><th scope=col>rResult</th><th scope=col>redTeamTag</th><th scope=col>gamelength</th><th scope=col>golddiff</th><th scope=col>...</th><th scope=col>goldredADC</th><th scope=col>redSupportChamp</th><th scope=col>redSupport</th><th scope=col>goldredSupport</th><th scope=col>redBans</th><th scope=col>TopAvg</th><th scope=col>JungleAvg</th><th scope=col>MidAvg</th><th scope=col>ADCAvg</th><th scope=col>SupportAvg</th></tr></thead>\n",
       "<tbody>\n",
       "\t<tr><td>http://matchhistory.na.leagueoflegends.com/en/#match-details/TRLH1/30030?gameHash=fbb300951ad8327c                                                                                                                                                     </td><td>North_America                                                                                                                                                                                                                                          </td><td>Spring_Season                                                                                                                                                                                                                                          </td><td>2015                                                                                                                                                                                                                                                   </td><td>TSM                                                                                                                                                                                                                                                    </td><td>1                                                                                                                                                                                                                                                      </td><td>0                                                                                                                                                                                                                                                      </td><td>C9                                                                                                                                                                                                                                                     </td><td>40                                                                                                                                                                                                                                                     </td><td>[0, 0, -14, -65, -268, -431, -488, -789, -494, -625, -1044, -313, -760, -697, -790, -611, 240, 845, 797, 1422, 987, 169, 432, 491, 1205, 1527, 1647, 1847, 3750, 4719, 3561, 3367, 2886, 2906, 4411, 4473, 4639, 4762, 4686, 6057]                     </td><td>...                                                                                                                                                                                                                                                    </td><td>[475, 475, 532, 762, 1097, 1469, 1726, 2112, 2287, 2621, 2976, 3222, 3634, 3787, 4149, 4459, 4829, 5185, 5810, 6374, 7000, 7423, 7857, 8114, 8399, 8684, 9045, 9205, 9987, 10291, 10937, 11438, 12162, 13041, 13318, 13508, 14049, 14369, 14758, 15256]</td><td>Thresh                                                                                                                                                                                                                                                 </td><td>LemonNation                                                                                                                                                                                                                                            </td><td>[515, 515, 577, 722, 911, 1042, 1194, 1370, 1492, 1662, 1807, 1970, 2099, 2268, 2446, 2594, 2841, 2988, 3236, 3440, 3608, 3935, 4060, 4244, 4373, 4506, 4673, 4809, 5043, 5177, 5675, 5935, 6107, 6509, 6639, 6773, 6905, 7042, 7167, 7375]            </td><td>['Tristana', 'Leblanc', 'Nidalee']                                                                                                                                                                                                                     </td><td>205.2                                                                                                                                                                                                                                                  </td><td>231.95                                                                                                                                                                                                                                                 </td><td>-1570.575                                                                                                                                                                                                                                              </td><td>248.925                                                                                                                                                                                                                                                </td><td>-476.425                                                                                                                                                                                                                                               </td></tr>\n",
       "</tbody>\n",
       "</table>\n"
      ],
      "text/latex": [
       "\\begin{tabular}{r|lllllllllllllllllllllllllllllllllllllllllllllllllllllllllllll}\n",
       " MatchHistory & League & Season & Year & blueTeamTag & bResult & rResult & redTeamTag & gamelength & golddiff & ... & goldredADC & redSupportChamp & redSupport & goldredSupport & redBans & TopAvg & JungleAvg & MidAvg & ADCAvg & SupportAvg\\\\\n",
       "\\hline\n",
       "\t http://matchhistory.na.leagueoflegends.com/en/\\#match-details/TRLH1/30030?gameHash=fbb300951ad8327c                                                                                                                                                        & North\\_America                                                                                                                                                                                                                                             & Spring\\_Season                                                                                                                                                                                                                                             & 2015                                                                                                                                                                                                                                                        & TSM                                                                                                                                                                                                                                                         & 1                                                                                                                                                                                                                                                           & 0                                                                                                                                                                                                                                                           & C9                                                                                                                                                                                                                                                          & 40                                                                                                                                                                                                                                                          & {[}0, 0, -14, -65, -268, -431, -488, -789, -494, -625, -1044, -313, -760, -697, -790, -611, 240, 845, 797, 1422, 987, 169, 432, 491, 1205, 1527, 1647, 1847, 3750, 4719, 3561, 3367, 2886, 2906, 4411, 4473, 4639, 4762, 4686, 6057{]}                      & ...                                                                                                                                                                                                                                                         & {[}475, 475, 532, 762, 1097, 1469, 1726, 2112, 2287, 2621, 2976, 3222, 3634, 3787, 4149, 4459, 4829, 5185, 5810, 6374, 7000, 7423, 7857, 8114, 8399, 8684, 9045, 9205, 9987, 10291, 10937, 11438, 12162, 13041, 13318, 13508, 14049, 14369, 14758, 15256{]} & Thresh                                                                                                                                                                                                                                                      & LemonNation                                                                                                                                                                                                                                                 & {[}515, 515, 577, 722, 911, 1042, 1194, 1370, 1492, 1662, 1807, 1970, 2099, 2268, 2446, 2594, 2841, 2988, 3236, 3440, 3608, 3935, 4060, 4244, 4373, 4506, 4673, 4809, 5043, 5177, 5675, 5935, 6107, 6509, 6639, 6773, 6905, 7042, 7167, 7375{]}             & {[}'Tristana', 'Leblanc', 'Nidalee'{]}                                                                                                                                                                                                                      & 205.2                                                                                                                                                                                                                                                       & 231.95                                                                                                                                                                                                                                                      & -1570.575                                                                                                                                                                                                                                                   & 248.925                                                                                                                                                                                                                                                     & -476.425                                                                                                                                                                                                                                                   \\\\\n",
       "\\end{tabular}\n"
      ],
      "text/markdown": [
       "\n",
       "MatchHistory | League | Season | Year | blueTeamTag | bResult | rResult | redTeamTag | gamelength | golddiff | ... | goldredADC | redSupportChamp | redSupport | goldredSupport | redBans | TopAvg | JungleAvg | MidAvg | ADCAvg | SupportAvg | \n",
       "|---|\n",
       "| http://matchhistory.na.leagueoflegends.com/en/#match-details/TRLH1/30030?gameHash=fbb300951ad8327c                                                                                                                                                      | North_America                                                                                                                                                                                                                                           | Spring_Season                                                                                                                                                                                                                                           | 2015                                                                                                                                                                                                                                                    | TSM                                                                                                                                                                                                                                                     | 1                                                                                                                                                                                                                                                       | 0                                                                                                                                                                                                                                                       | C9                                                                                                                                                                                                                                                      | 40                                                                                                                                                                                                                                                      | [0, 0, -14, -65, -268, -431, -488, -789, -494, -625, -1044, -313, -760, -697, -790, -611, 240, 845, 797, 1422, 987, 169, 432, 491, 1205, 1527, 1647, 1847, 3750, 4719, 3561, 3367, 2886, 2906, 4411, 4473, 4639, 4762, 4686, 6057]                      | ...                                                                                                                                                                                                                                                     | [475, 475, 532, 762, 1097, 1469, 1726, 2112, 2287, 2621, 2976, 3222, 3634, 3787, 4149, 4459, 4829, 5185, 5810, 6374, 7000, 7423, 7857, 8114, 8399, 8684, 9045, 9205, 9987, 10291, 10937, 11438, 12162, 13041, 13318, 13508, 14049, 14369, 14758, 15256] | Thresh                                                                                                                                                                                                                                                  | LemonNation                                                                                                                                                                                                                                             | [515, 515, 577, 722, 911, 1042, 1194, 1370, 1492, 1662, 1807, 1970, 2099, 2268, 2446, 2594, 2841, 2988, 3236, 3440, 3608, 3935, 4060, 4244, 4373, 4506, 4673, 4809, 5043, 5177, 5675, 5935, 6107, 6509, 6639, 6773, 6905, 7042, 7167, 7375]             | ['Tristana', 'Leblanc', 'Nidalee']                                                                                                                                                                                                                      | 205.2                                                                                                                                                                                                                                                   | 231.95                                                                                                                                                                                                                                                  | -1570.575                                                                                                                                                                                                                                               | 248.925                                                                                                                                                                                                                                                 | -476.425                                                                                                                                                                                                                                                | \n",
       "\n",
       "\n"
      ],
      "text/plain": [
       "  MatchHistory                                                                                      \n",
       "1 http://matchhistory.na.leagueoflegends.com/en/#match-details/TRLH1/30030?gameHash=fbb300951ad8327c\n",
       "  League        Season        Year blueTeamTag bResult rResult redTeamTag\n",
       "1 North_America Spring_Season 2015 TSM         1       0       C9        \n",
       "  gamelength\n",
       "1 40        \n",
       "  golddiff                                                                                                                                                                                                                          \n",
       "1 [0, 0, -14, -65, -268, -431, -488, -789, -494, -625, -1044, -313, -760, -697, -790, -611, 240, 845, 797, 1422, 987, 169, 432, 491, 1205, 1527, 1647, 1847, 3750, 4719, 3561, 3367, 2886, 2906, 4411, 4473, 4639, 4762, 4686, 6057]\n",
       "  ...\n",
       "1 ...\n",
       "  goldredADC                                                                                                                                                                                                                                             \n",
       "1 [475, 475, 532, 762, 1097, 1469, 1726, 2112, 2287, 2621, 2976, 3222, 3634, 3787, 4149, 4459, 4829, 5185, 5810, 6374, 7000, 7423, 7857, 8114, 8399, 8684, 9045, 9205, 9987, 10291, 10937, 11438, 12162, 13041, 13318, 13508, 14049, 14369, 14758, 15256]\n",
       "  redSupportChamp redSupport \n",
       "1 Thresh          LemonNation\n",
       "  goldredSupport                                                                                                                                                                                                                             \n",
       "1 [515, 515, 577, 722, 911, 1042, 1194, 1370, 1492, 1662, 1807, 1970, 2099, 2268, 2446, 2594, 2841, 2988, 3236, 3440, 3608, 3935, 4060, 4244, 4373, 4506, 4673, 4809, 5043, 5177, 5675, 5935, 6107, 6509, 6639, 6773, 6905, 7042, 7167, 7375]\n",
       "  redBans                            TopAvg JungleAvg MidAvg    ADCAvg \n",
       "1 ['Tristana', 'Leblanc', 'Nidalee'] 205.2  231.95    -1570.575 248.925\n",
       "  SupportAvg\n",
       "1 -476.425  "
      ]
     },
     "metadata": {},
     "output_type": "display_data"
    }
   ],
   "source": [
    "main$TopAvg <- RoleGoldDiff(role='top')\n",
    "main$JungleAvg <- RoleGoldDiff(role = 'jun')\n",
    "main$MidAvg <- RoleGoldDiff(role='mid')\n",
    "main$ADCAvg <- RoleGoldDiff(role='adc')\n",
    "main$SupportAvg <- RoleGoldDiff(role = 'support')\n",
    "main[1,]"
   ]
  },
  {
   "cell_type": "code",
   "execution_count": 6,
   "metadata": {
    "collapsed": true
   },
   "outputs": [],
   "source": [
    "games <- data.frame(winner = ifelse(main$bResult==1, \"Blue\", \"Red\"), TopAvg = main$TopAvg, JungleAvg = main$JungleAvg, MidAvg = main$MidAvg, ADCAvg = main$ADCAvg, SupportAvg = main$SupportAvg)"
   ]
  },
  {
   "cell_type": "code",
   "execution_count": 7,
   "metadata": {
    "collapsed": false
   },
   "outputs": [
    {
     "data": {
      "text/html": [
       "<table>\n",
       "<thead><tr><th scope=col>winner</th><th scope=col>TopAvg</th><th scope=col>JungleAvg</th><th scope=col>MidAvg</th><th scope=col>ADCAvg</th><th scope=col>SupportAvg</th></tr></thead>\n",
       "<tbody>\n",
       "\t<tr><td>Blue       </td><td>  205.2000 </td><td> 231.9500  </td><td>-1570.57500</td><td>  248.9250 </td><td> -476.42500</td></tr>\n",
       "\t<tr><td>Red        </td><td> -423.7632 </td><td>-767.8158  </td><td>  -91.39474</td><td>  375.7105 </td><td>  -61.39474</td></tr>\n",
       "\t<tr><td>Blue       </td><td>-1035.4250 </td><td>  69.9500  </td><td>-1101.85000</td><td>-1705.9000 </td><td>-1163.85000</td></tr>\n",
       "\t<tr><td>Red        </td><td> -277.3171 </td><td> 548.0000  </td><td>  288.97561</td><td> -404.6585 </td><td>  581.36585</td></tr>\n",
       "\t<tr><td>Blue       </td><td>  481.6571 </td><td> 243.7714  </td><td> -396.80000</td><td>-1272.2000 </td><td> -645.42857</td></tr>\n",
       "\t<tr><td>Red        </td><td>  649.7917 </td><td> 190.3750  </td><td>  225.25000</td><td>  296.2500 </td><td>  115.95833</td></tr>\n",
       "</tbody>\n",
       "</table>\n"
      ],
      "text/latex": [
       "\\begin{tabular}{r|llllll}\n",
       " winner & TopAvg & JungleAvg & MidAvg & ADCAvg & SupportAvg\\\\\n",
       "\\hline\n",
       "\t Blue        &   205.2000  &  231.9500   & -1570.57500 &   248.9250  &  -476.42500\\\\\n",
       "\t Red         &  -423.7632  & -767.8158   &   -91.39474 &   375.7105  &   -61.39474\\\\\n",
       "\t Blue        & -1035.4250  &   69.9500   & -1101.85000 & -1705.9000  & -1163.85000\\\\\n",
       "\t Red         &  -277.3171  &  548.0000   &   288.97561 &  -404.6585  &   581.36585\\\\\n",
       "\t Blue        &   481.6571  &  243.7714   &  -396.80000 & -1272.2000  &  -645.42857\\\\\n",
       "\t Red         &   649.7917  &  190.3750   &   225.25000 &   296.2500  &   115.95833\\\\\n",
       "\\end{tabular}\n"
      ],
      "text/markdown": [
       "\n",
       "winner | TopAvg | JungleAvg | MidAvg | ADCAvg | SupportAvg | \n",
       "|---|---|---|---|---|---|\n",
       "| Blue        |   205.2000  |  231.9500   | -1570.57500 |   248.9250  |  -476.42500 | \n",
       "| Red         |  -423.7632  | -767.8158   |   -91.39474 |   375.7105  |   -61.39474 | \n",
       "| Blue        | -1035.4250  |   69.9500   | -1101.85000 | -1705.9000  | -1163.85000 | \n",
       "| Red         |  -277.3171  |  548.0000   |   288.97561 |  -404.6585  |   581.36585 | \n",
       "| Blue        |   481.6571  |  243.7714   |  -396.80000 | -1272.2000  |  -645.42857 | \n",
       "| Red         |   649.7917  |  190.3750   |   225.25000 |   296.2500  |   115.95833 | \n",
       "\n",
       "\n"
      ],
      "text/plain": [
       "  winner TopAvg     JungleAvg MidAvg      ADCAvg     SupportAvg \n",
       "1 Blue     205.2000  231.9500 -1570.57500   248.9250  -476.42500\n",
       "2 Red     -423.7632 -767.8158   -91.39474   375.7105   -61.39474\n",
       "3 Blue   -1035.4250   69.9500 -1101.85000 -1705.9000 -1163.85000\n",
       "4 Red     -277.3171  548.0000   288.97561  -404.6585   581.36585\n",
       "5 Blue     481.6571  243.7714  -396.80000 -1272.2000  -645.42857\n",
       "6 Red      649.7917  190.3750   225.25000   296.2500   115.95833"
      ]
     },
     "metadata": {},
     "output_type": "display_data"
    }
   ],
   "source": [
    "head(games)"
   ]
  },
  {
   "cell_type": "markdown",
   "metadata": {},
   "source": [
    "각 포지션별 승리팀 추가 및 절대값 변환"
   ]
  },
  {
   "cell_type": "code",
   "execution_count": 8,
   "metadata": {
    "collapsed": true
   },
   "outputs": [],
   "source": [
    "games$TopWinningTeam <- ifelse(games$TopAvg > 0,\"Red\",\"Blue\")\n",
    "games$JungWinningTeam <- ifelse(games$JungleAvg > 0,\"Red\",\"Blue\")\n",
    "games$MidWinningTeam <- ifelse(games$MidAvg > 0,\"Red\",\"Blue\")\n",
    "games$ADCWinningTeam <- ifelse(games$ADCAvg > 0,\"Red\",\"Blue\")\n",
    "games$SupWinningTeam <- ifelse(games$SupportAvg > 0,\"Red\",\"Blue\")\n",
    "\n",
    "games$TopAvg <- abs(games$TopAvg)\n",
    "games$JungleAvg <- abs(games$JungleAvg)\n",
    "games$MidAvg <- abs(games$MidAvg)\n",
    "games$ADCAvg <- abs(games$ADCAvg)\n",
    "games$SupportAvg <- abs(games$SupportAvg)"
   ]
  },
  {
   "cell_type": "markdown",
   "metadata": {},
   "source": [
    "캐리한 포지션 및 팀 column 생성"
   ]
  },
  {
   "cell_type": "code",
   "execution_count": 11,
   "metadata": {
    "collapsed": false,
    "scrolled": true
   },
   "outputs": [
    {
     "data": {
      "text/html": [
       "<table>\n",
       "<thead><tr><th scope=col>winner</th><th scope=col>TopAvg</th><th scope=col>JungleAvg</th><th scope=col>MidAvg</th><th scope=col>ADCAvg</th><th scope=col>SupportAvg</th><th scope=col>TopWinningTeam</th><th scope=col>JungWinningTeam</th><th scope=col>MidWinningTeam</th><th scope=col>ADCWinningTeam</th><th scope=col>SupWinningTeam</th><th scope=col>Carry</th><th scope=col>TeamOfCarry</th></tr></thead>\n",
       "<tbody>\n",
       "\t<tr><td>Blue      </td><td> 205.2000 </td><td>231.9500  </td><td>1570.57500</td><td> 248.9250 </td><td> 476.42500</td><td>Red       </td><td>Red       </td><td>Blue      </td><td>Red       </td><td>Blue      </td><td>Mid       </td><td>Blue      </td></tr>\n",
       "\t<tr><td>Red       </td><td> 423.7632 </td><td>767.8158  </td><td>  91.39474</td><td> 375.7105 </td><td>  61.39474</td><td>Blue      </td><td>Blue      </td><td>Blue      </td><td>Red       </td><td>Blue      </td><td>Jungle    </td><td>Blue      </td></tr>\n",
       "\t<tr><td>Blue      </td><td>1035.4250 </td><td> 69.9500  </td><td>1101.85000</td><td>1705.9000 </td><td>1163.85000</td><td>Blue      </td><td>Red       </td><td>Blue      </td><td>Blue      </td><td>Blue      </td><td>ADC       </td><td>Blue      </td></tr>\n",
       "\t<tr><td>Red       </td><td> 277.3171 </td><td>548.0000  </td><td> 288.97561</td><td> 404.6585 </td><td> 581.36585</td><td>Blue      </td><td>Red       </td><td>Red       </td><td>Blue      </td><td>Red       </td><td>Support   </td><td>Red       </td></tr>\n",
       "\t<tr><td>Blue      </td><td> 481.6571 </td><td>243.7714  </td><td> 396.80000</td><td>1272.2000 </td><td> 645.42857</td><td>Red       </td><td>Red       </td><td>Blue      </td><td>Blue      </td><td>Blue      </td><td>ADC       </td><td>Blue      </td></tr>\n",
       "\t<tr><td>Red       </td><td> 649.7917 </td><td>190.3750  </td><td> 225.25000</td><td> 296.2500 </td><td> 115.95833</td><td>Red       </td><td>Red       </td><td>Red       </td><td>Red       </td><td>Red       </td><td>Top       </td><td>Red       </td></tr>\n",
       "</tbody>\n",
       "</table>\n"
      ],
      "text/latex": [
       "\\begin{tabular}{r|lllllllllllll}\n",
       " winner & TopAvg & JungleAvg & MidAvg & ADCAvg & SupportAvg & TopWinningTeam & JungWinningTeam & MidWinningTeam & ADCWinningTeam & SupWinningTeam & Carry & TeamOfCarry\\\\\n",
       "\\hline\n",
       "\t Blue       &  205.2000  & 231.9500   & 1570.57500 &  248.9250  &  476.42500 & Red        & Red        & Blue       & Red        & Blue       & Mid        & Blue      \\\\\n",
       "\t Red        &  423.7632  & 767.8158   &   91.39474 &  375.7105  &   61.39474 & Blue       & Blue       & Blue       & Red        & Blue       & Jungle     & Blue      \\\\\n",
       "\t Blue       & 1035.4250  &  69.9500   & 1101.85000 & 1705.9000  & 1163.85000 & Blue       & Red        & Blue       & Blue       & Blue       & ADC        & Blue      \\\\\n",
       "\t Red        &  277.3171  & 548.0000   &  288.97561 &  404.6585  &  581.36585 & Blue       & Red        & Red        & Blue       & Red        & Support    & Red       \\\\\n",
       "\t Blue       &  481.6571  & 243.7714   &  396.80000 & 1272.2000  &  645.42857 & Red        & Red        & Blue       & Blue       & Blue       & ADC        & Blue      \\\\\n",
       "\t Red        &  649.7917  & 190.3750   &  225.25000 &  296.2500  &  115.95833 & Red        & Red        & Red        & Red        & Red        & Top        & Red       \\\\\n",
       "\\end{tabular}\n"
      ],
      "text/markdown": [
       "\n",
       "winner | TopAvg | JungleAvg | MidAvg | ADCAvg | SupportAvg | TopWinningTeam | JungWinningTeam | MidWinningTeam | ADCWinningTeam | SupWinningTeam | Carry | TeamOfCarry | \n",
       "|---|---|---|---|---|---|\n",
       "| Blue       |  205.2000  | 231.9500   | 1570.57500 |  248.9250  |  476.42500 | Red        | Red        | Blue       | Red        | Blue       | Mid        | Blue       | \n",
       "| Red        |  423.7632  | 767.8158   |   91.39474 |  375.7105  |   61.39474 | Blue       | Blue       | Blue       | Red        | Blue       | Jungle     | Blue       | \n",
       "| Blue       | 1035.4250  |  69.9500   | 1101.85000 | 1705.9000  | 1163.85000 | Blue       | Red        | Blue       | Blue       | Blue       | ADC        | Blue       | \n",
       "| Red        |  277.3171  | 548.0000   |  288.97561 |  404.6585  |  581.36585 | Blue       | Red        | Red        | Blue       | Red        | Support    | Red        | \n",
       "| Blue       |  481.6571  | 243.7714   |  396.80000 | 1272.2000  |  645.42857 | Red        | Red        | Blue       | Blue       | Blue       | ADC        | Blue       | \n",
       "| Red        |  649.7917  | 190.3750   |  225.25000 |  296.2500  |  115.95833 | Red        | Red        | Red        | Red        | Red        | Top        | Red        | \n",
       "\n",
       "\n"
      ],
      "text/plain": [
       "  winner TopAvg    JungleAvg MidAvg     ADCAvg    SupportAvg TopWinningTeam\n",
       "1 Blue    205.2000 231.9500  1570.57500  248.9250  476.42500 Red           \n",
       "2 Red     423.7632 767.8158    91.39474  375.7105   61.39474 Blue          \n",
       "3 Blue   1035.4250  69.9500  1101.85000 1705.9000 1163.85000 Blue          \n",
       "4 Red     277.3171 548.0000   288.97561  404.6585  581.36585 Blue          \n",
       "5 Blue    481.6571 243.7714   396.80000 1272.2000  645.42857 Red           \n",
       "6 Red     649.7917 190.3750   225.25000  296.2500  115.95833 Red           \n",
       "  JungWinningTeam MidWinningTeam ADCWinningTeam SupWinningTeam Carry  \n",
       "1 Red             Blue           Red            Blue           Mid    \n",
       "2 Blue            Blue           Red            Blue           Jungle \n",
       "3 Red             Blue           Blue           Blue           ADC    \n",
       "4 Red             Red            Blue           Red            Support\n",
       "5 Red             Blue           Blue           Blue           ADC    \n",
       "6 Red             Red            Red            Red            Top    \n",
       "  TeamOfCarry\n",
       "1 Blue       \n",
       "2 Blue       \n",
       "3 Blue       \n",
       "4 Red        \n",
       "5 Blue       \n",
       "6 Red        "
      ]
     },
     "metadata": {},
     "output_type": "display_data"
    }
   ],
   "source": [
    "Carries <- vector(\"character\", length=nrow(games))\n",
    "CarryTeams <- vector(\"character\", length=nrow(games))\n",
    "\n",
    "# 포지션 별 carry 컬럼 분류\n",
    "for(i in 1:nrow(games)) \n",
    "{\n",
    "    TopValue <- games$TopAvg[i]\n",
    "    JungValue <- games$JungleAvg[i]\n",
    "    MidValue <- games$MidAvg[i]\n",
    "    ADCValue <- games$ADCAvg[i]\n",
    "    SupValue <- games$SupportAvg[i]\n",
    "    \n",
    "    RoleValues <- c(TopValue, JungValue, MidValue, ADCValue, SupValue)\n",
    "    \n",
    "    CarryGold <- max(RoleValues)\n",
    "    \n",
    "    if(CarryGold == TopValue){\n",
    "        Carries[i] <- \"Top\"\n",
    "        CarryTeams[i] <- games$TopWinningTeam[i]\n",
    "    }\n",
    "    else if(CarryGold == JungValue) {\n",
    "        Carries[i] <- \"Jungle\"\n",
    "        CarryTeams[i] <- games$JungWinningTeam[i]\n",
    "    }\n",
    "    else if(CarryGold == MidValue) {\n",
    "        Carries[i] <- \"Mid\"\n",
    "        CarryTeams[i] <- games$MidWinningTeam[i]\n",
    "    }\n",
    "    else if(CarryGold == ADCValue) {\n",
    "        Carries[i] <- \"ADC\"\n",
    "        CarryTeams[i] <- games$ADCWinningTeam[i]\n",
    "    }\n",
    "    else {\n",
    "        Carries[i] <- \"Support\"\n",
    "        CarryTeams[i] <- games$SupWinningTeam[i]\n",
    "    }\n",
    "}\n",
    "\n",
    "games$Carry <- Carries\n",
    "games$TeamOfCarry <- CarryTeams\n",
    "head(games)"
   ]
  },
  {
   "cell_type": "markdown",
   "metadata": {},
   "source": [
    "## 시각화"
   ]
  },
  {
   "cell_type": "code",
   "execution_count": 12,
   "metadata": {
    "collapsed": false
   },
   "outputs": [
    {
     "data": {},
     "metadata": {},
     "output_type": "display_data"
    },
    {
     "data": {
      "image/png": "[encoded data removed]",
      "text/plain": [
       "plot without title"
      ]
     },
     "metadata": {},
     "output_type": "display_data"
    }
   ],
   "source": [
    "ggplot(data = games, aes(x=Carry, fill=Carry)) + geom_bar(stat=\"count\") + ggtitle(\"Count of carrying per role\")"
   ]
  },
  {
   "cell_type": "code",
   "execution_count": 16,
   "metadata": {
    "collapsed": false
   },
   "outputs": [
    {
     "data": {
      "text/html": [
       "<table>\n",
       "<thead><tr><th scope=col>Winner</th><th scope=col>CarryTeam</th><th scope=col>Carry</th></tr></thead>\n",
       "<tbody>\n",
       "\t<tr><td>Blue   </td><td>Blue   </td><td>Mid    </td></tr>\n",
       "\t<tr><td>Red    </td><td>Blue   </td><td>Jungle </td></tr>\n",
       "\t<tr><td>Blue   </td><td>Blue   </td><td>ADC    </td></tr>\n",
       "\t<tr><td>Red    </td><td>Red    </td><td>Support</td></tr>\n",
       "\t<tr><td>Blue   </td><td>Blue   </td><td>ADC    </td></tr>\n",
       "\t<tr><td>Red    </td><td>Red    </td><td>Top    </td></tr>\n",
       "</tbody>\n",
       "</table>\n"
      ],
      "text/latex": [
       "\\begin{tabular}{r|lll}\n",
       " Winner & CarryTeam & Carry\\\\\n",
       "\\hline\n",
       "\t Blue    & Blue    & Mid    \\\\\n",
       "\t Red     & Blue    & Jungle \\\\\n",
       "\t Blue    & Blue    & ADC    \\\\\n",
       "\t Red     & Red     & Support\\\\\n",
       "\t Blue    & Blue    & ADC    \\\\\n",
       "\t Red     & Red     & Top    \\\\\n",
       "\\end{tabular}\n"
      ],
      "text/markdown": [
       "\n",
       "Winner | CarryTeam | Carry | \n",
       "|---|---|---|---|---|---|\n",
       "| Blue    | Blue    | Mid     | \n",
       "| Red     | Blue    | Jungle  | \n",
       "| Blue    | Blue    | ADC     | \n",
       "| Red     | Red     | Support | \n",
       "| Blue    | Blue    | ADC     | \n",
       "| Red     | Red     | Top     | \n",
       "\n",
       "\n"
      ],
      "text/plain": [
       "  Winner CarryTeam Carry  \n",
       "1 Blue   Blue      Mid    \n",
       "2 Red    Blue      Jungle \n",
       "3 Blue   Blue      ADC    \n",
       "4 Red    Red       Support\n",
       "5 Blue   Blue      ADC    \n",
       "6 Red    Red       Top    "
      ]
     },
     "metadata": {},
     "output_type": "display_data"
    }
   ],
   "source": [
    "head(WinningDF)"
   ]
  },
  {
   "cell_type": "code",
   "execution_count": 17,
   "metadata": {
    "collapsed": false
   },
   "outputs": [
    {
     "data": {},
     "metadata": {},
     "output_type": "display_data"
    },
    {
     "data": {
      "text/html": [
       "<table>\n",
       "<thead><tr><th scope=col>Role</th><th scope=col>Winrate</th></tr></thead>\n",
       "<tbody>\n",
       "\t<tr><td>Top      </td><td>0.8350398</td></tr>\n",
       "\t<tr><td>Jungle   </td><td>0.8514493</td></tr>\n",
       "\t<tr><td>Mid      </td><td>0.8985849</td></tr>\n",
       "\t<tr><td>ADC      </td><td>0.9123377</td></tr>\n",
       "\t<tr><td>Support  </td><td>0.8373494</td></tr>\n",
       "</tbody>\n",
       "</table>\n"
      ],
      "text/latex": [
       "\\begin{tabular}{r|ll}\n",
       " Role & Winrate\\\\\n",
       "\\hline\n",
       "\t Top       & 0.8350398\\\\\n",
       "\t Jungle    & 0.8514493\\\\\n",
       "\t Mid       & 0.8985849\\\\\n",
       "\t ADC       & 0.9123377\\\\\n",
       "\t Support   & 0.8373494\\\\\n",
       "\\end{tabular}\n"
      ],
      "text/markdown": [
       "\n",
       "Role | Winrate | \n",
       "|---|---|---|---|---|\n",
       "| Top       | 0.8350398 | \n",
       "| Jungle    | 0.8514493 | \n",
       "| Mid       | 0.8985849 | \n",
       "| ADC       | 0.9123377 | \n",
       "| Support   | 0.8373494 | \n",
       "\n",
       "\n"
      ],
      "text/plain": [
       "  Role    Winrate  \n",
       "1 Top     0.8350398\n",
       "2 Jungle  0.8514493\n",
       "3 Mid     0.8985849\n",
       "4 ADC     0.9123377\n",
       "5 Support 0.8373494"
      ]
     },
     "metadata": {},
     "output_type": "display_data"
    },
    {
     "data": {
      "image/png": "[encoded data removed]",
      "text/plain": [
       "plot without title"
      ]
     },
     "metadata": {},
     "output_type": "display_data"
    }
   ],
   "source": [
    "WinningDF <- data.frame(Winner=games$winner, CarryTeam=games$TeamOfCarry, Carry=games$Carry)\n",
    "\n",
    "WinningDF$CarryWin <- ifelse(WinningDF$Winner == WinningDF$CarryTeam,1,0)\n",
    "\n",
    "TopCarryWins <- nrow(WinningDF[WinningDF$Carry==\"Top\" & WinningDF$CarryWin==1,])/nrow(WinningDF[WinningDF$Carry==\"Top\",])\n",
    "JunCarryWins <- nrow(WinningDF[WinningDF$Carry==\"Jungle\" & WinningDF$CarryWin==1,])/nrow(WinningDF[WinningDF$Carry==\"Jungle\",])\n",
    "MidCarryWins <- nrow(WinningDF[WinningDF$Carry==\"Mid\" & WinningDF$CarryWin==1,])/nrow(WinningDF[WinningDF$Carry==\"Mid\",])\n",
    "ADCCarryWins <- nrow(WinningDF[WinningDF$Carry==\"ADC\" & WinningDF$CarryWin==1,])/nrow(WinningDF[WinningDF$Carry==\"ADC\",])\n",
    "SupCarryWins <- nrow(WinningDF[WinningDF$Carry==\"Support\" & WinningDF$CarryWin==1,])/nrow(WinningDF[WinningDF$Carry==\"Support\",])\n",
    "\n",
    "#Create a data frame with the winrate of each role, when that specific role is the carry of the game.\n",
    "CarryRoleWins <- data.frame(Role = c(\"Top\",\"Jungle\",\"Mid\",\"ADC\",\"Support\"),\n",
    "                          Winrate= c(TopCarryWins,JunCarryWins,MidCarryWins,ADCCarryWins,SupCarryWins))\n",
    "\n",
    "ggplot(data=CarryRoleWins, aes(x=Role,y=Winrate,fill=Role)) + geom_bar(stat=\"identity\")\n",
    "CarryRoleWins"
   ]
  },
  {
   "cell_type": "markdown",
   "metadata": {},
   "source": [
    "- 캐리할 때, 가장 많은 승리를 하는 포지션은 원딜이고 가장 적은 승리는 의외로 탑으로 나타났다. \n",
    "- 요즘 LCK를 봤을 때, 다 잘해야 하지만 탑이나 정글이 캐리하면 상위랭크에 오를 것 같지만 아무래도 딜의 주축이 원딜이기 때문에 원딜의 승률이 높은 것 같다."
   ]
  }
 ],
 "metadata": {
  "kernelspec": {
   "display_name": "R",
   "language": "R",
   "name": "ir"
  },
  "language_info": {
   "codemirror_mode": "r",
   "file_extension": ".r",
   "mimetype": "text/x-r-source",
   "name": "R",
   "pygments_lexer": "r",
   "version": "3.3.2"
  }
 },
 "nbformat": 4,
 "nbformat_minor": 0
}
