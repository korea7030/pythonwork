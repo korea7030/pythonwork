{
 "cells": [
  {
   "cell_type": "markdown",
   "metadata": {},
   "source": [
    "# 네이버 뉴스 스크래핑"
   ]
  },
  {
   "cell_type": "code",
   "execution_count": 1,
   "metadata": {
    "collapsed": true
   },
   "outputs": [],
   "source": [
    "import requests"
   ]
  },
  {
   "cell_type": "code",
   "execution_count": 5,
   "metadata": {
    "collapsed": true
   },
   "outputs": [],
   "source": [
    "import lxml.html"
   ]
  },
  {
   "cell_type": "code",
   "execution_count": 17,
   "metadata": {
    "collapsed": true
   },
   "outputs": [],
   "source": [
    "import csv"
   ]
  },
  {
   "cell_type": "code",
   "execution_count": 2,
   "metadata": {
    "collapsed": true
   },
   "outputs": [],
   "source": [
    "url = 'http://news.naver.com/main/search/search.nhn?query=%BA%F2%B5%A5%C0%CC%C5%CD&ie=MS949&x=0&y=0&page={}'"
   ]
  },
  {
   "cell_type": "code",
   "execution_count": 19,
   "metadata": {
    "collapsed": false
   },
   "outputs": [],
   "source": [
    "with open('news.csv', 'w', encoding='utf8') as f:\n",
    "    writer = csv.writer(f)\n",
    "    for i in range(1, 21):\n",
    "        res = requests.get(url.format(i))  # 기사 목록\n",
    "        element = lxml.html.fromstring(res.text)\n",
    "        for news_link in element.xpath('.//a[@class=\"go_naver\"]'):\n",
    "            try:\n",
    "                res = requests.get(news_link.attrib['href'])   # 네이버 뉴스 링크\n",
    "                news = lxml.html.fromstring(res.text)\n",
    "                body = news.xpath('.//div[@id=\"articleBodyContents\"]')[0]\n",
    "                writer.writerow([body.text_content()])\n",
    "            except:\n",
    "                continue"
   ]
  },
  {
   "cell_type": "markdown",
   "metadata": {},
   "source": [
    "# 스크래핑된 뉴스 읽어오기"
   ]
  },
  {
   "cell_type": "code",
   "execution_count": null,
   "metadata": {
    "collapsed": true
   },
   "outputs": [],
   "source": [
    "import csv"
   ]
  },
  {
   "cell_type": "code",
   "execution_count": 34,
   "metadata": {
    "collapsed": false
   },
   "outputs": [],
   "source": [
    "news = []\n",
    "with open('news.csv', encoding='utf8', newline='\\r\\n') as f:\n",
    "    reader = csv.reader(f)\n",
    "    for row in reader:\n",
    "        news.append(row[0])"
   ]
  },
  {
   "cell_type": "markdown",
   "metadata": {},
   "source": [
    "# 형태소 분석기"
   ]
  },
  {
   "cell_type": "code",
   "execution_count": 36,
   "metadata": {
    "collapsed": true
   },
   "outputs": [],
   "source": [
    "from konlpy.tag import Twitter"
   ]
  },
  {
   "cell_type": "code",
   "execution_count": 37,
   "metadata": {
    "collapsed": true
   },
   "outputs": [],
   "source": [
    "tagger = Twitter()"
   ]
  },
  {
   "cell_type": "markdown",
   "metadata": {},
   "source": [
    "# Term-Document Matrix 만들기"
   ]
  },
  {
   "cell_type": "markdown",
   "metadata": {},
   "source": [
    "[CountVectorizer 문서](http://scikit-learn.org/stable/modules/generated/sklearn.feature_extraction.text.CountVectorizer.html)"
   ]
  },
  {
   "cell_type": "code",
   "execution_count": 35,
   "metadata": {
    "collapsed": false
   },
   "outputs": [],
   "source": [
    "from sklearn.feature_extraction.text import CountVectorizer"
   ]
  },
  {
   "cell_type": "code",
   "execution_count": 119,
   "metadata": {
    "collapsed": true
   },
   "outputs": [],
   "source": [
    "cv = CountVectorizer(tokenizer=tagger.nouns, max_features=50)"
   ]
  },
  {
   "cell_type": "code",
   "execution_count": 120,
   "metadata": {
    "collapsed": false
   },
   "outputs": [],
   "source": [
    "tdf = cv.fit_transform(news)"
   ]
  },
  {
   "cell_type": "code",
   "execution_count": 121,
   "metadata": {
    "collapsed": false
   },
   "outputs": [
    {
     "data": {
      "text/plain": [
       "<218x50 sparse matrix of type '<class 'numpy.int64'>'\n",
       "\twith 4915 stored elements in Compressed Sparse Row format>"
      ]
     },
     "execution_count": 121,
     "metadata": {},
     "output_type": "execute_result"
    }
   ],
   "source": [
    "tdf"
   ]
  },
  {
   "cell_type": "markdown",
   "metadata": {},
   "source": [
    "# 단어 목록"
   ]
  },
  {
   "cell_type": "code",
   "execution_count": 122,
   "metadata": {
    "collapsed": false
   },
   "outputs": [],
   "source": [
    "words = cv.get_feature_names()"
   ]
  },
  {
   "cell_type": "code",
   "execution_count": 123,
   "metadata": {
    "collapsed": false
   },
   "outputs": [
    {
     "data": {
      "text/plain": [
       "['개',\n",
       " '거래',\n",
       " '것',\n",
       " '결과',\n",
       " '고객',\n",
       " '긍정',\n",
       " '기술',\n",
       " '기업',\n",
       " '기자',\n",
       " '날',\n",
       " '년',\n",
       " '뉴스',\n",
       " '뉴시스',\n",
       " '단계',\n",
       " '대해',\n",
       " '데이터',\n",
       " '등',\n",
       " '만',\n",
       " '매우',\n",
       " '멜론',\n",
       " '명',\n",
       " '및',\n",
       " '복지',\n",
       " '분석',\n",
       " '빅데이터',\n",
       " '산업',\n",
       " '상품',\n",
       " '서비스',\n",
       " '서울',\n",
       " '세상',\n",
       " '수',\n",
       " '수준',\n",
       " '시',\n",
       " '시장',\n",
       " '심리',\n",
       " '억원',\n",
       " '오전',\n",
       " '월',\n",
       " '이',\n",
       " '일',\n",
       " '전',\n",
       " '정보',\n",
       " '종목',\n",
       " '지수',\n",
       " '지원',\n",
       " '최근',\n",
       " '코스피',\n",
       " '통해',\n",
       " '투자',\n",
       " '팁코']"
      ]
     },
     "execution_count": 123,
     "metadata": {},
     "output_type": "execute_result"
    }
   ],
   "source": [
    "words"
   ]
  },
  {
   "cell_type": "markdown",
   "metadata": {},
   "source": [
    "# 한 글자 짜리 단어 빼기"
   ]
  },
  {
   "cell_type": "code",
   "execution_count": 202,
   "metadata": {
    "collapsed": true
   },
   "outputs": [],
   "source": [
    "def get_word(doc):\n",
    "    nouns = tagger.nouns(doc)\n",
    "    return [noun for noun in nouns if len(noun) > 1]"
   ]
  },
  {
   "cell_type": "code",
   "execution_count": 203,
   "metadata": {
    "collapsed": true
   },
   "outputs": [],
   "source": [
    "cv = CountVectorizer(tokenizer=get_word, max_features=50)"
   ]
  },
  {
   "cell_type": "code",
   "execution_count": 204,
   "metadata": {
    "collapsed": false
   },
   "outputs": [],
   "source": [
    "tdf = cv.fit_transform(news)"
   ]
  },
  {
   "cell_type": "code",
   "execution_count": 205,
   "metadata": {
    "collapsed": false
   },
   "outputs": [],
   "source": [
    "words = cv.get_feature_names()"
   ]
  },
  {
   "cell_type": "code",
   "execution_count": 206,
   "metadata": {
    "collapsed": false
   },
   "outputs": [
    {
     "data": {
      "text/plain": [
       "['가장',\n",
       " '개인',\n",
       " '거래',\n",
       " '결과',\n",
       " '고객',\n",
       " '긍정',\n",
       " '기반',\n",
       " '기술',\n",
       " '기업',\n",
       " '기자',\n",
       " '뉴스',\n",
       " '뉴시스',\n",
       " '단계',\n",
       " '대상자',\n",
       " '대해',\n",
       " '데이터',\n",
       " '레벨',\n",
       " '매우',\n",
       " '멜론',\n",
       " '모바일',\n",
       " '복지',\n",
       " '분기',\n",
       " '분석',\n",
       " '빅데이터',\n",
       " '사업',\n",
       " '산업',\n",
       " '삼성',\n",
       " '상품',\n",
       " '서비스',\n",
       " '서울',\n",
       " '세상',\n",
       " '수준',\n",
       " '시장',\n",
       " '실적',\n",
       " '심리',\n",
       " '약간',\n",
       " '억원',\n",
       " '오전',\n",
       " '오후',\n",
       " '정보',\n",
       " '종목',\n",
       " '지수',\n",
       " '지원',\n",
       " '최근',\n",
       " '코스콤',\n",
       " '코스피',\n",
       " '통해',\n",
       " '투자',\n",
       " '팁코',\n",
       " '한국']"
      ]
     },
     "execution_count": 206,
     "metadata": {},
     "output_type": "execute_result"
    }
   ],
   "source": [
    "words"
   ]
  },
  {
   "cell_type": "markdown",
   "metadata": {},
   "source": [
    "# 단어별 출현 빈도"
   ]
  },
  {
   "cell_type": "code",
   "execution_count": 208,
   "metadata": {
    "collapsed": true
   },
   "outputs": [],
   "source": [
    "import numpy"
   ]
  },
  {
   "cell_type": "code",
   "execution_count": 209,
   "metadata": {
    "collapsed": false
   },
   "outputs": [],
   "source": [
    "count_mat = tdf.sum(axis=0)"
   ]
  },
  {
   "cell_type": "code",
   "execution_count": 210,
   "metadata": {
    "collapsed": false
   },
   "outputs": [
    {
     "data": {
      "text/plain": [
       "matrix([[127, 127, 200, 189, 171, 155, 136, 147, 243, 244, 230, 388, 920,\n",
       "         139, 179, 343, 138, 216, 172, 130, 210, 130, 278, 768, 132, 175,\n",
       "         127, 160, 280, 187, 173, 212, 524, 126, 205, 140, 147, 156, 134,\n",
       "         332, 455, 216, 154, 148, 143, 152, 167, 249, 155, 125]], dtype=int64)"
      ]
     },
     "execution_count": 210,
     "metadata": {},
     "output_type": "execute_result"
    }
   ],
   "source": [
    "count_mat"
   ]
  },
  {
   "cell_type": "code",
   "execution_count": 211,
   "metadata": {
    "collapsed": false
   },
   "outputs": [],
   "source": [
    "count = numpy.squeeze(numpy.asarray(count_mat))"
   ]
  },
  {
   "cell_type": "code",
   "execution_count": 212,
   "metadata": {
    "collapsed": false
   },
   "outputs": [
    {
     "data": {
      "text/plain": [
       "array([127, 127, 200, 189, 171, 155, 136, 147, 243, 244, 230, 388, 920,\n",
       "       139, 179, 343, 138, 216, 172, 130, 210, 130, 278, 768, 132, 175,\n",
       "       127, 160, 280, 187, 173, 212, 524, 126, 205, 140, 147, 156, 134,\n",
       "       332, 455, 216, 154, 148, 143, 152, 167, 249, 155, 125], dtype=int64)"
      ]
     },
     "execution_count": 212,
     "metadata": {},
     "output_type": "execute_result"
    }
   ],
   "source": [
    "count"
   ]
  },
  {
   "cell_type": "code",
   "execution_count": 213,
   "metadata": {
    "collapsed": false
   },
   "outputs": [],
   "source": [
    "word_count = list(zip(words, count))"
   ]
  },
  {
   "cell_type": "code",
   "execution_count": 214,
   "metadata": {
    "collapsed": false
   },
   "outputs": [
    {
     "data": {
      "text/plain": [
       "[('가장', 127),\n",
       " ('개인', 127),\n",
       " ('거래', 200),\n",
       " ('결과', 189),\n",
       " ('고객', 171),\n",
       " ('긍정', 155),\n",
       " ('기반', 136),\n",
       " ('기술', 147),\n",
       " ('기업', 243),\n",
       " ('기자', 244),\n",
       " ('뉴스', 230),\n",
       " ('뉴시스', 388),\n",
       " ('단계', 920),\n",
       " ('대상자', 139),\n",
       " ('대해', 179),\n",
       " ('데이터', 343),\n",
       " ('레벨', 138),\n",
       " ('매우', 216),\n",
       " ('멜론', 172),\n",
       " ('모바일', 130),\n",
       " ('복지', 210),\n",
       " ('분기', 130),\n",
       " ('분석', 278),\n",
       " ('빅데이터', 768),\n",
       " ('사업', 132),\n",
       " ('산업', 175),\n",
       " ('삼성', 127),\n",
       " ('상품', 160),\n",
       " ('서비스', 280),\n",
       " ('서울', 187),\n",
       " ('세상', 173),\n",
       " ('수준', 212),\n",
       " ('시장', 524),\n",
       " ('실적', 126),\n",
       " ('심리', 205),\n",
       " ('약간', 140),\n",
       " ('억원', 147),\n",
       " ('오전', 156),\n",
       " ('오후', 134),\n",
       " ('정보', 332),\n",
       " ('종목', 455),\n",
       " ('지수', 216),\n",
       " ('지원', 154),\n",
       " ('최근', 148),\n",
       " ('코스콤', 143),\n",
       " ('코스피', 152),\n",
       " ('통해', 167),\n",
       " ('투자', 249),\n",
       " ('팁코', 155),\n",
       " ('한국', 125)]"
      ]
     },
     "execution_count": 214,
     "metadata": {},
     "output_type": "execute_result"
    }
   ],
   "source": [
    "word_count"
   ]
  },
  {
   "cell_type": "markdown",
   "metadata": {},
   "source": [
    "# 빈도 순 정렬"
   ]
  },
  {
   "cell_type": "code",
   "execution_count": 215,
   "metadata": {
    "collapsed": true
   },
   "outputs": [],
   "source": [
    "import operator"
   ]
  },
  {
   "cell_type": "code",
   "execution_count": 216,
   "metadata": {
    "collapsed": false
   },
   "outputs": [
    {
     "data": {
      "text/plain": [
       "[('단계', 920),\n",
       " ('빅데이터', 768),\n",
       " ('시장', 524),\n",
       " ('종목', 455),\n",
       " ('뉴시스', 388),\n",
       " ('데이터', 343),\n",
       " ('정보', 332),\n",
       " ('서비스', 280),\n",
       " ('분석', 278),\n",
       " ('투자', 249),\n",
       " ('기자', 244),\n",
       " ('기업', 243),\n",
       " ('뉴스', 230),\n",
       " ('매우', 216),\n",
       " ('지수', 216),\n",
       " ('수준', 212),\n",
       " ('복지', 210),\n",
       " ('심리', 205),\n",
       " ('거래', 200),\n",
       " ('결과', 189),\n",
       " ('서울', 187),\n",
       " ('대해', 179),\n",
       " ('산업', 175),\n",
       " ('세상', 173),\n",
       " ('멜론', 172),\n",
       " ('고객', 171),\n",
       " ('통해', 167),\n",
       " ('상품', 160),\n",
       " ('오전', 156),\n",
       " ('긍정', 155),\n",
       " ('팁코', 155),\n",
       " ('지원', 154),\n",
       " ('코스피', 152),\n",
       " ('최근', 148),\n",
       " ('기술', 147),\n",
       " ('억원', 147),\n",
       " ('코스콤', 143),\n",
       " ('약간', 140),\n",
       " ('대상자', 139),\n",
       " ('레벨', 138),\n",
       " ('기반', 136),\n",
       " ('오후', 134),\n",
       " ('사업', 132),\n",
       " ('모바일', 130),\n",
       " ('분기', 130),\n",
       " ('가장', 127),\n",
       " ('개인', 127),\n",
       " ('삼성', 127),\n",
       " ('실적', 126),\n",
       " ('한국', 125)]"
      ]
     },
     "execution_count": 216,
     "metadata": {},
     "output_type": "execute_result"
    }
   ],
   "source": [
    "sorted(word_count, key=operator.itemgetter(1), reverse=True)"
   ]
  },
  {
   "cell_type": "markdown",
   "metadata": {},
   "source": [
    "# 워드 클라우드"
   ]
  },
  {
   "cell_type": "markdown",
   "metadata": {},
   "source": [
    "[Unofficial Windows Binaries for Python Extension Packages](http://www.lfd.uci.edu/~gohlke/pythonlibs/#wordcloud)에서 **\n",
    "wordcloud**-1.2.1-**cp35**-cp35m-win_**amd64**.whl를 다운받은 다음, 명령창에서 아래 명령을 실행:\n",
    "\n",
    "```\n",
    "pip install wordcloud-1.2.1-cp35-cp35m-win_amd54.whl\n",
    "```"
   ]
  },
  {
   "cell_type": "code",
   "execution_count": 222,
   "metadata": {
    "collapsed": true
   },
   "outputs": [],
   "source": [
    "%matplotlib inline"
   ]
  },
  {
   "cell_type": "code",
   "execution_count": 282,
   "metadata": {
    "collapsed": false
   },
   "outputs": [],
   "source": [
    "from wordcloud import WordCloud"
   ]
  },
  {
   "cell_type": "code",
   "execution_count": 224,
   "metadata": {
    "collapsed": true
   },
   "outputs": [],
   "source": [
    "from matplotlib import pyplot"
   ]
  },
  {
   "cell_type": "markdown",
   "metadata": {},
   "source": [
    "워드 클라우드 만들기\n",
    "\n",
    "자세한 내용은 http://amueller.github.io/word_cloud/index.html 참고"
   ]
  },
  {
   "cell_type": "code",
   "execution_count": 299,
   "metadata": {
    "collapsed": false
   },
   "outputs": [],
   "source": [
    "wc = WordCloud(font_path='C:\\\\Windows\\\\Fonts\\\\malgun.ttf', background_color='white', width=400, height=300)\n",
    "cloud = wc.generate_from_frequencies(word_count)"
   ]
  },
  {
   "cell_type": "markdown",
   "metadata": {},
   "source": [
    "화면에 표시"
   ]
  },
  {
   "cell_type": "code",
   "execution_count": 301,
   "metadata": {
    "collapsed": false
   },
   "outputs": [
    {
     "data": {
      "image/png": "[encoded data removed]",
      "text/plain": [
       "<matplotlib.figure.Figure at 0x29490a21470>"
      ]
     },
     "metadata": {},
     "output_type": "display_data"
    }
   ],
   "source": [
    "pyplot.figure(figsize=(12, 9))\n",
    "pyplot.imshow(cloud)\n",
    "pyplot.axis(\"off\")\n",
    "pyplot.show()"
   ]
  },
  {
   "cell_type": "markdown",
   "metadata": {},
   "source": [
    "# 단어간 상관계수"
   ]
  },
  {
   "cell_type": "code",
   "execution_count": 217,
   "metadata": {
    "collapsed": false
   },
   "outputs": [],
   "source": [
    "word_corr = numpy.corrcoef(tdf.todense(), rowvar=0)"
   ]
  },
  {
   "cell_type": "code",
   "execution_count": 218,
   "metadata": {
    "collapsed": false
   },
   "outputs": [
    {
     "data": {
      "text/plain": [
       "array([[ 1.        , -0.05700056,  0.42614628, ...,  0.34449419,\n",
       "         0.00250768,  0.14420351],\n",
       "       [-0.05700056,  1.        ,  0.04961311, ..., -0.08538509,\n",
       "        -0.11327026, -0.0423338 ],\n",
       "       [ 0.42614628,  0.04961311,  1.        , ...,  0.37617989,\n",
       "        -0.11218421, -0.01802255],\n",
       "       ..., \n",
       "       [ 0.34449419, -0.08538509,  0.37617989, ...,  1.        ,\n",
       "        -0.1730983 ,  0.3840468 ],\n",
       "       [ 0.00250768, -0.11327026, -0.11218421, ..., -0.1730983 ,\n",
       "         1.        , -0.09092959],\n",
       "       [ 0.14420351, -0.0423338 , -0.01802255, ...,  0.3840468 ,\n",
       "        -0.09092959,  1.        ]])"
      ]
     },
     "execution_count": 218,
     "metadata": {},
     "output_type": "execute_result"
    }
   ],
   "source": [
    "word_corr"
   ]
  },
  {
   "cell_type": "markdown",
   "metadata": {},
   "source": [
    "# 상관관계 높은 것 100개만 추리기"
   ]
  },
  {
   "cell_type": "code",
   "execution_count": 219,
   "metadata": {
    "collapsed": false
   },
   "outputs": [],
   "source": [
    "edges = []\n",
    "for i in range(len(words)):\n",
    "    for j in range(i + 1, len(words)):\n",
    "        edges.append((words[i], words[j], word_corr[i, j]))"
   ]
  },
  {
   "cell_type": "markdown",
   "metadata": {},
   "source": [
    "상관계수 높은 순으로 정렬"
   ]
  },
  {
   "cell_type": "code",
   "execution_count": 220,
   "metadata": {
    "collapsed": true
   },
   "outputs": [],
   "source": [
    "edges = sorted(edges, key=operator.itemgetter(2), reverse=True)"
   ]
  },
  {
   "cell_type": "code",
   "execution_count": 263,
   "metadata": {
    "collapsed": false
   },
   "outputs": [],
   "source": [
    "edges = edges[:50]"
   ]
  },
  {
   "cell_type": "code",
   "execution_count": 275,
   "metadata": {
    "collapsed": true
   },
   "outputs": [],
   "source": [
    "edge_list = [(word1, word2) for word1, word2, weight in edges]\n",
    "weight_list = [weight for word1, word2, weight in edges]"
   ]
  },
  {
   "cell_type": "markdown",
   "metadata": {},
   "source": [
    "# 상관관계 시각화"
   ]
  },
  {
   "cell_type": "code",
   "execution_count": 223,
   "metadata": {
    "collapsed": true
   },
   "outputs": [],
   "source": [
    "import networkx"
   ]
  },
  {
   "cell_type": "code",
   "execution_count": 264,
   "metadata": {
    "collapsed": false
   },
   "outputs": [],
   "source": [
    "G = networkx.Graph()\n",
    "\n",
    "edge_set = set()\n",
    "for word1, word2, weight in edges:\n",
    "    G.add_edge(word1, word2, weight=weight)\n",
    "    edge_set.add((word1, word2))"
   ]
  },
  {
   "cell_type": "markdown",
   "metadata": {},
   "source": [
    "* [spring layout](http://networkx.readthedocs.io/en/networkx-1.11/reference/generated/networkx.drawing.layout.spring_layout.html#networkx.drawing.layout.spring_layout)\n",
    "* [draw_networkx_nodes](http://networkx.readthedocs.io/en/networkx-1.11/reference/generated/networkx.drawing.nx_pylab.draw_networkx_nodes.html#networkx.drawing.nx_pylab.draw_networkx_nodes)\n",
    "* [draw_networkx_edges](http://networkx.readthedocs.io/en/networkx-1.11/reference/generated/networkx.drawing.nx_pylab.draw_networkx_edges.html#networkx.drawing.nx_pylab.draw_networkx_edges)\n",
    "* [draw_networkx_labels](http://networkx.readthedocs.io/en/networkx-1.11/reference/generated/networkx.drawing.nx_pylab.draw_networkx_labels.html#networkx.drawing.nx_pylab.draw_networkx_labels)"
   ]
  },
  {
   "cell_type": "code",
   "execution_count": 1,
   "metadata": {
    "collapsed": false
   },
   "outputs": [
    {
     "ename": "NameError",
     "evalue": "name 'networkx' is not defined",
     "output_type": "error",
     "traceback": [
      "\u001b[1;31m---------------------------------------------------------------------------\u001b[0m",
      "\u001b[1;31mNameError\u001b[0m                                 Traceback (most recent call last)",
      "\u001b[1;32m<ipython-input-1-fa2937b07767>\u001b[0m in \u001b[0;36m<module>\u001b[1;34m()\u001b[0m\n\u001b[1;32m----> 1\u001b[1;33m \u001b[0mposition\u001b[0m \u001b[1;33m=\u001b[0m \u001b[0mnetworkx\u001b[0m\u001b[1;33m.\u001b[0m\u001b[0mspring_layout\u001b[0m\u001b[1;33m(\u001b[0m\u001b[0mG\u001b[0m\u001b[1;33m,\u001b[0m \u001b[0miterations\u001b[0m\u001b[1;33m=\u001b[0m\u001b[1;36m30\u001b[0m\u001b[1;33m)\u001b[0m\u001b[1;33m\u001b[0m\u001b[0m\n\u001b[0m\u001b[0;32m      2\u001b[0m \u001b[0mpyplot\u001b[0m\u001b[1;33m.\u001b[0m\u001b[0mfigure\u001b[0m\u001b[1;33m(\u001b[0m\u001b[0mfigsize\u001b[0m\u001b[1;33m=\u001b[0m\u001b[1;33m(\u001b[0m\u001b[1;36m12\u001b[0m\u001b[1;33m,\u001b[0m \u001b[1;36m9\u001b[0m\u001b[1;33m)\u001b[0m\u001b[1;33m)\u001b[0m\u001b[1;33m\u001b[0m\u001b[0m\n\u001b[0;32m      3\u001b[0m \u001b[0mnetworkx\u001b[0m\u001b[1;33m.\u001b[0m\u001b[0mdraw_networkx_nodes\u001b[0m\u001b[1;33m(\u001b[0m\u001b[0mG\u001b[0m\u001b[1;33m,\u001b[0m \u001b[0mposition\u001b[0m\u001b[1;33m,\u001b[0m \u001b[0mnode_size\u001b[0m\u001b[1;33m=\u001b[0m\u001b[1;36m0\u001b[0m\u001b[1;33m)\u001b[0m\u001b[1;33m\u001b[0m\u001b[0m\n\u001b[0;32m      4\u001b[0m \u001b[0mnetworkx\u001b[0m\u001b[1;33m.\u001b[0m\u001b[0mdraw_networkx_edges\u001b[0m\u001b[1;33m(\u001b[0m\u001b[0mG\u001b[0m\u001b[1;33m,\u001b[0m \u001b[0mposition\u001b[0m\u001b[1;33m,\u001b[0m \u001b[0medgelist\u001b[0m\u001b[1;33m=\u001b[0m\u001b[0medge_list\u001b[0m\u001b[1;33m,\u001b[0m \u001b[0mwidth\u001b[0m\u001b[1;33m=\u001b[0m\u001b[0mweight_list\u001b[0m\u001b[1;33m,\u001b[0m \u001b[0medge_color\u001b[0m\u001b[1;33m=\u001b[0m\u001b[1;34m'lightgray'\u001b[0m\u001b[1;33m)\u001b[0m\u001b[1;33m\u001b[0m\u001b[0m\n\u001b[0;32m      5\u001b[0m \u001b[0mnetworkx\u001b[0m\u001b[1;33m.\u001b[0m\u001b[0mdraw_networkx_labels\u001b[0m\u001b[1;33m(\u001b[0m\u001b[0mG\u001b[0m\u001b[1;33m,\u001b[0m \u001b[0mposition\u001b[0m\u001b[1;33m,\u001b[0m \u001b[0mfont_size\u001b[0m\u001b[1;33m=\u001b[0m\u001b[1;36m15\u001b[0m\u001b[1;33m,\u001b[0m \u001b[0mfont_family\u001b[0m\u001b[1;33m=\u001b[0m\u001b[1;34m'Malgun Gothic'\u001b[0m\u001b[1;33m)\u001b[0m\u001b[1;33m\u001b[0m\u001b[0m\n",
      "\u001b[1;31mNameError\u001b[0m: name 'networkx' is not defined"
     ]
    }
   ],
   "source": [
    "position = networkx.spring_layout(G, iterations=30)\n",
    "pyplot.figure(figsize=(12, 9))\n",
    "networkx.draw_networkx_nodes(G, position, node_size=0)\n",
    "networkx.draw_networkx_edges(G, position, edgelist=edge_list, width=weight_list, edge_color='lightgray')\n",
    "networkx.draw_networkx_labels(G, position, font_size=15, font_family='Malgun Gothic')\n",
    "plt.axis('off')\n",
    "pyplot.show()"
   ]
  }
 ],
 "metadata": {
  "kernelspec": {
   "display_name": "Python 3",
   "language": "python",
   "name": "python3"
  },
  "language_info": {
   "codemirror_mode": {
    "name": "ipython",
    "version": 3
   },
   "file_extension": ".py",
   "mimetype": "text/x-python",
   "name": "python",
   "nbconvert_exporter": "python",
   "pygments_lexer": "ipython3",
   "version": "3.5.1"
  }
 },
 "nbformat": 4,
 "nbformat_minor": 0
}
