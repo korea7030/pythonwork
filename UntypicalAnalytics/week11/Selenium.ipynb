{
 "cells": [
  {
   "cell_type": "markdown",
   "metadata": {},
   "source": [
    "# 다음 웹툰"
   ]
  },
  {
   "cell_type": "code",
   "execution_count": 1,
   "metadata": {
    "collapsed": false
   },
   "outputs": [],
   "source": [
    "import requests"
   ]
  },
  {
   "cell_type": "code",
   "execution_count": 2,
   "metadata": {
    "collapsed": true
   },
   "outputs": [],
   "source": [
    "import lxml.html"
   ]
  },
  {
   "cell_type": "code",
   "execution_count": 3,
   "metadata": {
    "collapsed": false
   },
   "outputs": [],
   "source": [
    "res = requests.get('http://cartoon.media.daum.net')"
   ]
  },
  {
   "cell_type": "code",
   "execution_count": 4,
   "metadata": {
    "collapsed": true
   },
   "outputs": [],
   "source": [
    "root = lxml.html.fromstring(res.content)"
   ]
  },
  {
   "cell_type": "code",
   "execution_count": 5,
   "metadata": {
    "collapsed": false
   },
   "outputs": [
    {
     "data": {
      "text/plain": [
       "[]"
      ]
     },
     "execution_count": 6,
     "metadata": {},
     "output_type": "execute_result"
    }
   ],
   "source": [
    "root.xpath('.//ul[@class=\"list_wt\"]//a[@class=\"link_wt\"]')"
   ]
  },
  {
   "cell_type": "markdown",
   "metadata": {},
   "source": [
    "# Selenium 설치"
   ]
  },
  {
   "cell_type": "markdown",
   "metadata": {},
   "source": [
    "1. 명령창에\n",
    "```\n",
    "pip install selenium\n",
    "```\n",
    "1. [Selenium 홈페이지](http://www.seleniumhq.org/download/) 접속\n",
    "1. **Selenium Standalone Server**를 작업 폴더에 다운로드\n",
    "1. 원하는 웹 브라우저(IE, Chrome 등)의 드라이버를 작업 폴더에 다운로드(Firefox 드라이버는 Selenium에 내장)"
   ]
  },
  {
   "cell_type": "code",
   "execution_count": 1,
   "metadata": {
    "collapsed": false
   },
   "outputs": [],
   "source": [
    "from selenium.webdriver import Chrome, Firefox"
   ]
  },
  {
   "cell_type": "code",
   "execution_count": 2,
   "metadata": {
    "collapsed": false,
    "scrolled": true
   },
   "outputs": [],
   "source": [
    "chrome = Chrome()"
   ]
  },
  {
   "cell_type": "markdown",
   "metadata": {},
   "source": [
    "## get"
   ]
  },
  {
   "cell_type": "code",
   "execution_count": 9,
   "metadata": {
    "collapsed": true
   },
   "outputs": [],
   "source": [
    "chrome.get('http://cartoon.media.daum.net')"
   ]
  },
  {
   "cell_type": "markdown",
   "metadata": {},
   "source": [
    "## find_element"
   ]
  },
  {
   "cell_type": "code",
   "execution_count": 10,
   "metadata": {
    "collapsed": false
   },
   "outputs": [
    {
     "data": {
      "text/plain": [
       "<selenium.webdriver.remote.webelement.WebElement (session=\"e595556ee98caee16167c370cd868fe1\", element=\"0.8313786538864174-18\")>"
      ]
     },
     "execution_count": 11,
     "metadata": {},
     "output_type": "execute_result"
    }
   ],
   "source": [
    "chrome.find_element_by_xpath('.//ul[@class=\"list_wt\"]//a[@class=\"link_wt\"]')"
   ]
  },
  {
   "cell_type": "markdown",
   "metadata": {},
   "source": [
    "## find_element<span style=\"color: red\">s</span>"
   ]
  },
  {
   "cell_type": "code",
   "execution_count": 12,
   "metadata": {
    "collapsed": false
   },
   "outputs": [
    {
     "name": "stdout",
     "output_type": "stream",
     "text": [
      "성인김탐정 사용설명서\n",
      "http://cartoon.media.daum.net/webtoon/view/KimsReport\n",
      "퀴퀴한 일기\n",
      "http://cartoon.media.daum.net/webtoon/view/ficnonfic\n",
      "19세기말 비망록\n",
      "http://cartoon.media.daum.net/webtoon/view/memorandom\n",
      "트리니티 원더\n",
      "http://cartoon.media.daum.net/webtoon/view/TrinityWonder\n",
      "뷰티풀 라이어\n",
      "http://cartoon.media.daum.net/webtoon/view/beautiful_liar\n",
      "주간소년열애사\n",
      "http://cartoon.media.daum.net/webtoon/view/weeklyboys\n",
      "혼자를 기르는 법\n",
      "http://cartoon.media.daum.net/webtoon/view/selfgrow\n",
      "공방의 마녀\n",
      "http://cartoon.media.daum.net/webtoon/view/witch\n",
      "아시안 하이웨이\n",
      "http://cartoon.media.daum.net/webtoon/view/AsianHighway\n",
      "회색 방, 소녀\n",
      "http://cartoon.media.daum.net/webtoon/view/grayroom\n",
      "멈춰있는 동안에\n",
      "http://cartoon.media.daum.net/webtoon/view/stop\n",
      "첫사랑은 죽었다\n",
      "http://cartoon.media.daum.net/webtoon/view/love_dead\n",
      "못 잡아먹어 안달\n",
      "http://cartoon.media.daum.net/webtoon/view/twins\n",
      "술꾼도시처녀들\n",
      "http://cartoon.media.daum.net/webtoon/view/sooldogirl\n",
      "풍뎅이뎅이\n",
      "http://cartoon.media.daum.net/webtoon/view/mimelasplendens\n",
      "미생\n",
      "http://cartoon.media.daum.net/webtoon/view/miseng\n",
      "어쿠스틱 라이프\n",
      "http://cartoon.media.daum.net/webtoon/view/acoustic\n"
     ]
    }
   ],
   "source": [
    "for element in chrome.find_elements_by_xpath('.//ul[@class=\"list_wt\"]//a[@class=\"link_wt\"]'):\n",
    "    print(element.find_element_by_tag_name('strong').text)\n",
    "    print(element.get_attribute('href'))"
   ]
  },
  {
   "cell_type": "markdown",
   "metadata": {},
   "source": [
    "## click"
   ]
  },
  {
   "cell_type": "code",
   "execution_count": 13,
   "metadata": {
    "collapsed": false
   },
   "outputs": [],
   "source": [
    "monday_tab = chrome.find_element_by_xpath('.//a[@data-day=\"mon\"]')"
   ]
  },
  {
   "cell_type": "code",
   "execution_count": 14,
   "metadata": {
    "collapsed": true
   },
   "outputs": [],
   "source": [
    "monday_tab.click()"
   ]
  },
  {
   "cell_type": "markdown",
   "metadata": {},
   "source": [
    "## wait"
   ]
  },
  {
   "cell_type": "markdown",
   "metadata": {},
   "source": [
    "find_element를 했을 때 페이지 로딩이 끝나지 않았으면 최대 10초까지 기다림"
   ]
  },
  {
   "cell_type": "code",
   "execution_count": 15,
   "metadata": {
    "collapsed": true
   },
   "outputs": [],
   "source": [
    "chrome.implicitly_wait(10)"
   ]
  },
  {
   "cell_type": "markdown",
   "metadata": {},
   "source": [
    "# 문서"
   ]
  },
  {
   "cell_type": "markdown",
   "metadata": {},
   "source": [
    "자세한 내용은 [Selenium Python](http://selenium-python.readthedocs.io/index.html) 문서를 참고"
   ]
  },
  {
   "cell_type": "markdown",
   "metadata": {},
   "source": [
    "# 사례"
   ]
  },
  {
   "cell_type": "markdown",
   "metadata": {},
   "source": [
    "## 다음 증권"
   ]
  },
  {
   "cell_type": "code",
   "execution_count": 3,
   "metadata": {
    "collapsed": true
   },
   "outputs": [],
   "source": [
    "chrome.get('http://finance.daum.net/item/bbs.daum?code=005930&viewObj=1:2:0')"
   ]
  },
  {
   "cell_type": "markdown",
   "metadata": {},
   "source": [
    "실제 게시판은 다른 주소. iframe으로 마치 현재 페이지에 있는 것처럼 보여주기 때문에 해당 iframe을 찾아 실제 주소를 찾아야함"
   ]
  },
  {
   "cell_type": "code",
   "execution_count": 9,
   "metadata": {
    "collapsed": false
   },
   "outputs": [],
   "source": [
    "iframe = chrome.find_element_by_id('gaiaBbs')"
   ]
  },
  {
   "cell_type": "code",
   "execution_count": 11,
   "metadata": {
    "collapsed": false
   },
   "outputs": [],
   "source": [
    "board_url = iframe.get_attribute('src')  # 실제 주소"
   ]
  },
  {
   "cell_type": "code",
   "execution_count": 12,
   "metadata": {
    "collapsed": true
   },
   "outputs": [],
   "source": [
    "chrome.get(board_url)  # 실제 주소로 이동"
   ]
  },
  {
   "cell_type": "code",
   "execution_count": 14,
   "metadata": {
    "collapsed": false
   },
   "outputs": [],
   "source": [
    "nav = chrome.find_element_by_xpath('.//div[@class=\"listPaging\"]//a')  # 다음 페이지"
   ]
  },
  {
   "cell_type": "code",
   "execution_count": 15,
   "metadata": {
    "collapsed": true
   },
   "outputs": [],
   "source": [
    "nav.click()  # 다음 페이지로 이동"
   ]
  },
  {
   "cell_type": "markdown",
   "metadata": {},
   "source": [
    "## 멜론"
   ]
  },
  {
   "cell_type": "code",
   "execution_count": 17,
   "metadata": {
    "collapsed": false
   },
   "outputs": [],
   "source": [
    "chrome.get('http://www.melon.com/chart/month/index.htm#params%5Bidx%5D=1&params%5BrankMonth%5D=201604&params%5BisFirstDate%5D=false&params%5BisLastDate%5D=true')"
   ]
  },
  {
   "cell_type": "code",
   "execution_count": 18,
   "metadata": {
    "collapsed": true
   },
   "outputs": [],
   "source": [
    "detail = chrome.find_element_by_class_name('btn_icon_detail')  # 곡 상세 정보 아이콘"
   ]
  },
  {
   "cell_type": "code",
   "execution_count": 19,
   "metadata": {
    "collapsed": true
   },
   "outputs": [],
   "source": [
    "detail.click()  # 곡 상세 정보로 이동"
   ]
  },
  {
   "cell_type": "markdown",
   "metadata": {},
   "source": [
    "## 네이버 카페"
   ]
  },
  {
   "cell_type": "code",
   "execution_count": 20,
   "metadata": {
    "collapsed": true
   },
   "outputs": [],
   "source": [
    "import requests"
   ]
  },
  {
   "cell_type": "code",
   "execution_count": 25,
   "metadata": {
    "collapsed": true
   },
   "outputs": [],
   "source": [
    "import lxml.html"
   ]
  },
  {
   "cell_type": "markdown",
   "metadata": {},
   "source": [
    "네이버 카페는 PC용 화면보다 모바일용 화면이 구조가 단순해서 스크래핑이 쉽습니다.\n",
    "\n",
    "모바일용 화면으로 접속하려면 카페 URL 앞에 m.을 붙이면 됩니다.\n",
    "\n",
    "예) http://m.cafe.naver.com/duoin"
   ]
  },
  {
   "cell_type": "code",
   "execution_count": 46,
   "metadata": {
    "collapsed": true
   },
   "outputs": [],
   "source": [
    "# 게시물의 모바일 화면용 URL\n",
    "article_url = 'http://cc.naver.com/cc?a=cfl.list&r=4&i=63190&m=1&nsc=Mcafe.all&u=http%3A%2F%2Fm.cafe.naver.com%2FArticleRead.nhn%3Fclubid%3D19773565%26articleid%3D63190%26page%3D1%26boardtype%3DL%26menuid%3D101'"
   ]
  },
  {
   "cell_type": "markdown",
   "metadata": {},
   "source": [
    "### 일반적인 방법\n",
    "\n",
    "일반적인 방법으로 접근하면 본문을 가져올 수 없습니다"
   ]
  },
  {
   "cell_type": "code",
   "execution_count": 58,
   "metadata": {
    "collapsed": false
   },
   "outputs": [
    {
     "data": {
      "text/plain": [
       "[]"
      ]
     },
     "execution_count": 58,
     "metadata": {},
     "output_type": "execute_result"
    }
   ],
   "source": [
    "res = requests.get(article_url)\n",
    "element = lxml.html.fromstring(res.text)\n",
    "element.xpath('.//div[@id=\"postContent\"]')"
   ]
  },
  {
   "cell_type": "markdown",
   "metadata": {},
   "source": [
    "### 검색을 가장하기\n",
    "\n",
    "검색 결과 페이지에서 해당 게시물에 접근하는 것처럼 가장하면 본문을 보여줍니다."
   ]
  },
  {
   "cell_type": "code",
   "execution_count": 54,
   "metadata": {
    "collapsed": true
   },
   "outputs": [],
   "source": [
    "res = requests.get(article_url,\n",
    "                   headers={'referer': 'https://search.naver.com/search.naver?query=1'})"
   ]
  },
  {
   "cell_type": "code",
   "execution_count": 55,
   "metadata": {
    "collapsed": false
   },
   "outputs": [
    {
     "data": {
      "text/plain": [
       "[<Element div at 0x2271d266598>]"
      ]
     },
     "execution_count": 55,
     "metadata": {},
     "output_type": "execute_result"
    }
   ],
   "source": [
    "element = lxml.html.fromstring(res.text)\n",
    "element.xpath('.//div[@id=\"postContent\"]')"
   ]
  },
  {
   "cell_type": "code",
   "execution_count": 57,
   "metadata": {
    "collapsed": false
   },
   "outputs": [
    {
     "data": {
      "text/plain": [
       "'\\n\\n\\t\\t \\n\\t\\t \\n\\t     \\n\\t\\n\\t\\t\\n\\t\\t\\n\\t\\t\\n\\t\\t\\t\\n\\t\\t\\t\\n\\t\\t\\t\\t\\n\\t\\t\\t\\t\\t\\n\\t\\t\\t\\t\\t\\n\\t\\t\\t\\t\\t\\n\\t\\t\\t\\t\\t본인이 사용하고 있는 의자에 대한 이야기를 작성해 주시는 곳입니다.\\xa0\\xa0브랜드, 비브랜드 어떤 의자이든\\xa0장점, 단점, 사연등 다양한 이야기를 회원분들과 나눠 보세요~~\\xa0\\xa0\\xa01.\\xa0사\\xa0용 모 델 : 듀오백 알파\\xa0100M\\xa02.\\xa0구\\xa0입\\xa0일\\xa0자 :2016년 2월\\xa0\\xa03.\\xa0구\\xa0\\xa0 입\\xa0 처 : 예) G마켓\\xa04.\\xa0사\\xa0용\\xa0용\\xa0도 : 공부방용\\xa05.\\xa0사\\xa0용\\xa0연\\xa0령 :\\xa0예) 20대\\xa06.\\xa0키 / 몸무게\\xa0: 예) 173/68\\xa07.\\xa0내\\xa0\\xa0\\xa0\\xa0\\xa0\\xa0\\xa0\\xa0 용 :\\xa0\\xa0사용하면서 느끼셨던 장점, 단점, 건의 사항등을 자유롭게 적어 주시면 됩니다.\\xa0아뿔싸... 작년 11월에 tx200hf를 샀다가 굉장히 후회했죠.. 의자가 너무 저한테 안맞더라는..\\xa0차라리 사무실에서쓰는 나무로 만든 싸구려 3만원짜리가 더 편한거 같습니다.\\xa0그래서 올해 2월에 듀오백 알파 100m을 샀는데.. 이것도 마찬가지로 저한테 안맞더라구요 에휴.. 미치겠습니다.\\xa0자세히 보니까 저는 좌판이 듀오백 알파처럼 안쪽이 들어가있는 좌판이 불편하더라구요.. 평평한 좌판이 있는 의자면 더 편했을텐데.. 차라리 100s를 살걸 엄청후회했습니다. 지역이 강원도인지라 택배 보내기고 어떻게 보낼수도 없고.. 어휴\\xa0의자 뭘 써야하는게 좋을까요 고민입니다. 책상에 10시간은 앉아있는데..\\xa0어쩌다보니 고민상담이 되버렸네요 ㅎㅎ; 하여튼 저처럼 의자에 앉았을때 소화가 제대로 안되는 느낌이 나면 정말 힘들거라고 생각합니다..\\n\\t\\t\\t\\t\\t\\n\\t\\t\\t\\t\\t\\n\\t\\t\\t\\t\\n\\t\\t\\t\\n\\t\\t\\t\\t\\n\\t\\t\\n\\t\\t\\n\\t'"
      ]
     },
     "execution_count": 57,
     "metadata": {},
     "output_type": "execute_result"
    }
   ],
   "source": [
    "element.find('.//div[@id=\"postContent\"]').text_content()"
   ]
  }
 ],
 "metadata": {
  "kernelspec": {
   "display_name": "Python 3",
   "language": "python",
   "name": "python3"
  },
  "language_info": {
   "codemirror_mode": {
    "name": "ipython",
    "version": 3
   },
   "file_extension": ".py",
   "mimetype": "text/x-python",
   "name": "python",
   "nbconvert_exporter": "python",
   "pygments_lexer": "ipython3",
   "version": "3.5.1"
  }
 },
 "nbformat": 4,
 "nbformat_minor": 0
}
