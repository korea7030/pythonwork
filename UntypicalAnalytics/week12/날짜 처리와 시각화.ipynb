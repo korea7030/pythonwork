{
 "cells": [
  {
   "cell_type": "markdown",
   "metadata": {},
   "source": [
    "# 2015년 한국일보에서 '아이스크림'이 들어간 기사 검색"
   ]
  },
  {
   "cell_type": "code",
   "execution_count": 1,
   "metadata": {
    "collapsed": true
   },
   "outputs": [],
   "source": [
    "import requests"
   ]
  },
  {
   "cell_type": "code",
   "execution_count": 2,
   "metadata": {
    "collapsed": true
   },
   "outputs": [],
   "source": [
    "import lxml.html"
   ]
  },
  {
   "cell_type": "code",
   "execution_count": 3,
   "metadata": {
    "collapsed": true
   },
   "outputs": [],
   "source": [
    "url = 'http://news.naver.com/main/search/search.nhn?query=%BE%C6%C0%CC%BD%BA%C5%A9%B8%B2&st=news.all&q_enc=EUC-KR&r_enc=UTF-8&r_format=xml&rp=none&sm=all.basic&ic=all&so=datetime.dsc&rcnews=exist:038:469:&rcsection=exist:&stDate=range:20150101:20151231&detail=1&pd=4&start=126&display=25&startDate=2015-01-01&endDate=2015-12-31&page={}'"
   ]
  },
  {
   "cell_type": "code",
   "execution_count": 4,
   "metadata": {
    "collapsed": false
   },
   "outputs": [
    {
     "data": {
      "text/plain": [
       "'http://news.naver.com/main/search/search.nhn?query=%BE%C6%C0%CC%BD%BA%C5%A9%B8%B2&st=news.all&q_enc=EUC-KR&r_enc=UTF-8&r_format=xml&rp=none&sm=all.basic&ic=all&so=datetime.dsc&rcnews=exist:038:469:&rcsection=exist:&stDate=range:20150101:20151231&detail=1&pd=4&start=126&display=25&startDate=2015-01-01&endDate=2015-12-31&page={}'"
      ]
     },
     "execution_count": 4,
     "metadata": {},
     "output_type": "execute_result"
    }
   ],
   "source": [
    "url"
   ]
  },
  {
   "cell_type": "code",
   "execution_count": 5,
   "metadata": {
    "collapsed": true
   },
   "outputs": [],
   "source": [
    "articles = []\n",
    "for page in range(1, 22):\n",
    "    res = requests.get(url.format(page))\n",
    "    element = lxml.html.fromstring(res.content)\n",
    "    for article in element.xpath('.//div[@class=\"ct\"]'):\n",
    "        articles.append([\n",
    "                article.find('.//a[@class=\"tit\"]').text,\n",
    "                article.find('.//span[@class=\"time\"]').text\n",
    "            ])"
   ]
  },
  {
   "cell_type": "markdown",
   "metadata": {},
   "source": [
    "# CSV 파일로 저장"
   ]
  },
  {
   "cell_type": "code",
   "execution_count": 6,
   "metadata": {
    "collapsed": true
   },
   "outputs": [],
   "source": [
    "import csv"
   ]
  },
  {
   "cell_type": "code",
   "execution_count": 7,
   "metadata": {
    "collapsed": false
   },
   "outputs": [],
   "source": [
    "with open('icecream.csv', 'w', encoding='utf8') as f:\n",
    "    writer = csv.writer(f)\n",
    "    writer.writerows(articles)"
   ]
  },
  {
   "cell_type": "markdown",
   "metadata": {},
   "source": [
    "# CSV 파일 불러오기"
   ]
  },
  {
   "cell_type": "code",
   "execution_count": 8,
   "metadata": {
    "collapsed": false
   },
   "outputs": [],
   "source": [
    "import csv"
   ]
  },
  {
   "cell_type": "code",
   "execution_count": 13,
   "metadata": {
    "collapsed": false
   },
   "outputs": [],
   "source": [
    "with open('icecream.csv', encoding='utf8', newline='\\r\\n') as f:\n",
    "    reader = csv.reader(f)\n",
    "    articles = list(reader)"
   ]
  },
  {
   "cell_type": "code",
   "execution_count": 14,
   "metadata": {
    "collapsed": false
   },
   "outputs": [
    {
     "data": {
      "text/plain": [
       "[['[신춘문예 동화 당선작] ‘401호 욕할매’', '2015.12.31'],\n",
       " [\"레드벨벳, 롤링스톤지 올해의 MV 톱10 선정 '아시아 유일'\", '2015.12.25'],\n",
       " ['스타워즈 마케팅, 잠자던 소비의식 깨웠다고 전해라', '2015.12.22'],\n",
       " ['작은 사치로 큰 행복… 고급 디저트, 마트서도 인기', '2015.12.20'],\n",
       " ['\\'프로듀스 101\\' 장근석, 섹시한 입술로 \"키스해~주세요~\"', '2015.12.18']]"
      ]
     },
     "execution_count": 14,
     "metadata": {},
     "output_type": "execute_result"
    }
   ],
   "source": [
    "articles[:5]"
   ]
  },
  {
   "cell_type": "markdown",
   "metadata": {},
   "source": [
    "# 날짜 읽기"
   ]
  },
  {
   "cell_type": "markdown",
   "metadata": {},
   "source": [
    "## dateutil 사용하는 방법"
   ]
  },
  {
   "cell_type": "markdown",
   "metadata": {},
   "source": [
    "`pip install python-dateutil`로 설치"
   ]
  },
  {
   "cell_type": "code",
   "execution_count": 15,
   "metadata": {
    "collapsed": false
   },
   "outputs": [],
   "source": [
    "from dateutil.parser import parse"
   ]
  },
  {
   "cell_type": "code",
   "execution_count": 16,
   "metadata": {
    "collapsed": false
   },
   "outputs": [
    {
     "data": {
      "text/plain": [
       "datetime.datetime(2016, 6, 4, 0, 0)"
      ]
     },
     "execution_count": 16,
     "metadata": {},
     "output_type": "execute_result"
    }
   ],
   "source": [
    "parse('2016-06-04')"
   ]
  },
  {
   "cell_type": "code",
   "execution_count": 17,
   "metadata": {
    "collapsed": false
   },
   "outputs": [
    {
     "data": {
      "text/plain": [
       "datetime.datetime(2016, 6, 4, 2, 29)"
      ]
     },
     "execution_count": 17,
     "metadata": {},
     "output_type": "execute_result"
    }
   ],
   "source": [
    "parse('2016-06-04 2:29')"
   ]
  },
  {
   "cell_type": "code",
   "execution_count": 18,
   "metadata": {
    "collapsed": false
   },
   "outputs": [
    {
     "data": {
      "text/plain": [
       "datetime.datetime(2015, 12, 31, 0, 0)"
      ]
     },
     "execution_count": 18,
     "metadata": {},
     "output_type": "execute_result"
    }
   ],
   "source": [
    "parse(articles[0][1])"
   ]
  },
  {
   "cell_type": "markdown",
   "metadata": {},
   "source": [
    "## strptime을 사용하는 방법"
   ]
  },
  {
   "cell_type": "code",
   "execution_count": 19,
   "metadata": {
    "collapsed": true
   },
   "outputs": [],
   "source": [
    "from datetime import datetime"
   ]
  },
  {
   "cell_type": "code",
   "execution_count": 20,
   "metadata": {
    "collapsed": false
   },
   "outputs": [
    {
     "data": {
      "text/plain": [
       "datetime.datetime(2016, 6, 4, 2, 29)"
      ]
     },
     "execution_count": 20,
     "metadata": {},
     "output_type": "execute_result"
    }
   ],
   "source": [
    "datetime.strptime('2016-06-04 02:29', '%Y-%m-%d %H:%M')"
   ]
  },
  {
   "cell_type": "code",
   "execution_count": 21,
   "metadata": {
    "collapsed": false
   },
   "outputs": [
    {
     "data": {
      "text/plain": [
       "datetime.datetime(2016, 6, 4, 0, 0)"
      ]
     },
     "execution_count": 21,
     "metadata": {},
     "output_type": "execute_result"
    }
   ],
   "source": [
    "datetime.strptime('2016-06-04', '%Y-%m-%d')"
   ]
  },
  {
   "cell_type": "code",
   "execution_count": 22,
   "metadata": {
    "collapsed": false
   },
   "outputs": [
    {
     "data": {
      "text/plain": [
       "datetime.datetime(2016, 6, 4, 0, 0)"
      ]
     },
     "execution_count": 22,
     "metadata": {},
     "output_type": "execute_result"
    }
   ],
   "source": [
    "datetime.strptime('2016년 6월 4일', '%Y년 %m월 %d일')"
   ]
  },
  {
   "cell_type": "markdown",
   "metadata": {},
   "source": [
    "## datetime에서 date로 변환"
   ]
  },
  {
   "cell_type": "code",
   "execution_count": 23,
   "metadata": {
    "collapsed": false
   },
   "outputs": [
    {
     "data": {
      "text/plain": [
       "datetime.date(2015, 12, 31)"
      ]
     },
     "execution_count": 23,
     "metadata": {},
     "output_type": "execute_result"
    }
   ],
   "source": [
    "parse(articles[0][1]).date()"
   ]
  },
  {
   "cell_type": "code",
   "execution_count": 24,
   "metadata": {
    "collapsed": true
   },
   "outputs": [],
   "source": [
    "for article in articles:\n",
    "    article[1] = parse(article[1]).date()"
   ]
  },
  {
   "cell_type": "code",
   "execution_count": 25,
   "metadata": {
    "collapsed": false
   },
   "outputs": [
    {
     "data": {
      "text/plain": [
       "[['[신춘문예 동화 당선작] ‘401호 욕할매’', datetime.date(2015, 12, 31)],\n",
       " [\"레드벨벳, 롤링스톤지 올해의 MV 톱10 선정 '아시아 유일'\", datetime.date(2015, 12, 25)],\n",
       " ['스타워즈 마케팅, 잠자던 소비의식 깨웠다고 전해라', datetime.date(2015, 12, 22)],\n",
       " ['작은 사치로 큰 행복… 고급 디저트, 마트서도 인기', datetime.date(2015, 12, 20)],\n",
       " ['\\'프로듀스 101\\' 장근석, 섹시한 입술로 \"키스해~주세요~\"', datetime.date(2015, 12, 18)]]"
      ]
     },
     "execution_count": 25,
     "metadata": {},
     "output_type": "execute_result"
    }
   ],
   "source": [
    "articles[:5]"
   ]
  },
  {
   "cell_type": "markdown",
   "metadata": {},
   "source": [
    "# pandas를 이용해 날짜별 그룹화"
   ]
  },
  {
   "cell_type": "markdown",
   "metadata": {},
   "source": [
    "[pandas 문서](http://pandas.pydata.org/pandas-docs/stable/index.html)\n",
    "\n",
    "[groupby 사용법](http://pandas.pydata.org/pandas-docs/stable/groupby.html)"
   ]
  },
  {
   "cell_type": "code",
   "execution_count": 26,
   "metadata": {
    "collapsed": true
   },
   "outputs": [],
   "source": [
    "import pandas"
   ]
  },
  {
   "cell_type": "code",
   "execution_count": 27,
   "metadata": {
    "collapsed": false
   },
   "outputs": [],
   "source": [
    "df = pandas.DataFrame(articles, columns=['title', 'date'])"
   ]
  },
  {
   "cell_type": "code",
   "execution_count": 28,
   "metadata": {
    "collapsed": false
   },
   "outputs": [
    {
     "data": {
      "text/html": [
       "<div>\n",
       "<table border=\"1\" class=\"dataframe\">\n",
       "  <thead>\n",
       "    <tr style=\"text-align: right;\">\n",
       "      <th></th>\n",
       "      <th>title</th>\n",
       "      <th>date</th>\n",
       "    </tr>\n",
       "  </thead>\n",
       "  <tbody>\n",
       "    <tr>\n",
       "      <th>0</th>\n",
       "      <td>[신춘문예 동화 당선작] ‘401호 욕할매’</td>\n",
       "      <td>2015-12-31</td>\n",
       "    </tr>\n",
       "    <tr>\n",
       "      <th>1</th>\n",
       "      <td>레드벨벳, 롤링스톤지 올해의 MV 톱10 선정 '아시아 유일'</td>\n",
       "      <td>2015-12-25</td>\n",
       "    </tr>\n",
       "    <tr>\n",
       "      <th>2</th>\n",
       "      <td>스타워즈 마케팅, 잠자던 소비의식 깨웠다고 전해라</td>\n",
       "      <td>2015-12-22</td>\n",
       "    </tr>\n",
       "    <tr>\n",
       "      <th>3</th>\n",
       "      <td>작은 사치로 큰 행복… 고급 디저트, 마트서도 인기</td>\n",
       "      <td>2015-12-20</td>\n",
       "    </tr>\n",
       "    <tr>\n",
       "      <th>4</th>\n",
       "      <td>'프로듀스 101' 장근석, 섹시한 입술로 \"키스해~주세요~\"</td>\n",
       "      <td>2015-12-18</td>\n",
       "    </tr>\n",
       "    <tr>\n",
       "      <th>5</th>\n",
       "      <td>AOA 초아, 혼자서도 충분한 음원 파워</td>\n",
       "      <td>2015-12-17</td>\n",
       "    </tr>\n",
       "    <tr>\n",
       "      <th>6</th>\n",
       "      <td>석유시설 공습에도… IS, 세금 약탈로 지하드 경제 유지</td>\n",
       "      <td>2015-12-15</td>\n",
       "    </tr>\n",
       "    <tr>\n",
       "      <th>7</th>\n",
       "      <td>'마녀의 성' 이해인, 귀여운</td>\n",
       "      <td>2015-12-15</td>\n",
       "    </tr>\n",
       "    <tr>\n",
       "      <th>8</th>\n",
       "      <td>한국 과자ㆍ음료…중국에서 '제2전성기'</td>\n",
       "      <td>2015-12-13</td>\n",
       "    </tr>\n",
       "    <tr>\n",
       "      <th>9</th>\n",
       "      <td>왕년의 음료·과자, 중국선 ‘제2 전성기’</td>\n",
       "      <td>2015-12-13</td>\n",
       "    </tr>\n",
       "    <tr>\n",
       "      <th>10</th>\n",
       "      <td>바삭달콤 ‘오레오 아포가토’ 만들기</td>\n",
       "      <td>2015-12-09</td>\n",
       "    </tr>\n",
       "    <tr>\n",
       "      <th>11</th>\n",
       "      <td>드라마도, 광고도 '백투더 1988'… 류준열-혜리, 과거 CF 리메이크</td>\n",
       "      <td>2015-12-07</td>\n",
       "    </tr>\n",
       "    <tr>\n",
       "      <th>12</th>\n",
       "      <td>“군민이 행복한 살 맛나는 고성 만들터”</td>\n",
       "      <td>2015-12-06</td>\n",
       "    </tr>\n",
       "    <tr>\n",
       "      <th>13</th>\n",
       "      <td>[뒤끝뉴스] ‘DMZ 애착’ 원혜영 의원의 꿈</td>\n",
       "      <td>2015-12-01</td>\n",
       "    </tr>\n",
       "    <tr>\n",
       "      <th>14</th>\n",
       "      <td>[신상품] 파리바게뜨 '데일리주스' 2종 外</td>\n",
       "      <td>2015-11-30</td>\n",
       "    </tr>\n",
       "    <tr>\n",
       "      <th>15</th>\n",
       "      <td>이휘재 아들 서언·서준이 반한 정시아 딸 '백서우'</td>\n",
       "      <td>2015-11-30</td>\n",
       "    </tr>\n",
       "    <tr>\n",
       "      <th>16</th>\n",
       "      <td>'슈퍼맨이 돌아왔다' 정시아 딸 서우, 인형미모 눈길</td>\n",
       "      <td>2015-11-30</td>\n",
       "    </tr>\n",
       "    <tr>\n",
       "      <th>17</th>\n",
       "      <td>'응답하라 1988' 진주, 한 겨울 추위도 녹인 순수함</td>\n",
       "      <td>2015-11-27</td>\n",
       "    </tr>\n",
       "    <tr>\n",
       "      <th>18</th>\n",
       "      <td>생명의 자각… 참다운 삶… 품격 있는 헤어짐을 희망하며</td>\n",
       "      <td>2015-11-27</td>\n",
       "    </tr>\n",
       "    <tr>\n",
       "      <th>19</th>\n",
       "      <td>‘응팔’ 덕분에… 반갑구만, 반갑습니다</td>\n",
       "      <td>2015-11-27</td>\n",
       "    </tr>\n",
       "    <tr>\n",
       "      <th>20</th>\n",
       "      <td>시청자가 뽑는다… 'JTBC 어워드 2015' 온라인 투표 진행</td>\n",
       "      <td>2015-11-26</td>\n",
       "    </tr>\n",
       "    <tr>\n",
       "      <th>21</th>\n",
       "      <td>연극 ‘쥐덫’이 63년 전 초연되다</td>\n",
       "      <td>2015-11-25</td>\n",
       "    </tr>\n",
       "    <tr>\n",
       "      <th>22</th>\n",
       "      <td>“단맛은 중독된다” WHO, 당분과의 전쟁 선포</td>\n",
       "      <td>2015-11-23</td>\n",
       "    </tr>\n",
       "    <tr>\n",
       "      <th>23</th>\n",
       "      <td>키친보리에 / 50년 전통 ‘대도식당’ 직영화, ‘핑거스앤챗’ 등 외식사업 영토 확장</td>\n",
       "      <td>2015-11-19</td>\n",
       "    </tr>\n",
       "    <tr>\n",
       "      <th>24</th>\n",
       "      <td>삼익유가공 / 영양 풍부한 유청 국산화, 유가공산업 발전 큰 기여</td>\n",
       "      <td>2015-11-19</td>\n",
       "    </tr>\n",
       "    <tr>\n",
       "      <th>25</th>\n",
       "      <td>'비정상회담' 은지원, 나이 많은 팬이 새벽에 찾아와...경악</td>\n",
       "      <td>2015-11-17</td>\n",
       "    </tr>\n",
       "    <tr>\n",
       "      <th>26</th>\n",
       "      <td>'오 마이 비너스' 신민아, 정겨운과 첫 만남 \"</td>\n",
       "      <td>2015-11-16</td>\n",
       "    </tr>\n",
       "    <tr>\n",
       "      <th>27</th>\n",
       "      <td>'친구엄마' 공자관 감독 \"친구엄마와의 로맨스는 남자 판타지\"</td>\n",
       "      <td>2015-11-16</td>\n",
       "    </tr>\n",
       "    <tr>\n",
       "      <th>28</th>\n",
       "      <td>유럽서 물보다 싼 우유… 리터당 1달러 ‘소가 울 판’</td>\n",
       "      <td>2015-11-14</td>\n",
       "    </tr>\n",
       "    <tr>\n",
       "      <th>29</th>\n",
       "      <td>롯데푸드, '이츠 케이크' 출시</td>\n",
       "      <td>2015-11-05</td>\n",
       "    </tr>\n",
       "    <tr>\n",
       "      <th>...</th>\n",
       "      <td>...</td>\n",
       "      <td>...</td>\n",
       "    </tr>\n",
       "    <tr>\n",
       "      <th>274</th>\n",
       "      <td>[뷰티한국]리츠칼튼 서울, '고품격 딸기 디저트 이젠 호텔에서 즐기자'</td>\n",
       "      <td>2015-01-08</td>\n",
       "    </tr>\n",
       "    <tr>\n",
       "      <th>275</th>\n",
       "      <td>기름기로 체중감량? '지방 다이어트' 효과 있을까</td>\n",
       "      <td>2015-01-08</td>\n",
       "    </tr>\n",
       "    <tr>\n",
       "      <th>276</th>\n",
       "      <td>겨울에 먹는</td>\n",
       "      <td>2015-01-07</td>\n",
       "    </tr>\n",
       "    <tr>\n",
       "      <th>277</th>\n",
       "      <td>아이더, 2015년 신년맞이 고객감사 페스티벌 진행 外</td>\n",
       "      <td>2015-01-05</td>\n",
       "    </tr>\n",
       "    <tr>\n",
       "      <th>278</th>\n",
       "      <td>던킨도너츠, ‘해피뉴이어’ 프로모션 진행 外</td>\n",
       "      <td>2015-01-04</td>\n",
       "    </tr>\n",
       "    <tr>\n",
       "      <th>279</th>\n",
       "      <td>[뷰티한국]새해와 함께 찾아온 다양한 이벤트들</td>\n",
       "      <td>2015-01-03</td>\n",
       "    </tr>\n",
       "    <tr>\n",
       "      <th>280</th>\n",
       "      <td>서울랜드, 안성팜랜드와 MOU체결 外</td>\n",
       "      <td>2015-01-12</td>\n",
       "    </tr>\n",
       "    <tr>\n",
       "      <th>281</th>\n",
       "      <td>롯데리아, 라면버거 출시 3일만에 18만개 판매 돌파 外</td>\n",
       "      <td>2015-01-11</td>\n",
       "    </tr>\n",
       "    <tr>\n",
       "      <th>282</th>\n",
       "      <td>[뷰티한국]리츠칼튼 서울, '고품격 딸기 디저트 이젠 호텔에서 즐기자'</td>\n",
       "      <td>2015-01-08</td>\n",
       "    </tr>\n",
       "    <tr>\n",
       "      <th>283</th>\n",
       "      <td>기름기로 체중감량? '지방 다이어트' 효과 있을까</td>\n",
       "      <td>2015-01-08</td>\n",
       "    </tr>\n",
       "    <tr>\n",
       "      <th>284</th>\n",
       "      <td>겨울에 먹는</td>\n",
       "      <td>2015-01-07</td>\n",
       "    </tr>\n",
       "    <tr>\n",
       "      <th>285</th>\n",
       "      <td>아이더, 2015년 신년맞이 고객감사 페스티벌 진행 外</td>\n",
       "      <td>2015-01-05</td>\n",
       "    </tr>\n",
       "    <tr>\n",
       "      <th>286</th>\n",
       "      <td>던킨도너츠, ‘해피뉴이어’ 프로모션 진행 外</td>\n",
       "      <td>2015-01-04</td>\n",
       "    </tr>\n",
       "    <tr>\n",
       "      <th>287</th>\n",
       "      <td>[뷰티한국]새해와 함께 찾아온 다양한 이벤트들</td>\n",
       "      <td>2015-01-03</td>\n",
       "    </tr>\n",
       "    <tr>\n",
       "      <th>288</th>\n",
       "      <td>서울랜드, 안성팜랜드와 MOU체결 外</td>\n",
       "      <td>2015-01-12</td>\n",
       "    </tr>\n",
       "    <tr>\n",
       "      <th>289</th>\n",
       "      <td>롯데리아, 라면버거 출시 3일만에 18만개 판매 돌파 外</td>\n",
       "      <td>2015-01-11</td>\n",
       "    </tr>\n",
       "    <tr>\n",
       "      <th>290</th>\n",
       "      <td>[뷰티한국]리츠칼튼 서울, '고품격 딸기 디저트 이젠 호텔에서 즐기자'</td>\n",
       "      <td>2015-01-08</td>\n",
       "    </tr>\n",
       "    <tr>\n",
       "      <th>291</th>\n",
       "      <td>기름기로 체중감량? '지방 다이어트' 효과 있을까</td>\n",
       "      <td>2015-01-08</td>\n",
       "    </tr>\n",
       "    <tr>\n",
       "      <th>292</th>\n",
       "      <td>겨울에 먹는</td>\n",
       "      <td>2015-01-07</td>\n",
       "    </tr>\n",
       "    <tr>\n",
       "      <th>293</th>\n",
       "      <td>아이더, 2015년 신년맞이 고객감사 페스티벌 진행 外</td>\n",
       "      <td>2015-01-05</td>\n",
       "    </tr>\n",
       "    <tr>\n",
       "      <th>294</th>\n",
       "      <td>던킨도너츠, ‘해피뉴이어’ 프로모션 진행 外</td>\n",
       "      <td>2015-01-04</td>\n",
       "    </tr>\n",
       "    <tr>\n",
       "      <th>295</th>\n",
       "      <td>[뷰티한국]새해와 함께 찾아온 다양한 이벤트들</td>\n",
       "      <td>2015-01-03</td>\n",
       "    </tr>\n",
       "    <tr>\n",
       "      <th>296</th>\n",
       "      <td>서울랜드, 안성팜랜드와 MOU체결 外</td>\n",
       "      <td>2015-01-12</td>\n",
       "    </tr>\n",
       "    <tr>\n",
       "      <th>297</th>\n",
       "      <td>롯데리아, 라면버거 출시 3일만에 18만개 판매 돌파 外</td>\n",
       "      <td>2015-01-11</td>\n",
       "    </tr>\n",
       "    <tr>\n",
       "      <th>298</th>\n",
       "      <td>[뷰티한국]리츠칼튼 서울, '고품격 딸기 디저트 이젠 호텔에서 즐기자'</td>\n",
       "      <td>2015-01-08</td>\n",
       "    </tr>\n",
       "    <tr>\n",
       "      <th>299</th>\n",
       "      <td>기름기로 체중감량? '지방 다이어트' 효과 있을까</td>\n",
       "      <td>2015-01-08</td>\n",
       "    </tr>\n",
       "    <tr>\n",
       "      <th>300</th>\n",
       "      <td>겨울에 먹는</td>\n",
       "      <td>2015-01-07</td>\n",
       "    </tr>\n",
       "    <tr>\n",
       "      <th>301</th>\n",
       "      <td>아이더, 2015년 신년맞이 고객감사 페스티벌 진행 外</td>\n",
       "      <td>2015-01-05</td>\n",
       "    </tr>\n",
       "    <tr>\n",
       "      <th>302</th>\n",
       "      <td>던킨도너츠, ‘해피뉴이어’ 프로모션 진행 外</td>\n",
       "      <td>2015-01-04</td>\n",
       "    </tr>\n",
       "    <tr>\n",
       "      <th>303</th>\n",
       "      <td>[뷰티한국]새해와 함께 찾아온 다양한 이벤트들</td>\n",
       "      <td>2015-01-03</td>\n",
       "    </tr>\n",
       "  </tbody>\n",
       "</table>\n",
       "<p>304 rows × 2 columns</p>\n",
       "</div>"
      ],
      "text/plain": [
       "                                               title        date\n",
       "0                           [신춘문예 동화 당선작] ‘401호 욕할매’  2015-12-31\n",
       "1                 레드벨벳, 롤링스톤지 올해의 MV 톱10 선정 '아시아 유일'  2015-12-25\n",
       "2                        스타워즈 마케팅, 잠자던 소비의식 깨웠다고 전해라  2015-12-22\n",
       "3                       작은 사치로 큰 행복… 고급 디저트, 마트서도 인기  2015-12-20\n",
       "4                 '프로듀스 101' 장근석, 섹시한 입술로 \"키스해~주세요~\"  2015-12-18\n",
       "5                             AOA 초아, 혼자서도 충분한 음원 파워  2015-12-17\n",
       "6                    석유시설 공습에도… IS, 세금 약탈로 지하드 경제 유지  2015-12-15\n",
       "7                                  '마녀의 성' 이해인, 귀여운   2015-12-15\n",
       "8                              한국 과자ㆍ음료…중국에서 '제2전성기'  2015-12-13\n",
       "9                            왕년의 음료·과자, 중국선 ‘제2 전성기’  2015-12-13\n",
       "10                               바삭달콤 ‘오레오 아포가토’ 만들기  2015-12-09\n",
       "11          드라마도, 광고도 '백투더 1988'… 류준열-혜리, 과거 CF 리메이크  2015-12-07\n",
       "12                            “군민이 행복한 살 맛나는 고성 만들터”  2015-12-06\n",
       "13                         [뒤끝뉴스] ‘DMZ 애착’ 원혜영 의원의 꿈  2015-12-01\n",
       "14                          [신상품] 파리바게뜨 '데일리주스' 2종 外  2015-11-30\n",
       "15                      이휘재 아들 서언·서준이 반한 정시아 딸 '백서우'  2015-11-30\n",
       "16                     '슈퍼맨이 돌아왔다' 정시아 딸 서우, 인형미모 눈길  2015-11-30\n",
       "17                   '응답하라 1988' 진주, 한 겨울 추위도 녹인 순수함  2015-11-27\n",
       "18                    생명의 자각… 참다운 삶… 품격 있는 헤어짐을 희망하며  2015-11-27\n",
       "19                             ‘응팔’ 덕분에… 반갑구만, 반갑습니다  2015-11-27\n",
       "20               시청자가 뽑는다… 'JTBC 어워드 2015' 온라인 투표 진행  2015-11-26\n",
       "21                               연극 ‘쥐덫’이 63년 전 초연되다  2015-11-25\n",
       "22                        “단맛은 중독된다” WHO, 당분과의 전쟁 선포  2015-11-23\n",
       "23   키친보리에 / 50년 전통 ‘대도식당’ 직영화, ‘핑거스앤챗’ 등 외식사업 영토 확장  2015-11-19\n",
       "24              삼익유가공 / 영양 풍부한 유청 국산화, 유가공산업 발전 큰 기여  2015-11-19\n",
       "25                '비정상회담' 은지원, 나이 많은 팬이 새벽에 찾아와...경악  2015-11-17\n",
       "26                       '오 마이 비너스' 신민아, 정겨운과 첫 만남 \"  2015-11-16\n",
       "27                '친구엄마' 공자관 감독 \"친구엄마와의 로맨스는 남자 판타지\"  2015-11-16\n",
       "28                    유럽서 물보다 싼 우유… 리터당 1달러 ‘소가 울 판’  2015-11-14\n",
       "29                                 롯데푸드, '이츠 케이크' 출시  2015-11-05\n",
       "..                                               ...         ...\n",
       "274          [뷰티한국]리츠칼튼 서울, '고품격 딸기 디저트 이젠 호텔에서 즐기자'  2015-01-08\n",
       "275                      기름기로 체중감량? '지방 다이어트' 효과 있을까  2015-01-08\n",
       "276                                          겨울에 먹는   2015-01-07\n",
       "277                   아이더, 2015년 신년맞이 고객감사 페스티벌 진행 外  2015-01-05\n",
       "278                         던킨도너츠, ‘해피뉴이어’ 프로모션 진행 外  2015-01-04\n",
       "279                        [뷰티한국]새해와 함께 찾아온 다양한 이벤트들  2015-01-03\n",
       "280                             서울랜드, 안성팜랜드와 MOU체결 外  2015-01-12\n",
       "281                  롯데리아, 라면버거 출시 3일만에 18만개 판매 돌파 外  2015-01-11\n",
       "282          [뷰티한국]리츠칼튼 서울, '고품격 딸기 디저트 이젠 호텔에서 즐기자'  2015-01-08\n",
       "283                      기름기로 체중감량? '지방 다이어트' 효과 있을까  2015-01-08\n",
       "284                                          겨울에 먹는   2015-01-07\n",
       "285                   아이더, 2015년 신년맞이 고객감사 페스티벌 진행 外  2015-01-05\n",
       "286                         던킨도너츠, ‘해피뉴이어’ 프로모션 진행 外  2015-01-04\n",
       "287                        [뷰티한국]새해와 함께 찾아온 다양한 이벤트들  2015-01-03\n",
       "288                             서울랜드, 안성팜랜드와 MOU체결 外  2015-01-12\n",
       "289                  롯데리아, 라면버거 출시 3일만에 18만개 판매 돌파 外  2015-01-11\n",
       "290          [뷰티한국]리츠칼튼 서울, '고품격 딸기 디저트 이젠 호텔에서 즐기자'  2015-01-08\n",
       "291                      기름기로 체중감량? '지방 다이어트' 효과 있을까  2015-01-08\n",
       "292                                          겨울에 먹는   2015-01-07\n",
       "293                   아이더, 2015년 신년맞이 고객감사 페스티벌 진행 外  2015-01-05\n",
       "294                         던킨도너츠, ‘해피뉴이어’ 프로모션 진행 外  2015-01-04\n",
       "295                        [뷰티한국]새해와 함께 찾아온 다양한 이벤트들  2015-01-03\n",
       "296                             서울랜드, 안성팜랜드와 MOU체결 外  2015-01-12\n",
       "297                  롯데리아, 라면버거 출시 3일만에 18만개 판매 돌파 外  2015-01-11\n",
       "298          [뷰티한국]리츠칼튼 서울, '고품격 딸기 디저트 이젠 호텔에서 즐기자'  2015-01-08\n",
       "299                      기름기로 체중감량? '지방 다이어트' 효과 있을까  2015-01-08\n",
       "300                                          겨울에 먹는   2015-01-07\n",
       "301                   아이더, 2015년 신년맞이 고객감사 페스티벌 진행 外  2015-01-05\n",
       "302                         던킨도너츠, ‘해피뉴이어’ 프로모션 진행 外  2015-01-04\n",
       "303                        [뷰티한국]새해와 함께 찾아온 다양한 이벤트들  2015-01-03\n",
       "\n",
       "[304 rows x 2 columns]"
      ]
     },
     "execution_count": 28,
     "metadata": {},
     "output_type": "execute_result"
    }
   ],
   "source": [
    "df"
   ]
  },
  {
   "cell_type": "code",
   "execution_count": 29,
   "metadata": {
    "collapsed": false
   },
   "outputs": [
    {
     "data": {
      "text/html": [
       "<div>\n",
       "<table border=\"1\" class=\"dataframe\">\n",
       "  <thead>\n",
       "    <tr style=\"text-align: right;\">\n",
       "      <th></th>\n",
       "      <th>title</th>\n",
       "      <th>date</th>\n",
       "    </tr>\n",
       "  </thead>\n",
       "  <tbody>\n",
       "    <tr>\n",
       "      <th>1</th>\n",
       "      <td>107</td>\n",
       "      <td>107</td>\n",
       "    </tr>\n",
       "    <tr>\n",
       "      <th>2</th>\n",
       "      <td>9</td>\n",
       "      <td>9</td>\n",
       "    </tr>\n",
       "    <tr>\n",
       "      <th>3</th>\n",
       "      <td>24</td>\n",
       "      <td>24</td>\n",
       "    </tr>\n",
       "    <tr>\n",
       "      <th>4</th>\n",
       "      <td>15</td>\n",
       "      <td>15</td>\n",
       "    </tr>\n",
       "    <tr>\n",
       "      <th>5</th>\n",
       "      <td>14</td>\n",
       "      <td>14</td>\n",
       "    </tr>\n",
       "    <tr>\n",
       "      <th>6</th>\n",
       "      <td>24</td>\n",
       "      <td>24</td>\n",
       "    </tr>\n",
       "    <tr>\n",
       "      <th>7</th>\n",
       "      <td>29</td>\n",
       "      <td>29</td>\n",
       "    </tr>\n",
       "    <tr>\n",
       "      <th>8</th>\n",
       "      <td>26</td>\n",
       "      <td>26</td>\n",
       "    </tr>\n",
       "    <tr>\n",
       "      <th>9</th>\n",
       "      <td>16</td>\n",
       "      <td>16</td>\n",
       "    </tr>\n",
       "    <tr>\n",
       "      <th>10</th>\n",
       "      <td>10</td>\n",
       "      <td>10</td>\n",
       "    </tr>\n",
       "    <tr>\n",
       "      <th>11</th>\n",
       "      <td>16</td>\n",
       "      <td>16</td>\n",
       "    </tr>\n",
       "    <tr>\n",
       "      <th>12</th>\n",
       "      <td>14</td>\n",
       "      <td>14</td>\n",
       "    </tr>\n",
       "  </tbody>\n",
       "</table>\n",
       "</div>"
      ],
      "text/plain": [
       "    title  date\n",
       "1     107   107\n",
       "2       9     9\n",
       "3      24    24\n",
       "4      15    15\n",
       "5      14    14\n",
       "6      24    24\n",
       "7      29    29\n",
       "8      26    26\n",
       "9      16    16\n",
       "10     10    10\n",
       "11     16    16\n",
       "12     14    14"
      ]
     },
     "execution_count": 29,
     "metadata": {},
     "output_type": "execute_result"
    }
   ],
   "source": [
    "df.groupby([d.month for d in df.date], as_index=True).count()"
   ]
  },
  {
   "cell_type": "code",
   "execution_count": 30,
   "metadata": {
    "collapsed": false
   },
   "outputs": [],
   "source": [
    "df['month'] = df.date.apply(lambda x: x.month)"
   ]
  },
  {
   "cell_type": "code",
   "execution_count": 31,
   "metadata": {
    "collapsed": false
   },
   "outputs": [
    {
     "data": {
      "text/html": [
       "<div>\n",
       "<table border=\"1\" class=\"dataframe\">\n",
       "  <thead>\n",
       "    <tr style=\"text-align: right;\">\n",
       "      <th></th>\n",
       "      <th>title</th>\n",
       "      <th>date</th>\n",
       "      <th>month</th>\n",
       "    </tr>\n",
       "  </thead>\n",
       "  <tbody>\n",
       "    <tr>\n",
       "      <th>0</th>\n",
       "      <td>[신춘문예 동화 당선작] ‘401호 욕할매’</td>\n",
       "      <td>2015-12-31</td>\n",
       "      <td>12</td>\n",
       "    </tr>\n",
       "    <tr>\n",
       "      <th>1</th>\n",
       "      <td>레드벨벳, 롤링스톤지 올해의 MV 톱10 선정 '아시아 유일'</td>\n",
       "      <td>2015-12-25</td>\n",
       "      <td>12</td>\n",
       "    </tr>\n",
       "    <tr>\n",
       "      <th>2</th>\n",
       "      <td>스타워즈 마케팅, 잠자던 소비의식 깨웠다고 전해라</td>\n",
       "      <td>2015-12-22</td>\n",
       "      <td>12</td>\n",
       "    </tr>\n",
       "    <tr>\n",
       "      <th>3</th>\n",
       "      <td>작은 사치로 큰 행복… 고급 디저트, 마트서도 인기</td>\n",
       "      <td>2015-12-20</td>\n",
       "      <td>12</td>\n",
       "    </tr>\n",
       "    <tr>\n",
       "      <th>4</th>\n",
       "      <td>'프로듀스 101' 장근석, 섹시한 입술로 \"키스해~주세요~\"</td>\n",
       "      <td>2015-12-18</td>\n",
       "      <td>12</td>\n",
       "    </tr>\n",
       "    <tr>\n",
       "      <th>5</th>\n",
       "      <td>AOA 초아, 혼자서도 충분한 음원 파워</td>\n",
       "      <td>2015-12-17</td>\n",
       "      <td>12</td>\n",
       "    </tr>\n",
       "    <tr>\n",
       "      <th>6</th>\n",
       "      <td>석유시설 공습에도… IS, 세금 약탈로 지하드 경제 유지</td>\n",
       "      <td>2015-12-15</td>\n",
       "      <td>12</td>\n",
       "    </tr>\n",
       "    <tr>\n",
       "      <th>7</th>\n",
       "      <td>'마녀의 성' 이해인, 귀여운</td>\n",
       "      <td>2015-12-15</td>\n",
       "      <td>12</td>\n",
       "    </tr>\n",
       "    <tr>\n",
       "      <th>8</th>\n",
       "      <td>한국 과자ㆍ음료…중국에서 '제2전성기'</td>\n",
       "      <td>2015-12-13</td>\n",
       "      <td>12</td>\n",
       "    </tr>\n",
       "    <tr>\n",
       "      <th>9</th>\n",
       "      <td>왕년의 음료·과자, 중국선 ‘제2 전성기’</td>\n",
       "      <td>2015-12-13</td>\n",
       "      <td>12</td>\n",
       "    </tr>\n",
       "    <tr>\n",
       "      <th>10</th>\n",
       "      <td>바삭달콤 ‘오레오 아포가토’ 만들기</td>\n",
       "      <td>2015-12-09</td>\n",
       "      <td>12</td>\n",
       "    </tr>\n",
       "    <tr>\n",
       "      <th>11</th>\n",
       "      <td>드라마도, 광고도 '백투더 1988'… 류준열-혜리, 과거 CF 리메이크</td>\n",
       "      <td>2015-12-07</td>\n",
       "      <td>12</td>\n",
       "    </tr>\n",
       "    <tr>\n",
       "      <th>12</th>\n",
       "      <td>“군민이 행복한 살 맛나는 고성 만들터”</td>\n",
       "      <td>2015-12-06</td>\n",
       "      <td>12</td>\n",
       "    </tr>\n",
       "    <tr>\n",
       "      <th>13</th>\n",
       "      <td>[뒤끝뉴스] ‘DMZ 애착’ 원혜영 의원의 꿈</td>\n",
       "      <td>2015-12-01</td>\n",
       "      <td>12</td>\n",
       "    </tr>\n",
       "    <tr>\n",
       "      <th>14</th>\n",
       "      <td>[신상품] 파리바게뜨 '데일리주스' 2종 外</td>\n",
       "      <td>2015-11-30</td>\n",
       "      <td>11</td>\n",
       "    </tr>\n",
       "    <tr>\n",
       "      <th>15</th>\n",
       "      <td>이휘재 아들 서언·서준이 반한 정시아 딸 '백서우'</td>\n",
       "      <td>2015-11-30</td>\n",
       "      <td>11</td>\n",
       "    </tr>\n",
       "    <tr>\n",
       "      <th>16</th>\n",
       "      <td>'슈퍼맨이 돌아왔다' 정시아 딸 서우, 인형미모 눈길</td>\n",
       "      <td>2015-11-30</td>\n",
       "      <td>11</td>\n",
       "    </tr>\n",
       "    <tr>\n",
       "      <th>17</th>\n",
       "      <td>'응답하라 1988' 진주, 한 겨울 추위도 녹인 순수함</td>\n",
       "      <td>2015-11-27</td>\n",
       "      <td>11</td>\n",
       "    </tr>\n",
       "    <tr>\n",
       "      <th>18</th>\n",
       "      <td>생명의 자각… 참다운 삶… 품격 있는 헤어짐을 희망하며</td>\n",
       "      <td>2015-11-27</td>\n",
       "      <td>11</td>\n",
       "    </tr>\n",
       "    <tr>\n",
       "      <th>19</th>\n",
       "      <td>‘응팔’ 덕분에… 반갑구만, 반갑습니다</td>\n",
       "      <td>2015-11-27</td>\n",
       "      <td>11</td>\n",
       "    </tr>\n",
       "    <tr>\n",
       "      <th>20</th>\n",
       "      <td>시청자가 뽑는다… 'JTBC 어워드 2015' 온라인 투표 진행</td>\n",
       "      <td>2015-11-26</td>\n",
       "      <td>11</td>\n",
       "    </tr>\n",
       "    <tr>\n",
       "      <th>21</th>\n",
       "      <td>연극 ‘쥐덫’이 63년 전 초연되다</td>\n",
       "      <td>2015-11-25</td>\n",
       "      <td>11</td>\n",
       "    </tr>\n",
       "    <tr>\n",
       "      <th>22</th>\n",
       "      <td>“단맛은 중독된다” WHO, 당분과의 전쟁 선포</td>\n",
       "      <td>2015-11-23</td>\n",
       "      <td>11</td>\n",
       "    </tr>\n",
       "    <tr>\n",
       "      <th>23</th>\n",
       "      <td>키친보리에 / 50년 전통 ‘대도식당’ 직영화, ‘핑거스앤챗’ 등 외식사업 영토 확장</td>\n",
       "      <td>2015-11-19</td>\n",
       "      <td>11</td>\n",
       "    </tr>\n",
       "    <tr>\n",
       "      <th>24</th>\n",
       "      <td>삼익유가공 / 영양 풍부한 유청 국산화, 유가공산업 발전 큰 기여</td>\n",
       "      <td>2015-11-19</td>\n",
       "      <td>11</td>\n",
       "    </tr>\n",
       "    <tr>\n",
       "      <th>25</th>\n",
       "      <td>'비정상회담' 은지원, 나이 많은 팬이 새벽에 찾아와...경악</td>\n",
       "      <td>2015-11-17</td>\n",
       "      <td>11</td>\n",
       "    </tr>\n",
       "    <tr>\n",
       "      <th>26</th>\n",
       "      <td>'오 마이 비너스' 신민아, 정겨운과 첫 만남 \"</td>\n",
       "      <td>2015-11-16</td>\n",
       "      <td>11</td>\n",
       "    </tr>\n",
       "    <tr>\n",
       "      <th>27</th>\n",
       "      <td>'친구엄마' 공자관 감독 \"친구엄마와의 로맨스는 남자 판타지\"</td>\n",
       "      <td>2015-11-16</td>\n",
       "      <td>11</td>\n",
       "    </tr>\n",
       "    <tr>\n",
       "      <th>28</th>\n",
       "      <td>유럽서 물보다 싼 우유… 리터당 1달러 ‘소가 울 판’</td>\n",
       "      <td>2015-11-14</td>\n",
       "      <td>11</td>\n",
       "    </tr>\n",
       "    <tr>\n",
       "      <th>29</th>\n",
       "      <td>롯데푸드, '이츠 케이크' 출시</td>\n",
       "      <td>2015-11-05</td>\n",
       "      <td>11</td>\n",
       "    </tr>\n",
       "    <tr>\n",
       "      <th>...</th>\n",
       "      <td>...</td>\n",
       "      <td>...</td>\n",
       "      <td>...</td>\n",
       "    </tr>\n",
       "    <tr>\n",
       "      <th>274</th>\n",
       "      <td>[뷰티한국]리츠칼튼 서울, '고품격 딸기 디저트 이젠 호텔에서 즐기자'</td>\n",
       "      <td>2015-01-08</td>\n",
       "      <td>1</td>\n",
       "    </tr>\n",
       "    <tr>\n",
       "      <th>275</th>\n",
       "      <td>기름기로 체중감량? '지방 다이어트' 효과 있을까</td>\n",
       "      <td>2015-01-08</td>\n",
       "      <td>1</td>\n",
       "    </tr>\n",
       "    <tr>\n",
       "      <th>276</th>\n",
       "      <td>겨울에 먹는</td>\n",
       "      <td>2015-01-07</td>\n",
       "      <td>1</td>\n",
       "    </tr>\n",
       "    <tr>\n",
       "      <th>277</th>\n",
       "      <td>아이더, 2015년 신년맞이 고객감사 페스티벌 진행 外</td>\n",
       "      <td>2015-01-05</td>\n",
       "      <td>1</td>\n",
       "    </tr>\n",
       "    <tr>\n",
       "      <th>278</th>\n",
       "      <td>던킨도너츠, ‘해피뉴이어’ 프로모션 진행 外</td>\n",
       "      <td>2015-01-04</td>\n",
       "      <td>1</td>\n",
       "    </tr>\n",
       "    <tr>\n",
       "      <th>279</th>\n",
       "      <td>[뷰티한국]새해와 함께 찾아온 다양한 이벤트들</td>\n",
       "      <td>2015-01-03</td>\n",
       "      <td>1</td>\n",
       "    </tr>\n",
       "    <tr>\n",
       "      <th>280</th>\n",
       "      <td>서울랜드, 안성팜랜드와 MOU체결 外</td>\n",
       "      <td>2015-01-12</td>\n",
       "      <td>1</td>\n",
       "    </tr>\n",
       "    <tr>\n",
       "      <th>281</th>\n",
       "      <td>롯데리아, 라면버거 출시 3일만에 18만개 판매 돌파 外</td>\n",
       "      <td>2015-01-11</td>\n",
       "      <td>1</td>\n",
       "    </tr>\n",
       "    <tr>\n",
       "      <th>282</th>\n",
       "      <td>[뷰티한국]리츠칼튼 서울, '고품격 딸기 디저트 이젠 호텔에서 즐기자'</td>\n",
       "      <td>2015-01-08</td>\n",
       "      <td>1</td>\n",
       "    </tr>\n",
       "    <tr>\n",
       "      <th>283</th>\n",
       "      <td>기름기로 체중감량? '지방 다이어트' 효과 있을까</td>\n",
       "      <td>2015-01-08</td>\n",
       "      <td>1</td>\n",
       "    </tr>\n",
       "    <tr>\n",
       "      <th>284</th>\n",
       "      <td>겨울에 먹는</td>\n",
       "      <td>2015-01-07</td>\n",
       "      <td>1</td>\n",
       "    </tr>\n",
       "    <tr>\n",
       "      <th>285</th>\n",
       "      <td>아이더, 2015년 신년맞이 고객감사 페스티벌 진행 外</td>\n",
       "      <td>2015-01-05</td>\n",
       "      <td>1</td>\n",
       "    </tr>\n",
       "    <tr>\n",
       "      <th>286</th>\n",
       "      <td>던킨도너츠, ‘해피뉴이어’ 프로모션 진행 外</td>\n",
       "      <td>2015-01-04</td>\n",
       "      <td>1</td>\n",
       "    </tr>\n",
       "    <tr>\n",
       "      <th>287</th>\n",
       "      <td>[뷰티한국]새해와 함께 찾아온 다양한 이벤트들</td>\n",
       "      <td>2015-01-03</td>\n",
       "      <td>1</td>\n",
       "    </tr>\n",
       "    <tr>\n",
       "      <th>288</th>\n",
       "      <td>서울랜드, 안성팜랜드와 MOU체결 外</td>\n",
       "      <td>2015-01-12</td>\n",
       "      <td>1</td>\n",
       "    </tr>\n",
       "    <tr>\n",
       "      <th>289</th>\n",
       "      <td>롯데리아, 라면버거 출시 3일만에 18만개 판매 돌파 外</td>\n",
       "      <td>2015-01-11</td>\n",
       "      <td>1</td>\n",
       "    </tr>\n",
       "    <tr>\n",
       "      <th>290</th>\n",
       "      <td>[뷰티한국]리츠칼튼 서울, '고품격 딸기 디저트 이젠 호텔에서 즐기자'</td>\n",
       "      <td>2015-01-08</td>\n",
       "      <td>1</td>\n",
       "    </tr>\n",
       "    <tr>\n",
       "      <th>291</th>\n",
       "      <td>기름기로 체중감량? '지방 다이어트' 효과 있을까</td>\n",
       "      <td>2015-01-08</td>\n",
       "      <td>1</td>\n",
       "    </tr>\n",
       "    <tr>\n",
       "      <th>292</th>\n",
       "      <td>겨울에 먹는</td>\n",
       "      <td>2015-01-07</td>\n",
       "      <td>1</td>\n",
       "    </tr>\n",
       "    <tr>\n",
       "      <th>293</th>\n",
       "      <td>아이더, 2015년 신년맞이 고객감사 페스티벌 진행 外</td>\n",
       "      <td>2015-01-05</td>\n",
       "      <td>1</td>\n",
       "    </tr>\n",
       "    <tr>\n",
       "      <th>294</th>\n",
       "      <td>던킨도너츠, ‘해피뉴이어’ 프로모션 진행 外</td>\n",
       "      <td>2015-01-04</td>\n",
       "      <td>1</td>\n",
       "    </tr>\n",
       "    <tr>\n",
       "      <th>295</th>\n",
       "      <td>[뷰티한국]새해와 함께 찾아온 다양한 이벤트들</td>\n",
       "      <td>2015-01-03</td>\n",
       "      <td>1</td>\n",
       "    </tr>\n",
       "    <tr>\n",
       "      <th>296</th>\n",
       "      <td>서울랜드, 안성팜랜드와 MOU체결 外</td>\n",
       "      <td>2015-01-12</td>\n",
       "      <td>1</td>\n",
       "    </tr>\n",
       "    <tr>\n",
       "      <th>297</th>\n",
       "      <td>롯데리아, 라면버거 출시 3일만에 18만개 판매 돌파 外</td>\n",
       "      <td>2015-01-11</td>\n",
       "      <td>1</td>\n",
       "    </tr>\n",
       "    <tr>\n",
       "      <th>298</th>\n",
       "      <td>[뷰티한국]리츠칼튼 서울, '고품격 딸기 디저트 이젠 호텔에서 즐기자'</td>\n",
       "      <td>2015-01-08</td>\n",
       "      <td>1</td>\n",
       "    </tr>\n",
       "    <tr>\n",
       "      <th>299</th>\n",
       "      <td>기름기로 체중감량? '지방 다이어트' 효과 있을까</td>\n",
       "      <td>2015-01-08</td>\n",
       "      <td>1</td>\n",
       "    </tr>\n",
       "    <tr>\n",
       "      <th>300</th>\n",
       "      <td>겨울에 먹는</td>\n",
       "      <td>2015-01-07</td>\n",
       "      <td>1</td>\n",
       "    </tr>\n",
       "    <tr>\n",
       "      <th>301</th>\n",
       "      <td>아이더, 2015년 신년맞이 고객감사 페스티벌 진행 外</td>\n",
       "      <td>2015-01-05</td>\n",
       "      <td>1</td>\n",
       "    </tr>\n",
       "    <tr>\n",
       "      <th>302</th>\n",
       "      <td>던킨도너츠, ‘해피뉴이어’ 프로모션 진행 外</td>\n",
       "      <td>2015-01-04</td>\n",
       "      <td>1</td>\n",
       "    </tr>\n",
       "    <tr>\n",
       "      <th>303</th>\n",
       "      <td>[뷰티한국]새해와 함께 찾아온 다양한 이벤트들</td>\n",
       "      <td>2015-01-03</td>\n",
       "      <td>1</td>\n",
       "    </tr>\n",
       "  </tbody>\n",
       "</table>\n",
       "<p>304 rows × 3 columns</p>\n",
       "</div>"
      ],
      "text/plain": [
       "                                               title        date  month\n",
       "0                           [신춘문예 동화 당선작] ‘401호 욕할매’  2015-12-31     12\n",
       "1                 레드벨벳, 롤링스톤지 올해의 MV 톱10 선정 '아시아 유일'  2015-12-25     12\n",
       "2                        스타워즈 마케팅, 잠자던 소비의식 깨웠다고 전해라  2015-12-22     12\n",
       "3                       작은 사치로 큰 행복… 고급 디저트, 마트서도 인기  2015-12-20     12\n",
       "4                 '프로듀스 101' 장근석, 섹시한 입술로 \"키스해~주세요~\"  2015-12-18     12\n",
       "5                             AOA 초아, 혼자서도 충분한 음원 파워  2015-12-17     12\n",
       "6                    석유시설 공습에도… IS, 세금 약탈로 지하드 경제 유지  2015-12-15     12\n",
       "7                                  '마녀의 성' 이해인, 귀여운   2015-12-15     12\n",
       "8                              한국 과자ㆍ음료…중국에서 '제2전성기'  2015-12-13     12\n",
       "9                            왕년의 음료·과자, 중국선 ‘제2 전성기’  2015-12-13     12\n",
       "10                               바삭달콤 ‘오레오 아포가토’ 만들기  2015-12-09     12\n",
       "11          드라마도, 광고도 '백투더 1988'… 류준열-혜리, 과거 CF 리메이크  2015-12-07     12\n",
       "12                            “군민이 행복한 살 맛나는 고성 만들터”  2015-12-06     12\n",
       "13                         [뒤끝뉴스] ‘DMZ 애착’ 원혜영 의원의 꿈  2015-12-01     12\n",
       "14                          [신상품] 파리바게뜨 '데일리주스' 2종 外  2015-11-30     11\n",
       "15                      이휘재 아들 서언·서준이 반한 정시아 딸 '백서우'  2015-11-30     11\n",
       "16                     '슈퍼맨이 돌아왔다' 정시아 딸 서우, 인형미모 눈길  2015-11-30     11\n",
       "17                   '응답하라 1988' 진주, 한 겨울 추위도 녹인 순수함  2015-11-27     11\n",
       "18                    생명의 자각… 참다운 삶… 품격 있는 헤어짐을 희망하며  2015-11-27     11\n",
       "19                             ‘응팔’ 덕분에… 반갑구만, 반갑습니다  2015-11-27     11\n",
       "20               시청자가 뽑는다… 'JTBC 어워드 2015' 온라인 투표 진행  2015-11-26     11\n",
       "21                               연극 ‘쥐덫’이 63년 전 초연되다  2015-11-25     11\n",
       "22                        “단맛은 중독된다” WHO, 당분과의 전쟁 선포  2015-11-23     11\n",
       "23   키친보리에 / 50년 전통 ‘대도식당’ 직영화, ‘핑거스앤챗’ 등 외식사업 영토 확장  2015-11-19     11\n",
       "24              삼익유가공 / 영양 풍부한 유청 국산화, 유가공산업 발전 큰 기여  2015-11-19     11\n",
       "25                '비정상회담' 은지원, 나이 많은 팬이 새벽에 찾아와...경악  2015-11-17     11\n",
       "26                       '오 마이 비너스' 신민아, 정겨운과 첫 만남 \"  2015-11-16     11\n",
       "27                '친구엄마' 공자관 감독 \"친구엄마와의 로맨스는 남자 판타지\"  2015-11-16     11\n",
       "28                    유럽서 물보다 싼 우유… 리터당 1달러 ‘소가 울 판’  2015-11-14     11\n",
       "29                                 롯데푸드, '이츠 케이크' 출시  2015-11-05     11\n",
       "..                                               ...         ...    ...\n",
       "274          [뷰티한국]리츠칼튼 서울, '고품격 딸기 디저트 이젠 호텔에서 즐기자'  2015-01-08      1\n",
       "275                      기름기로 체중감량? '지방 다이어트' 효과 있을까  2015-01-08      1\n",
       "276                                          겨울에 먹는   2015-01-07      1\n",
       "277                   아이더, 2015년 신년맞이 고객감사 페스티벌 진행 外  2015-01-05      1\n",
       "278                         던킨도너츠, ‘해피뉴이어’ 프로모션 진행 外  2015-01-04      1\n",
       "279                        [뷰티한국]새해와 함께 찾아온 다양한 이벤트들  2015-01-03      1\n",
       "280                             서울랜드, 안성팜랜드와 MOU체결 外  2015-01-12      1\n",
       "281                  롯데리아, 라면버거 출시 3일만에 18만개 판매 돌파 外  2015-01-11      1\n",
       "282          [뷰티한국]리츠칼튼 서울, '고품격 딸기 디저트 이젠 호텔에서 즐기자'  2015-01-08      1\n",
       "283                      기름기로 체중감량? '지방 다이어트' 효과 있을까  2015-01-08      1\n",
       "284                                          겨울에 먹는   2015-01-07      1\n",
       "285                   아이더, 2015년 신년맞이 고객감사 페스티벌 진행 外  2015-01-05      1\n",
       "286                         던킨도너츠, ‘해피뉴이어’ 프로모션 진행 外  2015-01-04      1\n",
       "287                        [뷰티한국]새해와 함께 찾아온 다양한 이벤트들  2015-01-03      1\n",
       "288                             서울랜드, 안성팜랜드와 MOU체결 外  2015-01-12      1\n",
       "289                  롯데리아, 라면버거 출시 3일만에 18만개 판매 돌파 外  2015-01-11      1\n",
       "290          [뷰티한국]리츠칼튼 서울, '고품격 딸기 디저트 이젠 호텔에서 즐기자'  2015-01-08      1\n",
       "291                      기름기로 체중감량? '지방 다이어트' 효과 있을까  2015-01-08      1\n",
       "292                                          겨울에 먹는   2015-01-07      1\n",
       "293                   아이더, 2015년 신년맞이 고객감사 페스티벌 진행 外  2015-01-05      1\n",
       "294                         던킨도너츠, ‘해피뉴이어’ 프로모션 진행 外  2015-01-04      1\n",
       "295                        [뷰티한국]새해와 함께 찾아온 다양한 이벤트들  2015-01-03      1\n",
       "296                             서울랜드, 안성팜랜드와 MOU체결 外  2015-01-12      1\n",
       "297                  롯데리아, 라면버거 출시 3일만에 18만개 판매 돌파 外  2015-01-11      1\n",
       "298          [뷰티한국]리츠칼튼 서울, '고품격 딸기 디저트 이젠 호텔에서 즐기자'  2015-01-08      1\n",
       "299                      기름기로 체중감량? '지방 다이어트' 효과 있을까  2015-01-08      1\n",
       "300                                          겨울에 먹는   2015-01-07      1\n",
       "301                   아이더, 2015년 신년맞이 고객감사 페스티벌 진행 外  2015-01-05      1\n",
       "302                         던킨도너츠, ‘해피뉴이어’ 프로모션 진행 外  2015-01-04      1\n",
       "303                        [뷰티한국]새해와 함께 찾아온 다양한 이벤트들  2015-01-03      1\n",
       "\n",
       "[304 rows x 3 columns]"
      ]
     },
     "execution_count": 31,
     "metadata": {},
     "output_type": "execute_result"
    }
   ],
   "source": [
    "df"
   ]
  },
  {
   "cell_type": "code",
   "execution_count": 32,
   "metadata": {
    "collapsed": false
   },
   "outputs": [],
   "source": [
    "count = df.groupby('month').agg({'title': len})"
   ]
  },
  {
   "cell_type": "code",
   "execution_count": 33,
   "metadata": {
    "collapsed": false
   },
   "outputs": [
    {
     "data": {
      "text/html": [
       "<div>\n",
       "<table border=\"1\" class=\"dataframe\">\n",
       "  <thead>\n",
       "    <tr style=\"text-align: right;\">\n",
       "      <th></th>\n",
       "      <th>title</th>\n",
       "    </tr>\n",
       "    <tr>\n",
       "      <th>month</th>\n",
       "      <th></th>\n",
       "    </tr>\n",
       "  </thead>\n",
       "  <tbody>\n",
       "    <tr>\n",
       "      <th>1</th>\n",
       "      <td>107</td>\n",
       "    </tr>\n",
       "    <tr>\n",
       "      <th>2</th>\n",
       "      <td>9</td>\n",
       "    </tr>\n",
       "    <tr>\n",
       "      <th>3</th>\n",
       "      <td>24</td>\n",
       "    </tr>\n",
       "    <tr>\n",
       "      <th>4</th>\n",
       "      <td>15</td>\n",
       "    </tr>\n",
       "    <tr>\n",
       "      <th>5</th>\n",
       "      <td>14</td>\n",
       "    </tr>\n",
       "    <tr>\n",
       "      <th>6</th>\n",
       "      <td>24</td>\n",
       "    </tr>\n",
       "    <tr>\n",
       "      <th>7</th>\n",
       "      <td>29</td>\n",
       "    </tr>\n",
       "    <tr>\n",
       "      <th>8</th>\n",
       "      <td>26</td>\n",
       "    </tr>\n",
       "    <tr>\n",
       "      <th>9</th>\n",
       "      <td>16</td>\n",
       "    </tr>\n",
       "    <tr>\n",
       "      <th>10</th>\n",
       "      <td>10</td>\n",
       "    </tr>\n",
       "    <tr>\n",
       "      <th>11</th>\n",
       "      <td>16</td>\n",
       "    </tr>\n",
       "    <tr>\n",
       "      <th>12</th>\n",
       "      <td>14</td>\n",
       "    </tr>\n",
       "  </tbody>\n",
       "</table>\n",
       "</div>"
      ],
      "text/plain": [
       "       title\n",
       "month       \n",
       "1        107\n",
       "2          9\n",
       "3         24\n",
       "4         15\n",
       "5         14\n",
       "6         24\n",
       "7         29\n",
       "8         26\n",
       "9         16\n",
       "10        10\n",
       "11        16\n",
       "12        14"
      ]
     },
     "execution_count": 33,
     "metadata": {},
     "output_type": "execute_result"
    }
   ],
   "source": [
    "count"
   ]
  },
  {
   "cell_type": "markdown",
   "metadata": {},
   "source": [
    "# 시각화"
   ]
  },
  {
   "cell_type": "code",
   "execution_count": 34,
   "metadata": {
    "collapsed": false
   },
   "outputs": [],
   "source": [
    "%matplotlib inline"
   ]
  },
  {
   "cell_type": "code",
   "execution_count": 35,
   "metadata": {
    "collapsed": false
   },
   "outputs": [
    {
     "data": {
      "text/plain": [
       "<matplotlib.axes._subplots.AxesSubplot at 0x1bccffbd4e0>"
      ]
     },
     "execution_count": 35,
     "metadata": {},
     "output_type": "execute_result"
    },
    {
     "data": {
      "image/png": "[encoded data removed]",
      "text/plain": [
       "<matplotlib.figure.Figure at 0x1bcce76dc50>"
      ]
     },
     "metadata": {},
     "output_type": "display_data"
    }
   ],
   "source": [
    "count.plot()"
   ]
  },
  {
   "cell_type": "markdown",
   "metadata": {},
   "source": [
    "## Seaborn을 이용해 좀 더 예쁘게 그리기"
   ]
  },
  {
   "cell_type": "markdown",
   "metadata": {},
   "source": [
    "seaborn을 사용하려면 먼저 `conda install seaborn`으로 설치하세요\n",
    "\n",
    "[seaborn 홈페이지](https://web.stanford.edu/~mwaskom/software/seaborn/index.html)\n",
    "\n",
    "[tsplot 함수 사용법](https://web.stanford.edu/~mwaskom/software/seaborn/examples/timeseries_from_dataframe.html)"
   ]
  },
  {
   "cell_type": "code",
   "execution_count": 36,
   "metadata": {
    "collapsed": true
   },
   "outputs": [],
   "source": [
    "import seaborn"
   ]
  },
  {
   "cell_type": "code",
   "execution_count": 37,
   "metadata": {
    "collapsed": false
   },
   "outputs": [
    {
     "data": {
      "text/plain": [
       "<matplotlib.axes._subplots.AxesSubplot at 0x1bcd223acf8>"
      ]
     },
     "execution_count": 37,
     "metadata": {},
     "output_type": "execute_result"
    },
    {
     "data": {
      "image/png": "[encoded data removed]",
      "text/plain": [
       "<matplotlib.figure.Figure at 0x1bcd223a470>"
      ]
     },
     "metadata": {},
     "output_type": "display_data"
    }
   ],
   "source": [
    "seaborn.tsplot(count['title'], time=count.index)"
   ]
  },
  {
   "cell_type": "code",
   "execution_count": null,
   "metadata": {
    "collapsed": true
   },
   "outputs": [],
   "source": []
  }
 ],
 "metadata": {
  "kernelspec": {
   "display_name": "Python 3",
   "language": "python",
   "name": "python3"
  },
  "language_info": {
   "codemirror_mode": {
    "name": "ipython",
    "version": 3
   },
   "file_extension": ".py",
   "mimetype": "text/x-python",
   "name": "python",
   "nbconvert_exporter": "python",
   "pygments_lexer": "ipython3",
   "version": "3.5.1"
  }
 },
 "nbformat": 4,
 "nbformat_minor": 0
}
