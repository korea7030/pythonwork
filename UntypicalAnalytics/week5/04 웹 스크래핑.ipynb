{
 "cells": [
  {
   "cell_type": "markdown",
   "metadata": {},
   "source": [
    "# GET"
   ]
  },
  {
   "cell_type": "code",
   "execution_count": 2,
   "metadata": {
    "collapsed": true
   },
   "outputs": [],
   "source": [
    "import requests"
   ]
  },
  {
   "cell_type": "code",
   "execution_count": 3,
   "metadata": {
    "collapsed": true
   },
   "outputs": [],
   "source": [
    "response = requests.get('http://www.naver.com')"
   ]
  },
  {
   "cell_type": "code",
   "execution_count": 4,
   "metadata": {
    "collapsed": false
   },
   "outputs": [
    {
     "data": {
      "text/plain": [
       "<Response [200]>"
      ]
     },
     "execution_count": 4,
     "metadata": {},
     "output_type": "execute_result"
    }
   ],
   "source": [
    "response"
   ]
  },
  {
   "cell_type": "markdown",
   "metadata": {},
   "source": [
    "200은 성공적으로 웹 페이지를 가져왔다는 뜻입니다"
   ]
  },
  {
   "cell_type": "code",
   "execution_count": 5,
   "metadata": {
    "collapsed": true
   },
   "outputs": [],
   "source": [
    "response = requests.get('http://j.mp/km-txt-slide')"
   ]
  },
  {
   "cell_type": "markdown",
   "metadata": {},
   "source": [
    "requests 라이브러리는 Redirection을 자동으로 처리해줍니다"
   ]
  },
  {
   "cell_type": "code",
   "execution_count": 6,
   "metadata": {
    "collapsed": false
   },
   "outputs": [
    {
     "data": {
      "text/plain": [
       "<Response [200]>"
      ]
     },
     "execution_count": 6,
     "metadata": {},
     "output_type": "execute_result"
    }
   ],
   "source": [
    "response"
   ]
  },
  {
   "cell_type": "code",
   "execution_count": 7,
   "metadata": {
    "collapsed": false
   },
   "outputs": [
    {
     "data": {
      "text/plain": [
       "'https://www.dropbox.com/sh/qnbmao4x0bjnf8p/AABB3Vb2SYez9PVe6-yR0THaa?dl=0'"
      ]
     },
     "execution_count": 7,
     "metadata": {},
     "output_type": "execute_result"
    }
   ],
   "source": [
    "response.url"
   ]
  },
  {
   "cell_type": "code",
   "execution_count": 8,
   "metadata": {
    "collapsed": false
   },
   "outputs": [
    {
     "data": {
      "text/plain": [
       "<Response [404]>"
      ]
     },
     "execution_count": 8,
     "metadata": {},
     "output_type": "execute_result"
    }
   ],
   "source": [
    "requests.get('http://www.naver.com/aaaaa')"
   ]
  },
  {
   "cell_type": "markdown",
   "metadata": {},
   "source": [
    "404는 존재하지 않는 주소를 나타내는 코드입니다"
   ]
  },
  {
   "cell_type": "code",
   "execution_count": 9,
   "metadata": {
    "collapsed": false
   },
   "outputs": [
    {
     "data": {
      "text/plain": [
       "<Response [200]>"
      ]
     },
     "execution_count": 9,
     "metadata": {},
     "output_type": "execute_result"
    }
   ],
   "source": [
    "requests.get('http://www.seoul.go.kr/v2007/sub/error.html')"
   ]
  },
  {
   "cell_type": "markdown",
   "metadata": {},
   "source": [
    "표준을 지키지 않는 경우 실제로 없는 페이지라도 200을 돌려주는 경우가 있습니다"
   ]
  },
  {
   "cell_type": "markdown",
   "metadata": {},
   "source": [
    "# 네이버 뉴스"
   ]
  },
  {
   "cell_type": "markdown",
   "metadata": {},
   "source": [
    "네이버 뉴스에서 \"알파고\"로 검색을 합니다"
   ]
  },
  {
   "cell_type": "code",
   "execution_count": 10,
   "metadata": {
    "collapsed": true
   },
   "outputs": [],
   "source": [
    "response = requests.get('http://news.naver.com/main/search/search.nhn?query=%BE%CB%C6%C4%B0%ED&ie=MS949&x=0&y=0')"
   ]
  },
  {
   "cell_type": "code",
   "execution_count": 11,
   "metadata": {
    "collapsed": false
   },
   "outputs": [
    {
     "data": {
      "text/plain": [
       "<Response [200]>"
      ]
     },
     "execution_count": 11,
     "metadata": {},
     "output_type": "execute_result"
    }
   ],
   "source": [
    "response"
   ]
  },
  {
   "cell_type": "markdown",
   "metadata": {},
   "source": [
    "응답의 인코딩을 cp949로 변경합니다"
   ]
  },
  {
   "cell_type": "code",
   "execution_count": 12,
   "metadata": {
    "collapsed": false
   },
   "outputs": [],
   "source": [
    "response.encoding = 'cp949'"
   ]
  },
  {
   "cell_type": "markdown",
   "metadata": {},
   "source": [
    "# HTML 처리"
   ]
  },
  {
   "cell_type": "code",
   "execution_count": 13,
   "metadata": {
    "collapsed": true
   },
   "outputs": [],
   "source": [
    "import lxml.html"
   ]
  },
  {
   "cell_type": "code",
   "execution_count": 14,
   "metadata": {
    "collapsed": false
   },
   "outputs": [],
   "source": [
    "root = lxml.html.fromstring(response.text)"
   ]
  },
  {
   "cell_type": "markdown",
   "metadata": {},
   "source": [
    "아래 코드는 Python 2에서 `print`를 Python 3와 같은 방식으로 하도록 변경합니다. Python 3에서는 아무 영향을 미치지 않습니다."
   ]
  },
  {
   "cell_type": "code",
   "execution_count": 15,
   "metadata": {
    "collapsed": true
   },
   "outputs": [],
   "source": [
    "from __future__ import print_function"
   ]
  },
  {
   "cell_type": "markdown",
   "metadata": {},
   "source": [
    "class가 tit인 a 태그를 모두 찾아, 하나씩 node라는 이름으로 처리합니다.\n",
    "각 노드의 텍스트와 href 속성을 출력합니다"
   ]
  },
  {
   "cell_type": "code",
   "execution_count": 16,
   "metadata": {
    "collapsed": false
   },
   "outputs": [
    {
     "name": "stdout",
     "output_type": "stream",
     "text": [
      "금융알파고 '로보어드바이저' 통한 고객자산관리 시대 '활짝' http://www.enewstoday.co.kr/news/articleView.html?idxno=513671\n",
      "'런닝맨' 멤버들VS로봇, 알파고 버금가는 한판 승부 http://www.sportsworldi.com/content/html/2016/04/09/20160409000715.html?OutUrl=naver\n",
      "[임관호의 작은 경제 이야기] 테슬라 돌풍, 아이폰 출현의 데자뷰인가 http://www.econovill.com/news/articleView.html?idxno=286209\n",
      "구글 '알파고' 신드롬…인류의 미래가 암울하다? http://www.mediapen.com/news/view/139404\n",
      "로보어드바이저, 금융권 '알파고' 되나 http://www.newscj.com/news/articleView.html?idxno=343039\n",
      "'런닝맨', 알파고 능가 인공지능 로봇과 한판승부…'박빙' http://www.xportsnews.com/?ac=article_view&entry_id=711643\n",
      "'런닝맨'vs로봇? 알파고 버금가는 인공지능과 맞대결 http://biz.heraldcorp.com/view.php?ud=201604090921082495914_1\n",
      "인공지능 일기예보 시대 개막 http://news.kbs.co.kr/news/view.do?ncd=3261659&ref=A\n",
      "'알파고' 상표권 누가 갖게 될까? http://www.wikitree.co.kr/main/news_view.php?id=255758\n",
      "알파고의 정교한 끝내기 http://www.hankookilbo.com/v/17ec2f6fa46c4fe6a8806d8d53a4d33d\n"
     ]
    }
   ],
   "source": [
    "for node in root.xpath('.//a[@class=\"tit\"]'):\n",
    "    print(node.text_content(), node.attrib['href'])"
   ]
  },
  {
   "cell_type": "markdown",
   "metadata": {},
   "source": [
    "# 클리앙 뉴스 받아오기"
   ]
  },
  {
   "cell_type": "code",
   "execution_count": 17,
   "metadata": {
    "collapsed": true
   },
   "outputs": [],
   "source": [
    "response = requests.get('http://www.clien.net/cs2/bbs/board.php?bo_table=news')"
   ]
  },
  {
   "cell_type": "code",
   "execution_count": 18,
   "metadata": {
    "collapsed": false
   },
   "outputs": [],
   "source": [
    "if response.encoding == 'ISO-8859-1':\n",
    "    response.encoding = 'utf8'"
   ]
  },
  {
   "cell_type": "code",
   "execution_count": 19,
   "metadata": {
    "collapsed": true
   },
   "outputs": [],
   "source": [
    "response.encoding = 'utf8'"
   ]
  },
  {
   "cell_type": "code",
   "execution_count": 20,
   "metadata": {
    "collapsed": false
   },
   "outputs": [],
   "source": [
    "root = lxml.html.fromstring(response.text)"
   ]
  },
  {
   "cell_type": "code",
   "execution_count": 21,
   "metadata": {
    "collapsed": false
   },
   "outputs": [
    {
     "name": "stdout",
     "output_type": "stream",
     "text": [
      "[공지] 이 게시판에 리플 작성시 포인트가 소진됩니다. ../bbs/board.php?bo_table=news&wr_id=1488647\n",
      "[필독] 새로운 소식 게시판 이용규칙  -  20150728 최종수정 ../bbs/board.php?bo_table=news&wr_id=962831\n",
      "중국 연구팀, 인간 수정란의 유전자 조작 논문 발표 ../bbs/board.php?bo_table=news&wr_id=2151839\n",
      "미 법무부, 애플에게 아이폰5S에 대한 암호 해제를 요청해 ../bbs/board.php?bo_table=news&wr_id=2151832\n",
      "RPG게임 퍼즐앤드래곤, 코믹스 및 애니메이션 미디어 믹스 발표 ../bbs/board.php?bo_table=news&wr_id=2151829\n",
      "소니, 엑스페리아 Z2, Z3, Z3컴팩트의 일부 모델에 대해 안드로이드 마시멜로 업데이트 실시 ../bbs/board.php?bo_table=news&wr_id=2151818\n",
      "NHK, 기존의 1/7 무게로 경량화된 1억 3300만 화소의 8K 카메라 개발 ../bbs/board.php?bo_table=news&wr_id=2151799\n",
      "11줄의 코드, 인터넷을 패닉에 빠뜨리다 ../bbs/board.php?bo_table=news&wr_id=2151724\n",
      "中 알리바바, 총상금 63억원 국제e스포츠대회 창설  ../bbs/board.php?bo_table=news&wr_id=2151691\n",
      "강변 테크노마트, 페이백 판매 다시 단속한다 ../bbs/board.php?bo_table=news&wr_id=2151668\n",
      "(루머) 안드로이드 N 프리뷰 비 넥서스기기에도 배포 예정? ../bbs/board.php?bo_table=news&wr_id=2151666\n",
      "SpaceX, 팔콘 9 로켓 드론 바지선 해상착륙 성공 동영상 4K로 공개 ../bbs/board.php?bo_table=news&wr_id=2151632\n",
      "\"아들 출산 어려워\" 네안데르탈인 사라진 이유 ../bbs/board.php?bo_table=news&wr_id=2151587\n",
      "[루머] 분석가: 애플워치 2 올 6월 WWDC에서 공개, 최대 40%까지 더 얇아질 것 ../bbs/board.php?bo_table=news&wr_id=2151534\n",
      "마이크로소프트. Visual Studio \"15\" 프리뷰 배포 ../bbs/board.php?bo_table=news&wr_id=2151481\n",
      "지문 인식 스캐너를 내장한 '파나소닉 엘루가 아크' ../bbs/board.php?bo_table=news&wr_id=2151477\n",
      "라그나로크 모바일 출시가 얼마 안남은듯. 티저 공개 ../bbs/board.php?bo_table=news&wr_id=2151469\n",
      "블랙베리CEO, 2개의 중가형 안드로이드 스마트폰 준비중 ../bbs/board.php?bo_table=news&wr_id=2151465\n",
      "루머)HTC 10에는 전면OIS카메라 센서가 탑재? ../bbs/board.php?bo_table=news&wr_id=2151453\n",
      "마이크로소프트 에지브라우저에서도 플래시 단속 시작 ../bbs/board.php?bo_table=news&wr_id=2151442\n",
      "LG G5, 판매 첫 주인 4월 1주차 주간 스마트폰 판매량 1, 4, 5위로 진입 ../bbs/board.php?bo_table=news&wr_id=2151370\n",
      "구글, 안드로이드 주언어로 스위프트 고려중 ../bbs/board.php?bo_table=news&wr_id=2151358\n",
      "인도에서 우버 운전자가 승객이 쏜 총에 맞고 숨져 ../bbs/board.php?bo_table=news&wr_id=2151345\n",
      "갤럭시S7 카메라 ‘왜곡’ 논란…“하드웨어 문제 가능성” ../bbs/board.php?bo_table=news&wr_id=2151324\n",
      "‘아이폰6 불법 보조금 대란’ 이통3사·임원 기소 ../bbs/board.php?bo_table=news&wr_id=2151319\n",
      "이달 서울서 영업하는 '광대은행'…애플페이 서비스 시작 ../bbs/board.php?bo_table=news&wr_id=2151292\n",
      "영국 최대은행 바클레이도 애플페이 서비스 합류 ../bbs/board.php?bo_table=news&wr_id=2151290\n",
      "루머)갤럭시노트6는 IP68방수방진에 홍채인식센서 탑재? ../bbs/board.php?bo_table=news&wr_id=2151240\n",
      "애플, 이스라엘에 첫 공식 스토어 오픈 예정 ../bbs/board.php?bo_table=news&wr_id=2151224\n",
      "애플, 사이프러스에 공식 스토어 오픈 예정 ../bbs/board.php?bo_table=news&wr_id=2151213\n",
      "저커버그의 고민…\"페북에 사생활 공유를 안하네\" ../bbs/board.php?bo_table=news&wr_id=2151172\n",
      "어도비, 랜섬웨어 공격 관련 긴급 플래시 보안 업데이트 배포 ../bbs/board.php?bo_table=news&wr_id=2151092\n"
     ]
    }
   ],
   "source": [
    "for node in root.xpath('.//td[@class=\"post_subject\"]/a'): ## a tag에 class명이 없기 때문에 상위 td 를 통해 a 태그를 찾음\n",
    "    print(node.text_content(), node.attrib['href'])"
   ]
  },
  {
   "cell_type": "code",
   "execution_count": 22,
   "metadata": {
    "collapsed": true
   },
   "outputs": [],
   "source": [
    "from urllib.parse import urljoin ## 상대주소 처리를 위한 모듈"
   ]
  },
  {
   "cell_type": "code",
   "execution_count": 23,
   "metadata": {
    "collapsed": true
   },
   "outputs": [],
   "source": [
    "board_url = 'http://clien.net/cs2/bbs/board.php?bo_table=news'\n",
    "subject_path = './/td[@class=\"post_subject\"]/a'"
   ]
  },
  {
   "cell_type": "code",
   "execution_count": 32,
   "metadata": {
    "collapsed": false
   },
   "outputs": [],
   "source": [
    "with open('clien.csv', 'w', encoding = 'utf8') as f:\n",
    "    w = csv.writer(f) ## csv 형식의 객체로 만들어줌\n",
    "    for page in range(1,3):\n",
    "        page_url = board_url+'&page={}'.format(page)\n",
    "        for node in extract(page_url, subject_path):\n",
    "            title = node.text_content()\n",
    "            url = node.attrib['href']\n",
    "            full_path = urljoin(board_url, url)\n",
    "            post_content = extract(full_path, './/div[@id=\"resContents\"]')[0]\n",
    "            w.writerow([title, full_path, post_content.text_content()])"
   ]
  },
  {
   "cell_type": "code",
   "execution_count": 53,
   "metadata": {
    "collapsed": false
   },
   "outputs": [
    {
     "data": {
      "text/plain": [
       "'&page=003'"
      ]
     },
     "execution_count": 53,
     "metadata": {},
     "output_type": "execute_result"
    }
   ],
   "source": [
    "'&page={:03d}'.format(3)"
   ]
  },
  {
   "cell_type": "code",
   "execution_count": 24,
   "metadata": {
    "collapsed": false
   },
   "outputs": [
    {
     "name": "stdout",
     "output_type": "stream",
     "text": [
      "1\n",
      "2\n"
     ]
    }
   ],
   "source": [
    "for i in range(1,3):\n",
    "    print (i)"
   ]
  },
  {
   "cell_type": "code",
   "execution_count": 13,
   "metadata": {
    "collapsed": false
   },
   "outputs": [
    {
     "name": "stdout",
     "output_type": "stream",
     "text": [
      "[공지] 이 게시판에 리플 작성시 포인트가 소진됩니다. http://clien.net/cs2/bbs/board.php?bo_table=news&wr_id=1488647&page=1\n",
      "[필독] 새로운 소식 게시판 이용규칙  -  20150728 최종수정 http://clien.net/cs2/bbs/board.php?bo_table=news&wr_id=962831&page=1\n",
      "NHK, 기존의 1/7 무게로 경량화된 1억 3300만 화소의 8K 카메라 개발 http://clien.net/cs2/bbs/board.php?bo_table=news&wr_id=2151799&page=1\n",
      "11줄의 코드, 인터넷을 패닉에 빠뜨리다 http://clien.net/cs2/bbs/board.php?bo_table=news&wr_id=2151724&page=1\n",
      "中 알리바바, 총상금 63억원 국제e스포츠대회 창설  http://clien.net/cs2/bbs/board.php?bo_table=news&wr_id=2151691&page=1\n",
      "강변 테크노마트, 페이백 판매 다시 단속한다 http://clien.net/cs2/bbs/board.php?bo_table=news&wr_id=2151668&page=1\n",
      "(루머) 안드로이드 N 프리뷰 비 넥서스기기에도 배포 예정? http://clien.net/cs2/bbs/board.php?bo_table=news&wr_id=2151666&page=1\n",
      "SpaceX, 팔콘 9 로켓 드론 바지선 해상착륙 성공 동영상 4K로 공개 http://clien.net/cs2/bbs/board.php?bo_table=news&wr_id=2151632&page=1\n",
      "\"아들 출산 어려워\" 네안데르탈인 사라진 이유 http://clien.net/cs2/bbs/board.php?bo_table=news&wr_id=2151587&page=1\n",
      "[루머] 분석가: 애플워치 2 올 6월 WWDC에서 공개, 최대 40%까지 더 얇아질 것 http://clien.net/cs2/bbs/board.php?bo_table=news&wr_id=2151534&page=1\n",
      "마이크로소프트. Visual Studio \"15\" 프리뷰 배포 http://clien.net/cs2/bbs/board.php?bo_table=news&wr_id=2151481&page=1\n",
      "지문 인식 스캐너를 내장한 '파나소닉 엘루가 아크' http://clien.net/cs2/bbs/board.php?bo_table=news&wr_id=2151477&page=1\n",
      "라그나로크 모바일 출시가 얼마 안남은듯. 티저 공개 http://clien.net/cs2/bbs/board.php?bo_table=news&wr_id=2151469&page=1\n",
      "블랙베리CEO, 2개의 중가형 안드로이드 스마트폰 준비중 http://clien.net/cs2/bbs/board.php?bo_table=news&wr_id=2151465&page=1\n",
      "루머)HTC 10에는 전면OIS카메라 센서가 탑재? http://clien.net/cs2/bbs/board.php?bo_table=news&wr_id=2151453&page=1\n",
      "마이크로소프트 에지브라우저에서도 플래시 단속 시작 http://clien.net/cs2/bbs/board.php?bo_table=news&wr_id=2151442&page=1\n",
      "LG G5, 판매 첫 주인 4월 1주차 주간 스마트폰 판매량 1, 4, 5위로 진입 http://clien.net/cs2/bbs/board.php?bo_table=news&wr_id=2151370&page=1\n",
      "구글, 안드로이드 주언어로 스위프트 고려중 http://clien.net/cs2/bbs/board.php?bo_table=news&wr_id=2151358&page=1\n",
      "인도에서 우버 운전자가 승객이 쏜 총에 맞고 숨져 http://clien.net/cs2/bbs/board.php?bo_table=news&wr_id=2151345&page=1\n",
      "갤럭시S7 카메라 ‘왜곡’ 논란…“하드웨어 문제 가능성” http://clien.net/cs2/bbs/board.php?bo_table=news&wr_id=2151324&page=1\n",
      "‘아이폰6 불법 보조금 대란’ 이통3사·임원 기소 http://clien.net/cs2/bbs/board.php?bo_table=news&wr_id=2151319&page=1\n",
      "이달 서울서 영업하는 '광대은행'…애플페이 서비스 시작 http://clien.net/cs2/bbs/board.php?bo_table=news&wr_id=2151292&page=1\n",
      "영국 최대은행 바클레이도 애플페이 서비스 합류 http://clien.net/cs2/bbs/board.php?bo_table=news&wr_id=2151290&page=1\n",
      "루머)갤럭시노트6는 IP68방수방진에 홍채인식센서 탑재? http://clien.net/cs2/bbs/board.php?bo_table=news&wr_id=2151240&page=1\n",
      "애플, 이스라엘에 첫 공식 스토어 오픈 예정 http://clien.net/cs2/bbs/board.php?bo_table=news&wr_id=2151224&page=1\n",
      "애플, 사이프러스에 공식 스토어 오픈 예정 http://clien.net/cs2/bbs/board.php?bo_table=news&wr_id=2151213&page=1\n",
      "저커버그의 고민…\"페북에 사생활 공유를 안하네\" http://clien.net/cs2/bbs/board.php?bo_table=news&wr_id=2151172&page=1\n",
      "어도비, 랜섬웨어 공격 관련 긴급 플래시 보안 업데이트 배포 http://clien.net/cs2/bbs/board.php?bo_table=news&wr_id=2151092&page=1\n",
      "MS, iOS용 허브 키보드 앱 출시 http://clien.net/cs2/bbs/board.php?bo_table=news&wr_id=2151082&page=1\n",
      "15년소식)더 워킹데드 시즌1 한국어 음성 패치 등장 http://clien.net/cs2/bbs/board.php?bo_table=news&wr_id=2151080&page=1\n",
      "Galaxy Note2용 스마트폰 배터리 가품 회수 및 환불안내 http://clien.net/cs2/bbs/board.php?bo_table=news&wr_id=2151072&page=1\n",
      "폰아레나, 애플 iPhone SE 리뷰 게재 http://clien.net/cs2/bbs/board.php?bo_table=news&wr_id=2151033&page=1\n",
      "[공지] 이 게시판에 리플 작성시 포인트가 소진됩니다. http://clien.net/cs2/bbs/board.php?bo_table=news&wr_id=1488647&page=1\n",
      "[필독] 새로운 소식 게시판 이용규칙  -  20150728 최종수정 http://clien.net/cs2/bbs/board.php?bo_table=news&wr_id=962831&page=1\n",
      "플웨즈, LG G5 밝기 저하 이슈 제기해 http://clien.net/cs2/bbs/board.php?bo_table=news&wr_id=2151028&page=2\n",
      "공정위, 수리업체에 `횡포` 애플 제재…불공정약관 자진시정한다 http://clien.net/cs2/bbs/board.php?bo_table=news&wr_id=2151015&page=2\n",
      "10분이면 송 씨만큼 한다...암호 무력화 '리눅스 USB'란 무엇 http://clien.net/cs2/bbs/board.php?bo_table=news&wr_id=2151001&page=2\n",
      "LG전자의 F590은 LG-L5000. 뉴클론 탑재 http://clien.net/cs2/bbs/board.php?bo_table=news&wr_id=2150958&page=2\n",
      "루머)새로운 모토 X 시리즈로 추정되는 이미지 포착 http://clien.net/cs2/bbs/board.php?bo_table=news&wr_id=2150953&page=2\n",
      "삼성전자. 삼성페이 인앱결제 도입 검토, 가상현실과의 결합도 논의중 http://clien.net/cs2/bbs/board.php?bo_table=news&wr_id=2150922&page=2\n",
      "Meizu Pro 6의 첫번째 공식이미지 등장 http://clien.net/cs2/bbs/board.php?bo_table=news&wr_id=2150918&page=2\n",
      "애플 특허 출원: 미래의 맥북, 키들 대신에 플랫한 표면에 입력할 것 암시해 http://clien.net/cs2/bbs/board.php?bo_table=news&wr_id=2150874&page=2\n",
      "FBI, 아이폰 5c만 해킹 가능하다고 밝혀 http://clien.net/cs2/bbs/board.php?bo_table=news&wr_id=2150753&page=2\n",
      "레딧 공식 앱 출시, 3개월간 골드 혜택 제공 http://clien.net/cs2/bbs/board.php?bo_table=news&wr_id=2150736&page=2\n",
      "애플 앱스토어 가격정책 탓에 `한국고객은 호갱님` http://clien.net/cs2/bbs/board.php?bo_table=news&wr_id=2150673&page=2\n",
      "NVIDIA의 Icera 모뎀 사업 실패는 퀄컴 탓? http://clien.net/cs2/bbs/board.php?bo_table=news&wr_id=2150655&page=2\n",
      "FBI, '암호화제한법' 위해 美 의회에 아이폰 보안해제 방법 설명 http://clien.net/cs2/bbs/board.php?bo_table=news&wr_id=2150649&page=2\n",
      "Apple, Apple Watch 의 hermes 가죽 스트랩을 단품 판매한다고 발표. http://clien.net/cs2/bbs/board.php?bo_table=news&wr_id=2150636&page=2\n",
      "기어 360 미국 가격 http://clien.net/cs2/bbs/board.php?bo_table=news&wr_id=2150608&page=2\n",
      "화웨이 p9의 가격이 비싼 이유에 대답 http://clien.net/cs2/bbs/board.php?bo_table=news&wr_id=2150605&page=2\n",
      "엔비디아 지포스 GTX 1080&1070, 이미 생산 들어갔다 http://clien.net/cs2/bbs/board.php?bo_table=news&wr_id=2150586&page=2\n",
      "샤프 공식 트위터, 오늘 하루 마이크로소프트의 여고생 AI가 담당 http://clien.net/cs2/bbs/board.php?bo_table=news&wr_id=2150570&page=2\n",
      "통신사 1Q 영업이익 개선…주가전망은 'KT > LGU+ > SKT' 순 http://clien.net/cs2/bbs/board.php?bo_table=news&wr_id=2150563&page=2\n",
      "미국 도미노 피자, 원클릭 주문보다 간편한 '제로클릭' 주문 앱 발표 http://clien.net/cs2/bbs/board.php?bo_table=news&wr_id=2150559&page=2\n",
      "국민권익위원회, 소비자 혼란 야기하는 휴대전화 요금제 명칭 개선 방안 미래부에 권고 http://clien.net/cs2/bbs/board.php?bo_table=news&wr_id=2150544&page=2\n",
      "일본 연구소, 머리가 자라는 피부 재생에 성공 http://clien.net/cs2/bbs/board.php?bo_table=news&wr_id=2150535&page=2\n",
      "애플, 사용하지 않는 아이폰 기본앱을 감출수 있도록 할것 http://clien.net/cs2/bbs/board.php?bo_table=news&wr_id=2150532&page=2\n",
      "\"카카오스토리 짜증나\"…1년새 470만명 떠났다 http://clien.net/cs2/bbs/board.php?bo_table=news&wr_id=2150521&page=2\n",
      "샤오미, 트랜스포머로 변신하는 태블릿 발표 (GIF 파일 첨부, 데이터 주의) http://clien.net/cs2/bbs/board.php?bo_table=news&wr_id=2150501&page=2\n",
      "\"北 평양 인터넷 6일 밤 3시간 먹통\"<美매체> http://clien.net/cs2/bbs/board.php?bo_table=news&wr_id=2150494&page=2\n",
      "갤S7의 힘, IM 영업익 3조원 복귀 http://clien.net/cs2/bbs/board.php?bo_table=news&wr_id=2150491&page=2\n",
      "음란사이트 '소라넷' 폐쇄돼...경찰, 외국 핵심서버 압수 http://clien.net/cs2/bbs/board.php?bo_table=news&wr_id=2150448&page=2\n",
      "정부 \"한국지도 쓰려면 위성영상 손봐야\" 구글 \"NO\" http://clien.net/cs2/bbs/board.php?bo_table=news&wr_id=2150331&page=2\n",
      "삼성전자 1분기 영업 이익 6.6조 http://clien.net/cs2/bbs/board.php?bo_table=news&wr_id=2150317&page=2\n"
     ]
    }
   ],
   "source": [
    "for page in range(1,3):\n",
    "        page_url = board_url+'&page={}'.format(page)\n",
    "        for node in extract(page_url, subject_path):\n",
    "            title = node.text_content()\n",
    "            url = node.attrib['href']\n",
    "            full_path = urljoin(board_url, url)\n",
    "            print (title, full_path)"
   ]
  },
  {
   "cell_type": "code",
   "execution_count": 17,
   "metadata": {
    "collapsed": false
   },
   "outputs": [
    {
     "name": "stdout",
     "output_type": "stream",
     "text": [
      "\n",
      "\t\t\t\t\t\t\n",
      "\t\t   \r\n",
      "\t운영자입니다.\r\n",
      "\r\n",
      "\t \r\n",
      "\r\n",
      "\t새소식게시판에 리플 작성시 포인트가 50점 소진되도록 적용하였습니다.\r\n",
      "\r\n",
      "\t \r\n",
      "\r\n",
      "\t보다 신중하게 리플을 작성할 수 있기를 기대합니다.... 만\r\n",
      "\r\n",
      "\t \r\n",
      "\r\n",
      "\t의도대로 될지는 상황을 좀 더 지켜보도록 하겠습니다.\r\n",
      "\r\n",
      "\t \r\n",
      "\r\n",
      "\t \r\n",
      "\r\n",
      "\t리플작성시 한번 더 생각하고 신중하게 의견을 개진해주셨으면 합니다.\r\n",
      "\r\n",
      "\t \r\n",
      "\r\n",
      "\t* 출처 : 나\r\n",
      "\n",
      "\n",
      "\n",
      "\n",
      "\t\t    \n",
      "\t\t\t\t'이상'은 밤하늘의 별과 같아서...\r\n",
      "눈 앞에 있어도 손으로는 잡을 수 없는 건가 봅니다.\r\n",
      "\r\n",
      "언젠간...\r\n",
      "잡을수 있기를...\n",
      "\t\t\t\n",
      "        \n",
      "        \t\t\n",
      "\t\t\n",
      "        \n",
      "                                \n",
      "\t\t\n",
      "        \t\t\t\n"
     ]
    }
   ],
   "source": [
    "import requests\n",
    "res_con=requests.get('http://clien.net/cs2/bbs/board.php?bo_table=news&wr_id=1488647&page=1')\n",
    "res_con.encoding = 'utf8'\n",
    "root_content = lxml.html.fromstring(res_con.text)\n",
    "for content in root_content.xpath('.//div[@id=\"resContents\"]'):\n",
    "    print (content.text_content())\n"
   ]
  },
  {
   "cell_type": "code",
   "execution_count": 18,
   "metadata": {
    "collapsed": false
   },
   "outputs": [
    {
     "name": "stdout",
     "output_type": "stream",
     "text": [
      "\n",
      "\t\t\t\t\t\t\n",
      "\t\t   \r\n",
      "\t운영자입니다.\r\n",
      "\r\n",
      "\t \r\n",
      "\r\n",
      "\t새소식게시판에 리플 작성시 포인트가 50점 소진되도록 적용하였습니다.\r\n",
      "\r\n",
      "\t \r\n",
      "\r\n",
      "\t보다 신중하게 리플을 작성할 수 있기를 기대합니다.... 만\r\n",
      "\r\n",
      "\t \r\n",
      "\r\n",
      "\t의도대로 될지는 상황을 좀 더 지켜보도록 하겠습니다.\r\n",
      "\r\n",
      "\t \r\n",
      "\r\n",
      "\t \r\n",
      "\r\n",
      "\t리플작성시 한번 더 생각하고 신중하게 의견을 개진해주셨으면 합니다.\r\n",
      "\r\n",
      "\t \r\n",
      "\r\n",
      "\t* 출처 : 나\r\n",
      "\n",
      "\n",
      "\n",
      "\n",
      "\t\t    \n",
      "\t\t\t\t'이상'은 밤하늘의 별과 같아서...\r\n",
      "눈 앞에 있어도 손으로는 잡을 수 없는 건가 봅니다.\r\n",
      "\r\n",
      "언젠간...\r\n",
      "잡을수 있기를...\n",
      "\t\t\t\n",
      "        \n",
      "        \t\t\n",
      "\t\t\n",
      "        \n",
      "                                \n",
      "\t\t\n",
      "        \t\t\t\n"
     ]
    }
   ],
   "source": [
    "base_url = 'http://clien.net/cs2/bbs/board.php?bo_table=news&wr_id=1488647&page=1'\n",
    "for content in extract(base_url, './/div[@id=\"resContents\"]'):\n",
    "    print (content.text_content())"
   ]
  },
  {
   "cell_type": "code",
   "execution_count": 24,
   "metadata": {
    "collapsed": false
   },
   "outputs": [
    {
     "ename": "NameError",
     "evalue": "name 'extract' is not defined",
     "output_type": "error",
     "traceback": [
      "\u001b[1;31m---------------------------------------------------------------------------\u001b[0m",
      "\u001b[1;31mNameError\u001b[0m                                 Traceback (most recent call last)",
      "\u001b[1;32m<ipython-input-24-16e2522b626b>\u001b[0m in \u001b[0;36m<module>\u001b[1;34m()\u001b[0m\n\u001b[0;32m      3\u001b[0m \u001b[1;32mfor\u001b[0m \u001b[0mpage\u001b[0m \u001b[1;32min\u001b[0m \u001b[0mrange\u001b[0m\u001b[1;33m(\u001b[0m\u001b[1;36m1\u001b[0m\u001b[1;33m,\u001b[0m\u001b[1;36m3\u001b[0m\u001b[1;33m)\u001b[0m\u001b[1;33m:\u001b[0m\u001b[1;33m\u001b[0m\u001b[0m\n\u001b[0;32m      4\u001b[0m         \u001b[0mpage_url\u001b[0m \u001b[1;33m=\u001b[0m \u001b[0mboard_url\u001b[0m\u001b[1;33m+\u001b[0m\u001b[1;34m'&page={}'\u001b[0m\u001b[1;33m.\u001b[0m\u001b[0mformat\u001b[0m\u001b[1;33m(\u001b[0m\u001b[0mpage\u001b[0m\u001b[1;33m)\u001b[0m\u001b[1;33m\u001b[0m\u001b[0m\n\u001b[1;32m----> 5\u001b[1;33m         \u001b[1;32mfor\u001b[0m \u001b[0mnode\u001b[0m \u001b[1;32min\u001b[0m \u001b[0mextract\u001b[0m\u001b[1;33m(\u001b[0m\u001b[0mpage_url\u001b[0m\u001b[1;33m,\u001b[0m \u001b[0msubject_path\u001b[0m\u001b[1;33m)\u001b[0m\u001b[1;33m:\u001b[0m\u001b[1;33m\u001b[0m\u001b[0m\n\u001b[0m\u001b[0;32m      6\u001b[0m             \u001b[0mtitle\u001b[0m \u001b[1;33m=\u001b[0m \u001b[0mnode\u001b[0m\u001b[1;33m.\u001b[0m\u001b[0mtext_content\u001b[0m\u001b[1;33m(\u001b[0m\u001b[1;33m)\u001b[0m\u001b[1;33m\u001b[0m\u001b[0m\n\u001b[0;32m      7\u001b[0m             \u001b[0murl\u001b[0m \u001b[1;33m=\u001b[0m \u001b[0mnode\u001b[0m\u001b[1;33m.\u001b[0m\u001b[0mattrib\u001b[0m\u001b[1;33m[\u001b[0m\u001b[1;34m'href'\u001b[0m\u001b[1;33m]\u001b[0m\u001b[1;33m\u001b[0m\u001b[0m\n",
      "\u001b[1;31mNameError\u001b[0m: name 'extract' is not defined"
     ]
    }
   ],
   "source": [
    "board_url = 'http://clien.net/cs2/bbs/board.php?bo_table=news&wr_id=1488647&page=1'\n",
    "subject_path = './/td[@class=\"post_subject\"]/a'\n",
    "for page in range(1,3):\n",
    "        page_url = board_url+'&page={}'.format(page)\n",
    "        for node in extract(page_url, subject_path):\n",
    "            title = node.text_content()\n",
    "            url = node.attrib['href']\n",
    "            full_path = urljoin(board_url, url)\n",
    "            post_content = extract(full_path, './/div[@id=\"resContents\"]')[0]\n",
    "            print ([title, full_path, post_content.text_content()])"
   ]
  },
  {
   "cell_type": "markdown",
   "metadata": {},
   "source": [
    "# 파일 다루기"
   ]
  },
  {
   "cell_type": "code",
   "execution_count": 25,
   "metadata": {
    "collapsed": true
   },
   "outputs": [],
   "source": [
    "import csv # csv 관련 내용을 만들기 위한 모듈"
   ]
  },
  {
   "cell_type": "code",
   "execution_count": 26,
   "metadata": {
    "collapsed": false
   },
   "outputs": [],
   "source": [
    "with open('clien.csv', 'w') as f:\n",
    "    w = csv.writer(f) ## csv 형식의 객체로 만들어줌\n",
    "    w.writerow([1,2,3])"
   ]
  },
  {
   "cell_type": "code",
   "execution_count": 27,
   "metadata": {
    "collapsed": true
   },
   "outputs": [],
   "source": [
    "f = open('clien.txt', 'w')"
   ]
  },
  {
   "cell_type": "code",
   "execution_count": 28,
   "metadata": {
    "collapsed": false
   },
   "outputs": [
    {
     "data": {
      "text/plain": [
       "2"
      ]
     },
     "execution_count": 28,
     "metadata": {},
     "output_type": "execute_result"
    }
   ],
   "source": [
    "f.write('만세')"
   ]
  },
  {
   "cell_type": "code",
   "execution_count": 29,
   "metadata": {
    "collapsed": true
   },
   "outputs": [],
   "source": [
    "f.close() # 파일 닫기"
   ]
  },
  {
   "cell_type": "code",
   "execution_count": 30,
   "metadata": {
    "collapsed": false
   },
   "outputs": [],
   "source": [
    "with open('clien.txt', 'w') as f:\n",
    "    f.write(\"굳굳굳\")"
   ]
  },
  {
   "cell_type": "code",
   "execution_count": 31,
   "metadata": {
    "collapsed": true
   },
   "outputs": [],
   "source": [
    "def extract(url, path):\n",
    "    res = requests.get(url)\n",
    "    res.encoding = 'utf8'\n",
    "    root = lxml.html.fromstring(res.text)\n",
    "    return root.xpath(path)"
   ]
  },
  {
   "cell_type": "markdown",
   "metadata": {},
   "source": [
    "# 리스트"
   ]
  },
  {
   "cell_type": "markdown",
   "metadata": {},
   "source": [
    "Python에서는 여러 값을 다룰 때 리스트(list)라는 자료형을 사용합니다. R에서 벡터와 비슷합니다.\n",
    "\n",
    "아래 코드는 a라는 변수에 99, 48, 21, 102, 54 다섯 가지 수를 가지는 리스트를 저장합니다"
   ]
  },
  {
   "cell_type": "code",
   "execution_count": 19,
   "metadata": {
    "collapsed": true
   },
   "outputs": [],
   "source": [
    "a = [99, 48, 21, 102, 54]"
   ]
  },
  {
   "cell_type": "markdown",
   "metadata": {},
   "source": [
    "## 인덱싱(indexing)"
   ]
  },
  {
   "cell_type": "code",
   "execution_count": 20,
   "metadata": {
    "collapsed": false
   },
   "outputs": [
    {
     "data": {
      "text/plain": [
       "99"
      ]
     },
     "execution_count": 20,
     "metadata": {},
     "output_type": "execute_result"
    }
   ],
   "source": [
    "a[0]"
   ]
  },
  {
   "cell_type": "markdown",
   "metadata": {},
   "source": [
    "## 슬라이싱(slicing)"
   ]
  },
  {
   "cell_type": "code",
   "execution_count": 21,
   "metadata": {
    "collapsed": false
   },
   "outputs": [
    {
     "data": {
      "text/plain": [
       "[48, 21]"
      ]
     },
     "execution_count": 21,
     "metadata": {},
     "output_type": "execute_result"
    }
   ],
   "source": [
    "a[1:3]"
   ]
  },
  {
   "cell_type": "markdown",
   "metadata": {},
   "source": [
    "# 반복\n",
    "\n",
    "for문은 리스트의 값들을 순서대로 하나씩 처리합니다"
   ]
  },
  {
   "cell_type": "code",
   "execution_count": 25,
   "metadata": {
    "collapsed": false
   },
   "outputs": [
    {
     "name": "stdout",
     "output_type": "stream",
     "text": [
      "4\n",
      "3\n",
      "1\n",
      "2\n",
      "4\n"
     ]
    }
   ],
   "source": [
    "for i in a:\n",
    "    print(i % 5)  # i를 5으로 나눈 나머지를 출력"
   ]
  },
  {
   "cell_type": "code",
   "execution_count": null,
   "metadata": {
    "collapsed": true
   },
   "outputs": [],
   "source": []
  }
 ],
 "metadata": {
  "kernelspec": {
   "display_name": "Python 3",
   "language": "python",
   "name": "python3"
  },
  "language_info": {
   "codemirror_mode": {
    "name": "ipython",
    "version": 3
   },
   "file_extension": ".py",
   "mimetype": "text/x-python",
   "name": "python",
   "nbconvert_exporter": "python",
   "pygments_lexer": "ipython3",
   "version": "3.5.1"
  }
 },
 "nbformat": 4,
 "nbformat_minor": 0
}
