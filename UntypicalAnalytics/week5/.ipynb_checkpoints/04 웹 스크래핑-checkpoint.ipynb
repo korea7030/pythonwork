{
 "cells": [
  {
   "cell_type": "markdown",
   "metadata": {},
   "source": [
    "# GET"
   ]
  },
  {
   "cell_type": "code",
   "execution_count": 16,
   "metadata": {
    "collapsed": true
   },
   "outputs": [],
   "source": [
    "import requests"
   ]
  },
  {
   "cell_type": "code",
   "execution_count": 2,
   "metadata": {
    "collapsed": true
   },
   "outputs": [],
   "source": [
    "response = requests.get('http://www.naver.com')"
   ]
  },
  {
   "cell_type": "code",
   "execution_count": 3,
   "metadata": {
    "collapsed": false
   },
   "outputs": [
    {
     "data": {
      "text/plain": [
       "<Response [200]>"
      ]
     },
     "execution_count": 3,
     "metadata": {},
     "output_type": "execute_result"
    }
   ],
   "source": [
    "response"
   ]
  },
  {
   "cell_type": "markdown",
   "metadata": {},
   "source": [
    "200은 성공적으로 웹 페이지를 가져왔다는 뜻입니다"
   ]
  },
  {
   "cell_type": "code",
   "execution_count": 4,
   "metadata": {
    "collapsed": true
   },
   "outputs": [],
   "source": [
    "response = requests.get('http://j.mp/km-txt-slide')"
   ]
  },
  {
   "cell_type": "markdown",
   "metadata": {},
   "source": [
    "requests 라이브러리는 Redirection을 자동으로 처리해줍니다"
   ]
  },
  {
   "cell_type": "code",
   "execution_count": 5,
   "metadata": {
    "collapsed": false
   },
   "outputs": [
    {
     "data": {
      "text/plain": [
       "<Response [200]>"
      ]
     },
     "execution_count": 5,
     "metadata": {},
     "output_type": "execute_result"
    }
   ],
   "source": [
    "response"
   ]
  },
  {
   "cell_type": "code",
   "execution_count": 6,
   "metadata": {
    "collapsed": false
   },
   "outputs": [
    {
     "data": {
      "text/plain": [
       "'https://www.dropbox.com/sh/qnbmao4x0bjnf8p/AABB3Vb2SYez9PVe6-yR0THaa?dl=0'"
      ]
     },
     "execution_count": 6,
     "metadata": {},
     "output_type": "execute_result"
    }
   ],
   "source": [
    "response.url"
   ]
  },
  {
   "cell_type": "code",
   "execution_count": 7,
   "metadata": {
    "collapsed": false
   },
   "outputs": [
    {
     "data": {
      "text/plain": [
       "<Response [404]>"
      ]
     },
     "execution_count": 7,
     "metadata": {},
     "output_type": "execute_result"
    }
   ],
   "source": [
    "requests.get('http://www.naver.com/aaaaa')"
   ]
  },
  {
   "cell_type": "markdown",
   "metadata": {},
   "source": [
    "404는 존재하지 않는 주소를 나타내는 코드입니다"
   ]
  },
  {
   "cell_type": "code",
   "execution_count": 8,
   "metadata": {
    "collapsed": false
   },
   "outputs": [
    {
     "data": {
      "text/plain": [
       "<Response [200]>"
      ]
     },
     "execution_count": 8,
     "metadata": {},
     "output_type": "execute_result"
    }
   ],
   "source": [
    "requests.get('http://www.seoul.go.kr/v2007/sub/error.html')"
   ]
  },
  {
   "cell_type": "markdown",
   "metadata": {},
   "source": [
    "표준을 지키지 않는 경우 실제로 없는 페이지라도 200을 돌려주는 경우가 있습니다"
   ]
  },
  {
   "cell_type": "markdown",
   "metadata": {},
   "source": [
    "# 네이버 뉴스"
   ]
  },
  {
   "cell_type": "markdown",
   "metadata": {},
   "source": [
    "네이버 뉴스에서 \"알파고\"로 검색을 합니다"
   ]
  },
  {
   "cell_type": "code",
   "execution_count": 12,
   "metadata": {
    "collapsed": true
   },
   "outputs": [],
   "source": [
    "response = requests.get('http://news.naver.com/main/search/search.nhn?query=%BE%CB%C6%C4%B0%ED&ie=MS949&x=0&y=0')"
   ]
  },
  {
   "cell_type": "code",
   "execution_count": 13,
   "metadata": {
    "collapsed": false
   },
   "outputs": [
    {
     "data": {
      "text/plain": [
       "<Response [200]>"
      ]
     },
     "execution_count": 13,
     "metadata": {},
     "output_type": "execute_result"
    }
   ],
   "source": [
    "response"
   ]
  },
  {
   "cell_type": "markdown",
   "metadata": {},
   "source": [
    "응답의 인코딩을 cp949로 변경합니다"
   ]
  },
  {
   "cell_type": "code",
   "execution_count": 14,
   "metadata": {
    "collapsed": false
   },
   "outputs": [],
   "source": [
    "response.encoding = 'cp949'"
   ]
  },
  {
   "cell_type": "markdown",
   "metadata": {},
   "source": [
    "# HTML 처리"
   ]
  },
  {
   "cell_type": "code",
   "execution_count": 17,
   "metadata": {
    "collapsed": true
   },
   "outputs": [],
   "source": [
    "import lxml.html"
   ]
  },
  {
   "cell_type": "code",
   "execution_count": 16,
   "metadata": {
    "collapsed": false
   },
   "outputs": [],
   "source": [
    "root = lxml.html.fromstring(response.text)"
   ]
  },
  {
   "cell_type": "markdown",
   "metadata": {},
   "source": [
    "아래 코드는 Python 2에서 `print`를 Python 3와 같은 방식으로 하도록 변경합니다. Python 3에서는 아무 영향을 미치지 않습니다."
   ]
  },
  {
   "cell_type": "code",
   "execution_count": 17,
   "metadata": {
    "collapsed": true
   },
   "outputs": [],
   "source": [
    "from __future__ import print_function"
   ]
  },
  {
   "cell_type": "markdown",
   "metadata": {},
   "source": [
    "class가 tit인 a 태그를 모두 찾아, 하나씩 node라는 이름으로 처리합니다.\n",
    "각 노드의 텍스트와 href 속성을 출력합니다"
   ]
  },
  {
   "cell_type": "code",
   "execution_count": 18,
   "metadata": {
    "collapsed": false
   },
   "outputs": [
    {
     "name": "stdout",
     "output_type": "stream",
     "text": [
      "알파고 VS 이세돌 4-1로 마무리 http://www.newsmaker.or.kr/news/articleView.html?idxno=23971\n",
      "'알파고' 상표권 누가 갖게 될까? http://www.wikitree.co.kr/main/news_view.php?id=255758\n",
      "'알파고' 열풍 타고 몸 값 오른 AI스타트업 http://www.fnnews.com/news/201604081530435704\n",
      "[Movie Night] 영화 속에서 만난 알파고(AlphaGo), ‘인공지능 무비’ 4선 http://bntnews.hankyung.com/apps/news?popup=0&nid=05&c1=05&c2=05&c3=00&nkey=201604081541403&mode=sub_view\n",
      "알파고의 정교한 끝내기 http://www.hankookilbo.com/v/17ec2f6fa46c4fe6a8806d8d53a4d33d\n",
      "'딥러닝 실습'으로 인공지능 알파고를 배운다 http://www.focus.kr/view.php?key=2016040800170942040\n",
      "“머잖아 알파고 변호사 등장할 것” http://www.sedaily.com/NewsView/1KUYI7THT3\n",
      "금융 알파고 '로보어드바이저' 7월부터 시험대 오른다 http://news.mtn.co.kr/newscenter/news_viewer.mtn?gidx=2016040808205289579\n",
      "[조선에듀]“‘알파고 세대’ 위해 12년제 통합형 학교, 무학년제 도입해야” http://edu.chosun.com/site/data/html_dir/2016/04/08/2016040801532.html\n",
      "음성비서 알렉사의 우문현답 \"혹시 친척이 알파고?\" http://www.cnet.co.kr/view/100148061\n"
     ]
    }
   ],
   "source": [
    "for node in root.xpath('.//a[@class=\"tit\"]'):\n",
    "    print(node.text_content(), node.attrib['href'])"
   ]
  },
  {
   "cell_type": "markdown",
   "metadata": {},
   "source": [
    "# 클리앙 뉴스 받아오기"
   ]
  },
  {
   "cell_type": "code",
   "execution_count": 36,
   "metadata": {
    "collapsed": true
   },
   "outputs": [],
   "source": [
    "response = requests.get('http://www.clien.net/cs2/bbs/board.php?bo_table=news')"
   ]
  },
  {
   "cell_type": "code",
   "execution_count": 38,
   "metadata": {
    "collapsed": false
   },
   "outputs": [],
   "source": [
    "if response.encoding == 'ISO-8859-1':\n",
    "    response.encoding = 'utf8'"
   ]
  },
  {
   "cell_type": "code",
   "execution_count": 23,
   "metadata": {
    "collapsed": true
   },
   "outputs": [],
   "source": [
    "response.encoding = 'utf8'"
   ]
  },
  {
   "cell_type": "code",
   "execution_count": 40,
   "metadata": {
    "collapsed": false
   },
   "outputs": [],
   "source": [
    "root = lxml.html.fromstring(response.text)"
   ]
  },
  {
   "cell_type": "code",
   "execution_count": 41,
   "metadata": {
    "collapsed": false
   },
   "outputs": [
    {
     "name": "stdout",
     "output_type": "stream",
     "text": [
      "[공지] 이 게시판에 리플 작성시 포인트가 소진됩니다. ../bbs/board.php?bo_table=news&wr_id=1488647&page=1\n",
      "[필독] 새로운 소식 게시판 이용규칙  -  20150728 최종수정 ../bbs/board.php?bo_table=news&wr_id=962831&page=1\n",
      "강변 테크노마트, 페이백 판매 다시 단속한다 ../bbs/board.php?bo_table=news&wr_id=2151668\n",
      "(루머) 안드로이드 N 프리뷰 비 넥서스기기에도 배포 예정? ../bbs/board.php?bo_table=news&wr_id=2151666\n",
      "SpaceX, 팔콘 9 로켓 드론 바지선 해상착륙 성공 동영상 4K로 공개 ../bbs/board.php?bo_table=news&wr_id=2151632\n",
      "\"아들 출산 어려워\" 네안데르탈인 사라진 이유 ../bbs/board.php?bo_table=news&wr_id=2151587\n",
      "[루머] 분석가: 애플워치 2 올 6월 WWDC에서 공개, 최대 40%까지 더 얇아질 것 ../bbs/board.php?bo_table=news&wr_id=2151534\n",
      "마이크로소프트. Visual Studio \"15\" 프리뷰 배포 ../bbs/board.php?bo_table=news&wr_id=2151481\n",
      "지문 인식 스캐너를 내장한 '파나소닉 엘루가 아크' ../bbs/board.php?bo_table=news&wr_id=2151477\n",
      "라그나로크 모바일 출시가 얼마 안남은듯. 티저 공개 ../bbs/board.php?bo_table=news&wr_id=2151469\n",
      "블랙베리CEO, 2개의 중가형 안드로이드 스마트폰 준비중 ../bbs/board.php?bo_table=news&wr_id=2151465\n",
      "루머)HTC 10에는 전면OIS카메라 센서가 탑재? ../bbs/board.php?bo_table=news&wr_id=2151453\n",
      "마이크로소프트 에지브라우저에서도 플래시 단속 시작 ../bbs/board.php?bo_table=news&wr_id=2151442\n",
      "LG G5, 판매 첫 주인 4월 1주차 주간 스마트폰 판매량 1, 4, 5위로 진입 ../bbs/board.php?bo_table=news&wr_id=2151370\n",
      "구글, 안드로이드 주언어로 스위프트 고려중 ../bbs/board.php?bo_table=news&wr_id=2151358\n",
      "인도에서 우버 운전자가 승객이 쏜 총에 맞고 숨져 ../bbs/board.php?bo_table=news&wr_id=2151345\n",
      "갤럭시S7 카메라 ‘왜곡’ 논란…“하드웨어 문제 가능성” ../bbs/board.php?bo_table=news&wr_id=2151324\n",
      "‘아이폰6 불법 보조금 대란’ 이통3사·임원 기소 ../bbs/board.php?bo_table=news&wr_id=2151319\n",
      "이달 서울서 영업하는 '광대은행'…애플페이 서비스 시작 ../bbs/board.php?bo_table=news&wr_id=2151292\n",
      "영국 최대은행 바클레이도 애플페이 서비스 합류 ../bbs/board.php?bo_table=news&wr_id=2151290\n",
      "루머)갤럭시노트6는 IP68방수방진에 홍채인식센서 탑재? ../bbs/board.php?bo_table=news&wr_id=2151240\n",
      "애플, 이스라엘에 첫 공식 스토어 오픈 예정 ../bbs/board.php?bo_table=news&wr_id=2151224\n",
      "애플, 사이프러스에 공식 스토어 오픈 예정 ../bbs/board.php?bo_table=news&wr_id=2151213\n",
      "저커버그의 고민…\"페북에 사생활 공유를 안하네\" ../bbs/board.php?bo_table=news&wr_id=2151172\n",
      "어도비, 랜섬웨어 공격 관련 긴급 플래시 보안 업데이트 배포 ../bbs/board.php?bo_table=news&wr_id=2151092\n",
      "MS, iOS용 허브 키보드 앱 출시 ../bbs/board.php?bo_table=news&wr_id=2151082\n",
      "15년소식)더 워킹데드 시즌1 한국어 음성 패치 등장 ../bbs/board.php?bo_table=news&wr_id=2151080\n",
      "Galaxy Note2용 스마트폰 배터리 가품 회수 및 환불안내 ../bbs/board.php?bo_table=news&wr_id=2151072\n",
      "폰아레나, 애플 iPhone SE 리뷰 게재 ../bbs/board.php?bo_table=news&wr_id=2151033\n",
      "플웨즈, LG G5 밝기 저하 이슈 제기해 ../bbs/board.php?bo_table=news&wr_id=2151028\n",
      "공정위, 수리업체에 `횡포` 애플 제재…불공정약관 자진시정한다 ../bbs/board.php?bo_table=news&wr_id=2151015\n",
      "10분이면 송 씨만큼 한다...암호 무력화 '리눅스 USB'란 무엇 ../bbs/board.php?bo_table=news&wr_id=2151001\n"
     ]
    }
   ],
   "source": [
    "for node in root.xpath('.//td[@class=\"post_subject\"]/a'): ## a tag에 class명이 없기 때문에 상위 td 를 통해 a 태그를 찾음\n",
    "    print(node.text_content(), node.attrib['href'])"
   ]
  },
  {
   "cell_type": "code",
   "execution_count": 42,
   "metadata": {
    "collapsed": true
   },
   "outputs": [],
   "source": [
    "from urllib.parse import urljoin ## 상대주소 처리를 위한 모듈"
   ]
  },
  {
   "cell_type": "code",
   "execution_count": 52,
   "metadata": {
    "collapsed": true
   },
   "outputs": [],
   "source": [
    "board_url = 'http://clien.net/cs2/bbs/board.php?bo_table=news'\n",
    "subject_path = './/td[@class=\"post_subject\"]/a'"
   ]
  },
  {
   "cell_type": "code",
   "execution_count": 65,
   "metadata": {
    "collapsed": false
   },
   "outputs": [],
   "source": [
    "with open('clien.csv', 'w', encoding = 'utf8') as f:\n",
    "    w = csv.writer(f) ## csv 형식의 객체로 만들어줌\n",
    "    for page in range(1,3):\n",
    "        page_url = board_url+'&page={}'.format(page)\n",
    "        for node in extract(page_url, subject_path):\n",
    "            title = node.text_content()\n",
    "            url = node.attrib['href']\n",
    "            full_path = urljoin(board_url, url)\n",
    "            post_content = extract(full_path, './/div[@id=\"resContents\"]')[0]\n",
    "            w.writerow([title, full_path, post_content.text_content()])"
   ]
  },
  {
   "cell_type": "code",
   "execution_count": 53,
   "metadata": {
    "collapsed": false
   },
   "outputs": [
    {
     "data": {
      "text/plain": [
       "'&page=003'"
      ]
     },
     "execution_count": 53,
     "metadata": {},
     "output_type": "execute_result"
    }
   ],
   "source": [
    "'&page={:03d}'.format(3)"
   ]
  },
  {
   "cell_type": "markdown",
   "metadata": {},
   "source": [
    "# 파일 다루기"
   ]
  },
  {
   "cell_type": "code",
   "execution_count": 60,
   "metadata": {
    "collapsed": true
   },
   "outputs": [],
   "source": [
    "import csv # csv 관련 내용을 만들기 위한 모듈"
   ]
  },
  {
   "cell_type": "code",
   "execution_count": 61,
   "metadata": {
    "collapsed": true
   },
   "outputs": [],
   "source": [
    "with open('clien.txt', 'w') as f:\n",
    "    w = csv.writer(f) ## csv 형식의 객체로 만들어줌\n",
    "    w.writerow([1,2,3])"
   ]
  },
  {
   "cell_type": "code",
   "execution_count": 57,
   "metadata": {
    "collapsed": false
   },
   "outputs": [
    {
     "data": {
      "text/plain": [
       "2"
      ]
     },
     "execution_count": 57,
     "metadata": {},
     "output_type": "execute_result"
    }
   ],
   "source": [
    "f.write('만세')"
   ]
  },
  {
   "cell_type": "code",
   "execution_count": 66,
   "metadata": {
    "collapsed": true
   },
   "outputs": [],
   "source": [
    "f.close() # 파일 닫기"
   ]
  },
  {
   "cell_type": "code",
   "execution_count": 50,
   "metadata": {
    "collapsed": true
   },
   "outputs": [],
   "source": [
    "def extract(url, path):\n",
    "    res = requests.get(url)\n",
    "    res.encoding = 'utf8'\n",
    "    root = lxml.html.fromstring(res.text)\n",
    "    return root.xpath(path)"
   ]
  },
  {
   "cell_type": "markdown",
   "metadata": {},
   "source": [
    "# 리스트"
   ]
  },
  {
   "cell_type": "markdown",
   "metadata": {},
   "source": [
    "Python에서는 여러 값을 다룰 때 리스트(list)라는 자료형을 사용합니다. R에서 벡터와 비슷합니다.\n",
    "\n",
    "아래 코드는 a라는 변수에 99, 48, 21, 102, 54 다섯 가지 수를 가지는 리스트를 저장합니다"
   ]
  },
  {
   "cell_type": "code",
   "execution_count": 19,
   "metadata": {
    "collapsed": true
   },
   "outputs": [],
   "source": [
    "a = [99, 48, 21, 102, 54]"
   ]
  },
  {
   "cell_type": "markdown",
   "metadata": {},
   "source": [
    "## 인덱싱(indexing)"
   ]
  },
  {
   "cell_type": "code",
   "execution_count": 20,
   "metadata": {
    "collapsed": false
   },
   "outputs": [
    {
     "data": {
      "text/plain": [
       "99"
      ]
     },
     "execution_count": 20,
     "metadata": {},
     "output_type": "execute_result"
    }
   ],
   "source": [
    "a[0]"
   ]
  },
  {
   "cell_type": "markdown",
   "metadata": {},
   "source": [
    "## 슬라이싱(slicing)"
   ]
  },
  {
   "cell_type": "code",
   "execution_count": 21,
   "metadata": {
    "collapsed": false
   },
   "outputs": [
    {
     "data": {
      "text/plain": [
       "[48, 21]"
      ]
     },
     "execution_count": 21,
     "metadata": {},
     "output_type": "execute_result"
    }
   ],
   "source": [
    "a[1:3]"
   ]
  },
  {
   "cell_type": "markdown",
   "metadata": {},
   "source": [
    "# 반복\n",
    "\n",
    "for문은 리스트의 값들을 순서대로 하나씩 처리합니다"
   ]
  },
  {
   "cell_type": "code",
   "execution_count": 25,
   "metadata": {
    "collapsed": false
   },
   "outputs": [
    {
     "name": "stdout",
     "output_type": "stream",
     "text": [
      "4\n",
      "3\n",
      "1\n",
      "2\n",
      "4\n"
     ]
    }
   ],
   "source": [
    "for i in a:\n",
    "    print(i % 5)  # i를 5으로 나눈 나머지를 출력"
   ]
  },
  {
   "cell_type": "code",
   "execution_count": null,
   "metadata": {
    "collapsed": true
   },
   "outputs": [],
   "source": []
  }
 ],
 "metadata": {
  "kernelspec": {
   "display_name": "Python 3",
   "language": "python",
   "name": "python3"
  },
  "language_info": {
   "codemirror_mode": {
    "name": "ipython",
    "version": 3
   },
   "file_extension": ".py",
   "mimetype": "text/x-python",
   "name": "python",
   "nbconvert_exporter": "python",
   "pygments_lexer": "ipython3",
   "version": "3.5.1"
  }
 },
 "nbformat": 4,
 "nbformat_minor": 0
}
