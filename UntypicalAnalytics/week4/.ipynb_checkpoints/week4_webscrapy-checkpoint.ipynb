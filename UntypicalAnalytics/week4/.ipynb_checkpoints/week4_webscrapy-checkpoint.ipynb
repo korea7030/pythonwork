{
 "cells": [
  {
   "cell_type": "code",
   "execution_count": 1,
   "metadata": {
    "collapsed": true
   },
   "outputs": [],
   "source": [
    "import requests"
   ]
  },
  {
   "cell_type": "code",
   "execution_count": 3,
   "metadata": {
    "collapsed": false
   },
   "outputs": [],
   "source": [
    "response = requests.get('http://www.naver.com')  ## request.get 으로 naver에 요청"
   ]
  },
  {
   "cell_type": "code",
   "execution_count": 4,
   "metadata": {
    "collapsed": false
   },
   "outputs": [
    {
     "data": {
      "text/plain": [
       "<Response [200]>"
      ]
     },
     "execution_count": 4,
     "metadata": {},
     "output_type": "execute_result"
    }
   ],
   "source": [
    "response"
   ]
  },
  {
   "cell_type": "code",
   "execution_count": 5,
   "metadata": {
    "collapsed": true
   },
   "outputs": [],
   "source": [
    "response = requests.get('http://j.mp/km-txt-slide') ## url이 바뀌는 것도 requests에서 내부적으로 처리해줌"
   ]
  },
  {
   "cell_type": "code",
   "execution_count": 7,
   "metadata": {
    "collapsed": false
   },
   "outputs": [
    {
     "data": {
      "text/plain": [
       "'https://www.dropbox.com/sh/qnbmao4x0bjnf8p/AABB3Vb2SYez9PVe6-yR0THaa?dl=0'"
      ]
     },
     "execution_count": 7,
     "metadata": {},
     "output_type": "execute_result"
    }
   ],
   "source": [
    "response.url"
   ]
  },
  {
   "cell_type": "code",
   "execution_count": 11,
   "metadata": {
    "collapsed": true
   },
   "outputs": [],
   "source": [
    "import lxml.html"
   ]
  },
  {
   "cell_type": "code",
   "execution_count": 12,
   "metadata": {
    "collapsed": true
   },
   "outputs": [],
   "source": [
    "response = requests.get(\"http://news.naver.com/main/search/search.nhn?query=%BE%CB%C6%C4%B0%ED&ie=MS949&x=0&y=0\")"
   ]
  },
  {
   "cell_type": "code",
   "execution_count": 14,
   "metadata": {
    "collapsed": false
   },
   "outputs": [
    {
     "data": {
      "text/plain": [
       "'EUC-KR'"
      ]
     },
     "execution_count": 14,
     "metadata": {},
     "output_type": "execute_result"
    }
   ],
   "source": [
    "response.encoding "
   ]
  },
  {
   "cell_type": "code",
   "execution_count": 16,
   "metadata": {
    "collapsed": false
   },
   "outputs": [],
   "source": [
    "root = lxml.html.fromstring(response.text)"
   ]
  },
  {
   "cell_type": "code",
   "execution_count": 19,
   "metadata": {
    "collapsed": false
   },
   "outputs": [],
   "source": [
    "import cssselect"
   ]
  },
  {
   "cell_type": "code",
   "execution_count": 21,
   "metadata": {
    "collapsed": false
   },
   "outputs": [
    {
     "data": {
      "text/plain": [
       "[<Element a at 0x55d1318>,\n",
       " <Element a at 0x55d1368>,\n",
       " <Element a at 0x55d13b8>,\n",
       " <Element a at 0x55d1408>,\n",
       " <Element a at 0x55d1458>,\n",
       " <Element a at 0x55d14a8>,\n",
       " <Element a at 0x55d14f8>,\n",
       " <Element a at 0x55d1548>,\n",
       " <Element a at 0x55d1598>,\n",
       " <Element a at 0x55d15e8>,\n",
       " <Element a at 0x55d1638>,\n",
       " <Element a at 0x55d1688>,\n",
       " <Element a at 0x55d16d8>,\n",
       " <Element a at 0x55d1728>,\n",
       " <Element a at 0x55d1778>,\n",
       " <Element a at 0x55d17c8>,\n",
       " <Element a at 0x55d1818>,\n",
       " <Element a at 0x55d1868>,\n",
       " <Element a at 0x55d18b8>,\n",
       " <Element a at 0x55d1908>,\n",
       " <Element a at 0x55d1958>,\n",
       " <Element a at 0x55d19a8>,\n",
       " <Element a at 0x55d19f8>,\n",
       " <Element a at 0x55d1a48>,\n",
       " <Element a at 0x55d1a98>,\n",
       " <Element a at 0x55d1ae8>,\n",
       " <Element a at 0x55d1b38>,\n",
       " <Element a at 0x55d1b88>,\n",
       " <Element a at 0x55d1bd8>,\n",
       " <Element a at 0x55d1c28>,\n",
       " <Element a at 0x55d1c78>,\n",
       " <Element a at 0x55d1cc8>,\n",
       " <Element a at 0x55d1d18>,\n",
       " <Element a at 0x55d1d68>,\n",
       " <Element a at 0x55d1db8>,\n",
       " <Element a at 0x55d1e08>,\n",
       " <Element a at 0x55d1e58>,\n",
       " <Element a at 0x55d1ea8>,\n",
       " <Element a at 0x55d1ef8>,\n",
       " <Element a at 0x55d1f48>,\n",
       " <Element a at 0x55d1f98>,\n",
       " <Element a at 0x59ae048>,\n",
       " <Element a at 0x59ae098>,\n",
       " <Element a at 0x59ae0e8>,\n",
       " <Element a at 0x59ae138>,\n",
       " <Element a at 0x59ae188>,\n",
       " <Element a at 0x59ae1d8>,\n",
       " <Element a at 0x59ae228>,\n",
       " <Element a at 0x59ae278>,\n",
       " <Element a at 0x59ae2c8>,\n",
       " <Element a at 0x59ae318>,\n",
       " <Element a at 0x59ae368>,\n",
       " <Element a at 0x59ae3b8>,\n",
       " <Element a at 0x59ae408>,\n",
       " <Element a at 0x59ae458>,\n",
       " <Element a at 0x59ae4a8>,\n",
       " <Element a at 0x59ae4f8>,\n",
       " <Element a at 0x59ae548>,\n",
       " <Element a at 0x59ae598>,\n",
       " <Element a at 0x59ae5e8>,\n",
       " <Element a at 0x59ae638>,\n",
       " <Element a at 0x59ae688>,\n",
       " <Element a at 0x59ae6d8>,\n",
       " <Element a at 0x59ae728>,\n",
       " <Element a at 0x59ae778>,\n",
       " <Element a at 0x59ae7c8>,\n",
       " <Element a at 0x59ae818>,\n",
       " <Element a at 0x59ae868>,\n",
       " <Element a at 0x59ae8b8>,\n",
       " <Element a at 0x59ae908>,\n",
       " <Element a at 0x59ae958>,\n",
       " <Element a at 0x59ae9a8>,\n",
       " <Element a at 0x59ae9f8>,\n",
       " <Element a at 0x59aea48>,\n",
       " <Element a at 0x59aea98>,\n",
       " <Element a at 0x59aeae8>,\n",
       " <Element a at 0x59aeb38>,\n",
       " <Element a at 0x59aeb88>,\n",
       " <Element a at 0x59aebd8>,\n",
       " <Element a at 0x59aec28>,\n",
       " <Element a at 0x59aec78>,\n",
       " <Element a at 0x59aecc8>,\n",
       " <Element a at 0x59aed18>,\n",
       " <Element a at 0x59aed68>,\n",
       " <Element a at 0x59aedb8>,\n",
       " <Element a at 0x59aee08>,\n",
       " <Element a at 0x59aee58>,\n",
       " <Element a at 0x59aeea8>,\n",
       " <Element a at 0x59aeef8>,\n",
       " <Element a at 0x59aef48>,\n",
       " <Element a at 0x59aef98>,\n",
       " <Element a at 0x59af048>,\n",
       " <Element a at 0x59af098>,\n",
       " <Element a at 0x59af0e8>,\n",
       " <Element a at 0x59af138>,\n",
       " <Element a at 0x59af188>,\n",
       " <Element a at 0x59af1d8>,\n",
       " <Element a at 0x59af228>,\n",
       " <Element a at 0x59af278>,\n",
       " <Element a at 0x59af2c8>,\n",
       " <Element a at 0x59af318>,\n",
       " <Element a at 0x59af368>,\n",
       " <Element a at 0x59af3b8>,\n",
       " <Element a at 0x59af408>,\n",
       " <Element a at 0x59af458>,\n",
       " <Element a at 0x59af4a8>,\n",
       " <Element a at 0x59af4f8>,\n",
       " <Element a at 0x59af548>,\n",
       " <Element a at 0x59af598>,\n",
       " <Element a at 0x59af5e8>,\n",
       " <Element a at 0x59af638>,\n",
       " <Element a at 0x59af688>,\n",
       " <Element a at 0x59af6d8>,\n",
       " <Element a at 0x59af728>,\n",
       " <Element a at 0x59af778>,\n",
       " <Element a at 0x59af7c8>,\n",
       " <Element a at 0x59af818>,\n",
       " <Element a at 0x59af868>,\n",
       " <Element a at 0x59af8b8>,\n",
       " <Element a at 0x59af908>,\n",
       " <Element a at 0x59af958>,\n",
       " <Element a at 0x59af9a8>,\n",
       " <Element a at 0x59af9f8>,\n",
       " <Element a at 0x59afa48>,\n",
       " <Element a at 0x59afa98>,\n",
       " <Element a at 0x59afae8>,\n",
       " <Element a at 0x59afb38>,\n",
       " <Element a at 0x59afb88>,\n",
       " <Element a at 0x59afbd8>,\n",
       " <Element a at 0x59afc28>,\n",
       " <Element a at 0x59afc78>,\n",
       " <Element a at 0x59afcc8>,\n",
       " <Element a at 0x59afd18>,\n",
       " <Element a at 0x59afd68>,\n",
       " <Element a at 0x59afdb8>,\n",
       " <Element a at 0x59afe08>,\n",
       " <Element a at 0x59afe58>,\n",
       " <Element a at 0x59afea8>,\n",
       " <Element a at 0x59afef8>,\n",
       " <Element a at 0x59aff48>,\n",
       " <Element a at 0x59aff98>,\n",
       " <Element a at 0x59b0048>,\n",
       " <Element a at 0x59b0098>,\n",
       " <Element a at 0x59b00e8>,\n",
       " <Element a at 0x59b0138>,\n",
       " <Element a at 0x59b0188>,\n",
       " <Element a at 0x59b01d8>,\n",
       " <Element a at 0x59b0228>,\n",
       " <Element a at 0x59b0278>,\n",
       " <Element a at 0x59b02c8>,\n",
       " <Element a at 0x59b0318>,\n",
       " <Element a at 0x59b0368>,\n",
       " <Element a at 0x59b03b8>,\n",
       " <Element a at 0x59b0408>,\n",
       " <Element a at 0x59b0458>,\n",
       " <Element a at 0x59b04a8>,\n",
       " <Element a at 0x59b04f8>,\n",
       " <Element a at 0x59b0548>,\n",
       " <Element a at 0x59b0598>,\n",
       " <Element a at 0x59b05e8>,\n",
       " <Element a at 0x59b0638>,\n",
       " <Element a at 0x59b0688>,\n",
       " <Element a at 0x59b06d8>,\n",
       " <Element a at 0x59b0728>,\n",
       " <Element a at 0x59b0778>,\n",
       " <Element a at 0x59b07c8>,\n",
       " <Element a at 0x59b0818>,\n",
       " <Element a at 0x59b0868>,\n",
       " <Element a at 0x59b08b8>,\n",
       " <Element a at 0x59b0908>,\n",
       " <Element a at 0x59b0958>,\n",
       " <Element a at 0x59b09a8>,\n",
       " <Element a at 0x59b09f8>,\n",
       " <Element a at 0x59b0a48>,\n",
       " <Element a at 0x59b0a98>,\n",
       " <Element a at 0x59b0ae8>,\n",
       " <Element a at 0x59b0b38>,\n",
       " <Element a at 0x59b0b88>,\n",
       " <Element a at 0x59b0bd8>,\n",
       " <Element a at 0x59b0c28>,\n",
       " <Element a at 0x59b0c78>,\n",
       " <Element a at 0x59b0cc8>,\n",
       " <Element a at 0x59b0d18>,\n",
       " <Element a at 0x59b0d68>,\n",
       " <Element a at 0x59b0db8>,\n",
       " <Element a at 0x59b0e08>,\n",
       " <Element a at 0x59b0e58>,\n",
       " <Element a at 0x59b0ea8>,\n",
       " <Element a at 0x59b0ef8>,\n",
       " <Element a at 0x59b0f48>,\n",
       " <Element a at 0x59b0f98>,\n",
       " <Element a at 0x59b1048>,\n",
       " <Element a at 0x59b1098>,\n",
       " <Element a at 0x59b10e8>,\n",
       " <Element a at 0x59b1138>,\n",
       " <Element a at 0x59b1188>,\n",
       " <Element a at 0x59b11d8>,\n",
       " <Element a at 0x59b1228>,\n",
       " <Element a at 0x59b1278>,\n",
       " <Element a at 0x59b12c8>,\n",
       " <Element a at 0x59b1318>,\n",
       " <Element a at 0x59b1368>,\n",
       " <Element a at 0x59b13b8>,\n",
       " <Element a at 0x59b1408>,\n",
       " <Element a at 0x59b1458>,\n",
       " <Element a at 0x59b14a8>,\n",
       " <Element a at 0x59b14f8>,\n",
       " <Element a at 0x59b1548>,\n",
       " <Element a at 0x59b1598>,\n",
       " <Element a at 0x59b15e8>,\n",
       " <Element a at 0x59b1638>,\n",
       " <Element a at 0x59b1688>,\n",
       " <Element a at 0x59b16d8>,\n",
       " <Element a at 0x59b1728>,\n",
       " <Element a at 0x59b1778>,\n",
       " <Element a at 0x59b17c8>,\n",
       " <Element a at 0x59b1818>,\n",
       " <Element a at 0x59b1868>,\n",
       " <Element a at 0x59b18b8>,\n",
       " <Element a at 0x59b1908>,\n",
       " <Element a at 0x59b1958>,\n",
       " <Element a at 0x59b19a8>,\n",
       " <Element a at 0x59b19f8>,\n",
       " <Element a at 0x59b1a48>,\n",
       " <Element a at 0x59b1a98>,\n",
       " <Element a at 0x59b1ae8>,\n",
       " <Element a at 0x59b1b38>,\n",
       " <Element a at 0x59b1b88>,\n",
       " <Element a at 0x59b1bd8>,\n",
       " <Element a at 0x59b1c28>,\n",
       " <Element a at 0x59b1c78>,\n",
       " <Element a at 0x59b1cc8>,\n",
       " <Element a at 0x59b1d18>,\n",
       " <Element a at 0x59b1d68>,\n",
       " <Element a at 0x59b1db8>,\n",
       " <Element a at 0x59b1e08>,\n",
       " <Element a at 0x59b1e58>,\n",
       " <Element a at 0x59b1ea8>,\n",
       " <Element a at 0x59b1ef8>,\n",
       " <Element a at 0x59b1f48>,\n",
       " <Element a at 0x59b1f98>,\n",
       " <Element a at 0x59b2048>,\n",
       " <Element a at 0x59b2098>,\n",
       " <Element a at 0x59b20e8>,\n",
       " <Element a at 0x59b2138>,\n",
       " <Element a at 0x59b2188>,\n",
       " <Element a at 0x59b21d8>,\n",
       " <Element a at 0x59b2228>,\n",
       " <Element a at 0x59b2278>,\n",
       " <Element a at 0x59b22c8>,\n",
       " <Element a at 0x59b2318>,\n",
       " <Element a at 0x59b2368>,\n",
       " <Element a at 0x59b23b8>,\n",
       " <Element a at 0x59b2408>,\n",
       " <Element a at 0x59b2458>,\n",
       " <Element a at 0x59b24a8>,\n",
       " <Element a at 0x59b24f8>,\n",
       " <Element a at 0x59b2548>,\n",
       " <Element a at 0x59b2598>,\n",
       " <Element a at 0x59b25e8>,\n",
       " <Element a at 0x59b2638>,\n",
       " <Element a at 0x59b2688>,\n",
       " <Element a at 0x59b26d8>,\n",
       " <Element a at 0x59b2728>,\n",
       " <Element a at 0x59b2778>,\n",
       " <Element a at 0x59b27c8>,\n",
       " <Element a at 0x59b2818>,\n",
       " <Element a at 0x59b2868>,\n",
       " <Element a at 0x59b28b8>,\n",
       " <Element a at 0x59b2908>,\n",
       " <Element a at 0x59b2958>,\n",
       " <Element a at 0x59b29a8>,\n",
       " <Element a at 0x59b29f8>,\n",
       " <Element a at 0x59b2a48>,\n",
       " <Element a at 0x59b2a98>,\n",
       " <Element a at 0x59b2ae8>,\n",
       " <Element a at 0x59b2b38>,\n",
       " <Element a at 0x59b2b88>,\n",
       " <Element a at 0x59b2bd8>,\n",
       " <Element a at 0x59b2c28>,\n",
       " <Element a at 0x59b2c78>,\n",
       " <Element a at 0x59b2cc8>,\n",
       " <Element a at 0x59b2d18>,\n",
       " <Element a at 0x59b2d68>,\n",
       " <Element a at 0x59b2db8>,\n",
       " <Element a at 0x59b2e08>,\n",
       " <Element a at 0x59b2e58>,\n",
       " <Element a at 0x59b2ea8>,\n",
       " <Element a at 0x59b2ef8>,\n",
       " <Element a at 0x59b2f48>,\n",
       " <Element a at 0x59b2f98>,\n",
       " <Element a at 0x59b3048>,\n",
       " <Element a at 0x59b3098>,\n",
       " <Element a at 0x59b30e8>,\n",
       " <Element a at 0x59b3138>,\n",
       " <Element a at 0x59b3188>,\n",
       " <Element a at 0x59b31d8>,\n",
       " <Element a at 0x59b3228>,\n",
       " <Element a at 0x59b3278>,\n",
       " <Element a at 0x59b32c8>,\n",
       " <Element a at 0x59b3318>,\n",
       " <Element a at 0x59b3368>,\n",
       " <Element a at 0x59b33b8>,\n",
       " <Element a at 0x59b3408>,\n",
       " <Element a at 0x59b3458>,\n",
       " <Element a at 0x59b34a8>,\n",
       " <Element a at 0x59b34f8>,\n",
       " <Element a at 0x59b3548>,\n",
       " <Element a at 0x59b3598>,\n",
       " <Element a at 0x59b35e8>,\n",
       " <Element a at 0x59b3638>,\n",
       " <Element a at 0x59b3688>,\n",
       " <Element a at 0x59b36d8>,\n",
       " <Element a at 0x59b3728>,\n",
       " <Element a at 0x59b3778>,\n",
       " <Element a at 0x59b37c8>,\n",
       " <Element a at 0x59b3818>,\n",
       " <Element a at 0x59b3868>,\n",
       " <Element a at 0x59b38b8>,\n",
       " <Element a at 0x59b3908>,\n",
       " <Element a at 0x59b3958>,\n",
       " <Element a at 0x59b39a8>,\n",
       " <Element a at 0x59b39f8>,\n",
       " <Element a at 0x59b3a48>,\n",
       " <Element a at 0x59b3a98>,\n",
       " <Element a at 0x59b3ae8>,\n",
       " <Element a at 0x59b3b38>,\n",
       " <Element a at 0x59b3b88>,\n",
       " <Element a at 0x59b3bd8>,\n",
       " <Element a at 0x59b3c28>,\n",
       " <Element a at 0x59b3c78>,\n",
       " <Element a at 0x59b3cc8>,\n",
       " <Element a at 0x59b3d18>,\n",
       " <Element a at 0x59b3d68>,\n",
       " <Element a at 0x59b3db8>,\n",
       " <Element a at 0x59b3e08>,\n",
       " <Element a at 0x59b3e58>,\n",
       " <Element a at 0x59b3ea8>,\n",
       " <Element a at 0x59b3ef8>,\n",
       " <Element a at 0x59b3f48>,\n",
       " <Element a at 0x59b3f98>,\n",
       " <Element a at 0x59b4048>,\n",
       " <Element a at 0x59b4098>,\n",
       " <Element a at 0x59b40e8>,\n",
       " <Element a at 0x59b4138>,\n",
       " <Element a at 0x59b4188>]"
      ]
     },
     "execution_count": 21,
     "metadata": {},
     "output_type": "execute_result"
    }
   ],
   "source": [
    "root.xpath('.//a') ## 현재위치로부터 //(다다음위치)에 a 를 찾아라"
   ]
  },
  {
   "cell_type": "code",
   "execution_count": 29,
   "metadata": {
    "collapsed": false
   },
   "outputs": [
    {
     "name": "stdout",
     "output_type": "stream",
     "text": [
      "'SNL7' 지코 VS 유세윤, '쇼미더알파고' 랩배틀 펼쳐진다! http://sports.chosun.com/news/ntype.htm?id=201603270100235610016468&servicedate=20160326\n",
      "[바둑 여신들이 구글에게] “알파고 참가하는 세계바둑대회 만들어 주세요” http://sports.khan.co.kr/news/sk_index.html?cat=view&art_id=201603260928423&sec_id=561601&pt=nv\n",
      "보험업계에 몰아친 알파고, 유쾌한 언더라이팅의 변신 http://www.mediapen.com/news/view/134876\n",
      "[시선강탈] '웃찾사' 최국 \"알파고, 미래에 국회의원 될 확률 절대 없다\" 왜? http://tvdaily.asiae.co.kr/read.php3?aid=14589432091093235019\n",
      "AI 결정판 '알파고' 일반의 대체할까? http://www.monews.co.kr/news/articleView.html?idxno=90278\n",
      "[칼럼]알파고의 승리를 놓고 하는 말들 http://www.docdocdoc.co.kr/news/newsview.php?newscd=2016032500016\n",
      "'알파고'가 명함 디자인을 한다면? http://www.ohmynews.com/NWS_Web/View/at_pg.aspx?CNTN_CD=A0002193498\n",
      "[바둑 여성 캐스터 삼총사의 ‘알파고 수다’]“전성기 시절 이창호 9단도…어렵지 않을까요?” http://news.khan.co.kr/kh_news/khan_art_view.html?artid=201603252127095&code=980701\n",
      "[최영훈의 법과 사람]김무성 對 이한구… 이세돌 對 알파고 http://news.donga.com/3/all/20160326/77223294/1\n",
      "[한경 미디어 뉴스룸-한경 비타민] 한국 덮친 '알파고 쇼크'…국산 AI, 어디까지 왔나 http://www.hankyung.com/news/app/newsview.php?aid=2016032596511\n"
     ]
    }
   ],
   "source": [
    "for node in root.xpath('.//a[@class=\"tit\"]'):  ## a tag 중에 class attribute 가 tit인 것만 가져오기\n",
    "    print(node.text_content(), node.attrib['href']) ## 제목과 링크 출력"
   ]
  },
  {
   "cell_type": "code",
   "execution_count": 24,
   "metadata": {
    "collapsed": false
   },
   "outputs": [
    {
     "name": "stdout",
     "output_type": "stream",
     "text": [
      "http://static.news.naver.net/image/news/2015/02/snb_h_entertain.gif\n",
      "http://static.news.naver.net/image/news/2013/03/snb_h_sports.gif\n",
      "http://static.news.naver.net/image/news/2013/05/snb_h_newsstand.gif\n",
      "http://static.news.naver.net/image/news/2013/03/snb_h_weather.gif\n",
      "http://imgnews.naver.net/image/upload/item/2016/03/03/200452838_snb_h_election2016%25281%2529.gif\n",
      "http://static.naver.net/weather/images/w_icon/w_s21.gif\n",
      "http://static.naver.net/weather/images/w_icon/w_s1.gif\n",
      "http://static.naver.net/weather/images/w_icon/w_s21.gif\n",
      "http://static.naver.net/weather/images/w_icon/w_s2.gif\n",
      "http://static.naver.net/weather/images/w_icon/w_s2.gif\n",
      "http://static.naver.net/weather/images/w_icon/w_s21.gif\n",
      "http://static.naver.net/weather/images/w_icon/w_s3.gif\n",
      "http://static.naver.net/weather/images/w_icon/w_s3.gif\n",
      "http://static.naver.net/weather/images/w_icon/w_s1.gif\n",
      "http://static.naver.net/weather/images/w_icon/w_s4.gif\n",
      "http://static.naver.net/weather/images/w_icon/w_s21.gif\n",
      "http://static.naver.net/weather/images/w_icon/w_s2.gif\n",
      "http://static.naver.net/weather/images/w_icon/w_s4.gif\n",
      "http://static.naver.net/weather/images/w_icon/w_s3.gif\n",
      "http://imgnews.naver.net/image/news/2011/btn_searchbox_all.gif\n",
      "http://imgnews.naver.net/image/news/2009/ico_info2_14x14.gif\n",
      "http://imgnews.naver.net/image/news/2009/txt_login_layer.gif\n",
      "http://imgnews.naver.net/image/news/2010/ico_newspaper.gif\n",
      "http://imgnews.naver.net/image/thumb80/076/2016/03/26/2910396.jpg\n",
      "http://imgnews.naver.net/image/thumb80/144/2016/03/26/424234.jpg\n",
      "http://imgnews.naver.net/image/thumb80/5244/2016/03/26/107296.jpg\n",
      "http://imgnews.naver.net/image/thumb80/5129/2016/03/26/772023.jpg\n",
      "http://imgnews.naver.net/image/thumb80/5371/2016/03/26/13138.jpg\n",
      "http://imgnews.naver.net/image/thumb80/5229/2016/03/26/32407.jpg\n",
      "http://imgnews.naver.net/image/thumb80/047/2016/03/26/2111030.jpg\n",
      "http://imgnews.naver.net/image/thumb80/032/2016/03/25/2686610.jpg\n",
      "http://imgnews.naver.net/image/thumb80/020/2016/03/26/2958661.jpg\n",
      "http://imgnews.naver.net/image/thumb80/015/2016/03/26/3569817.jpg\n",
      "http://static.news.naver.net/image/news/2009/@h_content5.gif\n",
      "http://static.news.naver.net/image/news/2009/txt_more_link2.gif\n",
      "http://static.news.naver.net/image/upload/text2Image/2015/03/06/20150306_textImage_1202707.jpg?1425649601360\n",
      "http://imgnews.naver.net/image/upload/item/2016/03/25/213036194_4.jpg\n",
      "http://imgnews.naver.net/image/upload/item/2016/03/25/214245372_8.jpg\n",
      "http://imgnews.naver.net/image/upload/item/2016/03/25/213512193_6.jpg\n",
      "http://imgnews.naver.net/image/upload/item/2016/03/11/205522071_4.jpg\n",
      "http://imgnews.naver.net/image/upload/item/2016/03/25/214404011_9.jpg\n",
      "http://static.news.naver.net/image/upload/text2Image/2015/08/10/20150810_textImage_5413833.jpg?1439183862394\n",
      "http://dthumb.phinf.naver.net/?src=http://imgnews.naver.net/image/origin/079/2016/03/26/2813393.jpg&twidth=70&theight=50&opts=10\n",
      "http://static.news.naver.net/image/news/2009/ico_n_8x8.gif\n",
      "http://static.news.naver.net/image/news/2009/@h_content21.gif\n",
      "http://static.news.naver.net/image/news/2009/txt_more_link2.gif\n",
      "http://static.news.naver.net/image/upload/text2Image/2015/12/31/20151231_textImage_43922069.jpg?1451527694556\n",
      "http://imgnews.naver.net/image/upload/item/2015/03/18/095339765_%25BF%25EC%25C3%25F8%25B9%25E8%25B3%25CA_244X90.png\n",
      "http://static.news.naver.net/image/news/2009/txt_more_link2.gif\n",
      "http://static.news.naver.net/image/news/2010/@h_content24.gif\n",
      "http://static.news.naver.net/image/news/2010/ico_right_question.gif\n",
      "http://static.news.naver.net/image/news/2010/ico_right_new.gif\n",
      "http://static.news.naver.net/image/news/2010/ico_right_new.gif\n",
      "http://static.news.naver.net/image/news/2010/ico_right_new.gif\n",
      "http://static.news.naver.net/image/news/2010/ico_right_new.gif\n",
      "http://static.news.naver.net/image/news/2010/ico_right_new.gif\n"
     ]
    }
   ],
   "source": [
    "for img in root.xpath('.//img'):\n",
    "    print(img.attrib['src'])"
   ]
  }
 ],
 "metadata": {
  "kernelspec": {
   "display_name": "Python 3",
   "language": "python",
   "name": "python3"
  },
  "language_info": {
   "codemirror_mode": {
    "name": "ipython",
    "version": 3
   },
   "file_extension": ".py",
   "mimetype": "text/x-python",
   "name": "python",
   "nbconvert_exporter": "python",
   "pygments_lexer": "ipython3",
   "version": "3.5.1"
  }
 },
 "nbformat": 4,
 "nbformat_minor": 0
}
