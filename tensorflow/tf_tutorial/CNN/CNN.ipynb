{
 "cells": [
  {
   "cell_type": "code",
   "execution_count": 1,
   "metadata": {},
   "outputs": [
    {
     "name": "stdout",
     "output_type": "stream",
     "text": [
      "Successfully downloaded train-images-idx3-ubyte.gz 9912422 bytes.\n",
      "Extracting ./mnist/data/train-images-idx3-ubyte.gz\n",
      "Successfully downloaded train-labels-idx1-ubyte.gz 28881 bytes.\n",
      "Extracting ./mnist/data/train-labels-idx1-ubyte.gz\n",
      "Successfully downloaded t10k-images-idx3-ubyte.gz 1648877 bytes.\n",
      "Extracting ./mnist/data/t10k-images-idx3-ubyte.gz\n",
      "Successfully downloaded t10k-labels-idx1-ubyte.gz 4542 bytes.\n",
      "Extracting ./mnist/data/t10k-labels-idx1-ubyte.gz\n"
     ]
    }
   ],
   "source": [
    "# 이미지 처리 분야의 신경망 모델인 CNN을 이용\n",
    "import tensorflow as tf\n",
    "from tensorflow.examples.tutorials.mnist import input_data\n",
    "mnist = input_data.read_data_sets(\"./mnist/data/\", one_hot=True)"
   ]
  },
  {
   "cell_type": "code",
   "execution_count": 2,
   "metadata": {
    "collapsed": true
   },
   "outputs": [],
   "source": [
    "#######\n",
    "# 신경망 모델 구성\n",
    "#######\n",
    "# 기존 모델에서는 입력 값을 28x28 하나의 차원으로 구성\n",
    "# CNN 모델은 2차원 평면과 특성치의 형태를 갖는 구조로 만들어야 함\n",
    "X = tf.placeholder(tf.float32, [None, 28, 28, 1])\n",
    "Y = tf.placeholder(tf.float32, [None, 10])\n",
    "keep_prob = tf.placeholder(tf.float32)\n",
    "\n",
    "# 각각의 변수와 레이어는 다음과 같은 형태로 구성\n",
    "# W1 [3 3 1 32] -> [3 3]: 커널 크기 , 1: 입력값 X의 특성수, 32: 필터개수\n",
    "# L1 Conv Shape=(?, 28, 28, 32)\n",
    "#     Pool    ->(?, 14, 14, 32)\n",
    "W1 = tf.Variable(tf.random_normal([3, 3, 1, 32], stddev=0.01))\n",
    "# tf.nn.conv2d 를 이용해 한칸씩 움직이는 convolution layer를 쉽게 만들 수 있음\n",
    "# padding='SAME' 은 커널 슬라이딩시 최외곽에서 한칸 밖으로 padding 추가 옵션\n",
    "L1 = tf.nn.conv2d(X, W1, strides=[1,1,1,1], padding='SAME')\n",
    "L1 = tf.nn.relu(L1)\n",
    "# Pooling 역시 tf.nn.max_pool 을 이용하여 쉽게 구성할 수 있음\n",
    "L1 = tf.nn.max_pool(L1, ksize=[1,2,2,1], strides=[1,2,2,1], padding='SAME')\n",
    "L1 = tf.nn.dropout(L1, keep_prob) # dropout\n",
    "\n",
    "# L2 Conv shape=(?, 14,14,64)\n",
    "#    Pool     ->(?, 7, 7, 64)\n",
    "# W2의 [3,3,32,64] 에서 32는 L1에서 출력된 W1의 마지막 차원, 필터의 크기 \n",
    "W2 = tf.Variable(tf.random_normal([3,3,32,64], stddev=0.01))\n",
    "L2 = tf.nn.conv2d(L1, W2, strides=[1,1,1,1], padding='SAME')\n",
    "L2 = tf.nn.relu(L2)\n",
    "L2 = tf.nn.max_pool(L2, ksize=[1,2,2,1], strides=[1,2,2,1], padding='SAME')\n",
    "L2 = tf.nn.dropout(L2, keep_prob)\n",
    "\n",
    "# FC layer : 입력값 7x7x64 -> 출력값 256\n",
    "# Full connect를 위해 직전의 Pool 사이즈인 (?, 7, 7, 64)를 참고하여 차원을 줄여줌\n",
    "#    Reshape -> (?, 256)\n",
    "W3 = tf.Variable(tf.random_normal([7*7*64, 256], stddev=0.01))\n",
    "L3 = tf.reshape(L2, [-1, 7*7*64])\n",
    "L3 = tf.matmul(L3, W3)\n",
    "L3 = tf.nn.relu(L3)\n",
    "L3 = tf.nn.dropout(L3, keep_prob)\n",
    "\n",
    "# 최종 출력값 L3에서의 출력 256개를 입력값으로 받아서 0~9 레이블인 10개의 출력값을 만듦\n",
    "W4 = tf.Variable(tf.random_normal([256,10], stddev=0.01))\n",
    "model = tf.matmul(L3, W4)\n",
    "\n",
    "cost = tf.reduce_mean(tf.nn.softmax_cross_entropy_with_logits(logits=model, labels=Y))\n",
    "optimizer = tf.train.AdamOptimizer(0.001).minimize(cost)\n",
    "# RMSPropOptimizer 로 바꿔서 확인\n",
    "# optimizer = tf.train.RMSPropOptimizer(0.001, 0.9).minimize(cost)"
   ]
  },
  {
   "cell_type": "code",
   "execution_count": 3,
   "metadata": {},
   "outputs": [
    {
     "name": "stdout",
     "output_type": "stream",
     "text": [
      "Epoch :  0001 Avg. cost =  0.390\n",
      "Epoch :  0002 Avg. cost =  0.140\n",
      "Epoch :  0003 Avg. cost =  0.111\n",
      "Epoch :  0004 Avg. cost =  0.086\n",
      "Epoch :  0005 Avg. cost =  0.072\n",
      "Epoch :  0006 Avg. cost =  0.064\n",
      "Epoch :  0007 Avg. cost =  0.057\n",
      "Epoch :  0008 Avg. cost =  0.051\n",
      "Epoch :  0009 Avg. cost =  0.046\n",
      "Epoch :  0010 Avg. cost =  0.041\n",
      "Epoch :  0011 Avg. cost =  0.036\n",
      "Epoch :  0012 Avg. cost =  0.034\n",
      "Epoch :  0013 Avg. cost =  0.033\n",
      "Epoch :  0014 Avg. cost =  0.030\n",
      "Epoch :  0015 Avg. cost =  0.028\n",
      "최적화 완료\n"
     ]
    }
   ],
   "source": [
    "#######\n",
    "# 신경망 모델 학습\n",
    "#######\n",
    "init = tf.global_variables_initializer()\n",
    "sess = tf.Session()\n",
    "sess.run(init)\n",
    "\n",
    "batch_size=100\n",
    "total_batch = int(mnist.train.num_examples / batch_size)\n",
    "\n",
    "for epoch in range(15):\n",
    "    total_cost  = 0\n",
    "    \n",
    "    for i in range(total_batch):\n",
    "        batch_xs, batch_ys = mnist.train.next_batch(batch_size)\n",
    "        # 이미지 데이터를 CNN 모델을 위한 자료형태인 [28 28 1] 형태로 재구성\n",
    "        batch_xs = batch_xs.reshape(-1, 28,28,1)\n",
    "        \n",
    "        _, cost_val = sess.run([optimizer, cost], feed_dict={X: batch_xs, Y: batch_ys, keep_prob: 0.7})\n",
    "        \n",
    "        total_cost += cost_val\n",
    "    \n",
    "    print('Epoch : ', '%04d' %(epoch +1), 'Avg. cost = ', '{:.3f}'.format(total_cost / total_batch))\n",
    "\n",
    "print('최적화 완료')"
   ]
  },
  {
   "cell_type": "code",
   "execution_count": 4,
   "metadata": {},
   "outputs": [
    {
     "name": "stdout",
     "output_type": "stream",
     "text": [
      "정확도 :  0.9911\n"
     ]
    }
   ],
   "source": [
    "#######\n",
    "# 결과 확인\n",
    "#######\n",
    "is_correct = tf.equal(tf.argmax(model,1), tf.argmax(Y,1))\n",
    "accuracy = tf.reduce_mean(tf.cast(is_correct, tf.float32))\n",
    "print('정확도 : ', sess.run(accuracy, feed_dict={X: mnist.test.images.reshape(-1, 28, 28,1), Y: mnist.test.labels, keep_prob : 1}))"
   ]
  }
 ],
 "metadata": {
  "kernelspec": {
   "display_name": "Python 3",
   "language": "python",
   "name": "python3"
  },
  "language_info": {
   "codemirror_mode": {
    "name": "ipython",
    "version": 3
   },
   "file_extension": ".py",
   "mimetype": "text/x-python",
   "name": "python",
   "nbconvert_exporter": "python",
   "pygments_lexer": "ipython3",
   "version": "3.6.1"
  }
 },
 "nbformat": 4,
 "nbformat_minor": 2
}
