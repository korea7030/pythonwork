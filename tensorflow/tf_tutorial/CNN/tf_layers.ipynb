{
 "cells": [
  {
   "cell_type": "code",
   "execution_count": 1,
   "metadata": {},
   "outputs": [
    {
     "name": "stdout",
     "output_type": "stream",
     "text": [
      "Extracting ./mnist/data/train-images-idx3-ubyte.gz\n",
      "Extracting ./mnist/data/train-labels-idx1-ubyte.gz\n",
      "Extracting ./mnist/data/t10k-images-idx3-ubyte.gz\n",
      "Extracting ./mnist/data/t10k-labels-idx1-ubyte.gz\n"
     ]
    }
   ],
   "source": [
    "# 신경망 구성을 손쉽게 해주는 tensorflow.layers를 사용\n",
    "# CNN.ipynb 파일을 재구성한 것이니 소스를 한 번 비교 하면 좋을듯\n",
    "import tensorflow as tf\n",
    "\n",
    "from tensorflow.examples.tutorials.mnist import input_data\n",
    "mnist = input_data.read_data_sets(\"./mnist/data/\", one_hot=True)"
   ]
  },
  {
   "cell_type": "code",
   "execution_count": 2,
   "metadata": {
    "collapsed": true
   },
   "outputs": [],
   "source": [
    "#######\n",
    "# 신경망 모델 구성\n",
    "#######\n",
    "X = tf.placeholder(tf.float32, [None, 28, 28, 1])\n",
    "Y = tf.placeholder(tf.float32, [None, 10])\n",
    "is_training = tf.placeholder(tf.bool)\n",
    "\n",
    "# 기본적으로 inputs, outputs size, kernel size 만 넣어주면\n",
    "# 활성화 함수 적용은 물론, 컨볼루션 신경망을 만들기 위한 나머지 수치들은 알아서 계산\n",
    "L1 = tf.layers.conv2d(X, 32, [3,3])\n",
    "L1 = tf.layers.max_pooling2d(L1, [2,2], [2,2])\n",
    "L1 = tf.layers.dropout(L1, 0.7, is_training)\n",
    "\n",
    "L2 = tf.layers.conv2d(L1, 64, [3,3])\n",
    "L2 = tf.layers.max_pooling2d(L2, [2,2], [2,2])\n",
    "L2 = tf.layers.dropout(L2, 0.7, is_training)\n",
    "\n",
    "L3 = tf.contrib.layers.flatten(L2)\n",
    "L3 = tf.layers.dense(L3, 256, activation=tf.nn.relu)\n",
    "L3 = tf.layers.dropout(L3, 0.5, is_training)\n",
    "\n",
    "model = tf.layers.dense(L3, 10, activation=None)\n",
    "\n",
    "cost = tf.reduce_mean(tf.nn.softmax_cross_entropy_with_logits(logits=model, labels=Y))\n",
    "optimizer = tf.train.AdamOptimizer(0.001).minimize(cost)"
   ]
  },
  {
   "cell_type": "code",
   "execution_count": 4,
   "metadata": {},
   "outputs": [
    {
     "name": "stdout",
     "output_type": "stream",
     "text": [
      "Epoch :  0001 Avg. cost =  0.0394\n",
      "Epoch :  0002 Avg. cost =  0.0148\n",
      "Epoch :  0003 Avg. cost =  0.0101\n",
      "Epoch :  0004 Avg. cost =  0.0085\n",
      "Epoch :  0005 Avg. cost =  0.0067\n",
      "Epoch :  0006 Avg. cost =  0.0066\n",
      "Epoch :  0007 Avg. cost =  0.0064\n",
      "Epoch :  0008 Avg. cost =  0.0055\n",
      "Epoch :  0009 Avg. cost =  0.0044\n",
      "Epoch :  0010 Avg. cost =  0.0045\n",
      "Epoch :  0011 Avg. cost =  0.0039\n",
      "Epoch :  0012 Avg. cost =  0.0036\n",
      "Epoch :  0013 Avg. cost =  0.0033\n",
      "Epoch :  0014 Avg. cost =  0.0039\n",
      "Epoch :  0015 Avg. cost =  0.0030\n",
      "최적화 완료\n"
     ]
    }
   ],
   "source": [
    "#######\n",
    "# 신경망 모델 학습\n",
    "#######\n",
    "init = tf.global_variables_initializer()\n",
    "sess = tf.Session()\n",
    "sess.run(init)\n",
    "\n",
    "batch_size=100\n",
    "total_batch = int(mnist.train.num_examples/batch_size)\n",
    "\n",
    "for epoch in range(15):\n",
    "    total_cost = 0\n",
    "    \n",
    "    for i in range(15):\n",
    "        batch_xs, batch_ys = mnist.train.next_batch(batch_size)\n",
    "        batch_xs = batch_xs.reshape(-1, 28, 28, 1)\n",
    "        _, cost_val = sess.run([optimizer, cost], feed_dict={X: batch_xs, Y: batch_ys, is_training:True})\n",
    "        \n",
    "        total_cost += cost_val\n",
    "        \n",
    "    print('Epoch : ', '%04d' %(epoch+1), 'Avg. cost = ', '{:.4f}'.format(total_cost / total_batch))\n",
    "    \n",
    "print ('최적화 완료')"
   ]
  },
  {
   "cell_type": "code",
   "execution_count": 5,
   "metadata": {},
   "outputs": [
    {
     "name": "stdout",
     "output_type": "stream",
     "text": [
      "정확도 :  0.9674\n"
     ]
    }
   ],
   "source": [
    "#######\n",
    "# 결과 확인\n",
    "#######\n",
    "is_correct = tf.equal(tf.argmax(model,1), tf.argmax(Y,1))\n",
    "accuracy = tf.reduce_mean(tf.cast(is_correct, tf.float32))\n",
    "print('정확도 : ', sess.run(accuracy, feed_dict={X: mnist.test.images.reshape(-1, 28,28,1), Y: mnist.test.labels, is_training:False}))"
   ]
  }
 ],
 "metadata": {
  "kernelspec": {
   "display_name": "Python 3",
   "language": "python",
   "name": "python3"
  },
  "language_info": {
   "codemirror_mode": {
    "name": "ipython",
    "version": 3
   },
   "file_extension": ".py",
   "mimetype": "text/x-python",
   "name": "python",
   "nbconvert_exporter": "python",
   "pygments_lexer": "ipython3",
   "version": "3.6.1"
  }
 },
 "nbformat": 4,
 "nbformat_minor": 2
}
