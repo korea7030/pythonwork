{
 "cells": [
  {
   "cell_type": "code",
   "execution_count": 1,
   "metadata": {
    "collapsed": true
   },
   "outputs": [],
   "source": [
    "# classification.ipynb 에서의 털 여부에 따라 종류를 구분하는 신경망 모델을 만들자\n",
    "# 딥러닝 구성\n",
    "import tensorflow as tf\n",
    "import numpy as np"
   ]
  },
  {
   "cell_type": "code",
   "execution_count": 2,
   "metadata": {
    "collapsed": true
   },
   "outputs": [],
   "source": [
    "# [털, 날개]\n",
    "x_data = np.array(\n",
    "    [[0, 0], [1, 0], [1, 1], [0, 0], [0, 0], [0, 1]])\n",
    "\n",
    "# [기타, 포유류, 조류]\n",
    "y_data = np.array([\n",
    "    [1, 0, 0],  # 기타\n",
    "    [0, 1, 0],  # 포유류\n",
    "    [0, 0, 1],  # 조류\n",
    "    [1, 0, 0],\n",
    "    [1, 0, 0],\n",
    "    [0, 0, 1]\n",
    "])"
   ]
  },
  {
   "cell_type": "code",
   "execution_count": 4,
   "metadata": {},
   "outputs": [],
   "source": [
    "#######\n",
    "# 신경망 모델 구성\n",
    "#######\n",
    "X = tf.placeholder(tf.float32)\n",
    "Y = tf.placeholder(tf.float32)\n",
    "\n",
    "# 첫번째 가중치의 차원은 [특성, 히든 레이어의 뉴런개수] -> [2, 10] 으로 지정\n",
    "W1 = tf.Variable(tf.random_uniform([2,10], -1., 1.))\n",
    "# 두번째 가중치의 차원을 [첫번째 히든 레이어의 뉴런 개수, 분류개수] -> [10, 3] 으로 지정\n",
    "W2 = tf.Variable(tf.random_uniform([10,3], -1., 1.))\n",
    "\n",
    "# 편향을 각각의 레이어의 아웃풋 개수로 설정\n",
    "# b1 은 히든 레이어의 뉴런 개수로, b2 는 최종 결과값 즉, 분류 개수인 3으로 설정\n",
    "b1 = tf.Variable(tf.zeros([10]))\n",
    "b2 = tf.Variable(tf.zeros([3]))\n",
    "\n",
    "# 신경망의 히든 레이어에 가중치 W1과 편향 b1을 적용\n",
    "L1 = tf.add(tf.matmul(X,W1), b1)\n",
    "L1 = tf.nn.relu(L1)\n",
    "\n",
    "# 최종적인 아웃풋을 계산\n",
    "# 히든레이어에 두번째 가중치 W2와 편향 b2를 적용하여 3개의 출력 구성\n",
    "model = tf.add(tf.matmul(L1, W2), b2)\n",
    "\n",
    "# tensorflow의 크로스 엔트로피 함수를 이용해\n",
    "# 복잡한 수식을 사용하지 않고도 최적화를 위한 비용함수를 적용 \n",
    "cost = tf.reduce_mean(tf.nn.softmax_cross_entropy_with_logits(labels=Y, logits=model))\n",
    "\n",
    "optimizer = tf.train.AdamOptimizer(learning_rate=0.01)\n",
    "train_op = optimizer.minimize(cost)"
   ]
  },
  {
   "cell_type": "code",
   "execution_count": 8,
   "metadata": {},
   "outputs": [
    {
     "name": "stdout",
     "output_type": "stream",
     "text": [
      "10 1.00795\n",
      "20 0.825921\n",
      "30 0.702937\n",
      "40 0.607087\n",
      "50 0.521032\n",
      "60 0.437076\n",
      "70 0.357726\n",
      "80 0.286366\n",
      "90 0.227743\n",
      "100 0.183407\n",
      "예측값: [0 1 2 0 0 2]\n",
      "실제값: [0 1 2 0 0 2]\n",
      "정확도 : 100.00\n"
     ]
    }
   ],
   "source": [
    "#######\n",
    "# 신경망 모델 학습\n",
    "#######\n",
    "init = tf.global_variables_initializer()\n",
    "sess = tf.Session()\n",
    "sess.run(init)\n",
    "\n",
    "for step in range(100):\n",
    "    sess.run(train_op, feed_dict={X : x_data, Y: y_data})\n",
    "    \n",
    "    if (step+1) % 10 == 0:\n",
    "        print(step+1, sess.run(cost, feed_dict={X: x_data, Y:y_data}))\n",
    "        \n",
    "\n",
    "#######\n",
    "# 결과확인\n",
    "# 0 : 기타, 1: 포유류, 2: 조류\n",
    "#######\n",
    "prediction = tf.argmax(model,1)\n",
    "target = tf.argmax(Y,1)\n",
    "print('예측값:', sess.run(prediction, feed_dict={X: x_data}))\n",
    "print('실제값:', sess.run(target, feed_dict={Y: y_data}))\n",
    "\n",
    "is_correct = tf.equal(prediction, target)\n",
    "accuracy = tf.reduce_mean(tf.cast(is_correct, tf.float32))\n",
    "print('정확도 : %.2f' % sess.run(accuracy * 100, feed_dict={X: x_data, Y:y_data}))"
   ]
  }
 ],
 "metadata": {
  "kernelspec": {
   "display_name": "Python 3",
   "language": "python",
   "name": "python3"
  },
  "language_info": {
   "codemirror_mode": {
    "name": "ipython",
    "version": 3
   },
   "file_extension": ".py",
   "mimetype": "text/x-python",
   "name": "python",
   "nbconvert_exporter": "python",
   "pygments_lexer": "ipython3",
   "version": "3.6.1"
  }
 },
 "nbformat": 4,
 "nbformat_minor": 2
}
