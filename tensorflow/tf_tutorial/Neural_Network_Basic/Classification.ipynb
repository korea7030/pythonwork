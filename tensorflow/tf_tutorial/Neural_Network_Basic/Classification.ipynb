{
 "cells": [
  {
   "cell_type": "code",
   "execution_count": 1,
   "metadata": {
    "collapsed": true
   },
   "outputs": [],
   "source": [
    "# 털과 날개가 있는지 없는지에 따라, 포유류 인지 조류인지 분류하는 모델\n",
    "import tensorflow as tf\n",
    "import numpy as np"
   ]
  },
  {
   "cell_type": "code",
   "execution_count": 2,
   "metadata": {
    "collapsed": true
   },
   "outputs": [],
   "source": [
    "# [털, 날개]\n",
    "x_data = np.array([[0,0], [1,0], [1,1], [0,0], [0,0], [0,1]])\n",
    "\n",
    "# [기타, 포유류, 조류]\n",
    "# 다음과 같은 형식을 one-hot 형식의 데이터\n",
    "y_data = np.array([\n",
    "    [1,0,0], # 기타\n",
    "    [0,1,0], # 포유류\n",
    "    [0,0,1], # 조류\n",
    "    [1,0,0],\n",
    "    [1,0,0],\n",
    "    [0,0,1]\n",
    "])"
   ]
  },
  {
   "cell_type": "code",
   "execution_count": 3,
   "metadata": {
    "collapsed": true
   },
   "outputs": [],
   "source": [
    "#########\n",
    "# 신경망 모델 구성\n",
    "#########\n",
    "X = tf.placeholder(tf.float32)\n",
    "Y = tf.placeholder(tf.float32)\n",
    "\n",
    "# 신경망은 2차원[입력층(특성), 출력층(레이블)] -> [2,3] 으로 정한다. \n",
    "# 이 부분은 설계자 마음\n",
    "W = tf.Variable(tf.random_uniform([2,3], -1., 1.))\n",
    "\n",
    "# 편향을 각각 레이어의 아웃풋 개수로 설정\n",
    "# 편향은 아웃풋의 갯수, 즉 최종 결과값의 분류 개수로 설정\n",
    "b = tf.Variable(tf.zeros([3]))\n",
    "\n",
    "# 신경망에 가중치 W와 편향 b를 적용\n",
    "L = tf.add(tf.matmul(X,W),b)\n",
    "# 가중치와 편향을 이용해 계산한 결과값에 텐서플로우에서 기본적으로 제공하는 ReLU 함수 적용\n",
    "L = tf.nn.relu(L)\n",
    "\n",
    "# 마지막으로 softmax 함수를 이용하여 출력값을 사용하기 쉽게 만든다.\n",
    "# softmax 함수는 다음처럼 결과값을 전체합이 1인 확률로 만들어주는 함수\n",
    "# 예) [8.04, 2.76, -6.52] -> [0.53, 0.24, 0.23]\n",
    "model = tf.nn.softmax(L)\n",
    "\n",
    "# 신경망 최적화하기 위한 비용함수 작성\n",
    "# 개별 결과에 대한 합을 구한 뒤 평균을 내는 방식 사용\n",
    "# 개별 결과를 구한 평균을 내는 방식을 사용하기 위해 axis 옵션\n",
    "#        Y         model         Y * tf.log(model)   reduce_sum(axis=1)\n",
    "# 예) [[1 0 0]  [[0.1 0.7 0.2]  -> [[-1.0  0    0]  -> [-1.0, -0.09]\n",
    "#     [0 1 0]]  [0.2 0.8 0.0]]     [ 0   -0.09 0]]\n",
    "# 즉, 이것은 예측값과 실제값 사이의 확률 분포의 차이를 비용으로 계산한 것이며,\n",
    "# 이것을 Cross-Entropy 라고 합니다.\n",
    "# axis = 1(행), axis=0(열)\n",
    "cost = tf.reduce_mean(-tf.reduce_sum(Y*tf.log(model), axis=1))\n",
    "\n",
    "optimizer = tf.train.GradientDescentOptimizer(learning_rate=0.01)\n",
    "train_op = optimizer.minimize(cost)"
   ]
  },
  {
   "cell_type": "code",
   "execution_count": 5,
   "metadata": {},
   "outputs": [
    {
     "name": "stdout",
     "output_type": "stream",
     "text": [
      "10 1.22056\n",
      "20 1.21184\n",
      "30 1.20343\n",
      "40 1.1953\n",
      "50 1.18746\n",
      "60 1.17988\n",
      "70 1.17261\n",
      "80 1.16753\n",
      "90 1.1626\n",
      "100 1.15782\n",
      "예측값 :  [0 0 0 0 0 1]\n",
      "실제값 :  [0 1 2 0 0 2]\n",
      "정확도 : 50.00\n"
     ]
    }
   ],
   "source": [
    "########\n",
    "# 신경망 모델 학습\n",
    "########\n",
    "init = tf.global_variables_initializer()\n",
    "sess = tf.Session()\n",
    "sess.run(init)\n",
    "\n",
    "for step in range(100):\n",
    "    sess.run(train_op, feed_dict={X: x_data, Y: y_data})\n",
    "    \n",
    "    if (step+1) % 10 == 0:\n",
    "        print(step+1, sess.run(cost, feed_dict={X: x_data, Y:y_data}))\n",
    "        \n",
    "\n",
    "#######\n",
    "# 결과 확인\n",
    "# 0 : 기타 , 1: 포유류, 2:조류\n",
    "#######\n",
    "# tf.argmax : 예측값과 실제값의 행렬에서 tf.argmax를 통해 가장 큰 값을 가져옴\n",
    "# 예) [[0 1 0] [1 0 0]] -> [1 0]\n",
    "#     [[0.2 0.7 0.1] [0.9 0.1 0.]] -> [1 0]\n",
    "prediction = tf.argmax(model,1)\n",
    "target = tf.argmax(Y, 1)\n",
    "print('예측값 : ', sess.run(prediction, feed_dict={X: x_data}))\n",
    "print('실제값 : ', sess.run(target, feed_dict={Y: y_data}))\n",
    "\n",
    "is_correct = tf.equal(prediction, target)\n",
    "accuracy = tf.reduce_mean(tf.cast(is_correct, tf.float32))\n",
    "print('정확도 : %.2f' % sess.run(accuracy * 100, feed_dict={X: x_data, Y: y_data}))"
   ]
  }
 ],
 "metadata": {
  "kernelspec": {
   "display_name": "Python 3",
   "language": "python",
   "name": "python3"
  },
  "language_info": {
   "codemirror_mode": {
    "name": "ipython",
    "version": 3
   },
   "file_extension": ".py",
   "mimetype": "text/x-python",
   "name": "python",
   "nbconvert_exporter": "python",
   "pygments_lexer": "ipython3",
   "version": "3.6.1"
  }
 },
 "nbformat": 4,
 "nbformat_minor": 2
}
