{
 "cells": [
  {
   "cell_type": "code",
   "execution_count": 3,
   "metadata": {},
   "outputs": [
    {
     "name": "stdout",
     "output_type": "stream",
     "text": [
      "Extracting ./mnist/data/train-images-idx3-ubyte.gz\n",
      "Extracting ./mnist/data/train-labels-idx1-ubyte.gz\n",
      "Extracting ./mnist/data/t10k-images-idx3-ubyte.gz\n",
      "Extracting ./mnist/data/t10k-labels-idx1-ubyte.gz\n"
     ]
    }
   ],
   "source": [
    "# 대표적인 비지도(Unsupervised) 학습 방법인 Autoencoder 를 구현\n",
    "import tensorflow as tf\n",
    "import numpy as np\n",
    "import matplotlib.pyplot as plt\n",
    "%matplotlib inline\n",
    "from tensorflow.examples.tutorials.mnist import input_data\n",
    "mnist = input_data.read_data_sets(\"./mnist/data/\", one_hot=True)"
   ]
  },
  {
   "cell_type": "code",
   "execution_count": 2,
   "metadata": {
    "collapsed": true
   },
   "outputs": [],
   "source": [
    "#######\n",
    "# 옵션 설정\n",
    "#######\n",
    "learning_rate = 0.01\n",
    "training_epoch = 20\n",
    "batch_size=100\n",
    "# 신경망 레이어 구성 옵션\n",
    "n_hidden = 256 # 히든 레이어 뉴런 개수\n",
    "n_input = 28*28 # 입력값 크기(이미지 픽셀수)"
   ]
  },
  {
   "cell_type": "code",
   "execution_count": 4,
   "metadata": {
    "collapsed": true
   },
   "outputs": [],
   "source": [
    "#######\n",
    "# 신경망 모델 구성\n",
    "#######\n",
    "# Y가 없음. 입력값을 Y로 사용\n",
    "X = tf.placeholder(tf.float32, [None, n_input])\n",
    "\n",
    "# 인코더 레이어와 디코더 레이어의 가중치와 편향 변수 설정\n",
    "# 다음과 같이 이어지는 레이어를 구성하기 위한 값들\n",
    "# input -> encode -> decode -> output\n",
    "W_encode = tf.Variable(tf.random_normal([n_input, n_hidden]))\n",
    "b_encode = tf.Variable(tf.random_normal([n_hidden]))\n",
    "# sigmoid 함수를 이용해 신경망 레이어를 구성\n",
    "# sigmoid(X*W+b)\n",
    "# 인코더 레이어 구성\n",
    "encoder = tf.nn.sigmoid(tf.add(tf.matmul(X, W_encode), b_encode))\n",
    "\n",
    "# encode의 아웃풋 크기를 입력값보다 작은 크기로 만들어 정보를 압축하여 특성을 뽑아내고,\n",
    "# decode의 출력을 입력값과 동일한 크기를 갖도록 하여 입력과 똑같은 아웃풋을 만들어 내도록 합니다.\n",
    "# 히든 레이어의 구성과 특성치를 뽑아내는 알고리즘을 변경하여 다양한 오토인코더를 만들 수 있음\n",
    "W_decode = tf.Variable(tf.random_normal([n_hidden, n_input]))\n",
    "b_decode = tf.Variable(tf.random_normal([n_input]))\n",
    "\n",
    "# 디코더 레이어 구성\n",
    "decoder = tf.nn.sigmoid(tf.add(tf.matmul(encoder, W_decode), b_decode))\n",
    "\n",
    "# 디코더는 인풋과 최대한 같은 결과를 내야 하므로, 디코딩한 결과를 평가하기 위해 입력값인 X 값은\n",
    "# 평가를 위한 실측 결과 값으로 하여 decoder 와의 차이를 손실값으로 설정.\n",
    "cost = tf.reduce_mean(tf.pow(X-decoder,2))\n",
    "optimizer = tf.train.RMSPropOptimizer(learning_rate).minimize(cost)"
   ]
  },
  {
   "cell_type": "code",
   "execution_count": 5,
   "metadata": {},
   "outputs": [
    {
     "name": "stdout",
     "output_type": "stream",
     "text": [
      "Epoch :  0001 Avg cost =  0.2051\n",
      "Epoch :  0002 Avg cost =  0.0615\n",
      "Epoch :  0003 Avg cost =  0.0479\n",
      "Epoch :  0004 Avg cost =  0.0432\n",
      "Epoch :  0005 Avg cost =  0.0410\n",
      "Epoch :  0006 Avg cost =  0.0391\n",
      "Epoch :  0007 Avg cost =  0.0365\n",
      "Epoch :  0008 Avg cost =  0.0339\n",
      "Epoch :  0009 Avg cost =  0.0328\n",
      "Epoch :  0010 Avg cost =  0.0316\n",
      "Epoch :  0011 Avg cost =  0.0306\n",
      "Epoch :  0012 Avg cost =  0.0298\n",
      "Epoch :  0013 Avg cost =  0.0292\n",
      "Epoch :  0014 Avg cost =  0.0277\n",
      "Epoch :  0015 Avg cost =  0.0273\n",
      "Epoch :  0016 Avg cost =  0.0269\n",
      "Epoch :  0017 Avg cost =  0.0267\n",
      "Epoch :  0018 Avg cost =  0.0264\n",
      "Epoch :  0019 Avg cost =  0.0261\n",
      "Epoch :  0020 Avg cost =  0.0259\n",
      "최적화 완료\n"
     ]
    }
   ],
   "source": [
    "#######\n",
    "# 신경망 모델 학습\n",
    "#######\n",
    "init = tf.global_variables_initializer()\n",
    "sess = tf.Session()\n",
    "sess.run(init)\n",
    "\n",
    "total_batch = int(mnist.train.num_examples/batch_size)\n",
    "\n",
    "for epoch in range(training_epoch):\n",
    "    total_cost = 0\n",
    "    \n",
    "    for i in range(total_batch):\n",
    "        batch_xs, batch_ys = mnist.train.next_batch(batch_size)\n",
    "        _, cost_val = sess.run([optimizer, cost], feed_dict={X: batch_xs})\n",
    "        \n",
    "        total_cost += cost_val\n",
    "    print('Epoch : ', '%04d' %(epoch +1), 'Avg cost = ', '{:.4f}'.format(total_cost / total_batch))\n",
    "\n",
    "print('최적화 완료')"
   ]
  },
  {
   "cell_type": "code",
   "execution_count": 6,
   "metadata": {},
   "outputs": [
    {
     "data": {
      "image/png": "[encoded data removed]",
      "text/plain": [
       "<matplotlib.figure.Figure at 0x7fa487ecb0f0>"
      ]
     },
     "metadata": {},
     "output_type": "display_data"
    }
   ],
   "source": [
    "#######\n",
    "# 결과 확인\n",
    "# 입력값(위쪽)과 모델이 생성한 값(아래쪽)을 시각적으로 비교\n",
    "#######\n",
    "sample_size = 10\n",
    "\n",
    "samples = sess.run(decoder, feed_dict={X: mnist.test.images[:sample_size]})\n",
    "\n",
    "fig, ax = plt.subplots(2, sample_size, figsize=(sample_size, 2))\n",
    "\n",
    "for i in range(sample_size):\n",
    "    ax[0][i].set_axis_off()\n",
    "    ax[1][i].set_axis_off()\n",
    "    ax[0][i].imshow(np.reshape(mnist.test.images[i], (28,28)))\n",
    "    ax[1][i].imshow(np.reshape(samples[i], (28,28)))\n",
    "    \n",
    "plt.show()"
   ]
  }
 ],
 "metadata": {
  "kernelspec": {
   "display_name": "Python 3",
   "language": "python",
   "name": "python3"
  },
  "language_info": {
   "codemirror_mode": {
    "name": "ipython",
    "version": 3
   },
   "file_extension": ".py",
   "mimetype": "text/x-python",
   "name": "python",
   "nbconvert_exporter": "python",
   "pygments_lexer": "ipython3",
   "version": "3.6.1"
  }
 },
 "nbformat": 4,
 "nbformat_minor": 2
}
