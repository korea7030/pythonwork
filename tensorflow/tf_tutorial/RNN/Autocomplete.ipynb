{
 "cells": [
  {
   "cell_type": "code",
   "execution_count": 1,
   "metadata": {
    "collapsed": true
   },
   "outputs": [],
   "source": [
    "# 자연어 처리나 음성 처리분야에서 많이 사용되는 RNN의 기본적인 사용법\n",
    "# 4개의 글자를 가진 단어를 학습시켜, 3글자만 주어지면 나머지 한 글자를 추천하여 단어를 완성\n",
    "import tensorflow as tf\n",
    "import numpy as np\n",
    "\n",
    "char_arr = ['a','b','c','d','e','f','g','h','i','j','k','l','m','n','o','p','q','r','s','t','u','v','w','x','y','z']"
   ]
  },
  {
   "cell_type": "code",
   "execution_count": 2,
   "metadata": {
    "collapsed": true
   },
   "outputs": [],
   "source": [
    "# one-hot 인코딩 사용 및 디코딩을 위한 연관 배열 생성\n",
    "# {'a' : 0, 'b': 1, ...}\n",
    "num_dic = {n : i for i,n in enumerate(char_arr)}\n",
    "dic_len = len(num_dic)\n",
    "\n",
    "# 다음 배열은 입력값과 출력값으로 다음처럼 사용\n",
    "# wor -> X, d-> Y\n",
    "# woo -> X, d-> Y\n",
    "seq_data = ['word', 'wood', 'deep', 'dive', 'cold', 'cool', 'load', 'love','kiss', 'kind']"
   ]
  },
  {
   "cell_type": "code",
   "execution_count": 3,
   "metadata": {
    "collapsed": true
   },
   "outputs": [],
   "source": [
    "def make_batch(seq_data):\n",
    "    input_batch = []\n",
    "    target_batch = []\n",
    "    \n",
    "    for seq in seq_data:\n",
    "        # 여기서 생성하는 input_batch 와 target_batch는 \n",
    "        # 알파벳 배열의 인덱스 번호\n",
    "        # [22, 14, 17] [22, 14,14] [3,4,4] [3,8,21]\n",
    "        \n",
    "        input = [num_dic[n] for n in seq[:-1]]\n",
    "        # 3, 3, 15, 4, 3...\n",
    "        target = num_dic[seq[-1]]\n",
    "        # one-hot 인코딩\n",
    "        input_batch.append(np.eye(dic_len)[input])\n",
    "        # 지금까지 손실함수로 사용하던 softmax_cross_entropy_with_logits 함수는 label 값을 one-hot 인코딩으로 넘겨야 하지만,\n",
    "        # sparse_softmax_cross_entropy_with_logits 는 one-hot 인코딩을 사용하지 않으므로 index를 넘겨줌\n",
    "        target_batch.append(target)\n",
    "        \n",
    "    return input_batch, target_batch"
   ]
  },
  {
   "cell_type": "code",
   "execution_count": 4,
   "metadata": {
    "collapsed": true
   },
   "outputs": [],
   "source": [
    "#######\n",
    "# 옵션 설정\n",
    "#######\n",
    "learning_rate = 0.01\n",
    "n_hidden = 128\n",
    "total_epoch = 30\n",
    "# 타입 스텝 : [1 2 3] => 3\n",
    "# RNN을 구성하는 시퀀스의 개수\n",
    "n_step = 3\n",
    "# 입력값 크기. 알파벳에 대한 one-hot 인코딩 이므로 26개가 됨\n",
    "# 출력값도 입력값과 마찬가지로 26개의 알파벳으로 분류\n",
    "n_input = n_class = dic_len"
   ]
  },
  {
   "cell_type": "code",
   "execution_count": 7,
   "metadata": {
    "collapsed": false
   },
   "outputs": [],
   "source": [
    "#######\n",
    "# 신경망 모델 구성\n",
    "#######\n",
    "X = tf.placeholder(tf.float32, [None, n_step, n_input])\n",
    "# 비용함수에 sparse_softmax_cross_entropy_with_logits를 사용하므로\n",
    "# 출력값과의 계산을 위한 원본값의 형태는 one-hot vector가 아니라 인덱스 숫자를 그대로 사용\n",
    "# 하나의 값만 있는 1차원 배열을 받음\n",
    "Y = tf.placeholder(tf.int32, [None])\n",
    "\n",
    "W = tf.Variable(tf.random_normal([n_hidden, n_class]))\n",
    "b = tf.Variable(tf.random_normal([n_class]))\n",
    "\n",
    "# RNN 셀 생성\n",
    "cell1 = tf.contrib.rnn.BasicLSTMCell(n_hidden)\n",
    "# 과적합 방지를 위한 dropout 기법 사용\n",
    "cell1 = tf.contrib.rnn.DropoutWrapper(cell1, output_keep_prob=0.5)\n",
    "# 여러개의 셀을 조합해서 사용하기 위해 셀을 추가로 생성\n",
    "cell2 = tf.contrib.rnn.BasicLSTMCell(n_hidden)\n",
    "# 여러개의 셀을 조합한 RNN 셀 생성\n",
    "multi_cell = tf.contrib.rnn.MultiRNNCell([cell1, cell2])\n",
    "\n",
    "outputs, states = tf.nn.dynamic_rnn(multi_cell, X, dtype=tf.float32)\n",
    "\n",
    "# 최종결과는 one-ht 인코딩 형식으로 만듦\n",
    "outputs = tf.transpose(outputs, [1, 0 , 2])\n",
    "outputs = outputs[-1]\n",
    "model = tf.matmul(outputs, W)+b\n",
    "\n",
    "cost = tf.reduce_mean(tf.nn.sparse_softmax_cross_entropy_with_logits(logits=model, labels=Y))\n",
    "\n",
    "optimizer = tf.train.AdamOptimizer(learning_rate).minimize(cost)"
   ]
  },
  {
   "cell_type": "code",
   "execution_count": 8,
   "metadata": {
    "collapsed": false
   },
   "outputs": [
    {
     "name": "stdout",
     "output_type": "stream",
     "text": [
      "Epoch :  0001 cost =  3.214425\n",
      "Epoch :  0002 cost =  2.399841\n",
      "Epoch :  0003 cost =  1.716219\n",
      "Epoch :  0004 cost =  1.002727\n",
      "Epoch :  0005 cost =  1.121729\n",
      "Epoch :  0006 cost =  0.479319\n",
      "Epoch :  0007 cost =  0.548894\n",
      "Epoch :  0008 cost =  0.514675\n",
      "Epoch :  0009 cost =  0.321753\n",
      "Epoch :  0010 cost =  0.387402\n",
      "Epoch :  0011 cost =  0.532843\n",
      "Epoch :  0012 cost =  0.431578\n",
      "Epoch :  0013 cost =  0.127435\n",
      "Epoch :  0014 cost =  0.205327\n",
      "Epoch :  0015 cost =  0.168700\n",
      "Epoch :  0016 cost =  0.294759\n",
      "Epoch :  0017 cost =  0.214743\n",
      "Epoch :  0018 cost =  0.147290\n",
      "Epoch :  0019 cost =  0.131968\n",
      "Epoch :  0020 cost =  0.141693\n",
      "Epoch :  0021 cost =  0.066727\n",
      "Epoch :  0022 cost =  0.095354\n",
      "Epoch :  0023 cost =  0.168163\n",
      "Epoch :  0024 cost =  0.042559\n",
      "Epoch :  0025 cost =  0.087829\n",
      "Epoch :  0026 cost =  0.036181\n",
      "Epoch :  0027 cost =  0.030574\n",
      "Epoch :  0028 cost =  0.074512\n",
      "Epoch :  0029 cost =  0.016474\n",
      "Epoch :  0030 cost =  0.012192\n",
      "최적화 완료\n"
     ]
    }
   ],
   "source": [
    "#######\n",
    "# 신경망 모델 학습\n",
    "#######\n",
    "sess = tf.Session()\n",
    "sess.run(tf.global_variables_initializer())\n",
    "\n",
    "input_batch, target_batch = make_batch(seq_data)\n",
    "\n",
    "for epoch in range(total_epoch):\n",
    "    _, loss = sess.run([optimizer, cost], feed_dict= {X: input_batch, Y: target_batch})\n",
    "    \n",
    "    print('Epoch : ', '%04d' %(epoch+1), 'cost = ', '{:.6f}'.format(loss))\n",
    "    \n",
    "print('최적화 완료')"
   ]
  },
  {
   "cell_type": "code",
   "execution_count": 9,
   "metadata": {
    "collapsed": false
   },
   "outputs": [
    {
     "name": "stdout",
     "output_type": "stream",
     "text": [
      "\n",
      "=== 예측 결과 ===\n",
      "입력값 :  ['wor ', 'woo ', 'dee ', 'div ', 'col ', 'coo ', 'loa ', 'lov ', 'kis ', 'kin ']\n",
      "예측값 :  ['word', 'wood', 'deep', 'dive', 'cold', 'cool', 'load', 'love', 'kiss', 'kind']\n",
      "정확도 :  1.0\n"
     ]
    }
   ],
   "source": [
    "#######\n",
    "# 결과 확인\n",
    "#######\n",
    "# 레이블 값이 정수이므로 예측값도 정수로 변경\n",
    "prediction = tf.cast(tf.argmax(model,1), tf.int32)\n",
    "# one-hot 인코딩이 아니므로 입력값을 그대로 비교\n",
    "prediction_check = tf.equal(prediction, Y)\n",
    "accuracy = tf.reduce_mean(tf.cast(prediction_check, tf.float32))\n",
    "\n",
    "input_batch, target_batch = make_batch(seq_data)\n",
    "\n",
    "predict, accuracy_val = sess.run([prediction, accuracy], feed_dict = {X: input_batch, Y: target_batch})\n",
    "\n",
    "predict_words = []\n",
    "for idx, val in enumerate(seq_data):\n",
    "    last_char = char_arr[predict[idx]]\n",
    "    predict_words.append(val[:3] + last_char)\n",
    "\n",
    "print(\"\\n=== 예측 결과 ===\")\n",
    "print('입력값 : ', [w[:3] + ' ' for w in seq_data])\n",
    "print('예측값 : ', predict_words)\n",
    "print('정확도 : ', accuracy_val)"
   ]
  }
 ],
 "metadata": {
  "kernelspec": {
   "display_name": "Python 3",
   "language": "python",
   "name": "python3"
  },
  "language_info": {
   "codemirror_mode": {
    "name": "ipython",
    "version": 3
   },
   "file_extension": ".py",
   "mimetype": "text/x-python",
   "name": "python",
   "nbconvert_exporter": "python",
   "pygments_lexer": "ipython3",
   "version": "3.5.1"
  }
 },
 "nbformat": 4,
 "nbformat_minor": 0
}
