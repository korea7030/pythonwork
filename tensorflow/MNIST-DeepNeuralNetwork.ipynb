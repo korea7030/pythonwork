{
 "cells": [
  {
   "cell_type": "code",
   "execution_count": 1,
   "metadata": {
    "collapsed": false,
    "deletable": true,
    "editable": true
   },
   "outputs": [
    {
     "name": "stdout",
     "output_type": "stream",
     "text": [
      "Extracting /tmp/data/train-images-idx3-ubyte.gz\n",
      "Extracting /tmp/data/train-labels-idx1-ubyte.gz\n",
      "Extracting /tmp/data/t10k-images-idx3-ubyte.gz\n",
      "Extracting /tmp/data/t10k-labels-idx1-ubyte.gz\n"
     ]
    }
   ],
   "source": [
    "import tensorflow as tf\n",
    "from tensorflow.examples.tutorials.mnist import input_data\n",
    "\n",
    "mnist = input_data.read_data_sets('/tmp/data/', one_hot=True)"
   ]
  },
  {
   "cell_type": "code",
   "execution_count": 6,
   "metadata": {
    "collapsed": true,
    "deletable": true,
    "editable": true
   },
   "outputs": [],
   "source": [
    "# 2. xavier_init 추가\n",
    "def xavier_initializer(n_inputs, n_outputs, uniform=True):\n",
    "    if uniform:\n",
    "        init_range = tf.sqrt(6.0 / (n_inputs + n_outputs))\n",
    "        return tf.random_uniform_initializer(-init_range, init_range)\n",
    "    else:\n",
    "        stddev = tf.sqrt(3.0 / (n_inputs + n_outputs))\n",
    "        return tf.truncated_normal_initializer(stddev=stddev)"
   ]
  },
  {
   "cell_type": "code",
   "execution_count": 11,
   "metadata": {
    "collapsed": true,
    "deletable": true,
    "editable": true
   },
   "outputs": [],
   "source": [
    "# parameter 설정\n",
    "learning_rate = 0.001\n",
    "training_epochs = 25\n",
    "batch_size = 100\n",
    "display_step=1 "
   ]
  },
  {
   "cell_type": "code",
   "execution_count": 4,
   "metadata": {
    "collapsed": true,
    "deletable": true,
    "editable": true
   },
   "outputs": [],
   "source": [
    "X = tf.placeholder('float', [None, 784]) # mnist data image of shape 28 * 28 = 784\n",
    "Y = tf.placeholder('float', [None, 10]) # 0-9 digits recognition = > 10 classes"
   ]
  },
  {
   "cell_type": "code",
   "execution_count": 7,
   "metadata": {
    "collapsed": false,
    "deletable": true,
    "editable": true
   },
   "outputs": [],
   "source": [
    "# 1. set model weights\n",
    "# W1 = tf.Variable(tf.random_normal([784, 256]))\n",
    "# W2 = tf.Variable(tf.random_normal([256, 256]))\n",
    "# W3 = tf.Variable(tf.random_normal([256, 10]))\n",
    "\n",
    "# 2. xavier init 으로 수정\n",
    "\n",
    "# W1 = tf.get_variable(\"W1\", shape=[784, 256], initializer=xavier_init(784, 256))\n",
    "# W2 = tf.get_variable(\"W2\", shape=[256, 256], initializer=xavier_init(256, 256))\n",
    "# W3 = tf.get_variable(\"W3\", shape=[256,  10], initializer=xavier_init(256,  10))\n",
    "\n",
    "# B1 = tf.Variable(tf.random_normal([256]))\n",
    "# B2 = tf.Variable(tf.random_normal([256]))\n",
    "# B3 = tf.Variable(tf.random_normal([10]))\n",
    "\n",
    "# 3. 5-layer deep neural network #####################################################\n",
    "dropout_rate = tf.placeholder(\"float\")\n",
    "W__1 = tf.get_variable(\"W__1\", shape=[784, 256], initializer=xavier_initializer(784, 256))\n",
    "W__2 = tf.get_variable(\"W__2\", shape=[256, 256], initializer=xavier_initializer(256, 256))\n",
    "W__3 = tf.get_variable(\"W__3\", shape=[256, 256], initializer=xavier_initializer(256, 256))\n",
    "W__4 = tf.get_variable(\"W__4\", shape=[256, 256], initializer=xavier_initializer(256, 256))\n",
    "W__5 = tf.get_variable(\"W__5\", shape=[256, 10], initializer=xavier_initializer(256, 10))\n",
    "\n",
    "B1 = tf.Variable(tf.random_normal([256]))\n",
    "B2 = tf.Variable(tf.random_normal([256]))\n",
    "B3 = tf.Variable(tf.random_normal([256]))\n",
    "B4 = tf.Variable(tf.random_normal([256]))\n",
    "B5 = tf.Variable(tf.random_normal([10]))\n",
    "\n",
    "####################################################################################\n",
    "\n",
    "# construct model\n",
    "# L1 = tf.nn.relu(tf.add(tf.matmul(X,W1), B1))\n",
    "# L2 = tf.nn.relu(tf.add(tf.matmul(L1, W2), B2))\n",
    "# hypothesis = tf.add(tf.matmul(L2, W3), B3)\n",
    "\n",
    "# Construct model\n",
    "_L1 = tf.nn.relu(tf.add(tf.matmul(X,W__1),B1))\n",
    "L1 = tf.nn.dropout(_L1, dropout_rate)\n",
    "_L2 = tf.nn.relu(tf.add(tf.matmul(L1, W__2),B2)) # Hidden layer with ReLU activation\n",
    "L2 = tf.nn.dropout(_L2, dropout_rate)\n",
    "_L3 = tf.nn.relu(tf.add(tf.matmul(L2, W__3),B3)) # Hidden layer with ReLU activation\n",
    "L3 = tf.nn.dropout(_L3, dropout_rate)\n",
    "_L4 = tf.nn.relu(tf.add(tf.matmul(L3, W__4),B4)) # Hidden layer with ReLU activation\n",
    "L4 = tf.nn.dropout(_L4, dropout_rate)\n",
    "\n",
    "hypothesis = tf.add(tf.matmul(L4, W__5), B5) # No need to use softmax here"
   ]
  },
  {
   "cell_type": "code",
   "execution_count": 8,
   "metadata": {
    "collapsed": false,
    "deletable": true,
    "editable": true
   },
   "outputs": [],
   "source": [
    "# cost(softmax loss)\n",
    "cost = tf.reduce_mean(tf.nn.softmax_cross_entropy_with_logits(logits = hypothesis, labels = Y)) \n",
    "\n",
    "# gradient descent\n",
    "optimizer = tf.train.AdamOptimizer(learning_rate = learning_rate).minimize(cost)"
   ]
  },
  {
   "cell_type": "code",
   "execution_count": 14,
   "metadata": {
    "collapsed": false,
    "deletable": true,
    "editable": true
   },
   "outputs": [
    {
     "name": "stdout",
     "output_type": "stream",
     "text": [
      "WARNING:tensorflow:From <ipython-input-14-9658aa1f76ac>:1: initialize_all_variables (from tensorflow.python.ops.variables) is deprecated and will be removed after 2017-03-02.\n",
      "Instructions for updating:\n",
      "Use `tf.global_variables_initializer` instead.\n"
     ]
    },
    {
     "name": "stderr",
     "output_type": "stream",
     "text": [
      "WARNING:tensorflow:From <ipython-input-14-9658aa1f76ac>:1: initialize_all_variables (from tensorflow.python.ops.variables) is deprecated and will be removed after 2017-03-02.\n",
      "Instructions for updating:\n",
      "Use `tf.global_variables_initializer` instead.\n"
     ]
    },
    {
     "name": "stdout",
     "output_type": "stream",
     "text": [
      "Epoch :  0001 cost= 0.586970997\n",
      "Epoch :  0002 cost= 0.220020569\n",
      "Epoch :  0003 cost= 0.171463429\n",
      "Epoch :  0004 cost= 0.141989639\n",
      "Epoch :  0005 cost= 0.120800585\n",
      "Epoch :  0006 cost= 0.105133912\n",
      "Epoch :  0007 cost= 0.095749959\n",
      "Epoch :  0008 cost= 0.090603283\n",
      "Epoch :  0009 cost= 0.085706684\n",
      "Epoch :  0010 cost= 0.076853301\n",
      "Epoch :  0011 cost= 0.075029351\n",
      "Epoch :  0012 cost= 0.070623538\n",
      "Epoch :  0013 cost= 0.066295225\n",
      "Epoch :  0014 cost= 0.061612324\n",
      "Epoch :  0015 cost= 0.058700139\n",
      "Epoch :  0016 cost= 0.057191131\n",
      "Epoch :  0017 cost= 0.056565330\n",
      "Epoch :  0018 cost= 0.053543506\n",
      "Epoch :  0019 cost= 0.051378120\n",
      "Epoch :  0020 cost= 0.051510622\n",
      "Epoch :  0021 cost= 0.047839428\n",
      "Epoch :  0022 cost= 0.047274687\n",
      "Epoch :  0023 cost= 0.045261268\n",
      "Epoch :  0024 cost= 0.046026430\n",
      "Epoch :  0025 cost= 0.042600495\n",
      "Optimization Finished!\n",
      "Accuracy :  0.9824\n"
     ]
    }
   ],
   "source": [
    "init = tf.initialize_all_variables()\n",
    "\n",
    "with tf.Session() as sess:\n",
    "    sess.run(init)\n",
    "    \n",
    "    for epoch in range(training_epochs):\n",
    "        avg_cost = 0.\n",
    "        # 나누어 떨어지지 않을경우 이미지 일부는 사용 않함\n",
    "        total_batch = int(mnist.train.num_examples/batch_size)\n",
    "        \n",
    "        for i in range(total_batch):\n",
    "            batch_xs, batch_ys = mnist.train.next_batch(batch_size)\n",
    "#             _, c = sess.run([optimizer, cost], feed_dict = {X:batch_xs, Y:batch_ys})\n",
    "            _, c = sess.run([optimizer, cost], feed_dict={X:batch_xs, Y:batch_ys, dropout_rate:0.7})\n",
    "            \n",
    "            # cost 누적\n",
    "            avg_cost += c / total_batch\n",
    "        \n",
    "        if(epoch+1) % display_step == 0:\n",
    "            print(\"Epoch : \", \"%04d\" % (epoch+1), \"cost=\", \"{:.9f}\".format(avg_cost))\n",
    "    \n",
    "    print(\"Optimization Finished!\")\n",
    "\n",
    "    # Testmodel\n",
    "    correct_prediction = tf.equal(tf.argmax(hypothesis, 1), tf.argmax(Y,1))\n",
    "\n",
    "    # calculate accuracy\n",
    "    accuracy = tf.reduce_mean(tf.cast(correct_prediction, tf.float32))\n",
    "    print(\"Accuracy : \", accuracy.eval(session=sess, feed_dict={X: mnist.test.images, Y:mnist.test.labels, dropout_rate : 1}))"
   ]
  }
 ],
 "metadata": {
  "kernelspec": {
   "display_name": "Python 3",
   "language": "python",
   "name": "python3"
  },
  "language_info": {
   "codemirror_mode": {
    "name": "ipython",
    "version": 3
   },
   "file_extension": ".py",
   "mimetype": "text/x-python",
   "name": "python",
   "nbconvert_exporter": "python",
   "pygments_lexer": "ipython3",
   "version": "3.5.1"
  }
 },
 "nbformat": 4,
 "nbformat_minor": 0
}
