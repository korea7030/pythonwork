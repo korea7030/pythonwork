{
 "cells": [
  {
   "cell_type": "code",
   "execution_count": 61,
   "metadata": {
    "collapsed": false
   },
   "outputs": [],
   "source": [
    "from __future__ import absolute_import\n",
    "from __future__ import division\n",
    "from __future__ import print_function\n",
    "\n",
    "from collections import namedtuple\n",
    "from math import sqrt\n",
    "import os\n",
    "\n",
    "import tensorflow as tf"
   ]
  },
  {
   "cell_type": "code",
   "execution_count": 2,
   "metadata": {
    "collapsed": true
   },
   "outputs": [],
   "source": [
    "batch_norm = tf.contrib.layers.batch_norm\n",
    "convolution2d = tf.contrib.layers.convolution2d"
   ]
  },
  {
   "cell_type": "code",
   "execution_count": 68,
   "metadata": {
    "collapsed": false
   },
   "outputs": [],
   "source": [
    "def res_net(x, y, activation=tf.nn.relu):\n",
    "    \"\"\"Builds a residual network.\n",
    "  Note that if the input tensor is 2D, it must be square in order to be\n",
    "  converted to a 4D tensor.\n",
    "  Borrowed structure from:\n",
    "  github.com/pkmital/tensorflow_tutorials/blob/master/10_residual_network.py\n",
    "  Args:\n",
    "    x: Input of the network\n",
    "    y: Output of the network\n",
    "    activation: Activation function to apply after each convolution\n",
    "  Returns:\n",
    "    Predictions and loss tensors.\n",
    "      \"\"\"\n",
    "\n",
    "  # Configurations for each bottleneck group.\n",
    "    BottleneckGroup = namedtuple('BottleneckGroup',\n",
    "                               ['num_blocks', 'num_filters', 'bottleneck_size'])\n",
    "    groups = [\n",
    "      BottleneckGroup(3, 128, 32), BottleneckGroup(3, 256, 64),\n",
    "      BottleneckGroup(3, 512, 128), BottleneckGroup(3, 1024, 256)\n",
    "    ]\n",
    "    \n",
    "    input_shape = x.get_shape().as_list()\n",
    "\n",
    "    # Reshape the input into the right shape if it's 2D tensor\n",
    "    if len(input_shape) == 2:\n",
    "        ndim = int(sqrt(input_shape[1]))\n",
    "        x = tf.reshape(x, [-1, ndim, ndim, 1])\n",
    "\n",
    "    # First convolution expands to 64 channels\n",
    "    with tf.variable_scope('conv_layer1'):\n",
    "        net = convolution2d(\n",
    "            x, 64, 7, normalizer_fn=batch_norm, activation_fn=activation)\n",
    "    # Max pool\n",
    "    net = tf.nn.max_pool(net, [1, 3, 3, 1], strides=[1, 2, 2, 1], padding='SAME')\n",
    "    \n",
    "    # First chain of resnets\n",
    "    with tf.variable_scope('conv_layer2'):\n",
    "        net = convolution2d(net, groups[0].num_filters, 1, padding='VALID')\n",
    "        \n",
    "    # Create the bottleneck groups, each of which contains `num_blocks`\n",
    "    # bottleneck groups.\n",
    "    for group_i, group in enumerate(groups):\n",
    "        for block_i in range(group.num_blocks):\n",
    "            name = 'group_%d/block_%d' % (group_i, block_i)\n",
    "            \n",
    "            # 1x1 convolution responsible for reducing dimension\n",
    "            with tf.variable_scope(name + '/conv_in'):\n",
    "                conv = convolution2d(\n",
    "                    net,\n",
    "                    group.bottleneck_size,\n",
    "                    1,\n",
    "                    padding='VALID',\n",
    "                    activation_fn=activation,\n",
    "                    normalizer_fn=batch_norm)\n",
    "                \n",
    "            with tf.variable_scope(name + '/conv_bottleneck'):\n",
    "                conv = convolution2d(\n",
    "                    conv,\n",
    "                    group.bottleneck_size,\n",
    "                    3,\n",
    "                    padding='SAME',\n",
    "                    activation_fn=activation,\n",
    "                    normalizer_fn=batch_norm)\n",
    "\n",
    "            # 1x1 convolution responsible for restoring dimension\n",
    "            with tf.variable_scope(name + '/conv_out'):\n",
    "                input_dim = net.get_shape()[-1].value\n",
    "                conv = convolution2d(\n",
    "                    conv,\n",
    "                    input_dim,\n",
    "                    1,\n",
    "                    padding='VALID',\n",
    "                    activation_fn=activation,\n",
    "                    normalizer_fn=batch_norm)\n",
    "\n",
    "              # shortcut connections that turn the network into its counterpart\n",
    "              # residual function (identity shortcut)\n",
    "            net = conv + net\n",
    "\n",
    "        try:\n",
    "            next_group = groups[group_i + 1]\n",
    "            with tf.variable_scope('block_%d/conv_upscale' % group_i):\n",
    "                net = convolution2d(\n",
    "                    net,\n",
    "                    next_group.num_filters,\n",
    "                    1,\n",
    "                    activation_fn=None,\n",
    "                    biases_initializer=None,\n",
    "                    padding='SAME')\n",
    "        except IndexError:\n",
    "            pass\n",
    "\n",
    "    net_shape = net.get_shape().as_list()\n",
    "    net = tf.nn.avg_pool(\n",
    "        net,\n",
    "        ksize=[1, net_shape[1], net_shape[2], 1],\n",
    "        strides=[1, 1, 1, 1],\n",
    "        padding='VALID')\n",
    "    \n",
    "    net_shape = net.get_shape().as_list()\n",
    "    net = tf.reshape(net, [-1, net_shape[1] * net_shape[2] * net_shape[3]])\n",
    "    \n",
    "    target = tf.one_hot(y, depth=10, dtype=tf.float32)\n",
    "    logits = tf.contrib.layers.fully_connected(net, 10, activation_fn=None)\n",
    "    loss = tf.losses.softmax_cross_entropy(target, logits)\n",
    "    \n",
    "    return tf.nn.softmax(logits), loss\n",
    "    \n",
    "def res_net_model(x, y):\n",
    "    prediction, loss = res_net(x, y)\n",
    "    predicted = tf.argmax(prediction, 1)\n",
    "    accuracy = tf.equal(predicted, tf.cast(y, tf.int64))\n",
    "    predictions = {'prob': prediction, 'class': predicted, 'accuracy': accuracy}\n",
    "\n",
    "    train_op = tf.contrib.layers.optimize_loss(\n",
    "      loss,\n",
    "      tf.contrib.framework.get_global_step(),\n",
    "      optimizer='Adagrad',\n",
    "      learning_rate=0.001)\n",
    "    \n",
    "    return predictions, loss, train_op"
   ]
  },
  {
   "cell_type": "markdown",
   "metadata": {},
   "source": [
    "training model"
   ]
  },
  {
   "cell_type": "code",
   "execution_count": 73,
   "metadata": {
    "collapsed": false,
    "scrolled": true
   },
   "outputs": [
    {
     "name": "stdout",
     "output_type": "stream",
     "text": [
      "Extracting MNIST-data\\train-images-idx3-ubyte.gz\n",
      "Extracting MNIST-data\\train-labels-idx1-ubyte.gz\n",
      "Extracting MNIST-data\\t10k-images-idx3-ubyte.gz\n",
      "Extracting MNIST-data\\t10k-labels-idx1-ubyte.gz\n",
      "INFO:tensorflow:Using default config.\n"
     ]
    },
    {
     "name": "stderr",
     "output_type": "stream",
     "text": [
      "INFO:tensorflow:Using default config.\n"
     ]
    },
    {
     "name": "stdout",
     "output_type": "stream",
     "text": [
      "INFO:tensorflow:Using config: {'_keep_checkpoint_max': 5, '_keep_checkpoint_every_n_hours': 10000, '_task_id': 0, '_environment': 'local', '_save_checkpoints_steps': None, '_save_checkpoints_secs': 600, '_cluster_spec': <tensorflow.python.training.server_lib.ClusterSpec object at 0x00000000250592B0>, '_evaluation_master': '', '_save_summary_steps': 100, '_num_ps_replicas': 0, '_task_type': None, '_tf_random_seed': None, '_tf_config': gpu_options {\n",
      "  per_process_gpu_memory_fraction: 1\n",
      "}\n",
      ", '_is_chief': True, '_master': ''}\n"
     ]
    },
    {
     "name": "stderr",
     "output_type": "stream",
     "text": [
      "INFO:tensorflow:Using config: {'_keep_checkpoint_max': 5, '_keep_checkpoint_every_n_hours': 10000, '_task_id': 0, '_environment': 'local', '_save_checkpoints_steps': None, '_save_checkpoints_secs': 600, '_cluster_spec': <tensorflow.python.training.server_lib.ClusterSpec object at 0x00000000250592B0>, '_evaluation_master': '', '_save_summary_steps': 100, '_num_ps_replicas': 0, '_task_type': None, '_tf_random_seed': None, '_tf_config': gpu_options {\n",
      "  per_process_gpu_memory_fraction: 1\n",
      "}\n",
      ", '_is_chief': True, '_master': ''}\n"
     ]
    },
    {
     "name": "stdout",
     "output_type": "stream",
     "text": [
      "WARNING:tensorflow:From <ipython-input-73-e0791e9fe21e>:10: calling Estimator.fit (from tensorflow.contrib.learn.python.learn.estimators.estimator) with y is deprecated and will be removed after 2016-12-01.\n",
      "Instructions for updating:\n",
      "Estimator is decoupled from Scikit Learn interface by moving into\n",
      "separate class SKCompat. Arguments x, y and batch_size are only\n",
      "available in the SKCompat class, Estimator will only accept input_fn.\n",
      "Example conversion:\n",
      "  est = Estimator(...) -> est = SKCompat(Estimator(...))\n"
     ]
    },
    {
     "name": "stderr",
     "output_type": "stream",
     "text": [
      "WARNING:tensorflow:From <ipython-input-73-e0791e9fe21e>:10: calling Estimator.fit (from tensorflow.contrib.learn.python.learn.estimators.estimator) with y is deprecated and will be removed after 2016-12-01.\n",
      "Instructions for updating:\n",
      "Estimator is decoupled from Scikit Learn interface by moving into\n",
      "separate class SKCompat. Arguments x, y and batch_size are only\n",
      "available in the SKCompat class, Estimator will only accept input_fn.\n",
      "Example conversion:\n",
      "  est = Estimator(...) -> est = SKCompat(Estimator(...))\n"
     ]
    },
    {
     "name": "stdout",
     "output_type": "stream",
     "text": [
      "WARNING:tensorflow:From <ipython-input-73-e0791e9fe21e>:10: calling Estimator.fit (from tensorflow.contrib.learn.python.learn.estimators.estimator) with x is deprecated and will be removed after 2016-12-01.\n",
      "Instructions for updating:\n",
      "Estimator is decoupled from Scikit Learn interface by moving into\n",
      "separate class SKCompat. Arguments x, y and batch_size are only\n",
      "available in the SKCompat class, Estimator will only accept input_fn.\n",
      "Example conversion:\n",
      "  est = Estimator(...) -> est = SKCompat(Estimator(...))\n"
     ]
    },
    {
     "name": "stderr",
     "output_type": "stream",
     "text": [
      "WARNING:tensorflow:From <ipython-input-73-e0791e9fe21e>:10: calling Estimator.fit (from tensorflow.contrib.learn.python.learn.estimators.estimator) with x is deprecated and will be removed after 2016-12-01.\n",
      "Instructions for updating:\n",
      "Estimator is decoupled from Scikit Learn interface by moving into\n",
      "separate class SKCompat. Arguments x, y and batch_size are only\n",
      "available in the SKCompat class, Estimator will only accept input_fn.\n",
      "Example conversion:\n",
      "  est = Estimator(...) -> est = SKCompat(Estimator(...))\n"
     ]
    },
    {
     "name": "stdout",
     "output_type": "stream",
     "text": [
      "WARNING:tensorflow:From <ipython-input-73-e0791e9fe21e>:10: calling Estimator.fit (from tensorflow.contrib.learn.python.learn.estimators.estimator) with batch_size is deprecated and will be removed after 2016-12-01.\n",
      "Instructions for updating:\n",
      "Estimator is decoupled from Scikit Learn interface by moving into\n",
      "separate class SKCompat. Arguments x, y and batch_size are only\n",
      "available in the SKCompat class, Estimator will only accept input_fn.\n",
      "Example conversion:\n",
      "  est = Estimator(...) -> est = SKCompat(Estimator(...))\n"
     ]
    },
    {
     "name": "stderr",
     "output_type": "stream",
     "text": [
      "WARNING:tensorflow:From <ipython-input-73-e0791e9fe21e>:10: calling Estimator.fit (from tensorflow.contrib.learn.python.learn.estimators.estimator) with batch_size is deprecated and will be removed after 2016-12-01.\n",
      "Instructions for updating:\n",
      "Estimator is decoupled from Scikit Learn interface by moving into\n",
      "separate class SKCompat. Arguments x, y and batch_size are only\n",
      "available in the SKCompat class, Estimator will only accept input_fn.\n",
      "Example conversion:\n",
      "  est = Estimator(...) -> est = SKCompat(Estimator(...))\n"
     ]
    },
    {
     "name": "stdout",
     "output_type": "stream",
     "text": [
      "INFO:tensorflow:Create CheckpointSaverHook.\n"
     ]
    },
    {
     "name": "stderr",
     "output_type": "stream",
     "text": [
      "INFO:tensorflow:Create CheckpointSaverHook.\n"
     ]
    },
    {
     "name": "stdout",
     "output_type": "stream",
     "text": [
      "INFO:tensorflow:Saving checkpoints for 1 into ./model\\model.ckpt.\n"
     ]
    },
    {
     "name": "stderr",
     "output_type": "stream",
     "text": [
      "INFO:tensorflow:Saving checkpoints for 1 into ./model\\model.ckpt.\n"
     ]
    },
    {
     "name": "stdout",
     "output_type": "stream",
     "text": [
      "INFO:tensorflow:loss = 4.99536, step = 1\n"
     ]
    },
    {
     "name": "stderr",
     "output_type": "stream",
     "text": [
      "INFO:tensorflow:loss = 4.99536, step = 1\n"
     ]
    },
    {
     "name": "stdout",
     "output_type": "stream",
     "text": [
      "INFO:tensorflow:Saving checkpoints for 16 into ./model\\model.ckpt.\n"
     ]
    },
    {
     "name": "stderr",
     "output_type": "stream",
     "text": [
      "INFO:tensorflow:Saving checkpoints for 16 into ./model\\model.ckpt.\n"
     ]
    },
    {
     "name": "stdout",
     "output_type": "stream",
     "text": [
      "INFO:tensorflow:Saving checkpoints for 31 into ./model\\model.ckpt.\n"
     ]
    },
    {
     "name": "stderr",
     "output_type": "stream",
     "text": [
      "INFO:tensorflow:Saving checkpoints for 31 into ./model\\model.ckpt.\n"
     ]
    },
    {
     "name": "stdout",
     "output_type": "stream",
     "text": [
      "INFO:tensorflow:Saving checkpoints for 45 into ./model\\model.ckpt.\n"
     ]
    },
    {
     "name": "stderr",
     "output_type": "stream",
     "text": [
      "INFO:tensorflow:Saving checkpoints for 45 into ./model\\model.ckpt.\n"
     ]
    },
    {
     "name": "stdout",
     "output_type": "stream",
     "text": [
      "INFO:tensorflow:Saving checkpoints for 61 into ./model\\model.ckpt.\n"
     ]
    },
    {
     "name": "stderr",
     "output_type": "stream",
     "text": [
      "INFO:tensorflow:Saving checkpoints for 61 into ./model\\model.ckpt.\n"
     ]
    },
    {
     "name": "stdout",
     "output_type": "stream",
     "text": [
      "INFO:tensorflow:Saving checkpoints for 77 into ./model\\model.ckpt.\n"
     ]
    },
    {
     "name": "stderr",
     "output_type": "stream",
     "text": [
      "INFO:tensorflow:Saving checkpoints for 77 into ./model\\model.ckpt.\n"
     ]
    },
    {
     "name": "stdout",
     "output_type": "stream",
     "text": [
      "INFO:tensorflow:Saving checkpoints for 91 into ./model\\model.ckpt.\n"
     ]
    },
    {
     "name": "stderr",
     "output_type": "stream",
     "text": [
      "INFO:tensorflow:Saving checkpoints for 91 into ./model\\model.ckpt.\n"
     ]
    },
    {
     "name": "stdout",
     "output_type": "stream",
     "text": [
      "INFO:tensorflow:global_step/sec: 0.0239448\n"
     ]
    },
    {
     "name": "stderr",
     "output_type": "stream",
     "text": [
      "INFO:tensorflow:global_step/sec: 0.0239448\n"
     ]
    },
    {
     "name": "stdout",
     "output_type": "stream",
     "text": [
      "INFO:tensorflow:loss = 1.23134, step = 101\n"
     ]
    },
    {
     "name": "stderr",
     "output_type": "stream",
     "text": [
      "INFO:tensorflow:loss = 1.23134, step = 101\n"
     ]
    },
    {
     "name": "stdout",
     "output_type": "stream",
     "text": [
      "INFO:tensorflow:Saving checkpoints for 105 into ./model\\model.ckpt.\n"
     ]
    },
    {
     "name": "stderr",
     "output_type": "stream",
     "text": [
      "INFO:tensorflow:Saving checkpoints for 105 into ./model\\model.ckpt.\n"
     ]
    },
    {
     "name": "stdout",
     "output_type": "stream",
     "text": [
      "INFO:tensorflow:Saving checkpoints for 120 into ./model\\model.ckpt.\n"
     ]
    },
    {
     "name": "stderr",
     "output_type": "stream",
     "text": [
      "INFO:tensorflow:Saving checkpoints for 120 into ./model\\model.ckpt.\n"
     ]
    },
    {
     "name": "stdout",
     "output_type": "stream",
     "text": [
      "INFO:tensorflow:Saving checkpoints for 136 into ./model\\model.ckpt.\n"
     ]
    },
    {
     "name": "stderr",
     "output_type": "stream",
     "text": [
      "INFO:tensorflow:Saving checkpoints for 136 into ./model\\model.ckpt.\n"
     ]
    },
    {
     "name": "stdout",
     "output_type": "stream",
     "text": [
      "INFO:tensorflow:Saving checkpoints for 150 into ./model\\model.ckpt.\n"
     ]
    },
    {
     "name": "stderr",
     "output_type": "stream",
     "text": [
      "INFO:tensorflow:Saving checkpoints for 150 into ./model\\model.ckpt.\n"
     ]
    },
    {
     "name": "stdout",
     "output_type": "stream",
     "text": [
      "INFO:tensorflow:Saving checkpoints for 164 into ./model\\model.ckpt.\n"
     ]
    },
    {
     "name": "stderr",
     "output_type": "stream",
     "text": [
      "INFO:tensorflow:Saving checkpoints for 164 into ./model\\model.ckpt.\n"
     ]
    },
    {
     "name": "stdout",
     "output_type": "stream",
     "text": [
      "INFO:tensorflow:Saving checkpoints for 178 into ./model\\model.ckpt.\n"
     ]
    },
    {
     "name": "stderr",
     "output_type": "stream",
     "text": [
      "INFO:tensorflow:Saving checkpoints for 178 into ./model\\model.ckpt.\n"
     ]
    },
    {
     "name": "stdout",
     "output_type": "stream",
     "text": [
      "INFO:tensorflow:Saving checkpoints for 193 into ./model\\model.ckpt.\n"
     ]
    },
    {
     "name": "stderr",
     "output_type": "stream",
     "text": [
      "INFO:tensorflow:Saving checkpoints for 193 into ./model\\model.ckpt.\n"
     ]
    },
    {
     "name": "stdout",
     "output_type": "stream",
     "text": [
      "INFO:tensorflow:global_step/sec: 0.0234847\n"
     ]
    },
    {
     "name": "stderr",
     "output_type": "stream",
     "text": [
      "INFO:tensorflow:global_step/sec: 0.0234847\n"
     ]
    },
    {
     "name": "stdout",
     "output_type": "stream",
     "text": [
      "INFO:tensorflow:loss = 0.794961, step = 201\n"
     ]
    },
    {
     "name": "stderr",
     "output_type": "stream",
     "text": [
      "INFO:tensorflow:loss = 0.794961, step = 201\n"
     ]
    },
    {
     "name": "stdout",
     "output_type": "stream",
     "text": [
      "INFO:tensorflow:Saving checkpoints for 208 into ./model\\model.ckpt.\n"
     ]
    },
    {
     "name": "stderr",
     "output_type": "stream",
     "text": [
      "INFO:tensorflow:Saving checkpoints for 208 into ./model\\model.ckpt.\n"
     ]
    },
    {
     "name": "stdout",
     "output_type": "stream",
     "text": [
      "INFO:tensorflow:Saving checkpoints for 220 into ./model\\model.ckpt.\n"
     ]
    },
    {
     "name": "stderr",
     "output_type": "stream",
     "text": [
      "INFO:tensorflow:Saving checkpoints for 220 into ./model\\model.ckpt.\n"
     ]
    },
    {
     "name": "stdout",
     "output_type": "stream",
     "text": [
      "INFO:tensorflow:Saving checkpoints for 234 into ./model\\model.ckpt.\n"
     ]
    },
    {
     "name": "stderr",
     "output_type": "stream",
     "text": [
      "INFO:tensorflow:Saving checkpoints for 234 into ./model\\model.ckpt.\n"
     ]
    },
    {
     "name": "stdout",
     "output_type": "stream",
     "text": [
      "INFO:tensorflow:Saving checkpoints for 244 into ./model\\model.ckpt.\n"
     ]
    },
    {
     "name": "stderr",
     "output_type": "stream",
     "text": [
      "INFO:tensorflow:Saving checkpoints for 244 into ./model\\model.ckpt.\n"
     ]
    },
    {
     "name": "stdout",
     "output_type": "stream",
     "text": [
      "INFO:tensorflow:Saving checkpoints for 258 into ./model\\model.ckpt.\n"
     ]
    },
    {
     "name": "stderr",
     "output_type": "stream",
     "text": [
      "INFO:tensorflow:Saving checkpoints for 258 into ./model\\model.ckpt.\n"
     ]
    },
    {
     "name": "stdout",
     "output_type": "stream",
     "text": [
      "INFO:tensorflow:Saving checkpoints for 272 into ./model\\model.ckpt.\n"
     ]
    },
    {
     "name": "stderr",
     "output_type": "stream",
     "text": [
      "INFO:tensorflow:Saving checkpoints for 272 into ./model\\model.ckpt.\n"
     ]
    },
    {
     "name": "stdout",
     "output_type": "stream",
     "text": [
      "INFO:tensorflow:Saving checkpoints for 285 into ./model\\model.ckpt.\n"
     ]
    },
    {
     "name": "stderr",
     "output_type": "stream",
     "text": [
      "INFO:tensorflow:Saving checkpoints for 285 into ./model\\model.ckpt.\n"
     ]
    },
    {
     "name": "stdout",
     "output_type": "stream",
     "text": [
      "INFO:tensorflow:Saving checkpoints for 300 into ./model\\model.ckpt.\n"
     ]
    },
    {
     "name": "stderr",
     "output_type": "stream",
     "text": [
      "INFO:tensorflow:Saving checkpoints for 300 into ./model\\model.ckpt.\n"
     ]
    },
    {
     "name": "stdout",
     "output_type": "stream",
     "text": [
      "INFO:tensorflow:global_step/sec: 0.0212549\n"
     ]
    },
    {
     "name": "stderr",
     "output_type": "stream",
     "text": [
      "INFO:tensorflow:global_step/sec: 0.0212549\n"
     ]
    },
    {
     "name": "stdout",
     "output_type": "stream",
     "text": [
      "INFO:tensorflow:loss = 0.520824, step = 301\n"
     ]
    },
    {
     "name": "stderr",
     "output_type": "stream",
     "text": [
      "INFO:tensorflow:loss = 0.520824, step = 301\n"
     ]
    },
    {
     "name": "stdout",
     "output_type": "stream",
     "text": [
      "INFO:tensorflow:Saving checkpoints for 315 into ./model\\model.ckpt.\n"
     ]
    },
    {
     "name": "stderr",
     "output_type": "stream",
     "text": [
      "INFO:tensorflow:Saving checkpoints for 315 into ./model\\model.ckpt.\n"
     ]
    },
    {
     "name": "stdout",
     "output_type": "stream",
     "text": [
      "INFO:tensorflow:Saving checkpoints for 329 into ./model\\model.ckpt.\n"
     ]
    },
    {
     "name": "stderr",
     "output_type": "stream",
     "text": [
      "INFO:tensorflow:Saving checkpoints for 329 into ./model\\model.ckpt.\n"
     ]
    },
    {
     "name": "stdout",
     "output_type": "stream",
     "text": [
      "INFO:tensorflow:Saving checkpoints for 343 into ./model\\model.ckpt.\n"
     ]
    },
    {
     "name": "stderr",
     "output_type": "stream",
     "text": [
      "INFO:tensorflow:Saving checkpoints for 343 into ./model\\model.ckpt.\n"
     ]
    },
    {
     "name": "stdout",
     "output_type": "stream",
     "text": [
      "INFO:tensorflow:Saving checkpoints for 357 into ./model\\model.ckpt.\n"
     ]
    },
    {
     "name": "stderr",
     "output_type": "stream",
     "text": [
      "INFO:tensorflow:Saving checkpoints for 357 into ./model\\model.ckpt.\n"
     ]
    },
    {
     "name": "stdout",
     "output_type": "stream",
     "text": [
      "INFO:tensorflow:Saving checkpoints for 372 into ./model\\model.ckpt.\n"
     ]
    },
    {
     "name": "stderr",
     "output_type": "stream",
     "text": [
      "INFO:tensorflow:Saving checkpoints for 372 into ./model\\model.ckpt.\n"
     ]
    },
    {
     "name": "stdout",
     "output_type": "stream",
     "text": [
      "INFO:tensorflow:Saving checkpoints for 386 into ./model\\model.ckpt.\n"
     ]
    },
    {
     "name": "stderr",
     "output_type": "stream",
     "text": [
      "INFO:tensorflow:Saving checkpoints for 386 into ./model\\model.ckpt.\n"
     ]
    },
    {
     "name": "stdout",
     "output_type": "stream",
     "text": [
      "INFO:tensorflow:Saving checkpoints for 400 into ./model\\model.ckpt.\n"
     ]
    },
    {
     "name": "stderr",
     "output_type": "stream",
     "text": [
      "INFO:tensorflow:Saving checkpoints for 400 into ./model\\model.ckpt.\n"
     ]
    },
    {
     "name": "stdout",
     "output_type": "stream",
     "text": [
      "INFO:tensorflow:global_step/sec: 0.0226916\n"
     ]
    },
    {
     "name": "stderr",
     "output_type": "stream",
     "text": [
      "INFO:tensorflow:global_step/sec: 0.0226916\n"
     ]
    },
    {
     "name": "stdout",
     "output_type": "stream",
     "text": [
      "INFO:tensorflow:loss = 0.338223, step = 401\n"
     ]
    },
    {
     "name": "stderr",
     "output_type": "stream",
     "text": [
      "INFO:tensorflow:loss = 0.338223, step = 401\n"
     ]
    },
    {
     "name": "stdout",
     "output_type": "stream",
     "text": [
      "INFO:tensorflow:Saving checkpoints for 414 into ./model\\model.ckpt.\n"
     ]
    },
    {
     "name": "stderr",
     "output_type": "stream",
     "text": [
      "INFO:tensorflow:Saving checkpoints for 414 into ./model\\model.ckpt.\n"
     ]
    },
    {
     "name": "stdout",
     "output_type": "stream",
     "text": [
      "INFO:tensorflow:Saving checkpoints for 428 into ./model\\model.ckpt.\n"
     ]
    },
    {
     "name": "stderr",
     "output_type": "stream",
     "text": [
      "INFO:tensorflow:Saving checkpoints for 428 into ./model\\model.ckpt.\n"
     ]
    },
    {
     "name": "stdout",
     "output_type": "stream",
     "text": [
      "INFO:tensorflow:Saving checkpoints for 442 into ./model\\model.ckpt.\n"
     ]
    },
    {
     "name": "stderr",
     "output_type": "stream",
     "text": [
      "INFO:tensorflow:Saving checkpoints for 442 into ./model\\model.ckpt.\n"
     ]
    },
    {
     "name": "stdout",
     "output_type": "stream",
     "text": [
      "INFO:tensorflow:Saving checkpoints for 456 into ./model\\model.ckpt.\n"
     ]
    },
    {
     "name": "stderr",
     "output_type": "stream",
     "text": [
      "INFO:tensorflow:Saving checkpoints for 456 into ./model\\model.ckpt.\n"
     ]
    },
    {
     "name": "stdout",
     "output_type": "stream",
     "text": [
      "INFO:tensorflow:Saving checkpoints for 470 into ./model\\model.ckpt.\n"
     ]
    },
    {
     "name": "stderr",
     "output_type": "stream",
     "text": [
      "INFO:tensorflow:Saving checkpoints for 470 into ./model\\model.ckpt.\n"
     ]
    },
    {
     "name": "stdout",
     "output_type": "stream",
     "text": [
      "INFO:tensorflow:Saving checkpoints for 483 into ./model\\model.ckpt.\n"
     ]
    },
    {
     "name": "stderr",
     "output_type": "stream",
     "text": [
      "INFO:tensorflow:Saving checkpoints for 483 into ./model\\model.ckpt.\n"
     ]
    },
    {
     "name": "stdout",
     "output_type": "stream",
     "text": [
      "INFO:tensorflow:Saving checkpoints for 497 into ./model\\model.ckpt.\n"
     ]
    },
    {
     "name": "stderr",
     "output_type": "stream",
     "text": [
      "INFO:tensorflow:Saving checkpoints for 497 into ./model\\model.ckpt.\n"
     ]
    },
    {
     "name": "stdout",
     "output_type": "stream",
     "text": [
      "INFO:tensorflow:global_step/sec: 0.0222618\n"
     ]
    },
    {
     "name": "stderr",
     "output_type": "stream",
     "text": [
      "INFO:tensorflow:global_step/sec: 0.0222618\n"
     ]
    },
    {
     "name": "stdout",
     "output_type": "stream",
     "text": [
      "INFO:tensorflow:loss = 0.287343, step = 501\n"
     ]
    },
    {
     "name": "stderr",
     "output_type": "stream",
     "text": [
      "INFO:tensorflow:loss = 0.287343, step = 501\n"
     ]
    },
    {
     "name": "stdout",
     "output_type": "stream",
     "text": [
      "INFO:tensorflow:Saving checkpoints for 510 into ./model\\model.ckpt.\n"
     ]
    },
    {
     "name": "stderr",
     "output_type": "stream",
     "text": [
      "INFO:tensorflow:Saving checkpoints for 510 into ./model\\model.ckpt.\n"
     ]
    },
    {
     "name": "stdout",
     "output_type": "stream",
     "text": [
      "INFO:tensorflow:Saving checkpoints for 522 into ./model\\model.ckpt.\n"
     ]
    },
    {
     "name": "stderr",
     "output_type": "stream",
     "text": [
      "INFO:tensorflow:Saving checkpoints for 522 into ./model\\model.ckpt.\n"
     ]
    },
    {
     "name": "stdout",
     "output_type": "stream",
     "text": [
      "INFO:tensorflow:Saving checkpoints for 536 into ./model\\model.ckpt.\n"
     ]
    },
    {
     "name": "stderr",
     "output_type": "stream",
     "text": [
      "INFO:tensorflow:Saving checkpoints for 536 into ./model\\model.ckpt.\n"
     ]
    },
    {
     "name": "stdout",
     "output_type": "stream",
     "text": [
      "INFO:tensorflow:Saving checkpoints for 548 into ./model\\model.ckpt.\n"
     ]
    },
    {
     "name": "stderr",
     "output_type": "stream",
     "text": [
      "INFO:tensorflow:Saving checkpoints for 548 into ./model\\model.ckpt.\n"
     ]
    },
    {
     "name": "stdout",
     "output_type": "stream",
     "text": [
      "INFO:tensorflow:Saving checkpoints for 560 into ./model\\model.ckpt.\n"
     ]
    },
    {
     "name": "stderr",
     "output_type": "stream",
     "text": [
      "INFO:tensorflow:Saving checkpoints for 560 into ./model\\model.ckpt.\n"
     ]
    },
    {
     "name": "stdout",
     "output_type": "stream",
     "text": [
      "INFO:tensorflow:Saving checkpoints for 570 into ./model\\model.ckpt.\n"
     ]
    },
    {
     "name": "stderr",
     "output_type": "stream",
     "text": [
      "INFO:tensorflow:Saving checkpoints for 570 into ./model\\model.ckpt.\n"
     ]
    },
    {
     "name": "stdout",
     "output_type": "stream",
     "text": [
      "INFO:tensorflow:Saving checkpoints for 581 into ./model\\model.ckpt.\n"
     ]
    },
    {
     "name": "stderr",
     "output_type": "stream",
     "text": [
      "INFO:tensorflow:Saving checkpoints for 581 into ./model\\model.ckpt.\n"
     ]
    },
    {
     "name": "stdout",
     "output_type": "stream",
     "text": [
      "INFO:tensorflow:Saving checkpoints for 593 into ./model\\model.ckpt.\n"
     ]
    },
    {
     "name": "stderr",
     "output_type": "stream",
     "text": [
      "INFO:tensorflow:Saving checkpoints for 593 into ./model\\model.ckpt.\n"
     ]
    },
    {
     "name": "stdout",
     "output_type": "stream",
     "text": [
      "INFO:tensorflow:global_step/sec: 0.019487\n"
     ]
    },
    {
     "name": "stderr",
     "output_type": "stream",
     "text": [
      "INFO:tensorflow:global_step/sec: 0.019487\n"
     ]
    },
    {
     "name": "stdout",
     "output_type": "stream",
     "text": [
      "INFO:tensorflow:loss = 0.15925, step = 601\n"
     ]
    },
    {
     "name": "stderr",
     "output_type": "stream",
     "text": [
      "INFO:tensorflow:loss = 0.15925, step = 601\n"
     ]
    },
    {
     "name": "stdout",
     "output_type": "stream",
     "text": [
      "INFO:tensorflow:Saving checkpoints for 608 into ./model\\model.ckpt.\n"
     ]
    },
    {
     "name": "stderr",
     "output_type": "stream",
     "text": [
      "INFO:tensorflow:Saving checkpoints for 608 into ./model\\model.ckpt.\n"
     ]
    },
    {
     "name": "stdout",
     "output_type": "stream",
     "text": [
      "INFO:tensorflow:Saving checkpoints for 622 into ./model\\model.ckpt.\n"
     ]
    },
    {
     "name": "stderr",
     "output_type": "stream",
     "text": [
      "INFO:tensorflow:Saving checkpoints for 622 into ./model\\model.ckpt.\n"
     ]
    },
    {
     "name": "stdout",
     "output_type": "stream",
     "text": [
      "INFO:tensorflow:Saving checkpoints for 635 into ./model\\model.ckpt.\n"
     ]
    },
    {
     "name": "stderr",
     "output_type": "stream",
     "text": [
      "INFO:tensorflow:Saving checkpoints for 635 into ./model\\model.ckpt.\n"
     ]
    },
    {
     "name": "stdout",
     "output_type": "stream",
     "text": [
      "INFO:tensorflow:Saving checkpoints for 650 into ./model\\model.ckpt.\n"
     ]
    },
    {
     "name": "stderr",
     "output_type": "stream",
     "text": [
      "INFO:tensorflow:Saving checkpoints for 650 into ./model\\model.ckpt.\n"
     ]
    },
    {
     "name": "stdout",
     "output_type": "stream",
     "text": [
      "INFO:tensorflow:Saving checkpoints for 665 into ./model\\model.ckpt.\n"
     ]
    },
    {
     "name": "stderr",
     "output_type": "stream",
     "text": [
      "INFO:tensorflow:Saving checkpoints for 665 into ./model\\model.ckpt.\n"
     ]
    },
    {
     "name": "stdout",
     "output_type": "stream",
     "text": [
      "INFO:tensorflow:Saving checkpoints for 678 into ./model\\model.ckpt.\n"
     ]
    },
    {
     "name": "stderr",
     "output_type": "stream",
     "text": [
      "INFO:tensorflow:Saving checkpoints for 678 into ./model\\model.ckpt.\n"
     ]
    },
    {
     "name": "stdout",
     "output_type": "stream",
     "text": [
      "INFO:tensorflow:Saving checkpoints for 692 into ./model\\model.ckpt.\n"
     ]
    },
    {
     "name": "stderr",
     "output_type": "stream",
     "text": [
      "INFO:tensorflow:Saving checkpoints for 692 into ./model\\model.ckpt.\n"
     ]
    },
    {
     "name": "stdout",
     "output_type": "stream",
     "text": [
      "INFO:tensorflow:global_step/sec: 0.0225394\n"
     ]
    },
    {
     "name": "stderr",
     "output_type": "stream",
     "text": [
      "INFO:tensorflow:global_step/sec: 0.0225394\n"
     ]
    },
    {
     "name": "stdout",
     "output_type": "stream",
     "text": [
      "INFO:tensorflow:loss = 0.223096, step = 701\n"
     ]
    },
    {
     "name": "stderr",
     "output_type": "stream",
     "text": [
      "INFO:tensorflow:loss = 0.223096, step = 701\n"
     ]
    },
    {
     "name": "stdout",
     "output_type": "stream",
     "text": [
      "INFO:tensorflow:Saving checkpoints for 705 into ./model\\model.ckpt.\n"
     ]
    },
    {
     "name": "stderr",
     "output_type": "stream",
     "text": [
      "INFO:tensorflow:Saving checkpoints for 705 into ./model\\model.ckpt.\n"
     ]
    },
    {
     "name": "stdout",
     "output_type": "stream",
     "text": [
      "INFO:tensorflow:Saving checkpoints for 718 into ./model\\model.ckpt.\n"
     ]
    },
    {
     "name": "stderr",
     "output_type": "stream",
     "text": [
      "INFO:tensorflow:Saving checkpoints for 718 into ./model\\model.ckpt.\n"
     ]
    },
    {
     "name": "stdout",
     "output_type": "stream",
     "text": [
      "INFO:tensorflow:Saving checkpoints for 732 into ./model\\model.ckpt.\n"
     ]
    },
    {
     "name": "stderr",
     "output_type": "stream",
     "text": [
      "INFO:tensorflow:Saving checkpoints for 732 into ./model\\model.ckpt.\n"
     ]
    },
    {
     "name": "stdout",
     "output_type": "stream",
     "text": [
      "INFO:tensorflow:Saving checkpoints for 744 into ./model\\model.ckpt.\n"
     ]
    },
    {
     "name": "stderr",
     "output_type": "stream",
     "text": [
      "INFO:tensorflow:Saving checkpoints for 744 into ./model\\model.ckpt.\n"
     ]
    },
    {
     "name": "stdout",
     "output_type": "stream",
     "text": [
      "INFO:tensorflow:Saving checkpoints for 756 into ./model\\model.ckpt.\n"
     ]
    },
    {
     "name": "stderr",
     "output_type": "stream",
     "text": [
      "INFO:tensorflow:Saving checkpoints for 756 into ./model\\model.ckpt.\n"
     ]
    },
    {
     "name": "stdout",
     "output_type": "stream",
     "text": [
      "INFO:tensorflow:Saving checkpoints for 770 into ./model\\model.ckpt.\n"
     ]
    },
    {
     "name": "stderr",
     "output_type": "stream",
     "text": [
      "INFO:tensorflow:Saving checkpoints for 770 into ./model\\model.ckpt.\n"
     ]
    },
    {
     "name": "stdout",
     "output_type": "stream",
     "text": [
      "INFO:tensorflow:Saving checkpoints for 784 into ./model\\model.ckpt.\n"
     ]
    },
    {
     "name": "stderr",
     "output_type": "stream",
     "text": [
      "INFO:tensorflow:Saving checkpoints for 784 into ./model\\model.ckpt.\n"
     ]
    },
    {
     "name": "stdout",
     "output_type": "stream",
     "text": [
      "INFO:tensorflow:Saving checkpoints for 797 into ./model\\model.ckpt.\n"
     ]
    },
    {
     "name": "stderr",
     "output_type": "stream",
     "text": [
      "INFO:tensorflow:Saving checkpoints for 797 into ./model\\model.ckpt.\n"
     ]
    },
    {
     "name": "stdout",
     "output_type": "stream",
     "text": [
      "INFO:tensorflow:global_step/sec: 0.0210698\n"
     ]
    },
    {
     "name": "stderr",
     "output_type": "stream",
     "text": [
      "INFO:tensorflow:global_step/sec: 0.0210698\n"
     ]
    },
    {
     "name": "stdout",
     "output_type": "stream",
     "text": [
      "INFO:tensorflow:loss = 0.148851, step = 801\n"
     ]
    },
    {
     "name": "stderr",
     "output_type": "stream",
     "text": [
      "INFO:tensorflow:loss = 0.148851, step = 801\n"
     ]
    },
    {
     "name": "stdout",
     "output_type": "stream",
     "text": [
      "INFO:tensorflow:Saving checkpoints for 810 into ./model\\model.ckpt.\n"
     ]
    },
    {
     "name": "stderr",
     "output_type": "stream",
     "text": [
      "INFO:tensorflow:Saving checkpoints for 810 into ./model\\model.ckpt.\n"
     ]
    },
    {
     "name": "stdout",
     "output_type": "stream",
     "text": [
      "INFO:tensorflow:Saving checkpoints for 824 into ./model\\model.ckpt.\n"
     ]
    },
    {
     "name": "stderr",
     "output_type": "stream",
     "text": [
      "INFO:tensorflow:Saving checkpoints for 824 into ./model\\model.ckpt.\n"
     ]
    },
    {
     "name": "stdout",
     "output_type": "stream",
     "text": [
      "INFO:tensorflow:Saving checkpoints for 838 into ./model\\model.ckpt.\n"
     ]
    },
    {
     "name": "stderr",
     "output_type": "stream",
     "text": [
      "INFO:tensorflow:Saving checkpoints for 838 into ./model\\model.ckpt.\n"
     ]
    },
    {
     "name": "stdout",
     "output_type": "stream",
     "text": [
      "INFO:tensorflow:Saving checkpoints for 851 into ./model\\model.ckpt.\n"
     ]
    },
    {
     "name": "stderr",
     "output_type": "stream",
     "text": [
      "INFO:tensorflow:Saving checkpoints for 851 into ./model\\model.ckpt.\n"
     ]
    },
    {
     "name": "stdout",
     "output_type": "stream",
     "text": [
      "INFO:tensorflow:Saving checkpoints for 862 into ./model\\model.ckpt.\n"
     ]
    },
    {
     "name": "stderr",
     "output_type": "stream",
     "text": [
      "INFO:tensorflow:Saving checkpoints for 862 into ./model\\model.ckpt.\n"
     ]
    },
    {
     "name": "stdout",
     "output_type": "stream",
     "text": [
      "INFO:tensorflow:Saving checkpoints for 871 into ./model\\model.ckpt.\n"
     ]
    },
    {
     "name": "stderr",
     "output_type": "stream",
     "text": [
      "INFO:tensorflow:Saving checkpoints for 871 into ./model\\model.ckpt.\n"
     ]
    },
    {
     "name": "stdout",
     "output_type": "stream",
     "text": [
      "INFO:tensorflow:Saving checkpoints for 882 into ./model\\model.ckpt.\n"
     ]
    },
    {
     "name": "stderr",
     "output_type": "stream",
     "text": [
      "INFO:tensorflow:Saving checkpoints for 882 into ./model\\model.ckpt.\n"
     ]
    },
    {
     "name": "stdout",
     "output_type": "stream",
     "text": [
      "INFO:tensorflow:Saving checkpoints for 893 into ./model\\model.ckpt.\n"
     ]
    },
    {
     "name": "stderr",
     "output_type": "stream",
     "text": [
      "INFO:tensorflow:Saving checkpoints for 893 into ./model\\model.ckpt.\n"
     ]
    },
    {
     "name": "stdout",
     "output_type": "stream",
     "text": [
      "INFO:tensorflow:global_step/sec: 0.0192899\n"
     ]
    },
    {
     "name": "stderr",
     "output_type": "stream",
     "text": [
      "INFO:tensorflow:global_step/sec: 0.0192899\n"
     ]
    },
    {
     "name": "stdout",
     "output_type": "stream",
     "text": [
      "INFO:tensorflow:loss = 0.179952, step = 901\n"
     ]
    },
    {
     "name": "stderr",
     "output_type": "stream",
     "text": [
      "INFO:tensorflow:loss = 0.179952, step = 901\n"
     ]
    },
    {
     "name": "stdout",
     "output_type": "stream",
     "text": [
      "INFO:tensorflow:Saving checkpoints for 904 into ./model\\model.ckpt.\n"
     ]
    },
    {
     "name": "stderr",
     "output_type": "stream",
     "text": [
      "INFO:tensorflow:Saving checkpoints for 904 into ./model\\model.ckpt.\n"
     ]
    },
    {
     "name": "stdout",
     "output_type": "stream",
     "text": [
      "INFO:tensorflow:Saving checkpoints for 915 into ./model\\model.ckpt.\n"
     ]
    },
    {
     "name": "stderr",
     "output_type": "stream",
     "text": [
      "INFO:tensorflow:Saving checkpoints for 915 into ./model\\model.ckpt.\n"
     ]
    },
    {
     "name": "stdout",
     "output_type": "stream",
     "text": [
      "INFO:tensorflow:Saving checkpoints for 926 into ./model\\model.ckpt.\n"
     ]
    },
    {
     "name": "stderr",
     "output_type": "stream",
     "text": [
      "INFO:tensorflow:Saving checkpoints for 926 into ./model\\model.ckpt.\n"
     ]
    },
    {
     "name": "stdout",
     "output_type": "stream",
     "text": [
      "INFO:tensorflow:Saving checkpoints for 937 into ./model\\model.ckpt.\n"
     ]
    },
    {
     "name": "stderr",
     "output_type": "stream",
     "text": [
      "INFO:tensorflow:Saving checkpoints for 937 into ./model\\model.ckpt.\n"
     ]
    },
    {
     "name": "stdout",
     "output_type": "stream",
     "text": [
      "INFO:tensorflow:Saving checkpoints for 949 into ./model\\model.ckpt.\n"
     ]
    },
    {
     "name": "stderr",
     "output_type": "stream",
     "text": [
      "INFO:tensorflow:Saving checkpoints for 949 into ./model\\model.ckpt.\n"
     ]
    },
    {
     "name": "stdout",
     "output_type": "stream",
     "text": [
      "INFO:tensorflow:Saving checkpoints for 960 into ./model\\model.ckpt.\n"
     ]
    },
    {
     "name": "stderr",
     "output_type": "stream",
     "text": [
      "INFO:tensorflow:Saving checkpoints for 960 into ./model\\model.ckpt.\n"
     ]
    },
    {
     "name": "stdout",
     "output_type": "stream",
     "text": [
      "INFO:tensorflow:Saving checkpoints for 972 into ./model\\model.ckpt.\n"
     ]
    },
    {
     "name": "stderr",
     "output_type": "stream",
     "text": [
      "INFO:tensorflow:Saving checkpoints for 972 into ./model\\model.ckpt.\n"
     ]
    },
    {
     "name": "stdout",
     "output_type": "stream",
     "text": [
      "INFO:tensorflow:Saving checkpoints for 985 into ./model\\model.ckpt.\n"
     ]
    },
    {
     "name": "stderr",
     "output_type": "stream",
     "text": [
      "INFO:tensorflow:Saving checkpoints for 985 into ./model\\model.ckpt.\n"
     ]
    },
    {
     "name": "stdout",
     "output_type": "stream",
     "text": [
      "INFO:tensorflow:Saving checkpoints for 997 into ./model\\model.ckpt.\n"
     ]
    },
    {
     "name": "stderr",
     "output_type": "stream",
     "text": [
      "INFO:tensorflow:Saving checkpoints for 997 into ./model\\model.ckpt.\n"
     ]
    },
    {
     "name": "stdout",
     "output_type": "stream",
     "text": [
      "INFO:tensorflow:Saving checkpoints for 1000 into ./model\\model.ckpt.\n"
     ]
    },
    {
     "name": "stderr",
     "output_type": "stream",
     "text": [
      "INFO:tensorflow:Saving checkpoints for 1000 into ./model\\model.ckpt.\n"
     ]
    },
    {
     "name": "stdout",
     "output_type": "stream",
     "text": [
      "INFO:tensorflow:Loss for final step: 0.100811.\n"
     ]
    },
    {
     "name": "stderr",
     "output_type": "stream",
     "text": [
      "INFO:tensorflow:Loss for final step: 0.100811.\n"
     ]
    },
    {
     "data": {
      "text/plain": [
       "Estimator(params=None)"
      ]
     },
     "execution_count": 73,
     "metadata": {},
     "output_type": "execute_result"
    }
   ],
   "source": [
    "# Download and load MNIST data.\n",
    "mnist = tf.contrib.learn.datasets.load_dataset('mnist')\n",
    "\n",
    "# Create a new resnet classifier.\n",
    "classifier = tf.contrib.learn.Estimator(model_fn=res_net_model, model_dir='./model')\n",
    "\n",
    "tf.logging.set_verbosity(tf.logging.INFO) # Show training logs\n",
    "\n",
    "# Train model and save summaries into logdir.\n",
    "classifier.fit(mnist.train.images, mnist.train.labels, batch_size=100, steps=1000)"
   ]
  },
  {
   "cell_type": "markdown",
   "metadata": {},
   "source": [
    "test model"
   ]
  },
  {
   "cell_type": "code",
   "execution_count": 71,
   "metadata": {
    "collapsed": true
   },
   "outputs": [],
   "source": [
    "batch_size = 10\n",
    "batch_num = int(mnist.test.num_examples / batch_size)\n",
    "result = []\n",
    "score = 0"
   ]
  },
  {
   "cell_type": "code",
   "execution_count": 64,
   "metadata": {
    "collapsed": false
   },
   "outputs": [
    {
     "name": "stdout",
     "output_type": "stream",
     "text": [
      "WARNING:tensorflow:From <ipython-input-64-c1ddb9e2455a>:13: calling BaseEstimator.evaluate (from tensorflow.contrib.learn.python.learn.estimators.estimator) with y is deprecated and will be removed after 2016-12-01.\n",
      "Instructions for updating:\n",
      "Estimator is decoupled from Scikit Learn interface by moving into\n",
      "separate class SKCompat. Arguments x, y and batch_size are only\n",
      "available in the SKCompat class, Estimator will only accept input_fn.\n",
      "Example conversion:\n",
      "  est = Estimator(...) -> est = SKCompat(Estimator(...))\n"
     ]
    },
    {
     "name": "stderr",
     "output_type": "stream",
     "text": [
      "C:\\Users\\Administrator\\Anaconda3\\lib\\site-packages\\tensorflow\\python\\util\\deprecation.py:247: FutureWarning: comparison to `None` will result in an elementwise object comparison in the future.\n",
      "  equality = a == b\n",
      "WARNING:tensorflow:From <ipython-input-64-c1ddb9e2455a>:13: calling BaseEstimator.evaluate (from tensorflow.contrib.learn.python.learn.estimators.estimator) with y is deprecated and will be removed after 2016-12-01.\n",
      "Instructions for updating:\n",
      "Estimator is decoupled from Scikit Learn interface by moving into\n",
      "separate class SKCompat. Arguments x, y and batch_size are only\n",
      "available in the SKCompat class, Estimator will only accept input_fn.\n",
      "Example conversion:\n",
      "  est = Estimator(...) -> est = SKCompat(Estimator(...))\n"
     ]
    },
    {
     "name": "stdout",
     "output_type": "stream",
     "text": [
      "WARNING:tensorflow:From <ipython-input-64-c1ddb9e2455a>:13: calling BaseEstimator.evaluate (from tensorflow.contrib.learn.python.learn.estimators.estimator) with x is deprecated and will be removed after 2016-12-01.\n",
      "Instructions for updating:\n",
      "Estimator is decoupled from Scikit Learn interface by moving into\n",
      "separate class SKCompat. Arguments x, y and batch_size are only\n",
      "available in the SKCompat class, Estimator will only accept input_fn.\n",
      "Example conversion:\n",
      "  est = Estimator(...) -> est = SKCompat(Estimator(...))\n"
     ]
    },
    {
     "name": "stderr",
     "output_type": "stream",
     "text": [
      "WARNING:tensorflow:From <ipython-input-64-c1ddb9e2455a>:13: calling BaseEstimator.evaluate (from tensorflow.contrib.learn.python.learn.estimators.estimator) with x is deprecated and will be removed after 2016-12-01.\n",
      "Instructions for updating:\n",
      "Estimator is decoupled from Scikit Learn interface by moving into\n",
      "separate class SKCompat. Arguments x, y and batch_size are only\n",
      "available in the SKCompat class, Estimator will only accept input_fn.\n",
      "Example conversion:\n",
      "  est = Estimator(...) -> est = SKCompat(Estimator(...))\n"
     ]
    },
    {
     "name": "stdout",
     "output_type": "stream",
     "text": [
      "INFO:tensorflow:Starting evaluation at 2017-05-04-11:11:18\n"
     ]
    },
    {
     "name": "stderr",
     "output_type": "stream",
     "text": [
      "INFO:tensorflow:Starting evaluation at 2017-05-04-11:11:18\n"
     ]
    },
    {
     "name": "stdout",
     "output_type": "stream",
     "text": [
      "INFO:tensorflow:Finished evaluation at 2017-05-04-11:11:36\n"
     ]
    },
    {
     "name": "stderr",
     "output_type": "stream",
     "text": [
      "INFO:tensorflow:Finished evaluation at 2017-05-04-11:11:36\n"
     ]
    },
    {
     "name": "stdout",
     "output_type": "stream",
     "text": [
      "INFO:tensorflow:Saving dict for global step 1000: accuracy = 0.1, global_step = 1000, loss = 0.139758\n"
     ]
    },
    {
     "name": "stderr",
     "output_type": "stream",
     "text": [
      "INFO:tensorflow:Saving dict for global step 1000: accuracy = 0.1, global_step = 1000, loss = 0.139758\n"
     ]
    },
    {
     "name": "stdout",
     "output_type": "stream",
     "text": [
      "WARNING:tensorflow:Skipping summary for global_step, must be a float or np.float32.\n"
     ]
    },
    {
     "name": "stderr",
     "output_type": "stream",
     "text": [
      "WARNING:tensorflow:Skipping summary for global_step, must be a float or np.float32.\n"
     ]
    },
    {
     "name": "stdout",
     "output_type": "stream",
     "text": [
      "WARNING:tensorflow:From <ipython-input-64-c1ddb9e2455a>:13: calling BaseEstimator.evaluate (from tensorflow.contrib.learn.python.learn.estimators.estimator) with y is deprecated and will be removed after 2016-12-01.\n",
      "Instructions for updating:\n",
      "Estimator is decoupled from Scikit Learn interface by moving into\n",
      "separate class SKCompat. Arguments x, y and batch_size are only\n",
      "available in the SKCompat class, Estimator will only accept input_fn.\n",
      "Example conversion:\n",
      "  est = Estimator(...) -> est = SKCompat(Estimator(...))\n"
     ]
    },
    {
     "name": "stderr",
     "output_type": "stream",
     "text": [
      "WARNING:tensorflow:From <ipython-input-64-c1ddb9e2455a>:13: calling BaseEstimator.evaluate (from tensorflow.contrib.learn.python.learn.estimators.estimator) with y is deprecated and will be removed after 2016-12-01.\n",
      "Instructions for updating:\n",
      "Estimator is decoupled from Scikit Learn interface by moving into\n",
      "separate class SKCompat. Arguments x, y and batch_size are only\n",
      "available in the SKCompat class, Estimator will only accept input_fn.\n",
      "Example conversion:\n",
      "  est = Estimator(...) -> est = SKCompat(Estimator(...))\n"
     ]
    },
    {
     "name": "stdout",
     "output_type": "stream",
     "text": [
      "WARNING:tensorflow:From <ipython-input-64-c1ddb9e2455a>:13: calling BaseEstimator.evaluate (from tensorflow.contrib.learn.python.learn.estimators.estimator) with x is deprecated and will be removed after 2016-12-01.\n",
      "Instructions for updating:\n",
      "Estimator is decoupled from Scikit Learn interface by moving into\n",
      "separate class SKCompat. Arguments x, y and batch_size are only\n",
      "available in the SKCompat class, Estimator will only accept input_fn.\n",
      "Example conversion:\n",
      "  est = Estimator(...) -> est = SKCompat(Estimator(...))\n"
     ]
    },
    {
     "name": "stderr",
     "output_type": "stream",
     "text": [
      "WARNING:tensorflow:From <ipython-input-64-c1ddb9e2455a>:13: calling BaseEstimator.evaluate (from tensorflow.contrib.learn.python.learn.estimators.estimator) with x is deprecated and will be removed after 2016-12-01.\n",
      "Instructions for updating:\n",
      "Estimator is decoupled from Scikit Learn interface by moving into\n",
      "separate class SKCompat. Arguments x, y and batch_size are only\n",
      "available in the SKCompat class, Estimator will only accept input_fn.\n",
      "Example conversion:\n",
      "  est = Estimator(...) -> est = SKCompat(Estimator(...))\n"
     ]
    },
    {
     "name": "stdout",
     "output_type": "stream",
     "text": [
      "INFO:tensorflow:Starting evaluation at 2017-05-04-11:11:57\n"
     ]
    },
    {
     "name": "stderr",
     "output_type": "stream",
     "text": [
      "INFO:tensorflow:Starting evaluation at 2017-05-04-11:11:57\n"
     ]
    },
    {
     "name": "stdout",
     "output_type": "stream",
     "text": [
      "INFO:tensorflow:Finished evaluation at 2017-05-04-11:12:15\n"
     ]
    },
    {
     "name": "stderr",
     "output_type": "stream",
     "text": [
      "INFO:tensorflow:Finished evaluation at 2017-05-04-11:12:15\n"
     ]
    },
    {
     "name": "stdout",
     "output_type": "stream",
     "text": [
      "INFO:tensorflow:Saving dict for global step 1000: accuracy = 0.08, global_step = 1000, loss = 0.126942\n"
     ]
    },
    {
     "name": "stderr",
     "output_type": "stream",
     "text": [
      "INFO:tensorflow:Saving dict for global step 1000: accuracy = 0.08, global_step = 1000, loss = 0.126942\n"
     ]
    },
    {
     "name": "stdout",
     "output_type": "stream",
     "text": [
      "WARNING:tensorflow:Skipping summary for global_step, must be a float or np.float32.\n"
     ]
    },
    {
     "name": "stderr",
     "output_type": "stream",
     "text": [
      "WARNING:tensorflow:Skipping summary for global_step, must be a float or np.float32.\n"
     ]
    },
    {
     "name": "stdout",
     "output_type": "stream",
     "text": [
      "549\n"
     ]
    }
   ],
   "source": [
    "# Calculate accuracy.(test)\n",
    "for i in range(100):\n",
    "    batch = mnist.test.next_batch(batch_size)\n",
    "    \n",
    "    result.append(\n",
    "        classifier.evaluate(\n",
    "        x=batch[0],\n",
    "        y=batch[1],\n",
    "        metrics= {\n",
    "            'accuracy' :\n",
    "                tf.contrib.learn.MetricSpec(\n",
    "                    metric_fn = tf.contrib.metrics.streaming_accuracy,\n",
    "                    prediction_key='accuracy'\n",
    "                ),\n",
    "        }\n",
    "        )\n",
    "    )\n",
    "    \n",
    "print(len(result))\n",
    "# for res in result:\n",
    "#     score += res['accuracy']\n",
    "\n",
    "# print('Accuracy : ', score/batch_num)"
   ]
  },
  {
   "cell_type": "code",
   "execution_count": 67,
   "metadata": {
    "collapsed": false
   },
   "outputs": [
    {
     "name": "stdout",
     "output_type": "stream",
     "text": [
      "WARNING:tensorflow:From <ipython-input-67-a1136cd87663>:9: calling BaseEstimator.evaluate (from tensorflow.contrib.learn.python.learn.estimators.estimator) with y is deprecated and will be removed after 2016-12-01.\n",
      "Instructions for updating:\n",
      "Estimator is decoupled from Scikit Learn interface by moving into\n",
      "separate class SKCompat. Arguments x, y and batch_size are only\n",
      "available in the SKCompat class, Estimator will only accept input_fn.\n",
      "Example conversion:\n",
      "  est = Estimator(...) -> est = SKCompat(Estimator(...))\n"
     ]
    },
    {
     "name": "stderr",
     "output_type": "stream",
     "text": [
      "C:\\Users\\Administrator\\Anaconda3\\lib\\site-packages\\tensorflow\\python\\util\\deprecation.py:247: FutureWarning: comparison to `None` will result in an elementwise object comparison in the future.\n",
      "  equality = a == b\n",
      "WARNING:tensorflow:From <ipython-input-67-a1136cd87663>:9: calling BaseEstimator.evaluate (from tensorflow.contrib.learn.python.learn.estimators.estimator) with y is deprecated and will be removed after 2016-12-01.\n",
      "Instructions for updating:\n",
      "Estimator is decoupled from Scikit Learn interface by moving into\n",
      "separate class SKCompat. Arguments x, y and batch_size are only\n",
      "available in the SKCompat class, Estimator will only accept input_fn.\n",
      "Example conversion:\n",
      "  est = Estimator(...) -> est = SKCompat(Estimator(...))\n"
     ]
    },
    {
     "name": "stdout",
     "output_type": "stream",
     "text": [
      "WARNING:tensorflow:From <ipython-input-67-a1136cd87663>:9: calling BaseEstimator.evaluate (from tensorflow.contrib.learn.python.learn.estimators.estimator) with x is deprecated and will be removed after 2016-12-01.\n",
      "Instructions for updating:\n",
      "Estimator is decoupled from Scikit Learn interface by moving into\n",
      "separate class SKCompat. Arguments x, y and batch_size are only\n",
      "available in the SKCompat class, Estimator will only accept input_fn.\n",
      "Example conversion:\n",
      "  est = Estimator(...) -> est = SKCompat(Estimator(...))\n"
     ]
    },
    {
     "name": "stderr",
     "output_type": "stream",
     "text": [
      "WARNING:tensorflow:From <ipython-input-67-a1136cd87663>:9: calling BaseEstimator.evaluate (from tensorflow.contrib.learn.python.learn.estimators.estimator) with x is deprecated and will be removed after 2016-12-01.\n",
      "Instructions for updating:\n",
      "Estimator is decoupled from Scikit Learn interface by moving into\n",
      "separate class SKCompat. Arguments x, y and batch_size are only\n",
      "available in the SKCompat class, Estimator will only accept input_fn.\n",
      "Example conversion:\n",
      "  est = Estimator(...) -> est = SKCompat(Estimator(...))\n"
     ]
    },
    {
     "name": "stdout",
     "output_type": "stream",
     "text": [
      "INFO:tensorflow:Starting evaluation at 2017-05-04-11:17:59\n"
     ]
    },
    {
     "name": "stderr",
     "output_type": "stream",
     "text": [
      "INFO:tensorflow:Starting evaluation at 2017-05-04-11:17:59\n"
     ]
    },
    {
     "name": "stdout",
     "output_type": "stream",
     "text": [
      "INFO:tensorflow:Finished evaluation at 2017-05-04-11:18:42\n"
     ]
    },
    {
     "name": "stderr",
     "output_type": "stream",
     "text": [
      "INFO:tensorflow:Finished evaluation at 2017-05-04-11:18:42\n"
     ]
    },
    {
     "name": "stdout",
     "output_type": "stream",
     "text": [
      "INFO:tensorflow:Saving dict for global step 1000: accuracy = 0.115, global_step = 1000, loss = 0.173397\n"
     ]
    },
    {
     "name": "stderr",
     "output_type": "stream",
     "text": [
      "INFO:tensorflow:Saving dict for global step 1000: accuracy = 0.115, global_step = 1000, loss = 0.173397\n"
     ]
    },
    {
     "name": "stdout",
     "output_type": "stream",
     "text": [
      "WARNING:tensorflow:Skipping summary for global_step, must be a float or np.float32.\n"
     ]
    },
    {
     "name": "stderr",
     "output_type": "stream",
     "text": [
      "WARNING:tensorflow:Skipping summary for global_step, must be a float or np.float32.\n"
     ]
    },
    {
     "name": "stdout",
     "output_type": "stream",
     "text": [
      "Accuracy: 0.115000\n"
     ]
    }
   ],
   "source": [
    "# Calculate accuracy.\n",
    "result = classifier.evaluate(\n",
    "    x=mnist.test.images[:200],\n",
    "    y=mnist.test.labels[:200],\n",
    "    metrics={\n",
    "        'accuracy':\n",
    "            tf.contrib.learn.MetricSpec(\n",
    "                metric_fn=tf.contrib.metrics.streaming_accuracy,\n",
    "                prediction_key='accuracy'),\n",
    "    })\n",
    "score = result['accuracy']\n",
    "print('Accuracy: {0:f}'.format(score))"
   ]
  },
  {
   "cell_type": "code",
   "execution_count": 65,
   "metadata": {
    "collapsed": true
   },
   "outputs": [
    {
     "data": {
      "text/plain": [
       "[{'accuracy': 0.126, 'global_step': 1000, 'loss': 0.14870425},\n",
       " {'accuracy': 0.107, 'global_step': 1000, 'loss': 0.17997958},\n",
       " {'accuracy': 0.107, 'global_step': 1000, 'loss': 0.21735755},\n",
       " {'accuracy': 0.111, 'global_step': 1000, 'loss': 0.19259848},\n",
       " {'accuracy': 0.121, 'global_step': 1000, 'loss': 0.18864594},\n",
       " {'accuracy': 0.119, 'global_step': 1000, 'loss': 0.10162238},\n",
       " {'accuracy': 0.113, 'global_step': 1000, 'loss': 0.13720106},\n",
       " {'accuracy': 0.112, 'global_step': 1000, 'loss': 0.084695332},\n",
       " {'accuracy': 0.113, 'global_step': 1000, 'loss': 0.081935704},\n",
       " {'accuracy': 0.121, 'global_step': 1000, 'loss': 0.11734874},\n",
       " {'global_step': 1000, 'loss': 0.10788562},\n",
       " {'global_step': 1000, 'loss': 0.11676155},\n",
       " {'global_step': 1000, 'loss': 0.24755821},\n",
       " {'global_step': 1000, 'loss': 0.2833387},\n",
       " {'global_step': 1000, 'loss': 0.075475737},\n",
       " {'global_step': 1000, 'loss': 0.069856942},\n",
       " {'global_step': 1000, 'loss': 0.10123716},\n",
       " {'global_step': 1000, 'loss': 0.09039817},\n",
       " {'global_step': 1000, 'loss': 0.16414553},\n",
       " {'global_step': 1000, 'loss': 0.10479014},\n",
       " {'global_step': 1000, 'loss': 0.21467084},\n",
       " {'global_step': 1000, 'loss': 0.17615245},\n",
       " {'global_step': 1000, 'loss': 0.20052561},\n",
       " {'global_step': 1000, 'loss': 0.16271004},\n",
       " {'global_step': 1000, 'loss': 0.44082627},\n",
       " {'global_step': 1000, 'loss': 0.16135721},\n",
       " {'global_step': 1000, 'loss': 0.19137745},\n",
       " {'global_step': 1000, 'loss': 0.1280252},\n",
       " {'global_step': 1000, 'loss': 0.10241872},\n",
       " {'global_step': 1000, 'loss': 0.16079555},\n",
       " {'global_step': 1000, 'loss': 0.18653156},\n",
       " {'global_step': 1000, 'loss': 0.070286676},\n",
       " {'global_step': 1000, 'loss': 0.10531655},\n",
       " {'global_step': 1000, 'loss': 0.21965714},\n",
       " {'global_step': 1000, 'loss': 0.22773224},\n",
       " {'global_step': 1000, 'loss': 0.27948344},\n",
       " {'global_step': 1000, 'loss': 0.071918376},\n",
       " {'global_step': 1000, 'loss': 0.10794718},\n",
       " {'global_step': 1000, 'loss': 0.15779994},\n",
       " {'global_step': 1000, 'loss': 0.12208161},\n",
       " {'global_step': 1000, 'loss': 0.30155534},\n",
       " {'global_step': 1000, 'loss': 0.081717692},\n",
       " {'global_step': 1000, 'loss': 0.14082199},\n",
       " {'global_step': 1000, 'loss': 0.28559864},\n",
       " {'global_step': 1000, 'loss': 0.1528711},\n",
       " {'global_step': 1000, 'loss': 0.14323418},\n",
       " {'global_step': 1000, 'loss': 0.071550548},\n",
       " {'global_step': 1000, 'loss': 0.16768898},\n",
       " {'global_step': 1000, 'loss': 0.098902598},\n",
       " {'global_step': 1000, 'loss': 0.23842813},\n",
       " {'global_step': 1000, 'loss': 0.11986388},\n",
       " {'global_step': 1000, 'loss': 0.13768324},\n",
       " {'global_step': 1000, 'loss': 0.14988534},\n",
       " {'global_step': 1000, 'loss': 0.3234795},\n",
       " {'global_step': 1000, 'loss': 0.2304253},\n",
       " {'global_step': 1000, 'loss': 0.10912105},\n",
       " {'global_step': 1000, 'loss': 0.23436962},\n",
       " {'global_step': 1000, 'loss': 0.16592415},\n",
       " {'global_step': 1000, 'loss': 0.082757019},\n",
       " {'global_step': 1000, 'loss': 0.17790367},\n",
       " {'global_step': 1000, 'loss': 0.080812685},\n",
       " {'global_step': 1000, 'loss': 0.13133556},\n",
       " {'global_step': 1000, 'loss': 0.13612214},\n",
       " {'global_step': 1000, 'loss': 0.15048276},\n",
       " {'global_step': 1000, 'loss': 0.098896302},\n",
       " {'global_step': 1000, 'loss': 0.20830502},\n",
       " {'global_step': 1000, 'loss': 0.1849865},\n",
       " {'global_step': 1000, 'loss': 0.15916759},\n",
       " {'global_step': 1000, 'loss': 0.17637148},\n",
       " {'global_step': 1000, 'loss': 0.16622514},\n",
       " {'global_step': 1000, 'loss': 0.20144254},\n",
       " {'global_step': 1000, 'loss': 0.11240526},\n",
       " {'global_step': 1000, 'loss': 0.15668806},\n",
       " {'global_step': 1000, 'loss': 0.23075336},\n",
       " {'global_step': 1000, 'loss': 0.26159474},\n",
       " {'global_step': 1000, 'loss': 0.10626598},\n",
       " {'global_step': 1000, 'loss': 0.13764131},\n",
       " {'global_step': 1000, 'loss': 0.11742676},\n",
       " {'global_step': 1000, 'loss': 0.16999905},\n",
       " {'global_step': 1000, 'loss': 0.21257974},\n",
       " {'global_step': 1000, 'loss': 0.068481043},\n",
       " {'global_step': 1000, 'loss': 0.1289096},\n",
       " {'global_step': 1000, 'loss': 0.22056046},\n",
       " {'global_step': 1000, 'loss': 0.18142146},\n",
       " {'global_step': 1000, 'loss': 0.13273796},\n",
       " {'global_step': 1000, 'loss': 0.11254095},\n",
       " {'global_step': 1000, 'loss': 0.25247714},\n",
       " {'global_step': 1000, 'loss': 0.18067434},\n",
       " {'global_step': 1000, 'loss': 0.1915179},\n",
       " {'global_step': 1000, 'loss': 0.16484606},\n",
       " {'global_step': 1000, 'loss': 0.13989095},\n",
       " {'global_step': 1000, 'loss': 0.15442422},\n",
       " {'global_step': 1000, 'loss': 0.22514643},\n",
       " {'global_step': 1000, 'loss': 0.12925516},\n",
       " {'global_step': 1000, 'loss': 0.21358642},\n",
       " {'global_step': 1000, 'loss': 0.22934033},\n",
       " {'global_step': 1000, 'loss': 0.17085142},\n",
       " {'global_step': 1000, 'loss': 0.20794944},\n",
       " {'global_step': 1000, 'loss': 0.17157768},\n",
       " {'global_step': 1000, 'loss': 0.14962991},\n",
       " {'global_step': 1000, 'loss': 0.24244922},\n",
       " {'global_step': 1000, 'loss': 0.088278607},\n",
       " {'global_step': 1000, 'loss': 0.10523424},\n",
       " {'global_step': 1000, 'loss': 0.10331344},\n",
       " {'global_step': 1000, 'loss': 0.17370951},\n",
       " {'global_step': 1000, 'loss': 0.16657987},\n",
       " {'global_step': 1000, 'loss': 0.14025271},\n",
       " {'global_step': 1000, 'loss': 0.1591235},\n",
       " {'global_step': 1000, 'loss': 0.22167903},\n",
       " {'global_step': 1000, 'loss': 0.17797162},\n",
       " {'global_step': 1000, 'loss': 0.18457241},\n",
       " {'global_step': 1000, 'loss': 0.2401316},\n",
       " {'global_step': 1000, 'loss': 0.072152786},\n",
       " {'global_step': 1000, 'loss': 0.076496616},\n",
       " {'global_step': 1000, 'loss': 0.14336953},\n",
       " {'global_step': 1000, 'loss': 0.12951709},\n",
       " {'global_step': 1000, 'loss': 0.15877213},\n",
       " {'global_step': 1000, 'loss': 0.22984},\n",
       " {'global_step': 1000, 'loss': 0.15615731},\n",
       " {'global_step': 1000, 'loss': 0.1960618},\n",
       " {'global_step': 1000, 'loss': 0.1363323},\n",
       " {'global_step': 1000, 'loss': 0.21384737},\n",
       " {'global_step': 1000, 'loss': 0.21624015},\n",
       " {'global_step': 1000, 'loss': 0.30503917},\n",
       " {'global_step': 1000, 'loss': 0.13082062},\n",
       " {'global_step': 1000, 'loss': 0.10788195},\n",
       " {'global_step': 1000, 'loss': 0.21356708},\n",
       " {'global_step': 1000, 'loss': 0.17509639},\n",
       " {'global_step': 1000, 'loss': 0.14134724},\n",
       " {'global_step': 1000, 'loss': 0.14673232},\n",
       " {'global_step': 1000, 'loss': 0.1187612},\n",
       " {'global_step': 1000, 'loss': 0.083603658},\n",
       " {'global_step': 1000, 'loss': 0.15020901},\n",
       " {'global_step': 1000, 'loss': 0.20250688},\n",
       " {'global_step': 1000, 'loss': 0.12190703},\n",
       " {'global_step': 1000, 'loss': 0.12945907},\n",
       " {'global_step': 1000, 'loss': 0.16834219},\n",
       " {'global_step': 1000, 'loss': 0.16421823},\n",
       " {'global_step': 1000, 'loss': 0.15781601},\n",
       " {'global_step': 1000, 'loss': 0.17736743},\n",
       " {'global_step': 1000, 'loss': 0.38354751},\n",
       " {'global_step': 1000, 'loss': 0.19699669},\n",
       " {'global_step': 1000, 'loss': 0.12264739},\n",
       " {'global_step': 1000, 'loss': 0.22107786},\n",
       " {'global_step': 1000, 'loss': 0.15756701},\n",
       " {'global_step': 1000, 'loss': 0.071843527},\n",
       " {'global_step': 1000, 'loss': 0.10595161},\n",
       " {'global_step': 1000, 'loss': 0.13862056},\n",
       " {'global_step': 1000, 'loss': 0.24202183},\n",
       " {'global_step': 1000, 'loss': 0.14860636},\n",
       " {'global_step': 1000, 'loss': 0.17725237},\n",
       " {'global_step': 1000, 'loss': 0.07359495},\n",
       " {'global_step': 1000, 'loss': 0.15023196},\n",
       " {'global_step': 1000, 'loss': 0.16453236},\n",
       " {'global_step': 1000, 'loss': 0.13111685},\n",
       " {'global_step': 1000, 'loss': 0.20223449},\n",
       " {'global_step': 1000, 'loss': 0.14539927},\n",
       " {'global_step': 1000, 'loss': 0.10748336},\n",
       " {'global_step': 1000, 'loss': 0.10234721},\n",
       " {'global_step': 1000, 'loss': 0.2348942},\n",
       " {'global_step': 1000, 'loss': 0.139846},\n",
       " {'global_step': 1000, 'loss': 0.12256116},\n",
       " {'global_step': 1000, 'loss': 0.17678612},\n",
       " {'global_step': 1000, 'loss': 0.18653484},\n",
       " {'global_step': 1000, 'loss': 0.21613941},\n",
       " {'global_step': 1000, 'loss': 0.22390227},\n",
       " {'global_step': 1000, 'loss': 0.14744927},\n",
       " {'global_step': 1000, 'loss': 0.15593509},\n",
       " {'global_step': 1000, 'loss': 0.31110936},\n",
       " {'global_step': 1000, 'loss': 0.18073107},\n",
       " {'global_step': 1000, 'loss': 0.24285655},\n",
       " {'global_step': 1000, 'loss': 0.13505614},\n",
       " {'global_step': 1000, 'loss': 0.14318988},\n",
       " {'global_step': 1000, 'loss': 0.12734035},\n",
       " {'global_step': 1000, 'loss': 0.059695531},\n",
       " {'global_step': 1000, 'loss': 0.16646561},\n",
       " {'global_step': 1000, 'loss': 0.17297524},\n",
       " {'global_step': 1000, 'loss': 0.22121733},\n",
       " {'global_step': 1000, 'loss': 0.14606701},\n",
       " {'global_step': 1000, 'loss': 0.31490198},\n",
       " {'global_step': 1000, 'loss': 0.19597799},\n",
       " {'global_step': 1000, 'loss': 0.054819703},\n",
       " {'global_step': 1000, 'loss': 0.080862999},\n",
       " {'global_step': 1000, 'loss': 0.23911414},\n",
       " {'global_step': 1000, 'loss': 0.16501828},\n",
       " {'global_step': 1000, 'loss': 0.25204197},\n",
       " {'global_step': 1000, 'loss': 0.066066973},\n",
       " {'global_step': 1000, 'loss': 0.2471121},\n",
       " {'global_step': 1000, 'loss': 0.15013047},\n",
       " {'global_step': 1000, 'loss': 0.11783536},\n",
       " {'global_step': 1000, 'loss': 0.15584317},\n",
       " {'global_step': 1000, 'loss': 0.17201273},\n",
       " {'global_step': 1000, 'loss': 0.17480403},\n",
       " {'global_step': 1000, 'loss': 0.2970106},\n",
       " {'global_step': 1000, 'loss': 0.12644409},\n",
       " {'global_step': 1000, 'loss': 0.16067445},\n",
       " {'global_step': 1000, 'loss': 0.1213569},\n",
       " {'global_step': 1000, 'loss': 0.17895071},\n",
       " {'global_step': 1000, 'loss': 0.2571317},\n",
       " {'global_step': 1000, 'loss': 0.077346988},\n",
       " {'global_step': 1000, 'loss': 0.37793407},\n",
       " {'global_step': 1000, 'loss': 0.089167759},\n",
       " {'global_step': 1000, 'loss': 0.075152799},\n",
       " {'global_step': 1000, 'loss': 0.16416143},\n",
       " {'global_step': 1000, 'loss': 0.19211301},\n",
       " {'global_step': 1000, 'loss': 0.15367799},\n",
       " {'global_step': 1000, 'loss': 0.41718617},\n",
       " {'global_step': 1000, 'loss': 0.15308382},\n",
       " {'global_step': 1000, 'loss': 0.12616593},\n",
       " {'global_step': 1000, 'loss': 0.22417979},\n",
       " {'global_step': 1000, 'loss': 0.15154561},\n",
       " {'global_step': 1000, 'loss': 0.14728306},\n",
       " {'global_step': 1000, 'loss': 0.23122664},\n",
       " {'global_step': 1000, 'loss': 0.28282559},\n",
       " {'global_step': 1000, 'loss': 0.10759611},\n",
       " {'global_step': 1000, 'loss': 0.070314065},\n",
       " {'global_step': 1000, 'loss': 0.044059604},\n",
       " {'global_step': 1000, 'loss': 0.12012862},\n",
       " {'global_step': 1000, 'loss': 0.18938816},\n",
       " {'global_step': 1000, 'loss': 0.10165171},\n",
       " {'global_step': 1000, 'loss': 0.16135074},\n",
       " {'global_step': 1000, 'loss': 0.23194239},\n",
       " {'global_step': 1000, 'loss': 0.20436892},\n",
       " {'global_step': 1000, 'loss': 0.14042333},\n",
       " {'global_step': 1000, 'loss': 0.32925892},\n",
       " {'global_step': 1000, 'loss': 0.17463428},\n",
       " {'global_step': 1000, 'loss': 0.10131629},\n",
       " {'global_step': 1000, 'loss': 0.085155927},\n",
       " {'global_step': 1000, 'loss': 0.12133833},\n",
       " {'global_step': 1000, 'loss': 0.2258736},\n",
       " {'global_step': 1000, 'loss': 0.28638175},\n",
       " {'global_step': 1000, 'loss': 0.25583181},\n",
       " {'global_step': 1000, 'loss': 0.28320208},\n",
       " {'global_step': 1000, 'loss': 0.14426227},\n",
       " {'global_step': 1000, 'loss': 0.21024197},\n",
       " {'global_step': 1000, 'loss': 0.18272811},\n",
       " {'global_step': 1000, 'loss': 0.16667365},\n",
       " {'global_step': 1000, 'loss': 0.079930328},\n",
       " {'global_step': 1000, 'loss': 0.2319615},\n",
       " {'global_step': 1000, 'loss': 0.2120748},\n",
       " {'global_step': 1000, 'loss': 0.25533047},\n",
       " {'global_step': 1000, 'loss': 0.13202092},\n",
       " {'global_step': 1000, 'loss': 0.19622599},\n",
       " {'global_step': 1000, 'loss': 0.14386572},\n",
       " {'global_step': 1000, 'loss': 0.19077221},\n",
       " {'global_step': 1000, 'loss': 0.090947121},\n",
       " {'global_step': 1000, 'loss': 0.17652357},\n",
       " {'global_step': 1000, 'loss': 0.096496493},\n",
       " {'global_step': 1000, 'loss': 0.18149337},\n",
       " {'global_step': 1000, 'loss': 0.16008194},\n",
       " {'global_step': 1000, 'loss': 0.11378277},\n",
       " {'global_step': 1000, 'loss': 0.18804689},\n",
       " {'global_step': 1000, 'loss': 0.12234665},\n",
       " {'global_step': 1000, 'loss': 0.080678247},\n",
       " {'global_step': 1000, 'loss': 0.14376429},\n",
       " {'global_step': 1000, 'loss': 0.087406844},\n",
       " {'global_step': 1000, 'loss': 0.10792653},\n",
       " {'global_step': 1000, 'loss': 0.15875384},\n",
       " {'global_step': 1000, 'loss': 0.075985946},\n",
       " {'global_step': 1000, 'loss': 0.25416541},\n",
       " {'global_step': 1000, 'loss': 0.09098731},\n",
       " {'global_step': 1000, 'loss': 0.24176572},\n",
       " {'global_step': 1000, 'loss': 0.137476},\n",
       " {'global_step': 1000, 'loss': 0.23872471},\n",
       " {'global_step': 1000, 'loss': 0.24441364},\n",
       " {'global_step': 1000, 'loss': 0.22215898},\n",
       " {'global_step': 1000, 'loss': 0.081372596},\n",
       " {'global_step': 1000, 'loss': 0.11244959},\n",
       " {'global_step': 1000, 'loss': 0.15304464},\n",
       " {'global_step': 1000, 'loss': 0.26076198},\n",
       " {'global_step': 1000, 'loss': 0.24778736},\n",
       " {'global_step': 1000, 'loss': 0.10071624},\n",
       " {'global_step': 1000, 'loss': 0.13227218},\n",
       " {'global_step': 1000, 'loss': 0.1298258},\n",
       " {'global_step': 1000, 'loss': 0.1621843},\n",
       " {'global_step': 1000, 'loss': 0.27048138},\n",
       " {'global_step': 1000, 'loss': 0.10435846},\n",
       " {'global_step': 1000, 'loss': 0.16674545},\n",
       " {'global_step': 1000, 'loss': 0.25239792},\n",
       " {'global_step': 1000, 'loss': 0.11190235},\n",
       " {'global_step': 1000, 'loss': 0.15746771},\n",
       " {'global_step': 1000, 'loss': 0.14201073},\n",
       " {'global_step': 1000, 'loss': 0.17235288},\n",
       " {'global_step': 1000, 'loss': 0.16585426},\n",
       " {'global_step': 1000, 'loss': 0.12683859},\n",
       " {'global_step': 1000, 'loss': 0.17464143},\n",
       " {'global_step': 1000, 'loss': 0.15057093},\n",
       " {'global_step': 1000, 'loss': 0.33921981},\n",
       " {'global_step': 1000, 'loss': 0.11247478},\n",
       " {'global_step': 1000, 'loss': 0.19606775},\n",
       " {'global_step': 1000, 'loss': 0.10368242},\n",
       " {'global_step': 1000, 'loss': 0.16003327},\n",
       " {'global_step': 1000, 'loss': 0.059591375},\n",
       " {'global_step': 1000, 'loss': 0.3271859},\n",
       " {'global_step': 1000, 'loss': 0.26033944},\n",
       " {'global_step': 1000, 'loss': 0.14080924},\n",
       " {'global_step': 1000, 'loss': 0.082371145},\n",
       " {'global_step': 1000, 'loss': 0.096536361},\n",
       " {'global_step': 1000, 'loss': 0.17443004},\n",
       " {'global_step': 1000, 'loss': 0.19541164},\n",
       " {'global_step': 1000, 'loss': 0.12036774},\n",
       " {'global_step': 1000, 'loss': 0.06558843},\n",
       " {'global_step': 1000, 'loss': 0.23886666},\n",
       " {'global_step': 1000, 'loss': 0.2062698},\n",
       " {'global_step': 1000, 'loss': 0.091303356},\n",
       " {'global_step': 1000, 'loss': 0.17566806},\n",
       " {'global_step': 1000, 'loss': 0.19806466},\n",
       " {'global_step': 1000, 'loss': 0.12587149},\n",
       " {'global_step': 1000, 'loss': 0.1305258},\n",
       " {'global_step': 1000, 'loss': 0.1280276},\n",
       " {'global_step': 1000, 'loss': 0.1186617},\n",
       " {'global_step': 1000, 'loss': 0.43211299},\n",
       " {'global_step': 1000, 'loss': 0.27107236},\n",
       " {'global_step': 1000, 'loss': 0.22773808},\n",
       " {'global_step': 1000, 'loss': 0.077016681},\n",
       " {'global_step': 1000, 'loss': 0.16883427},\n",
       " {'global_step': 1000, 'loss': 0.22423118},\n",
       " {'global_step': 1000, 'loss': 0.10909008},\n",
       " {'global_step': 1000, 'loss': 0.16149637},\n",
       " {'global_step': 1000, 'loss': 0.15528502},\n",
       " {'global_step': 1000, 'loss': 0.14770016},\n",
       " {'global_step': 1000, 'loss': 0.17568903},\n",
       " {'global_step': 1000, 'loss': 0.26227209},\n",
       " {'global_step': 1000, 'loss': 0.14220107},\n",
       " {'global_step': 1000, 'loss': 0.14937535},\n",
       " {'global_step': 1000, 'loss': 0.097655684},\n",
       " {'global_step': 1000, 'loss': 0.076210834},\n",
       " {'global_step': 1000, 'loss': 0.10299245},\n",
       " {'global_step': 1000, 'loss': 0.091888368},\n",
       " {'global_step': 1000, 'loss': 0.18789107},\n",
       " {'global_step': 1000, 'loss': 0.059353448},\n",
       " {'global_step': 1000, 'loss': 0.18550158},\n",
       " {'global_step': 1000, 'loss': 0.17758234},\n",
       " {'global_step': 1000, 'loss': 0.16637827},\n",
       " {'global_step': 1000, 'loss': 0.16080064},\n",
       " {'global_step': 1000, 'loss': 0.12367987},\n",
       " {'global_step': 1000, 'loss': 0.25867519},\n",
       " {'global_step': 1000, 'loss': 0.24517731},\n",
       " {'global_step': 1000, 'loss': 0.15898335},\n",
       " {'global_step': 1000, 'loss': 0.2275375},\n",
       " {'global_step': 1000, 'loss': 0.042953353},\n",
       " {'global_step': 1000, 'loss': 0.22946337},\n",
       " {'global_step': 1000, 'loss': 0.30949965},\n",
       " {'global_step': 1000, 'loss': 0.12656036},\n",
       " {'global_step': 1000, 'loss': 0.28659701},\n",
       " {'global_step': 1000, 'loss': 0.22683752},\n",
       " {'global_step': 1000, 'loss': 0.27417919},\n",
       " {'global_step': 1000, 'loss': 0.15347384},\n",
       " {'global_step': 1000, 'loss': 0.14764763},\n",
       " {'global_step': 1000, 'loss': 0.097138174},\n",
       " {'global_step': 1000, 'loss': 0.072595492},\n",
       " {'global_step': 1000, 'loss': 0.085987985},\n",
       " {'global_step': 1000, 'loss': 0.19886684},\n",
       " {'global_step': 1000, 'loss': 0.1910706},\n",
       " {'global_step': 1000, 'loss': 0.15959831},\n",
       " {'global_step': 1000, 'loss': 0.23297787},\n",
       " {'global_step': 1000, 'loss': 0.058394607},\n",
       " {'global_step': 1000, 'loss': 0.27020955},\n",
       " {'global_step': 1000, 'loss': 0.14751621},\n",
       " {'global_step': 1000, 'loss': 0.10600961},\n",
       " {'global_step': 1000, 'loss': 0.20893893},\n",
       " {'global_step': 1000, 'loss': 0.085056111},\n",
       " {'global_step': 1000, 'loss': 0.11184933},\n",
       " {'global_step': 1000, 'loss': 0.19477515},\n",
       " {'global_step': 1000, 'loss': 0.23518315},\n",
       " {'global_step': 1000, 'loss': 0.134068},\n",
       " {'global_step': 1000, 'loss': 0.15987374},\n",
       " {'global_step': 1000, 'loss': 0.19525187},\n",
       " {'global_step': 1000, 'loss': 0.15960453},\n",
       " {'global_step': 1000, 'loss': 0.1372356},\n",
       " {'global_step': 1000, 'loss': 0.33219075},\n",
       " {'global_step': 1000, 'loss': 0.15772009},\n",
       " {'global_step': 1000, 'loss': 0.24875362},\n",
       " {'global_step': 1000, 'loss': 0.16390079},\n",
       " {'global_step': 1000, 'loss': 0.16263537},\n",
       " {'global_step': 1000, 'loss': 0.28363577},\n",
       " {'global_step': 1000, 'loss': 0.26303181},\n",
       " {'global_step': 1000, 'loss': 0.19087738},\n",
       " {'global_step': 1000, 'loss': 0.26577634},\n",
       " {'global_step': 1000, 'loss': 0.27655372},\n",
       " {'global_step': 1000, 'loss': 0.40376702},\n",
       " {'global_step': 1000, 'loss': 0.13574943},\n",
       " {'global_step': 1000, 'loss': 0.2224903},\n",
       " {'global_step': 1000, 'loss': 0.094756253},\n",
       " {'global_step': 1000, 'loss': 0.17855966},\n",
       " {'global_step': 1000, 'loss': 0.10578697},\n",
       " {'global_step': 1000, 'loss': 0.17748415},\n",
       " {'global_step': 1000, 'loss': 0.046850991},\n",
       " {'global_step': 1000, 'loss': 0.16554248},\n",
       " {'global_step': 1000, 'loss': 0.12232778},\n",
       " {'global_step': 1000, 'loss': 0.094564073},\n",
       " {'global_step': 1000, 'loss': 0.10910033},\n",
       " {'global_step': 1000, 'loss': 0.099346019},\n",
       " {'global_step': 1000, 'loss': 0.12076738},\n",
       " {'global_step': 1000, 'loss': 0.22996098},\n",
       " {'global_step': 1000, 'loss': 0.2108396},\n",
       " {'global_step': 1000, 'loss': 0.095283948},\n",
       " {'global_step': 1000, 'loss': 0.095594652},\n",
       " {'global_step': 1000, 'loss': 0.12977497},\n",
       " {'global_step': 1000, 'loss': 0.15520434},\n",
       " {'global_step': 1000, 'loss': 0.13732186},\n",
       " {'global_step': 1000, 'loss': 0.17510746},\n",
       " {'global_step': 1000, 'loss': 0.25098932},\n",
       " {'global_step': 1000, 'loss': 0.10106328},\n",
       " {'global_step': 1000, 'loss': 0.11449981},\n",
       " {'global_step': 1000, 'loss': 0.28763366},\n",
       " {'global_step': 1000, 'loss': 0.15032168},\n",
       " {'global_step': 1000, 'loss': 0.21346174},\n",
       " {'global_step': 1000, 'loss': 0.13843612},\n",
       " {'global_step': 1000, 'loss': 0.43729389},\n",
       " {'global_step': 1000, 'loss': 0.049734928},\n",
       " {'global_step': 1000, 'loss': 0.088421613},\n",
       " {'global_step': 1000, 'loss': 0.065552339},\n",
       " {'global_step': 1000, 'loss': 0.14802559},\n",
       " {'global_step': 1000, 'loss': 0.15286045},\n",
       " {'global_step': 1000, 'loss': 0.25668219},\n",
       " {'global_step': 1000, 'loss': 0.22914997},\n",
       " {'global_step': 1000, 'loss': 0.15766132},\n",
       " {'global_step': 1000, 'loss': 0.18672185},\n",
       " {'global_step': 1000, 'loss': 0.17827518},\n",
       " {'global_step': 1000, 'loss': 0.15766759},\n",
       " {'global_step': 1000, 'loss': 0.12000435},\n",
       " {'global_step': 1000, 'loss': 0.087871149},\n",
       " {'global_step': 1000, 'loss': 0.279708},\n",
       " {'global_step': 1000, 'loss': 0.19560371},\n",
       " {'global_step': 1000, 'loss': 0.14288463},\n",
       " {'global_step': 1000, 'loss': 0.19004275},\n",
       " {'global_step': 1000, 'loss': 0.24189663},\n",
       " {'global_step': 1000, 'loss': 0.19357418},\n",
       " {'global_step': 1000, 'loss': 0.12090985},\n",
       " {'global_step': 1000, 'loss': 0.11623771},\n",
       " {'global_step': 1000, 'loss': 0.061739191},\n",
       " {'global_step': 1000, 'loss': 0.13023643},\n",
       " {'global_step': 1000, 'loss': 0.24412364},\n",
       " {'global_step': 1000, 'loss': 0.11560819},\n",
       " {'global_step': 1000, 'loss': 0.20543629},\n",
       " {'global_step': 1000, 'loss': 0.096638091},\n",
       " {'global_step': 1000, 'loss': 0.25743905},\n",
       " {'global_step': 1000, 'loss': 0.14221865},\n",
       " {'global_step': 1000, 'loss': 0.10906917},\n",
       " {'global_step': 1000, 'loss': 0.30168366},\n",
       " {'global_step': 1000, 'loss': 0.09058439},\n",
       " {'global_step': 1000, 'loss': 0.13697381},\n",
       " {'global_step': 1000, 'loss': 0.18410331},\n",
       " {'global_step': 1000, 'loss': 0.091914855},\n",
       " {'global_step': 1000, 'loss': 0.20813136},\n",
       " {'global_step': 1000, 'loss': 0.163137},\n",
       " {'global_step': 1000, 'loss': 0.29519165},\n",
       " {'global_step': 1000, 'loss': 0.24785142},\n",
       " {'global_step': 1000, 'loss': 0.29528335},\n",
       " {'global_step': 1000, 'loss': 0.19260979},\n",
       " {'global_step': 1000, 'loss': 0.41385996},\n",
       " {'global_step': 1000, 'loss': 0.17603301},\n",
       " {'global_step': 1000, 'loss': 0.0918153},\n",
       " {'global_step': 1000, 'loss': 0.1552444},\n",
       " {'global_step': 1000, 'loss': 0.15740329},\n",
       " {'global_step': 1000, 'loss': 0.19006018},\n",
       " {'global_step': 1000, 'loss': 0.083526574},\n",
       " {'global_step': 1000, 'loss': 0.20321716},\n",
       " {'global_step': 1000, 'loss': 0.4534606},\n",
       " {'global_step': 1000, 'loss': 0.12063286},\n",
       " {'global_step': 1000, 'loss': 0.1037776},\n",
       " {'global_step': 1000, 'loss': 0.15469958},\n",
       " {'global_step': 1000, 'loss': 0.11146139},\n",
       " {'global_step': 1000, 'loss': 0.10726428},\n",
       " {'global_step': 1000, 'loss': 0.24245173},\n",
       " {'global_step': 1000, 'loss': 0.13352537},\n",
       " {'global_step': 1000, 'loss': 0.11131848},\n",
       " {'global_step': 1000, 'loss': 0.15986183},\n",
       " {'global_step': 1000, 'loss': 0.10447222},\n",
       " {'global_step': 1000, 'loss': 0.13911858},\n",
       " {'global_step': 1000, 'loss': 0.23978212},\n",
       " {'global_step': 1000, 'loss': 0.13723354},\n",
       " {'global_step': 1000, 'loss': 0.24314018},\n",
       " {'global_step': 1000, 'loss': 0.15746167},\n",
       " {'global_step': 1000, 'loss': 0.31716815},\n",
       " {'global_step': 1000, 'loss': 0.066699103},\n",
       " {'global_step': 1000, 'loss': 0.11037221},\n",
       " {'global_step': 1000, 'loss': 0.10073103},\n",
       " {'global_step': 1000, 'loss': 0.21369499},\n",
       " {'global_step': 1000, 'loss': 0.20746066},\n",
       " {'global_step': 1000, 'loss': 0.16153236},\n",
       " {'global_step': 1000, 'loss': 0.1966676},\n",
       " {'global_step': 1000, 'loss': 0.1017443},\n",
       " {'global_step': 1000, 'loss': 0.20451294},\n",
       " {'global_step': 1000, 'loss': 0.12289734},\n",
       " {'global_step': 1000, 'loss': 0.35548493},\n",
       " {'global_step': 1000, 'loss': 0.11092652},\n",
       " {'global_step': 1000, 'loss': 0.14659306},\n",
       " {'global_step': 1000, 'loss': 0.099473603},\n",
       " {'global_step': 1000, 'loss': 0.080729656},\n",
       " {'global_step': 1000, 'loss': 0.15433557},\n",
       " {'global_step': 1000, 'loss': 0.1294568},\n",
       " {'global_step': 1000, 'loss': 0.17797469},\n",
       " {'global_step': 1000, 'loss': 0.13405201},\n",
       " {'global_step': 1000, 'loss': 0.19033752},\n",
       " {'global_step': 1000, 'loss': 0.17197077},\n",
       " {'global_step': 1000, 'loss': 0.23103069},\n",
       " {'global_step': 1000, 'loss': 0.15650634},\n",
       " {'global_step': 1000, 'loss': 0.11256196},\n",
       " {'global_step': 1000, 'loss': 0.2096073},\n",
       " {'global_step': 1000, 'loss': 0.32012492},\n",
       " {'global_step': 1000, 'loss': 0.21229452},\n",
       " {'global_step': 1000, 'loss': 0.088561542},\n",
       " {'global_step': 1000, 'loss': 0.2108414},\n",
       " {'global_step': 1000, 'loss': 0.21134712},\n",
       " {'global_step': 1000, 'loss': 0.15509695},\n",
       " {'global_step': 1000, 'loss': 0.10420647},\n",
       " {'global_step': 1000, 'loss': 0.092880487},\n",
       " {'global_step': 1000, 'loss': 0.1327102},\n",
       " {'global_step': 1000, 'loss': 0.073194094},\n",
       " {'global_step': 1000, 'loss': 0.11968198},\n",
       " {'global_step': 1000, 'loss': 0.25865543},\n",
       " {'global_step': 1000, 'loss': 0.12996882},\n",
       " {'global_step': 1000, 'loss': 0.286437},\n",
       " {'global_step': 1000, 'loss': 0.11952844},\n",
       " {'global_step': 1000, 'loss': 0.12272934},\n",
       " {'global_step': 1000, 'loss': 0.1064786},\n",
       " {'global_step': 1000, 'loss': 0.039952874},\n",
       " {'global_step': 1000, 'loss': 0.15779889},\n",
       " {'global_step': 1000, 'loss': 0.076735504},\n",
       " {'global_step': 1000, 'loss': 0.13723499},\n",
       " {'global_step': 1000, 'loss': 0.33498341},\n",
       " {'global_step': 1000, 'loss': 0.14810953},\n",
       " {'global_step': 1000, 'loss': 0.15087742},\n",
       " {'global_step': 1000, 'loss': 0.23980384},\n",
       " {'global_step': 1000, 'loss': 0.14005765},\n",
       " {'global_step': 1000, 'loss': 0.1697118},\n",
       " {'global_step': 1000, 'loss': 0.088947803},\n",
       " {'global_step': 1000, 'loss': 0.1483991},\n",
       " {'global_step': 1000, 'loss': 0.17604728},\n",
       " {'global_step': 1000, 'loss': 0.11202355},\n",
       " {'global_step': 1000, 'loss': 0.12109505},\n",
       " {'global_step': 1000, 'loss': 0.23566096},\n",
       " {'global_step': 1000, 'loss': 0.27329364},\n",
       " {'global_step': 1000, 'loss': 0.089940168},\n",
       " {'global_step': 1000, 'loss': 0.20048101},\n",
       " {'global_step': 1000, 'loss': 0.15846235},\n",
       " {'global_step': 1000, 'loss': 0.20877872},\n",
       " {'global_step': 1000, 'loss': 0.13702282},\n",
       " {'global_step': 1000, 'loss': 0.11402564},\n",
       " {'global_step': 1000, 'loss': 0.080055431},\n",
       " {'global_step': 1000, 'loss': 0.087988004},\n",
       " {'global_step': 1000, 'loss': 0.16378373},\n",
       " {'global_step': 1000, 'loss': 0.19553591},\n",
       " {'global_step': 1000, 'loss': 0.065032102},\n",
       " {'global_step': 1000, 'loss': 0.10196341},\n",
       " {'accuracy': 0.1, 'global_step': 1000, 'loss': 0.13975802},\n",
       " {'accuracy': 0.079999998, 'global_step': 1000, 'loss': 0.12694207}]"
      ]
     },
     "execution_count": 65,
     "metadata": {},
     "output_type": "execute_result"
    }
   ],
   "source": [
    "result"
   ]
  },
  {
   "cell_type": "code",
   "execution_count": 50,
   "metadata": {
    "collapsed": false
   },
   "outputs": [
    {
     "data": {
      "text/plain": [
       "[0, 1, 2, 3, 4, 5, 6, 7, 8, 9]"
      ]
     },
     "execution_count": 50,
     "metadata": {},
     "output_type": "execute_result"
    }
   ],
   "source": [
    "list(range(0,10))"
   ]
  },
  {
   "cell_type": "code",
   "execution_count": 53,
   "metadata": {
    "collapsed": false
   },
   "outputs": [
    {
     "data": {
      "text/plain": [
       "1000"
      ]
     },
     "execution_count": 53,
     "metadata": {},
     "output_type": "execute_result"
    }
   ],
   "source": [
    "batch[0].shape[0]"
   ]
  }
 ],
 "metadata": {
  "kernelspec": {
   "display_name": "Python 3",
   "language": "python",
   "name": "python3"
  },
  "language_info": {
   "codemirror_mode": {
    "name": "ipython",
    "version": 3
   },
   "file_extension": ".py",
   "mimetype": "text/x-python",
   "name": "python",
   "nbconvert_exporter": "python",
   "pygments_lexer": "ipython3",
   "version": "3.5.1"
  }
 },
 "nbformat": 4,
 "nbformat_minor": 0
}
