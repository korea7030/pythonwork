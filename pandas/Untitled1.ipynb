{
 "metadata": {
  "name": "",
  "signature": "sha256:b4b379aae916c593192be38d10a7b7062d3d845cafe2006b16144300d7b43d09"
 },
 "nbformat": 3,
 "nbformat_minor": 0,
 "worksheets": []
}