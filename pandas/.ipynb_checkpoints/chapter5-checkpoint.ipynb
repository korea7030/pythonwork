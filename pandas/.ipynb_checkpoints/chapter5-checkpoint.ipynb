{
 "metadata": {
  "name": "",
  "signature": "sha256:bd0d6e362afa9fd2121feb03411df809d2e5fdb63e8017a95400d957d22e0a88"
 },
 "nbformat": 3,
 "nbformat_minor": 0,
 "worksheets": [
  {
   "cells": [
    {
     "cell_type": "heading",
     "level": 1,
     "metadata": {},
     "source": [
      "1. pandas \uc790\ub8cc \uad6c\uc870 \uc18c\uac1c"
     ]
    },
    {
     "cell_type": "heading",
     "level": 6,
     "metadata": {},
     "source": [
      "    pandas\uc758 \uc790\ub8cc\uad6c\uc870\ub294 Series\uc640 DataFrame \uc774 \ub450\uac00\uc9c0\uac00 \uc788\ub2e4."
     ]
    },
    {
     "cell_type": "heading",
     "level": 3,
     "metadata": {},
     "source": [
      "1.1 Series"
     ]
    },
    {
     "cell_type": "heading",
     "level": 4,
     "metadata": {},
     "source": [
      "\uac1d\uccb4\ub97c \ub2f4\uc744 \uc218 \uc788\ub294 \ubc30\uc5f4\uacfc \uac19\uc740 \uc790\ub8cc \uad6c\uc870"
     ]
    },
    {
     "cell_type": "code",
     "collapsed": false,
     "input": [
      "from pandas import Series, DataFrame\n",
      "import pandas as pd\n",
      "import numpy as np"
     ],
     "language": "python",
     "metadata": {},
     "outputs": [],
     "prompt_number": 17
    },
    {
     "cell_type": "code",
     "collapsed": false,
     "input": [
      "obj = Series([4,7,-5,3])"
     ],
     "language": "python",
     "metadata": {},
     "outputs": [],
     "prompt_number": 5
    },
    {
     "cell_type": "code",
     "collapsed": false,
     "input": [
      "obj"
     ],
     "language": "python",
     "metadata": {},
     "outputs": [
      {
       "metadata": {},
       "output_type": "pyout",
       "prompt_number": 6,
       "text": [
        "0    4\n",
        "1    7\n",
        "2   -5\n",
        "3    3\n",
        "dtype: int64"
       ]
      }
     ],
     "prompt_number": 6
    },
    {
     "cell_type": "code",
     "collapsed": false,
     "input": [
      "obj.values ## \uac12 \ucd9c\ub825"
     ],
     "language": "python",
     "metadata": {},
     "outputs": [
      {
       "metadata": {},
       "output_type": "pyout",
       "prompt_number": 7,
       "text": [
        "array([ 4,  7, -5,  3], dtype=int64)"
       ]
      }
     ],
     "prompt_number": 7
    },
    {
     "cell_type": "code",
     "collapsed": false,
     "input": [
      "obj.index ## series\uc758 index \uac12 \ucd9c\ub825"
     ],
     "language": "python",
     "metadata": {},
     "outputs": [
      {
       "metadata": {},
       "output_type": "pyout",
       "prompt_number": 8,
       "text": [
        "Int64Index([0, 1, 2, 3], dtype='int64')"
       ]
      }
     ],
     "prompt_number": 8
    },
    {
     "cell_type": "code",
     "collapsed": false,
     "input": [
      "obj2 = Series([4,7,-5,3], index=['d','b','a','c']) ## \uac01 \ub370\uc774\ud130\uc5d0 \uc0c9\uc778 \uac12\uc744 \uc9c0\uc815"
     ],
     "language": "python",
     "metadata": {},
     "outputs": [],
     "prompt_number": 9
    },
    {
     "cell_type": "code",
     "collapsed": false,
     "input": [
      "obj2"
     ],
     "language": "python",
     "metadata": {},
     "outputs": [
      {
       "metadata": {},
       "output_type": "pyout",
       "prompt_number": 10,
       "text": [
        "d    4\n",
        "b    7\n",
        "a   -5\n",
        "c    3\n",
        "dtype: int64"
       ]
      }
     ],
     "prompt_number": 10
    },
    {
     "cell_type": "code",
     "collapsed": false,
     "input": [
      "obj2['d']"
     ],
     "language": "python",
     "metadata": {},
     "outputs": [
      {
       "metadata": {},
       "output_type": "pyout",
       "prompt_number": 11,
       "text": [
        "4"
       ]
      }
     ],
     "prompt_number": 11
    },
    {
     "cell_type": "code",
     "collapsed": false,
     "input": [
      "obj2[['c','a','d']]"
     ],
     "language": "python",
     "metadata": {},
     "outputs": [
      {
       "metadata": {},
       "output_type": "pyout",
       "prompt_number": 12,
       "text": [
        "c    3\n",
        "a   -5\n",
        "d    4\n",
        "dtype: int64"
       ]
      }
     ],
     "prompt_number": 12
    },
    {
     "cell_type": "code",
     "collapsed": false,
     "input": [
      "obj2[obj2 > 0]"
     ],
     "language": "python",
     "metadata": {},
     "outputs": [
      {
       "metadata": {},
       "output_type": "pyout",
       "prompt_number": 14,
       "text": [
        "d    4\n",
        "b    7\n",
        "c    3\n",
        "dtype: int64"
       ]
      }
     ],
     "prompt_number": 14
    },
    {
     "cell_type": "code",
     "collapsed": false,
     "input": [
      "obj2*2"
     ],
     "language": "python",
     "metadata": {},
     "outputs": [
      {
       "metadata": {},
       "output_type": "pyout",
       "prompt_number": 15,
       "text": [
        "d     8\n",
        "b    14\n",
        "a   -10\n",
        "c     6\n",
        "dtype: int64"
       ]
      }
     ],
     "prompt_number": 15
    },
    {
     "cell_type": "code",
     "collapsed": false,
     "input": [
      "np.exp(obj2)"
     ],
     "language": "python",
     "metadata": {},
     "outputs": [
      {
       "metadata": {},
       "output_type": "pyout",
       "prompt_number": 18,
       "text": [
        "d      54.598150\n",
        "b    1096.633158\n",
        "a       0.006738\n",
        "c      20.085537\n",
        "dtype: float64"
       ]
      }
     ],
     "prompt_number": 18
    },
    {
     "cell_type": "heading",
     "level": 4,
     "metadata": {},
     "source": [
      "\uc0ac\uc804\ud615 \ub370\uc774\ud130\ub97c \uc800\uc7a5 \ud560 \ub54c Series \uac1d\uccb4\ub97c \uc0dd\uc131 \ud560 \uc218 \uc788\ub2e4."
     ]
    },
    {
     "cell_type": "code",
     "collapsed": false,
     "input": [
      "sdata = {'Ohio':35000, 'Texas':71000, 'Oregon':16000, 'Utah':5000}"
     ],
     "language": "python",
     "metadata": {},
     "outputs": [],
     "prompt_number": 19
    },
    {
     "cell_type": "code",
     "collapsed": false,
     "input": [
      "obj3= Series(sdata) # convert Dictionary to Series "
     ],
     "language": "python",
     "metadata": {},
     "outputs": [],
     "prompt_number": 20
    },
    {
     "cell_type": "code",
     "collapsed": false,
     "input": [
      "obj3"
     ],
     "language": "python",
     "metadata": {},
     "outputs": [
      {
       "metadata": {},
       "output_type": "pyout",
       "prompt_number": 21,
       "text": [
        "Ohio      35000\n",
        "Oregon    16000\n",
        "Texas     71000\n",
        "Utah       5000\n",
        "dtype: int64"
       ]
      }
     ],
     "prompt_number": 21
    },
    {
     "cell_type": "code",
     "collapsed": false,
     "input": [
      "states = ['California' , 'Ohio', 'Oregon', 'Texas']"
     ],
     "language": "python",
     "metadata": {},
     "outputs": [],
     "prompt_number": 22
    },
    {
     "cell_type": "code",
     "collapsed": false,
     "input": [
      "obj4 = Series(sdata, states) ## California \uac12\uc740 NaN(Not a number) : pandas\uc5d0\uc11c\uc758 \ub204\ub77d\ub41c \uac12\uc73c\ub85c NA\uc640 \uac19\uc740 \uac83\uc73c\ub85c \uc778\uc2dd."
     ],
     "language": "python",
     "metadata": {},
     "outputs": [],
     "prompt_number": 23
    },
    {
     "cell_type": "code",
     "collapsed": false,
     "input": [
      "obj4"
     ],
     "language": "python",
     "metadata": {},
     "outputs": [
      {
       "metadata": {},
       "output_type": "pyout",
       "prompt_number": 24,
       "text": [
        "California      NaN\n",
        "Ohio          35000\n",
        "Oregon        16000\n",
        "Texas         71000\n",
        "dtype: float64"
       ]
      }
     ],
     "prompt_number": 24
    },
    {
     "cell_type": "heading",
     "level": 5,
     "metadata": {},
     "source": [
      "pandas\uc758 \ub204\ub77d \uac12\uc740 NA\ub85c \ud45c\uc2dc\ub418\uba70, isnull\uacfc nonull\ub85c \ub204\ub77d\ub41c \ub370\uc774\ud130 \ud655\uc778 \uac00\ub2a5."
     ]
    },
    {
     "cell_type": "code",
     "collapsed": false,
     "input": [
      "pd.isnull(obj4)"
     ],
     "language": "python",
     "metadata": {},
     "outputs": [
      {
       "metadata": {},
       "output_type": "pyout",
       "prompt_number": 29,
       "text": [
        "California     True\n",
        "Ohio          False\n",
        "Oregon        False\n",
        "Texas         False\n",
        "dtype: bool"
       ]
      }
     ],
     "prompt_number": 29
    },
    {
     "cell_type": "code",
     "collapsed": false,
     "input": [
      "pd.notnull(obj4)"
     ],
     "language": "python",
     "metadata": {},
     "outputs": [
      {
       "metadata": {},
       "output_type": "pyout",
       "prompt_number": 30,
       "text": [
        "California    False\n",
        "Ohio           True\n",
        "Oregon         True\n",
        "Texas          True\n",
        "dtype: bool"
       ]
      }
     ],
     "prompt_number": 30
    },
    {
     "cell_type": "code",
     "collapsed": false,
     "input": [
      "obj3 + obj4 # Series\uac04\uc5d0 \uacc4\uc0b0\ub3c4 \uac00\ub2a5, \ub9e4\ud551 \uc548\ub418\ub294 \uac12\uc740 NaN\uc73c\ub85c \uc790\ub3d9\ucc98\ub9ac"
     ],
     "language": "python",
     "metadata": {},
     "outputs": [
      {
       "metadata": {},
       "output_type": "pyout",
       "prompt_number": 31,
       "text": [
        "California       NaN\n",
        "Ohio           70000\n",
        "Oregon         32000\n",
        "Texas         142000\n",
        "Utah             NaN\n",
        "dtype: float64"
       ]
      }
     ],
     "prompt_number": 31
    },
    {
     "cell_type": "code",
     "collapsed": false,
     "input": [
      "obj4.name = 'population'"
     ],
     "language": "python",
     "metadata": {},
     "outputs": [],
     "prompt_number": 32
    },
    {
     "cell_type": "code",
     "collapsed": false,
     "input": [
      "obj4.index.name = 'state'"
     ],
     "language": "python",
     "metadata": {},
     "outputs": [],
     "prompt_number": 33
    },
    {
     "cell_type": "code",
     "collapsed": false,
     "input": [
      "obj4"
     ],
     "language": "python",
     "metadata": {},
     "outputs": [
      {
       "metadata": {},
       "output_type": "pyout",
       "prompt_number": 34,
       "text": [
        "state\n",
        "California      NaN\n",
        "Ohio          35000\n",
        "Oregon        16000\n",
        "Texas         71000\n",
        "Name: population, dtype: float64"
       ]
      }
     ],
     "prompt_number": 34
    },
    {
     "cell_type": "heading",
     "level": 3,
     "metadata": {},
     "source": [
      "1.2 Data Frame"
     ]
    },
    {
     "cell_type": "heading",
     "level": 4,
     "metadata": {},
     "source": [
      "\uc2a4\ud504\ub808\ub4dc\uc2dc\ud2b8 \ud615\ud0dc\uc758 \uc790\ub8cc\uad6c\uc870\ub85c \uc5ec\ub7ec \uac1c\uc758 \uceec\ub7fc\uc774 \uc788\uc73c\uba70, \uac01 \uceec\ub7fc\uc740 \ub2e4\ub978 \uc885\ub958\uc758 \uac12\uc744 \ub2f4\uc744 \uc218 \uc788\ub2e4."
     ]
    },
    {
     "cell_type": "code",
     "collapsed": false,
     "input": [
      "data = {'state' : ['Ohio', 'Ohio', 'Ohio', 'Nevada', 'Nevada'],\n",
      "        'year' : [2000,2001,2002,2001,2002],\n",
      "        'pop' : [1.5,1.7,3.6,2.4,2.9]}\n",
      "frame = DataFrame(data)"
     ],
     "language": "python",
     "metadata": {},
     "outputs": [],
     "prompt_number": 35
    },
    {
     "cell_type": "code",
     "collapsed": false,
     "input": [
      "frame"
     ],
     "language": "python",
     "metadata": {},
     "outputs": [
      {
       "html": [
        "<div style=\"max-width:1500px;overflow:auto;\">\n",
        "<table border=\"1\" class=\"dataframe\">\n",
        "  <thead>\n",
        "    <tr style=\"text-align: right;\">\n",
        "      <th></th>\n",
        "      <th>pop</th>\n",
        "      <th>state</th>\n",
        "      <th>year</th>\n",
        "    </tr>\n",
        "  </thead>\n",
        "  <tbody>\n",
        "    <tr>\n",
        "      <th>0</th>\n",
        "      <td>1.5</td>\n",
        "      <td>Ohio</td>\n",
        "      <td>2000</td>\n",
        "    </tr>\n",
        "    <tr>\n",
        "      <th>1</th>\n",
        "      <td>1.7</td>\n",
        "      <td>Ohio</td>\n",
        "      <td>2001</td>\n",
        "    </tr>\n",
        "    <tr>\n",
        "      <th>2</th>\n",
        "      <td>3.6</td>\n",
        "      <td>Ohio</td>\n",
        "      <td>2002</td>\n",
        "    </tr>\n",
        "    <tr>\n",
        "      <th>3</th>\n",
        "      <td>2.4</td>\n",
        "      <td>Nevada</td>\n",
        "      <td>2001</td>\n",
        "    </tr>\n",
        "    <tr>\n",
        "      <th>4</th>\n",
        "      <td>2.9</td>\n",
        "      <td>Nevada</td>\n",
        "      <td>2002</td>\n",
        "    </tr>\n",
        "  </tbody>\n",
        "</table>\n",
        "</div>"
       ],
       "metadata": {},
       "output_type": "pyout",
       "prompt_number": 36,
       "text": [
        "   pop   state  year\n",
        "0  1.5    Ohio  2000\n",
        "1  1.7    Ohio  2001\n",
        "2  3.6    Ohio  2002\n",
        "3  2.4  Nevada  2001\n",
        "4  2.9  Nevada  2002"
       ]
      }
     ],
     "prompt_number": 36
    },
    {
     "cell_type": "code",
     "collapsed": false,
     "input": [
      "DataFrame(data, columns = ['year', 'state', 'pop']) # \uc6d0\ud558\ub294 \uc21c\uc11c\ub85c \uceec\ub7fc \ubcc0\uacbd \uac00\ub2a5."
     ],
     "language": "python",
     "metadata": {},
     "outputs": [
      {
       "html": [
        "<div style=\"max-width:1500px;overflow:auto;\">\n",
        "<table border=\"1\" class=\"dataframe\">\n",
        "  <thead>\n",
        "    <tr style=\"text-align: right;\">\n",
        "      <th></th>\n",
        "      <th>year</th>\n",
        "      <th>state</th>\n",
        "      <th>pop</th>\n",
        "    </tr>\n",
        "  </thead>\n",
        "  <tbody>\n",
        "    <tr>\n",
        "      <th>0</th>\n",
        "      <td>2000</td>\n",
        "      <td>Ohio</td>\n",
        "      <td>1.5</td>\n",
        "    </tr>\n",
        "    <tr>\n",
        "      <th>1</th>\n",
        "      <td>2001</td>\n",
        "      <td>Ohio</td>\n",
        "      <td>1.7</td>\n",
        "    </tr>\n",
        "    <tr>\n",
        "      <th>2</th>\n",
        "      <td>2002</td>\n",
        "      <td>Ohio</td>\n",
        "      <td>3.6</td>\n",
        "    </tr>\n",
        "    <tr>\n",
        "      <th>3</th>\n",
        "      <td>2001</td>\n",
        "      <td>Nevada</td>\n",
        "      <td>2.4</td>\n",
        "    </tr>\n",
        "    <tr>\n",
        "      <th>4</th>\n",
        "      <td>2002</td>\n",
        "      <td>Nevada</td>\n",
        "      <td>2.9</td>\n",
        "    </tr>\n",
        "  </tbody>\n",
        "</table>\n",
        "</div>"
       ],
       "metadata": {},
       "output_type": "pyout",
       "prompt_number": 37,
       "text": [
        "   year   state  pop\n",
        "0  2000    Ohio  1.5\n",
        "1  2001    Ohio  1.7\n",
        "2  2002    Ohio  3.6\n",
        "3  2001  Nevada  2.4\n",
        "4  2002  Nevada  2.9"
       ]
      }
     ],
     "prompt_number": 37
    },
    {
     "cell_type": "code",
     "collapsed": false,
     "input": [
      "frame2 = DataFrame(data, columns = ['year', 'state', 'pop', 'debt'], index= ['one', 'two', 'three', 'four', 'five'])"
     ],
     "language": "python",
     "metadata": {},
     "outputs": [],
     "prompt_number": 38
    },
    {
     "cell_type": "code",
     "collapsed": false,
     "input": [
      "frame2 ## debt \ub77c\ub294 \uceec\ub7fc\uc5d0\ub294 \uc6d0\ub798 \uac12\uc774 \uc5c6\uae30 \ub54c\ubb38\uc5d0 NaN\uc73c\ub85c \ud45c\uc2dc"
     ],
     "language": "python",
     "metadata": {},
     "outputs": [
      {
       "html": [
        "<div style=\"max-width:1500px;overflow:auto;\">\n",
        "<table border=\"1\" class=\"dataframe\">\n",
        "  <thead>\n",
        "    <tr style=\"text-align: right;\">\n",
        "      <th></th>\n",
        "      <th>year</th>\n",
        "      <th>state</th>\n",
        "      <th>pop</th>\n",
        "      <th>debt</th>\n",
        "    </tr>\n",
        "  </thead>\n",
        "  <tbody>\n",
        "    <tr>\n",
        "      <th>one</th>\n",
        "      <td>2000</td>\n",
        "      <td>Ohio</td>\n",
        "      <td>1.5</td>\n",
        "      <td>NaN</td>\n",
        "    </tr>\n",
        "    <tr>\n",
        "      <th>two</th>\n",
        "      <td>2001</td>\n",
        "      <td>Ohio</td>\n",
        "      <td>1.7</td>\n",
        "      <td>NaN</td>\n",
        "    </tr>\n",
        "    <tr>\n",
        "      <th>three</th>\n",
        "      <td>2002</td>\n",
        "      <td>Ohio</td>\n",
        "      <td>3.6</td>\n",
        "      <td>NaN</td>\n",
        "    </tr>\n",
        "    <tr>\n",
        "      <th>four</th>\n",
        "      <td>2001</td>\n",
        "      <td>Nevada</td>\n",
        "      <td>2.4</td>\n",
        "      <td>NaN</td>\n",
        "    </tr>\n",
        "    <tr>\n",
        "      <th>five</th>\n",
        "      <td>2002</td>\n",
        "      <td>Nevada</td>\n",
        "      <td>2.9</td>\n",
        "      <td>NaN</td>\n",
        "    </tr>\n",
        "  </tbody>\n",
        "</table>\n",
        "</div>"
       ],
       "metadata": {},
       "output_type": "pyout",
       "prompt_number": 39,
       "text": [
        "       year   state  pop debt\n",
        "one    2000    Ohio  1.5  NaN\n",
        "two    2001    Ohio  1.7  NaN\n",
        "three  2002    Ohio  3.6  NaN\n",
        "four   2001  Nevada  2.4  NaN\n",
        "five   2002  Nevada  2.9  NaN"
       ]
      }
     ],
     "prompt_number": 39
    },
    {
     "cell_type": "code",
     "collapsed": false,
     "input": [
      "frame2['year'];frame2.year"
     ],
     "language": "python",
     "metadata": {},
     "outputs": [
      {
       "metadata": {},
       "output_type": "pyout",
       "prompt_number": 42,
       "text": [
        "one      2000\n",
        "two      2001\n",
        "three    2002\n",
        "four     2001\n",
        "five     2002\n",
        "Name: year, dtype: int64"
       ]
      }
     ],
     "prompt_number": 42
    },
    {
     "cell_type": "code",
     "collapsed": false,
     "input": [
      "frame2.ix['three'] # ix \uba54\uc11c\ub4dc\ub97c \ud1b5\ud574 row \uac12 \ucc3e\uae30 \uac00\ub2a5"
     ],
     "language": "python",
     "metadata": {},
     "outputs": [
      {
       "metadata": {},
       "output_type": "pyout",
       "prompt_number": 43,
       "text": [
        "year     2002\n",
        "state    Ohio\n",
        "pop       3.6\n",
        "debt      NaN\n",
        "Name: three, dtype: object"
       ]
      }
     ],
     "prompt_number": 43
    },
    {
     "cell_type": "code",
     "collapsed": false,
     "input": [
      "frame2['debt'] = 16.5"
     ],
     "language": "python",
     "metadata": {},
     "outputs": [],
     "prompt_number": 44
    },
    {
     "cell_type": "code",
     "collapsed": false,
     "input": [
      "frame2"
     ],
     "language": "python",
     "metadata": {},
     "outputs": [
      {
       "html": [
        "<div style=\"max-width:1500px;overflow:auto;\">\n",
        "<table border=\"1\" class=\"dataframe\">\n",
        "  <thead>\n",
        "    <tr style=\"text-align: right;\">\n",
        "      <th></th>\n",
        "      <th>year</th>\n",
        "      <th>state</th>\n",
        "      <th>pop</th>\n",
        "      <th>debt</th>\n",
        "    </tr>\n",
        "  </thead>\n",
        "  <tbody>\n",
        "    <tr>\n",
        "      <th>one</th>\n",
        "      <td>2000</td>\n",
        "      <td>Ohio</td>\n",
        "      <td>1.5</td>\n",
        "      <td>16.5</td>\n",
        "    </tr>\n",
        "    <tr>\n",
        "      <th>two</th>\n",
        "      <td>2001</td>\n",
        "      <td>Ohio</td>\n",
        "      <td>1.7</td>\n",
        "      <td>16.5</td>\n",
        "    </tr>\n",
        "    <tr>\n",
        "      <th>three</th>\n",
        "      <td>2002</td>\n",
        "      <td>Ohio</td>\n",
        "      <td>3.6</td>\n",
        "      <td>16.5</td>\n",
        "    </tr>\n",
        "    <tr>\n",
        "      <th>four</th>\n",
        "      <td>2001</td>\n",
        "      <td>Nevada</td>\n",
        "      <td>2.4</td>\n",
        "      <td>16.5</td>\n",
        "    </tr>\n",
        "    <tr>\n",
        "      <th>five</th>\n",
        "      <td>2002</td>\n",
        "      <td>Nevada</td>\n",
        "      <td>2.9</td>\n",
        "      <td>16.5</td>\n",
        "    </tr>\n",
        "  </tbody>\n",
        "</table>\n",
        "</div>"
       ],
       "metadata": {},
       "output_type": "pyout",
       "prompt_number": 45,
       "text": [
        "       year   state  pop  debt\n",
        "one    2000    Ohio  1.5  16.5\n",
        "two    2001    Ohio  1.7  16.5\n",
        "three  2002    Ohio  3.6  16.5\n",
        "four   2001  Nevada  2.4  16.5\n",
        "five   2002  Nevada  2.9  16.5"
       ]
      }
     ],
     "prompt_number": 45
    },
    {
     "cell_type": "code",
     "collapsed": false,
     "input": [
      "frame2['debt'] = np.arange(5.) # 0~5 \uc0ac\uc774, 0,1,2,3,4 \ub300\uc785"
     ],
     "language": "python",
     "metadata": {},
     "outputs": [],
     "prompt_number": 46
    },
    {
     "cell_type": "code",
     "collapsed": false,
     "input": [
      "frame2"
     ],
     "language": "python",
     "metadata": {},
     "outputs": [
      {
       "html": [
        "<div style=\"max-width:1500px;overflow:auto;\">\n",
        "<table border=\"1\" class=\"dataframe\">\n",
        "  <thead>\n",
        "    <tr style=\"text-align: right;\">\n",
        "      <th></th>\n",
        "      <th>year</th>\n",
        "      <th>state</th>\n",
        "      <th>pop</th>\n",
        "      <th>debt</th>\n",
        "    </tr>\n",
        "  </thead>\n",
        "  <tbody>\n",
        "    <tr>\n",
        "      <th>one</th>\n",
        "      <td>2000</td>\n",
        "      <td>Ohio</td>\n",
        "      <td>1.5</td>\n",
        "      <td>0</td>\n",
        "    </tr>\n",
        "    <tr>\n",
        "      <th>two</th>\n",
        "      <td>2001</td>\n",
        "      <td>Ohio</td>\n",
        "      <td>1.7</td>\n",
        "      <td>1</td>\n",
        "    </tr>\n",
        "    <tr>\n",
        "      <th>three</th>\n",
        "      <td>2002</td>\n",
        "      <td>Ohio</td>\n",
        "      <td>3.6</td>\n",
        "      <td>2</td>\n",
        "    </tr>\n",
        "    <tr>\n",
        "      <th>four</th>\n",
        "      <td>2001</td>\n",
        "      <td>Nevada</td>\n",
        "      <td>2.4</td>\n",
        "      <td>3</td>\n",
        "    </tr>\n",
        "    <tr>\n",
        "      <th>five</th>\n",
        "      <td>2002</td>\n",
        "      <td>Nevada</td>\n",
        "      <td>2.9</td>\n",
        "      <td>4</td>\n",
        "    </tr>\n",
        "  </tbody>\n",
        "</table>\n",
        "</div>"
       ],
       "metadata": {},
       "output_type": "pyout",
       "prompt_number": 47,
       "text": [
        "       year   state  pop  debt\n",
        "one    2000    Ohio  1.5     0\n",
        "two    2001    Ohio  1.7     1\n",
        "three  2002    Ohio  3.6     2\n",
        "four   2001  Nevada  2.4     3\n",
        "five   2002  Nevada  2.9     4"
       ]
      }
     ],
     "prompt_number": 47
    },
    {
     "cell_type": "code",
     "collapsed": false,
     "input": [
      "val = Series([-1.2, -1.5, -1.7], index = ['two', 'three', 'four'])"
     ],
     "language": "python",
     "metadata": {},
     "outputs": [],
     "prompt_number": 48
    },
    {
     "cell_type": "code",
     "collapsed": false,
     "input": [
      "frame2['debt'] = val ## series \ub300\uc785 \uc2dc DataFrame\uc758 row index\uc5d0 \uc5c6\ub294 \uac12\uc740 \uc790\ub3d9\uc801\uc73c\ub85c NaN\ucc98\ub9ac"
     ],
     "language": "python",
     "metadata": {},
     "outputs": [],
     "prompt_number": 49
    },
    {
     "cell_type": "code",
     "collapsed": false,
     "input": [
      "frame2"
     ],
     "language": "python",
     "metadata": {},
     "outputs": [
      {
       "html": [
        "<div style=\"max-width:1500px;overflow:auto;\">\n",
        "<table border=\"1\" class=\"dataframe\">\n",
        "  <thead>\n",
        "    <tr style=\"text-align: right;\">\n",
        "      <th></th>\n",
        "      <th>year</th>\n",
        "      <th>state</th>\n",
        "      <th>pop</th>\n",
        "      <th>debt</th>\n",
        "    </tr>\n",
        "  </thead>\n",
        "  <tbody>\n",
        "    <tr>\n",
        "      <th>one</th>\n",
        "      <td>2000</td>\n",
        "      <td>Ohio</td>\n",
        "      <td>1.5</td>\n",
        "      <td>NaN</td>\n",
        "    </tr>\n",
        "    <tr>\n",
        "      <th>two</th>\n",
        "      <td>2001</td>\n",
        "      <td>Ohio</td>\n",
        "      <td>1.7</td>\n",
        "      <td>-1.2</td>\n",
        "    </tr>\n",
        "    <tr>\n",
        "      <th>three</th>\n",
        "      <td>2002</td>\n",
        "      <td>Ohio</td>\n",
        "      <td>3.6</td>\n",
        "      <td>-1.5</td>\n",
        "    </tr>\n",
        "    <tr>\n",
        "      <th>four</th>\n",
        "      <td>2001</td>\n",
        "      <td>Nevada</td>\n",
        "      <td>2.4</td>\n",
        "      <td>-1.7</td>\n",
        "    </tr>\n",
        "    <tr>\n",
        "      <th>five</th>\n",
        "      <td>2002</td>\n",
        "      <td>Nevada</td>\n",
        "      <td>2.9</td>\n",
        "      <td>NaN</td>\n",
        "    </tr>\n",
        "  </tbody>\n",
        "</table>\n",
        "</div>"
       ],
       "metadata": {},
       "output_type": "pyout",
       "prompt_number": 50,
       "text": [
        "       year   state  pop  debt\n",
        "one    2000    Ohio  1.5   NaN\n",
        "two    2001    Ohio  1.7  -1.2\n",
        "three  2002    Ohio  3.6  -1.5\n",
        "four   2001  Nevada  2.4  -1.7\n",
        "five   2002  Nevada  2.9   NaN"
       ]
      }
     ],
     "prompt_number": 50
    },
    {
     "cell_type": "code",
     "collapsed": false,
     "input": [
      "frame2['eastern'] = frame2.state == 'Ohio' # \uc0c8\ub85c\uc6b4 \uceec\ub7fc \uc0dd\uc131 \uac00\ub2a5"
     ],
     "language": "python",
     "metadata": {},
     "outputs": [],
     "prompt_number": 51
    },
    {
     "cell_type": "code",
     "collapsed": false,
     "input": [
      "frame2"
     ],
     "language": "python",
     "metadata": {},
     "outputs": [
      {
       "html": [
        "<div style=\"max-width:1500px;overflow:auto;\">\n",
        "<table border=\"1\" class=\"dataframe\">\n",
        "  <thead>\n",
        "    <tr style=\"text-align: right;\">\n",
        "      <th></th>\n",
        "      <th>year</th>\n",
        "      <th>state</th>\n",
        "      <th>pop</th>\n",
        "      <th>debt</th>\n",
        "      <th>eastern</th>\n",
        "    </tr>\n",
        "  </thead>\n",
        "  <tbody>\n",
        "    <tr>\n",
        "      <th>one</th>\n",
        "      <td>2000</td>\n",
        "      <td>Ohio</td>\n",
        "      <td>1.5</td>\n",
        "      <td>NaN</td>\n",
        "      <td>True</td>\n",
        "    </tr>\n",
        "    <tr>\n",
        "      <th>two</th>\n",
        "      <td>2001</td>\n",
        "      <td>Ohio</td>\n",
        "      <td>1.7</td>\n",
        "      <td>-1.2</td>\n",
        "      <td>True</td>\n",
        "    </tr>\n",
        "    <tr>\n",
        "      <th>three</th>\n",
        "      <td>2002</td>\n",
        "      <td>Ohio</td>\n",
        "      <td>3.6</td>\n",
        "      <td>-1.5</td>\n",
        "      <td>True</td>\n",
        "    </tr>\n",
        "    <tr>\n",
        "      <th>four</th>\n",
        "      <td>2001</td>\n",
        "      <td>Nevada</td>\n",
        "      <td>2.4</td>\n",
        "      <td>-1.7</td>\n",
        "      <td>False</td>\n",
        "    </tr>\n",
        "    <tr>\n",
        "      <th>five</th>\n",
        "      <td>2002</td>\n",
        "      <td>Nevada</td>\n",
        "      <td>2.9</td>\n",
        "      <td>NaN</td>\n",
        "      <td>False</td>\n",
        "    </tr>\n",
        "  </tbody>\n",
        "</table>\n",
        "</div>"
       ],
       "metadata": {},
       "output_type": "pyout",
       "prompt_number": 53,
       "text": [
        "       year   state  pop  debt eastern\n",
        "one    2000    Ohio  1.5   NaN    True\n",
        "two    2001    Ohio  1.7  -1.2    True\n",
        "three  2002    Ohio  3.6  -1.5    True\n",
        "four   2001  Nevada  2.4  -1.7   False\n",
        "five   2002  Nevada  2.9   NaN   False"
       ]
      }
     ],
     "prompt_number": 53
    },
    {
     "cell_type": "code",
     "collapsed": false,
     "input": [
      "del frame2['eastern'] # \uceec\ub7fc \uc0ad\uc81c"
     ],
     "language": "python",
     "metadata": {},
     "outputs": [],
     "prompt_number": 54
    },
    {
     "cell_type": "code",
     "collapsed": false,
     "input": [
      "frame2.columns "
     ],
     "language": "python",
     "metadata": {},
     "outputs": [
      {
       "metadata": {},
       "output_type": "pyout",
       "prompt_number": 55,
       "text": [
        "Index([u'year', u'state', u'pop', u'debt'], dtype='object')"
       ]
      }
     ],
     "prompt_number": 55
    },
    {
     "cell_type": "code",
     "collapsed": false,
     "input": [
      "del frame.ix['five'] ## index\ub294 \uc0ad\uc81c\uac00 \uc548\ub41c\ub2e4."
     ],
     "language": "python",
     "metadata": {},
     "outputs": [
      {
       "ename": "AttributeError",
       "evalue": "__delitem__",
       "output_type": "pyerr",
       "traceback": [
        "\u001b[1;31m---------------------------------------------------------------------------\u001b[0m\n\u001b[1;31mAttributeError\u001b[0m                            Traceback (most recent call last)",
        "\u001b[1;32m<ipython-input-56-3d89bec8f0c6>\u001b[0m in \u001b[0;36m<module>\u001b[1;34m()\u001b[0m\n\u001b[1;32m----> 1\u001b[1;33m \u001b[1;32mdel\u001b[0m \u001b[0mframe\u001b[0m\u001b[1;33m.\u001b[0m\u001b[0mix\u001b[0m\u001b[1;33m[\u001b[0m\u001b[1;34m'five'\u001b[0m\u001b[1;33m]\u001b[0m\u001b[1;33m\u001b[0m\u001b[0m\n\u001b[0m",
        "\u001b[1;31mAttributeError\u001b[0m: __delitem__"
       ]
      }
     ],
     "prompt_number": 56
    },
    {
     "cell_type": "code",
     "collapsed": false,
     "input": [
      "pop = {'Nevada' : {2001:2.4, 2002:2.9}, 'Ohio' : {2000 : 1.5, 2001:1.7, 2002:3.6}}"
     ],
     "language": "python",
     "metadata": {},
     "outputs": [],
     "prompt_number": 64
    },
    {
     "cell_type": "code",
     "collapsed": false,
     "input": [
      "frame3 = DataFrame(pop) ## \uc911\ucca9\ub41c \uc0ac\uc804\ub3c4 data frame \uc73c\ub85c \uc0dd\uc131 \uac00\ub2a5"
     ],
     "language": "python",
     "metadata": {},
     "outputs": [],
     "prompt_number": 65
    },
    {
     "cell_type": "code",
     "collapsed": false,
     "input": [
      "frame3"
     ],
     "language": "python",
     "metadata": {},
     "outputs": [
      {
       "html": [
        "<div style=\"max-width:1500px;overflow:auto;\">\n",
        "<table border=\"1\" class=\"dataframe\">\n",
        "  <thead>\n",
        "    <tr style=\"text-align: right;\">\n",
        "      <th></th>\n",
        "      <th>Nevada</th>\n",
        "      <th>Ohio</th>\n",
        "    </tr>\n",
        "  </thead>\n",
        "  <tbody>\n",
        "    <tr>\n",
        "      <th>2000</th>\n",
        "      <td>NaN</td>\n",
        "      <td>1.5</td>\n",
        "    </tr>\n",
        "    <tr>\n",
        "      <th>2001</th>\n",
        "      <td>2.4</td>\n",
        "      <td>1.7</td>\n",
        "    </tr>\n",
        "    <tr>\n",
        "      <th>2002</th>\n",
        "      <td>2.9</td>\n",
        "      <td>3.6</td>\n",
        "    </tr>\n",
        "  </tbody>\n",
        "</table>\n",
        "</div>"
       ],
       "metadata": {},
       "output_type": "pyout",
       "prompt_number": 66,
       "text": [
        "      Nevada  Ohio\n",
        "2000     NaN   1.5\n",
        "2001     2.4   1.7\n",
        "2002     2.9   3.6"
       ]
      }
     ],
     "prompt_number": 66
    },
    {
     "cell_type": "code",
     "collapsed": false,
     "input": [
      "frame3.T ## \uc5ed\uc73c\ub85c \ucd9c\ub825 \uac00\ub2a5"
     ],
     "language": "python",
     "metadata": {},
     "outputs": [
      {
       "html": [
        "<div style=\"max-width:1500px;overflow:auto;\">\n",
        "<table border=\"1\" class=\"dataframe\">\n",
        "  <thead>\n",
        "    <tr style=\"text-align: right;\">\n",
        "      <th></th>\n",
        "      <th>2000</th>\n",
        "      <th>2001</th>\n",
        "      <th>2002</th>\n",
        "    </tr>\n",
        "  </thead>\n",
        "  <tbody>\n",
        "    <tr>\n",
        "      <th>Nevada</th>\n",
        "      <td>NaN</td>\n",
        "      <td>2.4</td>\n",
        "      <td>2.9</td>\n",
        "    </tr>\n",
        "    <tr>\n",
        "      <th>Ohio</th>\n",
        "      <td>1.5</td>\n",
        "      <td>1.7</td>\n",
        "      <td>3.6</td>\n",
        "    </tr>\n",
        "  </tbody>\n",
        "</table>\n",
        "</div>"
       ],
       "metadata": {},
       "output_type": "pyout",
       "prompt_number": 67,
       "text": [
        "        2000  2001  2002\n",
        "Nevada   NaN   2.4   2.9\n",
        "Ohio     1.5   1.7   3.6"
       ]
      }
     ],
     "prompt_number": 67
    },
    {
     "cell_type": "code",
     "collapsed": false,
     "input": [
      "DataFrame(pop, index = [2001, 2002, 2003]) ## \uc911\ucca9 \uc0ac\uc804\uc73c\ub85c \uc0dd\uc131\ud55c DataFrame\uc758 \uc0c9\uc778 \ubcc0\uacbd \uac00\ub2a5"
     ],
     "language": "python",
     "metadata": {},
     "outputs": [
      {
       "html": [
        "<div style=\"max-width:1500px;overflow:auto;\">\n",
        "<table border=\"1\" class=\"dataframe\">\n",
        "  <thead>\n",
        "    <tr style=\"text-align: right;\">\n",
        "      <th></th>\n",
        "      <th>Nevada</th>\n",
        "      <th>Ohio</th>\n",
        "    </tr>\n",
        "  </thead>\n",
        "  <tbody>\n",
        "    <tr>\n",
        "      <th>2001</th>\n",
        "      <td>2.4</td>\n",
        "      <td>1.7</td>\n",
        "    </tr>\n",
        "    <tr>\n",
        "      <th>2002</th>\n",
        "      <td>2.9</td>\n",
        "      <td>3.6</td>\n",
        "    </tr>\n",
        "    <tr>\n",
        "      <th>2003</th>\n",
        "      <td>NaN</td>\n",
        "      <td>NaN</td>\n",
        "    </tr>\n",
        "  </tbody>\n",
        "</table>\n",
        "</div>"
       ],
       "metadata": {},
       "output_type": "pyout",
       "prompt_number": 68,
       "text": [
        "      Nevada  Ohio\n",
        "2001     2.4   1.7\n",
        "2002     2.9   3.6\n",
        "2003     NaN   NaN"
       ]
      }
     ],
     "prompt_number": 68
    },
    {
     "cell_type": "code",
     "collapsed": false,
     "input": [
      "pdata = {'Ohio':frame3['Ohio'][:-1], 'Nevada':frame3['Nevada'][:2]} # series \uac1d\uccb4\ub97c \ub2f4\uc740 \uc0ac\uc804\ub3c4 dataframe\uc73c\ub85c \uc0dd\uc131 \uac00\ub2a5\n",
      "DataFrame(pdata)"
     ],
     "language": "python",
     "metadata": {},
     "outputs": [
      {
       "html": [
        "<div style=\"max-width:1500px;overflow:auto;\">\n",
        "<table border=\"1\" class=\"dataframe\">\n",
        "  <thead>\n",
        "    <tr style=\"text-align: right;\">\n",
        "      <th></th>\n",
        "      <th>Nevada</th>\n",
        "      <th>Ohio</th>\n",
        "    </tr>\n",
        "  </thead>\n",
        "  <tbody>\n",
        "    <tr>\n",
        "      <th>2000</th>\n",
        "      <td>NaN</td>\n",
        "      <td>1.5</td>\n",
        "    </tr>\n",
        "    <tr>\n",
        "      <th>2001</th>\n",
        "      <td>2.4</td>\n",
        "      <td>1.7</td>\n",
        "    </tr>\n",
        "  </tbody>\n",
        "</table>\n",
        "</div>"
       ],
       "metadata": {},
       "output_type": "pyout",
       "prompt_number": 71,
       "text": [
        "      Nevada  Ohio\n",
        "2000     NaN   1.5\n",
        "2001     2.4   1.7"
       ]
      }
     ],
     "prompt_number": 71
    },
    {
     "cell_type": "code",
     "collapsed": false,
     "input": [
      "frame3.index.name = 'year'; frame3.columns.name = 'state'"
     ],
     "language": "python",
     "metadata": {},
     "outputs": [],
     "prompt_number": 72
    },
    {
     "cell_type": "code",
     "collapsed": false,
     "input": [
      "frame3"
     ],
     "language": "python",
     "metadata": {},
     "outputs": [
      {
       "html": [
        "<div style=\"max-width:1500px;overflow:auto;\">\n",
        "<table border=\"1\" class=\"dataframe\">\n",
        "  <thead>\n",
        "    <tr style=\"text-align: right;\">\n",
        "      <th>state</th>\n",
        "      <th>Nevada</th>\n",
        "      <th>Ohio</th>\n",
        "    </tr>\n",
        "    <tr>\n",
        "      <th>year</th>\n",
        "      <th></th>\n",
        "      <th></th>\n",
        "    </tr>\n",
        "  </thead>\n",
        "  <tbody>\n",
        "    <tr>\n",
        "      <th>2000</th>\n",
        "      <td>NaN</td>\n",
        "      <td>1.5</td>\n",
        "    </tr>\n",
        "    <tr>\n",
        "      <th>2001</th>\n",
        "      <td>2.4</td>\n",
        "      <td>1.7</td>\n",
        "    </tr>\n",
        "    <tr>\n",
        "      <th>2002</th>\n",
        "      <td>2.9</td>\n",
        "      <td>3.6</td>\n",
        "    </tr>\n",
        "  </tbody>\n",
        "</table>\n",
        "</div>"
       ],
       "metadata": {},
       "output_type": "pyout",
       "prompt_number": 73,
       "text": [
        "state  Nevada  Ohio\n",
        "year               \n",
        "2000      NaN   1.5\n",
        "2001      2.4   1.7\n",
        "2002      2.9   3.6"
       ]
      }
     ],
     "prompt_number": 73
    },
    {
     "cell_type": "code",
     "collapsed": false,
     "input": [
      "frame3.values # dataframe\uc5d0\uc11c\uc758 \uac12\ub9cc \ucd9c\ub825\ud560 \uacbd\uc6b0"
     ],
     "language": "python",
     "metadata": {},
     "outputs": [
      {
       "metadata": {},
       "output_type": "pyout",
       "prompt_number": 74,
       "text": [
        "array([[ nan,  1.5],\n",
        "       [ 2.4,  1.7],\n",
        "       [ 2.9,  3.6]])"
       ]
      }
     ],
     "prompt_number": 74
    },
    {
     "cell_type": "code",
     "collapsed": false,
     "input": [
      "frame2.values"
     ],
     "language": "python",
     "metadata": {},
     "outputs": [
      {
       "metadata": {},
       "output_type": "pyout",
       "prompt_number": 77,
       "text": [
        "array([[2000L, 'Ohio', 1.5, nan],\n",
        "       [2001L, 'Ohio', 1.7, -1.2],\n",
        "       [2002L, 'Ohio', 3.6, -1.5],\n",
        "       [2001L, 'Nevada', 2.4, -1.7],\n",
        "       [2002L, 'Nevada', 2.9, nan]], dtype=object)"
       ]
      }
     ],
     "prompt_number": 77
    },
    {
     "cell_type": "heading",
     "level": 3,
     "metadata": {},
     "source": [
      "1.3 \uc0c9\uc778 \uac1d\uccb4"
     ]
    },
    {
     "cell_type": "code",
     "collapsed": false,
     "input": [
      "obj = Series(range(3), index = ['a','b','c'])"
     ],
     "language": "python",
     "metadata": {},
     "outputs": [],
     "prompt_number": 78
    },
    {
     "cell_type": "code",
     "collapsed": false,
     "input": [
      "index = obj.index"
     ],
     "language": "python",
     "metadata": {},
     "outputs": [],
     "prompt_number": 79
    },
    {
     "cell_type": "code",
     "collapsed": false,
     "input": [
      "index"
     ],
     "language": "python",
     "metadata": {},
     "outputs": [
      {
       "metadata": {},
       "output_type": "pyout",
       "prompt_number": 80,
       "text": [
        "Index([u'a', u'b', u'c'], dtype='object')"
       ]
      }
     ],
     "prompt_number": 80
    },
    {
     "cell_type": "code",
     "collapsed": false,
     "input": [
      "index[1:] # 2\ubc88\uc9f8 \ubd80\ud130"
     ],
     "language": "python",
     "metadata": {},
     "outputs": [
      {
       "metadata": {},
       "output_type": "pyout",
       "prompt_number": 81,
       "text": [
        "Index([u'b', u'c'], dtype='object')"
       ]
      }
     ],
     "prompt_number": 81
    },
    {
     "cell_type": "code",
     "collapsed": false,
     "input": [
      "index[1] = 'd' # index\ub294 \ubcc0\uacbd \ubd88\uac00"
     ],
     "language": "python",
     "metadata": {},
     "outputs": [
      {
       "ename": "TypeError",
       "evalue": "Indexes does not support mutable operations",
       "output_type": "pyerr",
       "traceback": [
        "\u001b[1;31m---------------------------------------------------------------------------\u001b[0m\n\u001b[1;31mTypeError\u001b[0m                                 Traceback (most recent call last)",
        "\u001b[1;32m<ipython-input-83-676fdeb26a68>\u001b[0m in \u001b[0;36m<module>\u001b[1;34m()\u001b[0m\n\u001b[1;32m----> 1\u001b[1;33m \u001b[0mindex\u001b[0m\u001b[1;33m[\u001b[0m\u001b[1;36m1\u001b[0m\u001b[1;33m]\u001b[0m \u001b[1;33m=\u001b[0m \u001b[1;34m'd'\u001b[0m\u001b[1;33m\u001b[0m\u001b[0m\n\u001b[0m",
        "\u001b[1;32mC:\\ANACONDA\\lib\\site-packages\\pandas\\core\\index.pyc\u001b[0m in \u001b[0;36m__setitem__\u001b[1;34m(self, key, value)\u001b[0m\n\u001b[0;32m   1055\u001b[0m \u001b[1;33m\u001b[0m\u001b[0m\n\u001b[0;32m   1056\u001b[0m     \u001b[1;32mdef\u001b[0m \u001b[0m__setitem__\u001b[0m\u001b[1;33m(\u001b[0m\u001b[0mself\u001b[0m\u001b[1;33m,\u001b[0m \u001b[0mkey\u001b[0m\u001b[1;33m,\u001b[0m \u001b[0mvalue\u001b[0m\u001b[1;33m)\u001b[0m\u001b[1;33m:\u001b[0m\u001b[1;33m\u001b[0m\u001b[0m\n\u001b[1;32m-> 1057\u001b[1;33m         \u001b[1;32mraise\u001b[0m \u001b[0mTypeError\u001b[0m\u001b[1;33m(\u001b[0m\u001b[1;34m\"Indexes does not support mutable operations\"\u001b[0m\u001b[1;33m)\u001b[0m\u001b[1;33m\u001b[0m\u001b[0m\n\u001b[0m\u001b[0;32m   1058\u001b[0m \u001b[1;33m\u001b[0m\u001b[0m\n\u001b[0;32m   1059\u001b[0m     \u001b[1;32mdef\u001b[0m \u001b[0m__getitem__\u001b[0m\u001b[1;33m(\u001b[0m\u001b[0mself\u001b[0m\u001b[1;33m,\u001b[0m \u001b[0mkey\u001b[0m\u001b[1;33m)\u001b[0m\u001b[1;33m:\u001b[0m\u001b[1;33m\u001b[0m\u001b[0m\n",
        "\u001b[1;31mTypeError\u001b[0m: Indexes does not support mutable operations"
       ]
      }
     ],
     "prompt_number": 83
    },
    {
     "cell_type": "code",
     "collapsed": false,
     "input": [
      "index = pd.Index(np.arange(3))"
     ],
     "language": "python",
     "metadata": {},
     "outputs": [],
     "prompt_number": 88
    },
    {
     "cell_type": "code",
     "collapsed": false,
     "input": [
      "obj2 = Series([1.5,-2.5,0], index = index)"
     ],
     "language": "python",
     "metadata": {},
     "outputs": [],
     "prompt_number": 90
    },
    {
     "cell_type": "code",
     "collapsed": false,
     "input": [
      "obj2.index is index"
     ],
     "language": "python",
     "metadata": {},
     "outputs": [
      {
       "metadata": {},
       "output_type": "pyout",
       "prompt_number": 91,
       "text": [
        "True"
       ]
      }
     ],
     "prompt_number": 91
    },
    {
     "cell_type": "code",
     "collapsed": false,
     "input": [
      "'Ohio' in frame3.columns"
     ],
     "language": "python",
     "metadata": {},
     "outputs": [
      {
       "metadata": {},
       "output_type": "pyout",
       "prompt_number": 92,
       "text": [
        "True"
       ]
      }
     ],
     "prompt_number": 92
    },
    {
     "cell_type": "code",
     "collapsed": false,
     "input": [
      "2003 in frame3.index"
     ],
     "language": "python",
     "metadata": {},
     "outputs": [
      {
       "metadata": {},
       "output_type": "pyout",
       "prompt_number": 93,
       "text": [
        "False"
       ]
      }
     ],
     "prompt_number": 93
    },
    {
     "cell_type": "heading",
     "level": 1,
     "metadata": {},
     "source": [
      "2. \ud575\uc2ec \uae30\ub2a5"
     ]
    },
    {
     "cell_type": "heading",
     "level": 3,
     "metadata": {},
     "source": [
      "2.1 \uc7ac\uc0c9\uc778"
     ]
    },
    {
     "cell_type": "code",
     "collapsed": false,
     "input": [
      "obj = Series([4.5,7.2,-5.3,3.6], index = ['d','b','a','c'])"
     ],
     "language": "python",
     "metadata": {},
     "outputs": [],
     "prompt_number": 94
    },
    {
     "cell_type": "code",
     "collapsed": false,
     "input": [
      "obj"
     ],
     "language": "python",
     "metadata": {},
     "outputs": [
      {
       "metadata": {},
       "output_type": "pyout",
       "prompt_number": 95,
       "text": [
        "d    4.5\n",
        "b    7.2\n",
        "a   -5.3\n",
        "c    3.6\n",
        "dtype: float64"
       ]
      }
     ],
     "prompt_number": 95
    },
    {
     "cell_type": "code",
     "collapsed": false,
     "input": [
      "obj2 = obj.reindex(['a','b','c','d','e']) # \uc0c8\ub85c\uc6b4 \uc0c9\uc778\uc5d0 \ub9de\uac8c \uc7ac\ubc30\uc5f4 \ubc0f \uc5c6\ub294 \uac12\uc740 \ube44\uc5b4\uc788\ub294 \uac12\uc73c\ub85c \ucd94\uac00"
     ],
     "language": "python",
     "metadata": {},
     "outputs": [],
     "prompt_number": 96
    },
    {
     "cell_type": "code",
     "collapsed": false,
     "input": [
      "obj2"
     ],
     "language": "python",
     "metadata": {},
     "outputs": [
      {
       "metadata": {},
       "output_type": "pyout",
       "prompt_number": 97,
       "text": [
        "a   -5.3\n",
        "b    7.2\n",
        "c    3.6\n",
        "d    4.5\n",
        "e    NaN\n",
        "dtype: float64"
       ]
      }
     ],
     "prompt_number": 97
    },
    {
     "cell_type": "code",
     "collapsed": false,
     "input": [
      "obj.reindex(['a','b','c','d','e'], fill_value = 0) # \uc7ac\uc0c9\uc778 \ubc0f \uc5c6\ub294 \uac12\uc740 0 \uc73c\ub85c."
     ],
     "language": "python",
     "metadata": {},
     "outputs": [
      {
       "metadata": {},
       "output_type": "pyout",
       "prompt_number": 98,
       "text": [
        "a   -5.3\n",
        "b    7.2\n",
        "c    3.6\n",
        "d    4.5\n",
        "e    0.0\n",
        "dtype: float64"
       ]
      }
     ],
     "prompt_number": 98
    },
    {
     "cell_type": "code",
     "collapsed": false,
     "input": [
      "obj3 = Series(['blue', 'purple', 'yellow'], index = [0,2,4])\n",
      "obj3"
     ],
     "language": "python",
     "metadata": {},
     "outputs": [
      {
       "metadata": {},
       "output_type": "pyout",
       "prompt_number": 100,
       "text": [
        "0      blue\n",
        "2    purple\n",
        "4    yellow\n",
        "dtype: object"
       ]
      }
     ],
     "prompt_number": 100
    },
    {
     "cell_type": "code",
     "collapsed": false,
     "input": [
      "obj3.reindex(range(6), method=\"ffill\") # 0~5\ub85c \uc778\ub371\uc2a4 \uc7ac\ubc30\uc5f4 \ubc0f \uc5c6\ub294 \uac12\uc740 \uc55e\uc758 \uc778\ub371\uc2a4 \uac12\uc73c\ub85c \ucc44\uc6b0\uae30"
     ],
     "language": "python",
     "metadata": {},
     "outputs": [
      {
       "metadata": {},
       "output_type": "pyout",
       "prompt_number": 101,
       "text": [
        "0      blue\n",
        "1      blue\n",
        "2    purple\n",
        "3    purple\n",
        "4    yellow\n",
        "5    yellow\n",
        "dtype: object"
       ]
      }
     ],
     "prompt_number": 101
    },
    {
     "cell_type": "code",
     "collapsed": false,
     "input": [
      "frame = DataFrame(np.arange(9).reshape((3,3)), index = ['a','c','d'], columns = ['Ohio', 'Texas', 'California'])"
     ],
     "language": "python",
     "metadata": {},
     "outputs": [],
     "prompt_number": 106
    },
    {
     "cell_type": "code",
     "collapsed": false,
     "input": [
      "frame"
     ],
     "language": "python",
     "metadata": {},
     "outputs": [
      {
       "html": [
        "<div style=\"max-width:1500px;overflow:auto;\">\n",
        "<table border=\"1\" class=\"dataframe\">\n",
        "  <thead>\n",
        "    <tr style=\"text-align: right;\">\n",
        "      <th></th>\n",
        "      <th>Ohio</th>\n",
        "      <th>Texas</th>\n",
        "      <th>California</th>\n",
        "    </tr>\n",
        "  </thead>\n",
        "  <tbody>\n",
        "    <tr>\n",
        "      <th>a</th>\n",
        "      <td>0</td>\n",
        "      <td>1</td>\n",
        "      <td>2</td>\n",
        "    </tr>\n",
        "    <tr>\n",
        "      <th>c</th>\n",
        "      <td>3</td>\n",
        "      <td>4</td>\n",
        "      <td>5</td>\n",
        "    </tr>\n",
        "    <tr>\n",
        "      <th>d</th>\n",
        "      <td>6</td>\n",
        "      <td>7</td>\n",
        "      <td>8</td>\n",
        "    </tr>\n",
        "  </tbody>\n",
        "</table>\n",
        "</div>"
       ],
       "metadata": {},
       "output_type": "pyout",
       "prompt_number": 108,
       "text": [
        "   Ohio  Texas  California\n",
        "a     0      1           2\n",
        "c     3      4           5\n",
        "d     6      7           8"
       ]
      }
     ],
     "prompt_number": 108
    },
    {
     "cell_type": "code",
     "collapsed": false,
     "input": [
      "frame2 = frame.reindex(['a','b','c','d'])"
     ],
     "language": "python",
     "metadata": {},
     "outputs": [],
     "prompt_number": 109
    },
    {
     "cell_type": "code",
     "collapsed": false,
     "input": [
      "frame2"
     ],
     "language": "python",
     "metadata": {},
     "outputs": [
      {
       "html": [
        "<div style=\"max-width:1500px;overflow:auto;\">\n",
        "<table border=\"1\" class=\"dataframe\">\n",
        "  <thead>\n",
        "    <tr style=\"text-align: right;\">\n",
        "      <th></th>\n",
        "      <th>Ohio</th>\n",
        "      <th>Texas</th>\n",
        "      <th>California</th>\n",
        "    </tr>\n",
        "  </thead>\n",
        "  <tbody>\n",
        "    <tr>\n",
        "      <th>a</th>\n",
        "      <td>0</td>\n",
        "      <td>1</td>\n",
        "      <td>2</td>\n",
        "    </tr>\n",
        "    <tr>\n",
        "      <th>b</th>\n",
        "      <td>NaN</td>\n",
        "      <td>NaN</td>\n",
        "      <td>NaN</td>\n",
        "    </tr>\n",
        "    <tr>\n",
        "      <th>c</th>\n",
        "      <td>3</td>\n",
        "      <td>4</td>\n",
        "      <td>5</td>\n",
        "    </tr>\n",
        "    <tr>\n",
        "      <th>d</th>\n",
        "      <td>6</td>\n",
        "      <td>7</td>\n",
        "      <td>8</td>\n",
        "    </tr>\n",
        "  </tbody>\n",
        "</table>\n",
        "</div>"
       ],
       "metadata": {},
       "output_type": "pyout",
       "prompt_number": 110,
       "text": [
        "   Ohio  Texas  California\n",
        "a     0      1           2\n",
        "b   NaN    NaN         NaN\n",
        "c     3      4           5\n",
        "d     6      7           8"
       ]
      }
     ],
     "prompt_number": 110
    },
    {
     "cell_type": "code",
     "collapsed": false,
     "input": [
      "np.arange(9).reshape((3,3)) # reshape : 3,3 \uc758 \ubc30\uc5f4 \ud615\ud0dc\ub85c \ubc30\uce58"
     ],
     "language": "python",
     "metadata": {},
     "outputs": [
      {
       "metadata": {},
       "output_type": "pyout",
       "prompt_number": 112,
       "text": [
        "array([[0, 1, 2],\n",
        "       [3, 4, 5],\n",
        "       [6, 7, 8]])"
       ]
      }
     ],
     "prompt_number": 112
    },
    {
     "cell_type": "code",
     "collapsed": false,
     "input": [
      "states = ['Texas', 'Utah', 'California']"
     ],
     "language": "python",
     "metadata": {},
     "outputs": [],
     "prompt_number": 113
    },
    {
     "cell_type": "code",
     "collapsed": false,
     "input": [
      "frame.reindex(columns = states)"
     ],
     "language": "python",
     "metadata": {},
     "outputs": [
      {
       "html": [
        "<div style=\"max-width:1500px;overflow:auto;\">\n",
        "<table border=\"1\" class=\"dataframe\">\n",
        "  <thead>\n",
        "    <tr style=\"text-align: right;\">\n",
        "      <th></th>\n",
        "      <th>Texas</th>\n",
        "      <th>Utah</th>\n",
        "      <th>California</th>\n",
        "    </tr>\n",
        "  </thead>\n",
        "  <tbody>\n",
        "    <tr>\n",
        "      <th>a</th>\n",
        "      <td>1</td>\n",
        "      <td>NaN</td>\n",
        "      <td>2</td>\n",
        "    </tr>\n",
        "    <tr>\n",
        "      <th>c</th>\n",
        "      <td>4</td>\n",
        "      <td>NaN</td>\n",
        "      <td>5</td>\n",
        "    </tr>\n",
        "    <tr>\n",
        "      <th>d</th>\n",
        "      <td>7</td>\n",
        "      <td>NaN</td>\n",
        "      <td>8</td>\n",
        "    </tr>\n",
        "  </tbody>\n",
        "</table>\n",
        "</div>"
       ],
       "metadata": {},
       "output_type": "pyout",
       "prompt_number": 114,
       "text": [
        "   Texas  Utah  California\n",
        "a      1   NaN           2\n",
        "c      4   NaN           5\n",
        "d      7   NaN           8"
       ]
      }
     ],
     "prompt_number": 114
    },
    {
     "cell_type": "code",
     "collapsed": false,
     "input": [
      "frame.ix[['a','b','c','d'], states] # \ud589\uacfc \uc5f4 \uc7ac\uc0c9\uc778"
     ],
     "language": "python",
     "metadata": {},
     "outputs": [
      {
       "html": [
        "<div style=\"max-width:1500px;overflow:auto;\">\n",
        "<table border=\"1\" class=\"dataframe\">\n",
        "  <thead>\n",
        "    <tr style=\"text-align: right;\">\n",
        "      <th></th>\n",
        "      <th>Texas</th>\n",
        "      <th>Utah</th>\n",
        "      <th>California</th>\n",
        "    </tr>\n",
        "  </thead>\n",
        "  <tbody>\n",
        "    <tr>\n",
        "      <th>a</th>\n",
        "      <td>1</td>\n",
        "      <td>NaN</td>\n",
        "      <td>2</td>\n",
        "    </tr>\n",
        "    <tr>\n",
        "      <th>b</th>\n",
        "      <td>NaN</td>\n",
        "      <td>NaN</td>\n",
        "      <td>NaN</td>\n",
        "    </tr>\n",
        "    <tr>\n",
        "      <th>c</th>\n",
        "      <td>4</td>\n",
        "      <td>NaN</td>\n",
        "      <td>5</td>\n",
        "    </tr>\n",
        "    <tr>\n",
        "      <th>d</th>\n",
        "      <td>7</td>\n",
        "      <td>NaN</td>\n",
        "      <td>8</td>\n",
        "    </tr>\n",
        "  </tbody>\n",
        "</table>\n",
        "</div>"
       ],
       "metadata": {},
       "output_type": "pyout",
       "prompt_number": 115,
       "text": [
        "   Texas  Utah  California\n",
        "a      1   NaN           2\n",
        "b    NaN   NaN         NaN\n",
        "c      4   NaN           5\n",
        "d      7   NaN           8"
       ]
      }
     ],
     "prompt_number": 115
    },
    {
     "cell_type": "heading",
     "level": 3,
     "metadata": {},
     "source": [
      "2.2 \ud558\ub098\uc758 \ub85c\uc6b0 \ub610\ub294 \uceec\ub7fc \uc0ad\uc81c\ud558\uae30"
     ]
    },
    {
     "cell_type": "code",
     "collapsed": false,
     "input": [
      "obj = Series(np.arange(5.), index = ['a','b','c','d','e'])"
     ],
     "language": "python",
     "metadata": {},
     "outputs": [],
     "prompt_number": 116
    },
    {
     "cell_type": "code",
     "collapsed": false,
     "input": [
      "new_obj = obj.drop('c')"
     ],
     "language": "python",
     "metadata": {},
     "outputs": [],
     "prompt_number": 117
    },
    {
     "cell_type": "code",
     "collapsed": false,
     "input": [
      "new_obj"
     ],
     "language": "python",
     "metadata": {},
     "outputs": [
      {
       "metadata": {},
       "output_type": "pyout",
       "prompt_number": 118,
       "text": [
        "a    0\n",
        "b    1\n",
        "d    3\n",
        "e    4\n",
        "dtype: float64"
       ]
      }
     ],
     "prompt_number": 118
    },
    {
     "cell_type": "code",
     "collapsed": false,
     "input": [
      "obj.drop(['d','c'])"
     ],
     "language": "python",
     "metadata": {},
     "outputs": [
      {
       "metadata": {},
       "output_type": "pyout",
       "prompt_number": 119,
       "text": [
        "a    0\n",
        "b    1\n",
        "e    4\n",
        "dtype: float64"
       ]
      }
     ],
     "prompt_number": 119
    },
    {
     "cell_type": "code",
     "collapsed": false,
     "input": [
      "data = DataFrame(np.arange(16).reshape((4,4)), index = ['Ohio','Colorado', 'Utah','New York'], columns = ['one','two','three','four'])"
     ],
     "language": "python",
     "metadata": {},
     "outputs": [],
     "prompt_number": 120
    },
    {
     "cell_type": "code",
     "collapsed": false,
     "input": [
      "data.drop(['Colorado','Ohio']) # \ud589 \uc0ad\uc81c"
     ],
     "language": "python",
     "metadata": {},
     "outputs": [
      {
       "html": [
        "<div style=\"max-width:1500px;overflow:auto;\">\n",
        "<table border=\"1\" class=\"dataframe\">\n",
        "  <thead>\n",
        "    <tr style=\"text-align: right;\">\n",
        "      <th></th>\n",
        "      <th>one</th>\n",
        "      <th>two</th>\n",
        "      <th>three</th>\n",
        "      <th>four</th>\n",
        "    </tr>\n",
        "  </thead>\n",
        "  <tbody>\n",
        "    <tr>\n",
        "      <th>Utah</th>\n",
        "      <td>8</td>\n",
        "      <td>9</td>\n",
        "      <td>10</td>\n",
        "      <td>11</td>\n",
        "    </tr>\n",
        "    <tr>\n",
        "      <th>New York</th>\n",
        "      <td>12</td>\n",
        "      <td>13</td>\n",
        "      <td>14</td>\n",
        "      <td>15</td>\n",
        "    </tr>\n",
        "  </tbody>\n",
        "</table>\n",
        "</div>"
       ],
       "metadata": {},
       "output_type": "pyout",
       "prompt_number": 121,
       "text": [
        "          one  two  three  four\n",
        "Utah        8    9     10    11\n",
        "New York   12   13     14    15"
       ]
      }
     ],
     "prompt_number": 121
    },
    {
     "cell_type": "code",
     "collapsed": false,
     "input": [
      "data.drop('two',axis=1) # \uceec\ub7fc \uc0ad\uc81c"
     ],
     "language": "python",
     "metadata": {},
     "outputs": [
      {
       "html": [
        "<div style=\"max-width:1500px;overflow:auto;\">\n",
        "<table border=\"1\" class=\"dataframe\">\n",
        "  <thead>\n",
        "    <tr style=\"text-align: right;\">\n",
        "      <th></th>\n",
        "      <th>one</th>\n",
        "      <th>three</th>\n",
        "      <th>four</th>\n",
        "    </tr>\n",
        "  </thead>\n",
        "  <tbody>\n",
        "    <tr>\n",
        "      <th>Ohio</th>\n",
        "      <td>0</td>\n",
        "      <td>2</td>\n",
        "      <td>3</td>\n",
        "    </tr>\n",
        "    <tr>\n",
        "      <th>Colorado</th>\n",
        "      <td>4</td>\n",
        "      <td>6</td>\n",
        "      <td>7</td>\n",
        "    </tr>\n",
        "    <tr>\n",
        "      <th>Utah</th>\n",
        "      <td>8</td>\n",
        "      <td>10</td>\n",
        "      <td>11</td>\n",
        "    </tr>\n",
        "    <tr>\n",
        "      <th>New York</th>\n",
        "      <td>12</td>\n",
        "      <td>14</td>\n",
        "      <td>15</td>\n",
        "    </tr>\n",
        "  </tbody>\n",
        "</table>\n",
        "</div>"
       ],
       "metadata": {},
       "output_type": "pyout",
       "prompt_number": 122,
       "text": [
        "          one  three  four\n",
        "Ohio        0      2     3\n",
        "Colorado    4      6     7\n",
        "Utah        8     10    11\n",
        "New York   12     14    15"
       ]
      }
     ],
     "prompt_number": 122
    },
    {
     "cell_type": "heading",
     "level": 3,
     "metadata": {},
     "source": [
      "2.3 \uc0c9\uc778\ud558\uae30, \uc120\ud0dd\ud558\uae30, \uac70\ub974\uae30"
     ]
    },
    {
     "cell_type": "code",
     "collapsed": false,
     "input": [
      "obj = Series(np.arange(4.), index = ['a','b','c','d'])"
     ],
     "language": "python",
     "metadata": {},
     "outputs": [],
     "prompt_number": 125
    },
    {
     "cell_type": "code",
     "collapsed": false,
     "input": [
      "obj"
     ],
     "language": "python",
     "metadata": {},
     "outputs": [
      {
       "metadata": {},
       "output_type": "pyout",
       "prompt_number": 126,
       "text": [
        "a    0\n",
        "b    1\n",
        "c    2\n",
        "d    3\n",
        "dtype: float64"
       ]
      }
     ],
     "prompt_number": 126
    },
    {
     "cell_type": "code",
     "collapsed": false,
     "input": [
      "obj['b']"
     ],
     "language": "python",
     "metadata": {},
     "outputs": [
      {
       "metadata": {},
       "output_type": "pyout",
       "prompt_number": 127,
       "text": [
        "1.0"
       ]
      }
     ],
     "prompt_number": 127
    },
    {
     "cell_type": "code",
     "collapsed": false,
     "input": [
      "obj[1]"
     ],
     "language": "python",
     "metadata": {},
     "outputs": [
      {
       "metadata": {},
       "output_type": "pyout",
       "prompt_number": 128,
       "text": [
        "1.0"
       ]
      }
     ],
     "prompt_number": 128
    },
    {
     "cell_type": "code",
     "collapsed": false,
     "input": [
      "obj['b':'c'] # label\uc774\ub984\uc73c\ub85c \uc2ac\ub77c\uc774\uc2f1 : \uc2dc\uc791\uc810\uacfc \ub05d\uc810\uc744 \ud3ec\ud568"
     ],
     "language": "python",
     "metadata": {},
     "outputs": [
      {
       "metadata": {},
       "output_type": "pyout",
       "prompt_number": 129,
       "text": [
        "b    1\n",
        "c    2\n",
        "dtype: float64"
       ]
      }
     ],
     "prompt_number": 129
    },
    {
     "cell_type": "code",
     "collapsed": false,
     "input": [
      "obj['b','c'] = 5"
     ],
     "language": "python",
     "metadata": {},
     "outputs": [],
     "prompt_number": 130
    },
    {
     "cell_type": "code",
     "collapsed": false,
     "input": [
      "obj"
     ],
     "language": "python",
     "metadata": {},
     "outputs": [
      {
       "metadata": {},
       "output_type": "pyout",
       "prompt_number": 131,
       "text": [
        "a    0\n",
        "b    5\n",
        "c    5\n",
        "d    3\n",
        "dtype: float64"
       ]
      }
     ],
     "prompt_number": 131
    },
    {
     "cell_type": "code",
     "collapsed": false,
     "input": [
      "data = DataFrame(np.arange(16).reshape((4,4)), index = ['Ohio', 'Colorado', 'Utah', 'New York'], columns = ['one', 'two', 'three' , 'four'])"
     ],
     "language": "python",
     "metadata": {},
     "outputs": [],
     "prompt_number": 132
    },
    {
     "cell_type": "code",
     "collapsed": false,
     "input": [
      "data['two']"
     ],
     "language": "python",
     "metadata": {},
     "outputs": [
      {
       "metadata": {},
       "output_type": "pyout",
       "prompt_number": 133,
       "text": [
        "Ohio         1\n",
        "Colorado     5\n",
        "Utah         9\n",
        "New York    13\n",
        "Name: two, dtype: int32"
       ]
      }
     ],
     "prompt_number": 133
    },
    {
     "cell_type": "code",
     "collapsed": false,
     "input": [
      "data[:2] ## row index"
     ],
     "language": "python",
     "metadata": {},
     "outputs": [
      {
       "html": [
        "<div style=\"max-width:1500px;overflow:auto;\">\n",
        "<table border=\"1\" class=\"dataframe\">\n",
        "  <thead>\n",
        "    <tr style=\"text-align: right;\">\n",
        "      <th></th>\n",
        "      <th>one</th>\n",
        "      <th>two</th>\n",
        "      <th>three</th>\n",
        "      <th>four</th>\n",
        "    </tr>\n",
        "  </thead>\n",
        "  <tbody>\n",
        "    <tr>\n",
        "      <th>Ohio</th>\n",
        "      <td>0</td>\n",
        "      <td>1</td>\n",
        "      <td>2</td>\n",
        "      <td>3</td>\n",
        "    </tr>\n",
        "    <tr>\n",
        "      <th>Colorado</th>\n",
        "      <td>4</td>\n",
        "      <td>5</td>\n",
        "      <td>6</td>\n",
        "      <td>7</td>\n",
        "    </tr>\n",
        "  </tbody>\n",
        "</table>\n",
        "</div>"
       ],
       "metadata": {},
       "output_type": "pyout",
       "prompt_number": 134,
       "text": [
        "          one  two  three  four\n",
        "Ohio        0    1      2     3\n",
        "Colorado    4    5      6     7"
       ]
      }
     ],
     "prompt_number": 134
    },
    {
     "cell_type": "code",
     "collapsed": false,
     "input": [
      "data[data['three']>5] ## column index"
     ],
     "language": "python",
     "metadata": {},
     "outputs": [
      {
       "html": [
        "<div style=\"max-width:1500px;overflow:auto;\">\n",
        "<table border=\"1\" class=\"dataframe\">\n",
        "  <thead>\n",
        "    <tr style=\"text-align: right;\">\n",
        "      <th></th>\n",
        "      <th>one</th>\n",
        "      <th>two</th>\n",
        "      <th>three</th>\n",
        "      <th>four</th>\n",
        "    </tr>\n",
        "  </thead>\n",
        "  <tbody>\n",
        "    <tr>\n",
        "      <th>Colorado</th>\n",
        "      <td>4</td>\n",
        "      <td>5</td>\n",
        "      <td>6</td>\n",
        "      <td>7</td>\n",
        "    </tr>\n",
        "    <tr>\n",
        "      <th>Utah</th>\n",
        "      <td>8</td>\n",
        "      <td>9</td>\n",
        "      <td>10</td>\n",
        "      <td>11</td>\n",
        "    </tr>\n",
        "    <tr>\n",
        "      <th>New York</th>\n",
        "      <td>12</td>\n",
        "      <td>13</td>\n",
        "      <td>14</td>\n",
        "      <td>15</td>\n",
        "    </tr>\n",
        "  </tbody>\n",
        "</table>\n",
        "</div>"
       ],
       "metadata": {},
       "output_type": "pyout",
       "prompt_number": 135,
       "text": [
        "          one  two  three  four\n",
        "Colorado    4    5      6     7\n",
        "Utah        8    9     10    11\n",
        "New York   12   13     14    15"
       ]
      }
     ],
     "prompt_number": 135
    },
    {
     "cell_type": "code",
     "collapsed": false,
     "input": [
      "data < 5 # \uc22b\uc790\ube44\uad50"
     ],
     "language": "python",
     "metadata": {},
     "outputs": [
      {
       "html": [
        "<div style=\"max-width:1500px;overflow:auto;\">\n",
        "<table border=\"1\" class=\"dataframe\">\n",
        "  <thead>\n",
        "    <tr style=\"text-align: right;\">\n",
        "      <th></th>\n",
        "      <th>one</th>\n",
        "      <th>two</th>\n",
        "      <th>three</th>\n",
        "      <th>four</th>\n",
        "    </tr>\n",
        "  </thead>\n",
        "  <tbody>\n",
        "    <tr>\n",
        "      <th>Ohio</th>\n",
        "      <td>True</td>\n",
        "      <td>True</td>\n",
        "      <td>True</td>\n",
        "      <td>True</td>\n",
        "    </tr>\n",
        "    <tr>\n",
        "      <th>Colorado</th>\n",
        "      <td>True</td>\n",
        "      <td>False</td>\n",
        "      <td>False</td>\n",
        "      <td>False</td>\n",
        "    </tr>\n",
        "    <tr>\n",
        "      <th>Utah</th>\n",
        "      <td>False</td>\n",
        "      <td>False</td>\n",
        "      <td>False</td>\n",
        "      <td>False</td>\n",
        "    </tr>\n",
        "    <tr>\n",
        "      <th>New York</th>\n",
        "      <td>False</td>\n",
        "      <td>False</td>\n",
        "      <td>False</td>\n",
        "      <td>False</td>\n",
        "    </tr>\n",
        "  </tbody>\n",
        "</table>\n",
        "</div>"
       ],
       "metadata": {},
       "output_type": "pyout",
       "prompt_number": 136,
       "text": [
        "            one    two  three   four\n",
        "Ohio       True   True   True   True\n",
        "Colorado   True  False  False  False\n",
        "Utah      False  False  False  False\n",
        "New York  False  False  False  False"
       ]
      }
     ],
     "prompt_number": 136
    },
    {
     "cell_type": "code",
     "collapsed": false,
     "input": [
      "data[data<5] = 0"
     ],
     "language": "python",
     "metadata": {},
     "outputs": [],
     "prompt_number": 137
    },
    {
     "cell_type": "code",
     "collapsed": false,
     "input": [
      "data"
     ],
     "language": "python",
     "metadata": {},
     "outputs": [
      {
       "html": [
        "<div style=\"max-width:1500px;overflow:auto;\">\n",
        "<table border=\"1\" class=\"dataframe\">\n",
        "  <thead>\n",
        "    <tr style=\"text-align: right;\">\n",
        "      <th></th>\n",
        "      <th>one</th>\n",
        "      <th>two</th>\n",
        "      <th>three</th>\n",
        "      <th>four</th>\n",
        "    </tr>\n",
        "  </thead>\n",
        "  <tbody>\n",
        "    <tr>\n",
        "      <th>Ohio</th>\n",
        "      <td>0</td>\n",
        "      <td>0</td>\n",
        "      <td>0</td>\n",
        "      <td>0</td>\n",
        "    </tr>\n",
        "    <tr>\n",
        "      <th>Colorado</th>\n",
        "      <td>0</td>\n",
        "      <td>5</td>\n",
        "      <td>6</td>\n",
        "      <td>7</td>\n",
        "    </tr>\n",
        "    <tr>\n",
        "      <th>Utah</th>\n",
        "      <td>8</td>\n",
        "      <td>9</td>\n",
        "      <td>10</td>\n",
        "      <td>11</td>\n",
        "    </tr>\n",
        "    <tr>\n",
        "      <th>New York</th>\n",
        "      <td>12</td>\n",
        "      <td>13</td>\n",
        "      <td>14</td>\n",
        "      <td>15</td>\n",
        "    </tr>\n",
        "  </tbody>\n",
        "</table>\n",
        "</div>"
       ],
       "metadata": {},
       "output_type": "pyout",
       "prompt_number": 138,
       "text": [
        "          one  two  three  four\n",
        "Ohio        0    0      0     0\n",
        "Colorado    0    5      6     7\n",
        "Utah        8    9     10    11\n",
        "New York   12   13     14    15"
       ]
      }
     ],
     "prompt_number": 138
    },
    {
     "cell_type": "code",
     "collapsed": false,
     "input": [
      "data.ix['Colorado', ['two', 'three']]"
     ],
     "language": "python",
     "metadata": {},
     "outputs": [
      {
       "metadata": {},
       "output_type": "pyout",
       "prompt_number": 139,
       "text": [
        "two      5\n",
        "three    6\n",
        "Name: Colorado, dtype: int32"
       ]
      }
     ],
     "prompt_number": 139
    },
    {
     "cell_type": "code",
     "collapsed": false,
     "input": [
      "data.ix[['Colorado', 'Utah'], [3,0,1]] # row index\uc640 column index\ub97c \uc774\uc6a9\ud55c \uc811\uadfc"
     ],
     "language": "python",
     "metadata": {},
     "outputs": [
      {
       "html": [
        "<div style=\"max-width:1500px;overflow:auto;\">\n",
        "<table border=\"1\" class=\"dataframe\">\n",
        "  <thead>\n",
        "    <tr style=\"text-align: right;\">\n",
        "      <th></th>\n",
        "      <th>four</th>\n",
        "      <th>one</th>\n",
        "      <th>two</th>\n",
        "    </tr>\n",
        "  </thead>\n",
        "  <tbody>\n",
        "    <tr>\n",
        "      <th>Colorado</th>\n",
        "      <td>7</td>\n",
        "      <td>0</td>\n",
        "      <td>5</td>\n",
        "    </tr>\n",
        "    <tr>\n",
        "      <th>Utah</th>\n",
        "      <td>11</td>\n",
        "      <td>8</td>\n",
        "      <td>9</td>\n",
        "    </tr>\n",
        "  </tbody>\n",
        "</table>\n",
        "</div>"
       ],
       "metadata": {},
       "output_type": "pyout",
       "prompt_number": 140,
       "text": [
        "          four  one  two\n",
        "Colorado     7    0    5\n",
        "Utah        11    8    9"
       ]
      }
     ],
     "prompt_number": 140
    },
    {
     "cell_type": "heading",
     "level": 3,
     "metadata": {},
     "source": [
      "2.4 \uc0b0\uc220\uc5f0\uc0b0\uacfc \ub370\uc774\ud130 \uc815\ub82c"
     ]
    },
    {
     "cell_type": "code",
     "collapsed": false,
     "input": [
      "s1 = Series([7.3,-2.5, 3.4, 1.5], index = ['a','c','d','e'])"
     ],
     "language": "python",
     "metadata": {},
     "outputs": [],
     "prompt_number": 141
    },
    {
     "cell_type": "code",
     "collapsed": false,
     "input": [
      "s2 = Series([-2.1, 3.6, -1.5, 4, 3.1], index = ['a','c','e','f','g'])"
     ],
     "language": "python",
     "metadata": {},
     "outputs": [],
     "prompt_number": 142
    },
    {
     "cell_type": "code",
     "collapsed": false,
     "input": [
      "s1+s2 # Series \ub354\ud558\uae30 \uc5f0\uc0b0"
     ],
     "language": "python",
     "metadata": {},
     "outputs": [
      {
       "metadata": {},
       "output_type": "pyout",
       "prompt_number": 143,
       "text": [
        "a    5.2\n",
        "c    1.1\n",
        "d    NaN\n",
        "e    0.0\n",
        "f    NaN\n",
        "g    NaN\n",
        "dtype: float64"
       ]
      }
     ],
     "prompt_number": 143
    },
    {
     "cell_type": "code",
     "collapsed": false,
     "input": [
      "df1 = DataFrame(np.arange(9.).reshape((3,3)), columns = list('bcd'), index = ['Ohio', 'Texas','Colorado'])"
     ],
     "language": "python",
     "metadata": {},
     "outputs": [],
     "prompt_number": 150
    },
    {
     "cell_type": "code",
     "collapsed": false,
     "input": [
      "df2 = DataFrame(np.arange(12.).reshape((4,3)), columns = list('bde'), index = ['Utah', 'Ohio', 'Texas', 'Oregon'])"
     ],
     "language": "python",
     "metadata": {},
     "outputs": [],
     "prompt_number": 151
    },
    {
     "cell_type": "code",
     "collapsed": false,
     "input": [
      "df1 + df2"
     ],
     "language": "python",
     "metadata": {},
     "outputs": [
      {
       "html": [
        "<div style=\"max-width:1500px;overflow:auto;\">\n",
        "<table border=\"1\" class=\"dataframe\">\n",
        "  <thead>\n",
        "    <tr style=\"text-align: right;\">\n",
        "      <th></th>\n",
        "      <th>b</th>\n",
        "      <th>c</th>\n",
        "      <th>d</th>\n",
        "      <th>e</th>\n",
        "    </tr>\n",
        "  </thead>\n",
        "  <tbody>\n",
        "    <tr>\n",
        "      <th>Colorado</th>\n",
        "      <td>NaN</td>\n",
        "      <td>NaN</td>\n",
        "      <td>NaN</td>\n",
        "      <td>NaN</td>\n",
        "    </tr>\n",
        "    <tr>\n",
        "      <th>Ohio</th>\n",
        "      <td>3</td>\n",
        "      <td>NaN</td>\n",
        "      <td>6</td>\n",
        "      <td>NaN</td>\n",
        "    </tr>\n",
        "    <tr>\n",
        "      <th>Oregon</th>\n",
        "      <td>NaN</td>\n",
        "      <td>NaN</td>\n",
        "      <td>NaN</td>\n",
        "      <td>NaN</td>\n",
        "    </tr>\n",
        "    <tr>\n",
        "      <th>Texas</th>\n",
        "      <td>9</td>\n",
        "      <td>NaN</td>\n",
        "      <td>12</td>\n",
        "      <td>NaN</td>\n",
        "    </tr>\n",
        "    <tr>\n",
        "      <th>Utah</th>\n",
        "      <td>NaN</td>\n",
        "      <td>NaN</td>\n",
        "      <td>NaN</td>\n",
        "      <td>NaN</td>\n",
        "    </tr>\n",
        "  </tbody>\n",
        "</table>\n",
        "</div>"
       ],
       "metadata": {},
       "output_type": "pyout",
       "prompt_number": 152,
       "text": [
        "           b   c   d   e\n",
        "Colorado NaN NaN NaN NaN\n",
        "Ohio       3 NaN   6 NaN\n",
        "Oregon   NaN NaN NaN NaN\n",
        "Texas      9 NaN  12 NaN\n",
        "Utah     NaN NaN NaN NaN"
       ]
      }
     ],
     "prompt_number": 152
    },
    {
     "cell_type": "code",
     "collapsed": false,
     "input": [
      "df1 = DataFrame(np.arange(12.).reshape((3,4)), columns = list('abcd'))"
     ],
     "language": "python",
     "metadata": {},
     "outputs": [],
     "prompt_number": 154
    },
    {
     "cell_type": "code",
     "collapsed": false,
     "input": [
      "df2  = DataFrame(np.arange(20.).reshape((4,5)), columns = list('abcde'))"
     ],
     "language": "python",
     "metadata": {},
     "outputs": [],
     "prompt_number": 155
    },
    {
     "cell_type": "code",
     "collapsed": false,
     "input": [
      "df1+df2"
     ],
     "language": "python",
     "metadata": {},
     "outputs": [
      {
       "html": [
        "<div style=\"max-width:1500px;overflow:auto;\">\n",
        "<table border=\"1\" class=\"dataframe\">\n",
        "  <thead>\n",
        "    <tr style=\"text-align: right;\">\n",
        "      <th></th>\n",
        "      <th>a</th>\n",
        "      <th>b</th>\n",
        "      <th>c</th>\n",
        "      <th>d</th>\n",
        "      <th>e</th>\n",
        "    </tr>\n",
        "  </thead>\n",
        "  <tbody>\n",
        "    <tr>\n",
        "      <th>0</th>\n",
        "      <td>0</td>\n",
        "      <td>2</td>\n",
        "      <td>4</td>\n",
        "      <td>6</td>\n",
        "      <td>NaN</td>\n",
        "    </tr>\n",
        "    <tr>\n",
        "      <th>1</th>\n",
        "      <td>9</td>\n",
        "      <td>11</td>\n",
        "      <td>13</td>\n",
        "      <td>15</td>\n",
        "      <td>NaN</td>\n",
        "    </tr>\n",
        "    <tr>\n",
        "      <th>2</th>\n",
        "      <td>18</td>\n",
        "      <td>20</td>\n",
        "      <td>22</td>\n",
        "      <td>24</td>\n",
        "      <td>NaN</td>\n",
        "    </tr>\n",
        "    <tr>\n",
        "      <th>3</th>\n",
        "      <td>NaN</td>\n",
        "      <td>NaN</td>\n",
        "      <td>NaN</td>\n",
        "      <td>NaN</td>\n",
        "      <td>NaN</td>\n",
        "    </tr>\n",
        "  </tbody>\n",
        "</table>\n",
        "</div>"
       ],
       "metadata": {},
       "output_type": "pyout",
       "prompt_number": 156,
       "text": [
        "    a   b   c   d   e\n",
        "0   0   2   4   6 NaN\n",
        "1   9  11  13  15 NaN\n",
        "2  18  20  22  24 NaN\n",
        "3 NaN NaN NaN NaN NaN"
       ]
      }
     ],
     "prompt_number": 156
    },
    {
     "cell_type": "code",
     "collapsed": false,
     "input": [
      "df1.add(df2, fill_value = 0)"
     ],
     "language": "python",
     "metadata": {},
     "outputs": [
      {
       "html": [
        "<div style=\"max-width:1500px;overflow:auto;\">\n",
        "<table border=\"1\" class=\"dataframe\">\n",
        "  <thead>\n",
        "    <tr style=\"text-align: right;\">\n",
        "      <th></th>\n",
        "      <th>a</th>\n",
        "      <th>b</th>\n",
        "      <th>c</th>\n",
        "      <th>d</th>\n",
        "      <th>e</th>\n",
        "    </tr>\n",
        "  </thead>\n",
        "  <tbody>\n",
        "    <tr>\n",
        "      <th>0</th>\n",
        "      <td>0</td>\n",
        "      <td>2</td>\n",
        "      <td>4</td>\n",
        "      <td>6</td>\n",
        "      <td>4</td>\n",
        "    </tr>\n",
        "    <tr>\n",
        "      <th>1</th>\n",
        "      <td>9</td>\n",
        "      <td>11</td>\n",
        "      <td>13</td>\n",
        "      <td>15</td>\n",
        "      <td>9</td>\n",
        "    </tr>\n",
        "    <tr>\n",
        "      <th>2</th>\n",
        "      <td>18</td>\n",
        "      <td>20</td>\n",
        "      <td>22</td>\n",
        "      <td>24</td>\n",
        "      <td>14</td>\n",
        "    </tr>\n",
        "    <tr>\n",
        "      <th>3</th>\n",
        "      <td>15</td>\n",
        "      <td>16</td>\n",
        "      <td>17</td>\n",
        "      <td>18</td>\n",
        "      <td>19</td>\n",
        "    </tr>\n",
        "  </tbody>\n",
        "</table>\n",
        "</div>"
       ],
       "metadata": {},
       "output_type": "pyout",
       "prompt_number": 157,
       "text": [
        "    a   b   c   d   e\n",
        "0   0   2   4   6   4\n",
        "1   9  11  13  15   9\n",
        "2  18  20  22  24  14\n",
        "3  15  16  17  18  19"
       ]
      }
     ],
     "prompt_number": 157
    },
    {
     "cell_type": "code",
     "collapsed": false,
     "input": [
      "frame = DataFrame(np.arange(12.).reshape((4,3)), columns = list('bde'), index = ['Utah', 'Ohio', 'Texas', 'Oregon'])"
     ],
     "language": "python",
     "metadata": {},
     "outputs": [],
     "prompt_number": 171
    },
    {
     "cell_type": "code",
     "collapsed": false,
     "input": [
      "series = frame.ix[0]"
     ],
     "language": "python",
     "metadata": {},
     "outputs": [],
     "prompt_number": 159
    },
    {
     "cell_type": "code",
     "collapsed": false,
     "input": [
      "frame - series # dataframe - series"
     ],
     "language": "python",
     "metadata": {},
     "outputs": [
      {
       "html": [
        "<div style=\"max-width:1500px;overflow:auto;\">\n",
        "<table border=\"1\" class=\"dataframe\">\n",
        "  <thead>\n",
        "    <tr style=\"text-align: right;\">\n",
        "      <th></th>\n",
        "      <th>b</th>\n",
        "      <th>d</th>\n",
        "      <th>e</th>\n",
        "    </tr>\n",
        "  </thead>\n",
        "  <tbody>\n",
        "    <tr>\n",
        "      <th>Utah</th>\n",
        "      <td>0</td>\n",
        "      <td>0</td>\n",
        "      <td>0</td>\n",
        "    </tr>\n",
        "    <tr>\n",
        "      <th>Ohio</th>\n",
        "      <td>3</td>\n",
        "      <td>3</td>\n",
        "      <td>3</td>\n",
        "    </tr>\n",
        "    <tr>\n",
        "      <th>Texas</th>\n",
        "      <td>6</td>\n",
        "      <td>6</td>\n",
        "      <td>6</td>\n",
        "    </tr>\n",
        "    <tr>\n",
        "      <th>Oregon</th>\n",
        "      <td>9</td>\n",
        "      <td>9</td>\n",
        "      <td>9</td>\n",
        "    </tr>\n",
        "  </tbody>\n",
        "</table>\n",
        "</div>"
       ],
       "metadata": {},
       "output_type": "pyout",
       "prompt_number": 160,
       "text": [
        "        b  d  e\n",
        "Utah    0  0  0\n",
        "Ohio    3  3  3\n",
        "Texas   6  6  6\n",
        "Oregon  9  9  9"
       ]
      }
     ],
     "prompt_number": 160
    },
    {
     "cell_type": "code",
     "collapsed": false,
     "input": [
      "series2 = Series(range(3), index=['b','e','f'])"
     ],
     "language": "python",
     "metadata": {},
     "outputs": [],
     "prompt_number": 161
    },
    {
     "cell_type": "code",
     "collapsed": false,
     "input": [
      "frame + series2"
     ],
     "language": "python",
     "metadata": {},
     "outputs": [
      {
       "html": [
        "<div style=\"max-width:1500px;overflow:auto;\">\n",
        "<table border=\"1\" class=\"dataframe\">\n",
        "  <thead>\n",
        "    <tr style=\"text-align: right;\">\n",
        "      <th></th>\n",
        "      <th>b</th>\n",
        "      <th>d</th>\n",
        "      <th>e</th>\n",
        "      <th>f</th>\n",
        "    </tr>\n",
        "  </thead>\n",
        "  <tbody>\n",
        "    <tr>\n",
        "      <th>Utah</th>\n",
        "      <td>0</td>\n",
        "      <td>NaN</td>\n",
        "      <td>3</td>\n",
        "      <td>NaN</td>\n",
        "    </tr>\n",
        "    <tr>\n",
        "      <th>Ohio</th>\n",
        "      <td>3</td>\n",
        "      <td>NaN</td>\n",
        "      <td>6</td>\n",
        "      <td>NaN</td>\n",
        "    </tr>\n",
        "    <tr>\n",
        "      <th>Texas</th>\n",
        "      <td>6</td>\n",
        "      <td>NaN</td>\n",
        "      <td>9</td>\n",
        "      <td>NaN</td>\n",
        "    </tr>\n",
        "    <tr>\n",
        "      <th>Oregon</th>\n",
        "      <td>9</td>\n",
        "      <td>NaN</td>\n",
        "      <td>12</td>\n",
        "      <td>NaN</td>\n",
        "    </tr>\n",
        "  </tbody>\n",
        "</table>\n",
        "</div>"
       ],
       "metadata": {},
       "output_type": "pyout",
       "prompt_number": 162,
       "text": [
        "        b   d   e   f\n",
        "Utah    0 NaN   3 NaN\n",
        "Ohio    3 NaN   6 NaN\n",
        "Texas   6 NaN   9 NaN\n",
        "Oregon  9 NaN  12 NaN"
       ]
      }
     ],
     "prompt_number": 162
    },
    {
     "cell_type": "code",
     "collapsed": false,
     "input": [
      "series3 = frame['d']"
     ],
     "language": "python",
     "metadata": {},
     "outputs": [],
     "prompt_number": 172
    },
    {
     "cell_type": "code",
     "collapsed": false,
     "input": [
      "frame.sub(series3, axis=0) # \ub85c\uc6b0\uc5d0 \ub300\ud55c \uc5f0\uc0b0 \uc218\ud589(0 : column, 1 : row)"
     ],
     "language": "python",
     "metadata": {},
     "outputs": [
      {
       "html": [
        "<div style=\"max-width:1500px;overflow:auto;\">\n",
        "<table border=\"1\" class=\"dataframe\">\n",
        "  <thead>\n",
        "    <tr style=\"text-align: right;\">\n",
        "      <th></th>\n",
        "      <th>b</th>\n",
        "      <th>d</th>\n",
        "      <th>e</th>\n",
        "    </tr>\n",
        "  </thead>\n",
        "  <tbody>\n",
        "    <tr>\n",
        "      <th>Utah</th>\n",
        "      <td>-1</td>\n",
        "      <td>0</td>\n",
        "      <td>1</td>\n",
        "    </tr>\n",
        "    <tr>\n",
        "      <th>Ohio</th>\n",
        "      <td>-1</td>\n",
        "      <td>0</td>\n",
        "      <td>1</td>\n",
        "    </tr>\n",
        "    <tr>\n",
        "      <th>Texas</th>\n",
        "      <td>-1</td>\n",
        "      <td>0</td>\n",
        "      <td>1</td>\n",
        "    </tr>\n",
        "    <tr>\n",
        "      <th>Oregon</th>\n",
        "      <td>-1</td>\n",
        "      <td>0</td>\n",
        "      <td>1</td>\n",
        "    </tr>\n",
        "  </tbody>\n",
        "</table>\n",
        "</div>"
       ],
       "metadata": {},
       "output_type": "pyout",
       "prompt_number": 174,
       "text": [
        "        b  d  e\n",
        "Utah   -1  0  1\n",
        "Ohio   -1  0  1\n",
        "Texas  -1  0  1\n",
        "Oregon -1  0  1"
       ]
      }
     ],
     "prompt_number": 174
    },
    {
     "cell_type": "heading",
     "level": 3,
     "metadata": {},
     "source": [
      "2.5 \ud568\uc218 \uc801\uc6a9\uacfc \ub9e4\ud551"
     ]
    },
    {
     "cell_type": "code",
     "collapsed": false,
     "input": [
      "frame = DataFrame(np.random.randn(4,3), columns = list('bde'), index = ['Utah', 'Ohio' , 'Texas', 'Oregon'])"
     ],
     "language": "python",
     "metadata": {},
     "outputs": [],
     "prompt_number": 176
    },
    {
     "cell_type": "code",
     "collapsed": false,
     "input": [
      "frame"
     ],
     "language": "python",
     "metadata": {},
     "outputs": [
      {
       "html": [
        "<div style=\"max-width:1500px;overflow:auto;\">\n",
        "<table border=\"1\" class=\"dataframe\">\n",
        "  <thead>\n",
        "    <tr style=\"text-align: right;\">\n",
        "      <th></th>\n",
        "      <th>b</th>\n",
        "      <th>d</th>\n",
        "      <th>e</th>\n",
        "    </tr>\n",
        "  </thead>\n",
        "  <tbody>\n",
        "    <tr>\n",
        "      <th>Utah</th>\n",
        "      <td>0.238164</td>\n",
        "      <td>-0.264417</td>\n",
        "      <td>-0.116392</td>\n",
        "    </tr>\n",
        "    <tr>\n",
        "      <th>Ohio</th>\n",
        "      <td>-0.509944</td>\n",
        "      <td>-0.454039</td>\n",
        "      <td>0.914423</td>\n",
        "    </tr>\n",
        "    <tr>\n",
        "      <th>Texas</th>\n",
        "      <td>-0.547004</td>\n",
        "      <td>-0.262166</td>\n",
        "      <td>-1.544204</td>\n",
        "    </tr>\n",
        "    <tr>\n",
        "      <th>Oregon</th>\n",
        "      <td>1.512367</td>\n",
        "      <td>-0.039457</td>\n",
        "      <td>0.045349</td>\n",
        "    </tr>\n",
        "  </tbody>\n",
        "</table>\n",
        "</div>"
       ],
       "metadata": {},
       "output_type": "pyout",
       "prompt_number": 177,
       "text": [
        "               b         d         e\n",
        "Utah    0.238164 -0.264417 -0.116392\n",
        "Ohio   -0.509944 -0.454039  0.914423\n",
        "Texas  -0.547004 -0.262166 -1.544204\n",
        "Oregon  1.512367 -0.039457  0.045349"
       ]
      }
     ],
     "prompt_number": 177
    },
    {
     "cell_type": "code",
     "collapsed": false,
     "input": [
      "f = lambda x: x.max() - x.min()"
     ],
     "language": "python",
     "metadata": {},
     "outputs": [],
     "prompt_number": 178
    },
    {
     "cell_type": "code",
     "collapsed": false,
     "input": [
      "frame.apply(f) # column \uacc4\uc0b0"
     ],
     "language": "python",
     "metadata": {},
     "outputs": [
      {
       "metadata": {},
       "output_type": "pyout",
       "prompt_number": 179,
       "text": [
        "b    2.059372\n",
        "d    0.414582\n",
        "e    2.458626\n",
        "dtype: float64"
       ]
      }
     ],
     "prompt_number": 179
    },
    {
     "cell_type": "code",
     "collapsed": false,
     "input": [
      "frame.apply(f, axis=1) # row \uacc4\uc0b0"
     ],
     "language": "python",
     "metadata": {},
     "outputs": [
      {
       "metadata": {},
       "output_type": "pyout",
       "prompt_number": 180,
       "text": [
        "Utah      0.502580\n",
        "Ohio      1.424367\n",
        "Texas     1.282038\n",
        "Oregon    1.551825\n",
        "dtype: float64"
       ]
      }
     ],
     "prompt_number": 180
    },
    {
     "cell_type": "code",
     "collapsed": false,
     "input": [
      "format = lambda x: '%.2f' % x"
     ],
     "language": "python",
     "metadata": {},
     "outputs": [],
     "prompt_number": 181
    },
    {
     "cell_type": "code",
     "collapsed": false,
     "input": [
      "frame.applymap(format) # series\uc758 \uac01 \uc694\uc18c\uc5d0 format \uc9c0\uc815"
     ],
     "language": "python",
     "metadata": {},
     "outputs": [
      {
       "html": [
        "<div style=\"max-width:1500px;overflow:auto;\">\n",
        "<table border=\"1\" class=\"dataframe\">\n",
        "  <thead>\n",
        "    <tr style=\"text-align: right;\">\n",
        "      <th></th>\n",
        "      <th>b</th>\n",
        "      <th>d</th>\n",
        "      <th>e</th>\n",
        "    </tr>\n",
        "  </thead>\n",
        "  <tbody>\n",
        "    <tr>\n",
        "      <th>Utah</th>\n",
        "      <td>0.24</td>\n",
        "      <td>-0.26</td>\n",
        "      <td>-0.12</td>\n",
        "    </tr>\n",
        "    <tr>\n",
        "      <th>Ohio</th>\n",
        "      <td>-0.51</td>\n",
        "      <td>-0.45</td>\n",
        "      <td>0.91</td>\n",
        "    </tr>\n",
        "    <tr>\n",
        "      <th>Texas</th>\n",
        "      <td>-0.55</td>\n",
        "      <td>-0.26</td>\n",
        "      <td>-1.54</td>\n",
        "    </tr>\n",
        "    <tr>\n",
        "      <th>Oregon</th>\n",
        "      <td>1.51</td>\n",
        "      <td>-0.04</td>\n",
        "      <td>0.05</td>\n",
        "    </tr>\n",
        "  </tbody>\n",
        "</table>\n",
        "</div>"
       ],
       "metadata": {},
       "output_type": "pyout",
       "prompt_number": 182,
       "text": [
        "            b      d      e\n",
        "Utah     0.24  -0.26  -0.12\n",
        "Ohio    -0.51  -0.45   0.91\n",
        "Texas   -0.55  -0.26  -1.54\n",
        "Oregon   1.51  -0.04   0.05"
       ]
      }
     ],
     "prompt_number": 182
    },
    {
     "cell_type": "heading",
     "level": 3,
     "metadata": {},
     "source": [
      "2.6 \uc815\ub82c\uacfc \uc21c\uc704"
     ]
    },
    {
     "cell_type": "code",
     "collapsed": false,
     "input": [
      "obj = Series(range(4), index = ['d','a','b','c'])"
     ],
     "language": "python",
     "metadata": {},
     "outputs": [],
     "prompt_number": 183
    },
    {
     "cell_type": "code",
     "collapsed": false,
     "input": [
      "obj.sort_index()"
     ],
     "language": "python",
     "metadata": {},
     "outputs": [
      {
       "metadata": {},
       "output_type": "pyout",
       "prompt_number": 184,
       "text": [
        "a    1\n",
        "b    2\n",
        "c    3\n",
        "d    0\n",
        "dtype: int64"
       ]
      }
     ],
     "prompt_number": 184
    },
    {
     "cell_type": "code",
     "collapsed": false,
     "input": [
      "frame = DataFrame(np.arange(8).reshape((2,4)), index = ['three', 'one'], columns = ['d','a','b','c'])"
     ],
     "language": "python",
     "metadata": {},
     "outputs": [],
     "prompt_number": 185
    },
    {
     "cell_type": "code",
     "collapsed": false,
     "input": [
      "frame.sort_index() # column"
     ],
     "language": "python",
     "metadata": {},
     "outputs": [
      {
       "html": [
        "<div style=\"max-width:1500px;overflow:auto;\">\n",
        "<table border=\"1\" class=\"dataframe\">\n",
        "  <thead>\n",
        "    <tr style=\"text-align: right;\">\n",
        "      <th></th>\n",
        "      <th>d</th>\n",
        "      <th>a</th>\n",
        "      <th>b</th>\n",
        "      <th>c</th>\n",
        "    </tr>\n",
        "  </thead>\n",
        "  <tbody>\n",
        "    <tr>\n",
        "      <th>one</th>\n",
        "      <td>4</td>\n",
        "      <td>5</td>\n",
        "      <td>6</td>\n",
        "      <td>7</td>\n",
        "    </tr>\n",
        "    <tr>\n",
        "      <th>three</th>\n",
        "      <td>0</td>\n",
        "      <td>1</td>\n",
        "      <td>2</td>\n",
        "      <td>3</td>\n",
        "    </tr>\n",
        "  </tbody>\n",
        "</table>\n",
        "</div>"
       ],
       "metadata": {},
       "output_type": "pyout",
       "prompt_number": 186,
       "text": [
        "       d  a  b  c\n",
        "one    4  5  6  7\n",
        "three  0  1  2  3"
       ]
      }
     ],
     "prompt_number": 186
    },
    {
     "cell_type": "code",
     "collapsed": false,
     "input": [
      "frame.sort_index(axis=1) # row "
     ],
     "language": "python",
     "metadata": {},
     "outputs": [
      {
       "html": [
        "<div style=\"max-width:1500px;overflow:auto;\">\n",
        "<table border=\"1\" class=\"dataframe\">\n",
        "  <thead>\n",
        "    <tr style=\"text-align: right;\">\n",
        "      <th></th>\n",
        "      <th>a</th>\n",
        "      <th>b</th>\n",
        "      <th>c</th>\n",
        "      <th>d</th>\n",
        "    </tr>\n",
        "  </thead>\n",
        "  <tbody>\n",
        "    <tr>\n",
        "      <th>three</th>\n",
        "      <td>1</td>\n",
        "      <td>2</td>\n",
        "      <td>3</td>\n",
        "      <td>0</td>\n",
        "    </tr>\n",
        "    <tr>\n",
        "      <th>one</th>\n",
        "      <td>5</td>\n",
        "      <td>6</td>\n",
        "      <td>7</td>\n",
        "      <td>4</td>\n",
        "    </tr>\n",
        "  </tbody>\n",
        "</table>\n",
        "</div>"
       ],
       "metadata": {},
       "output_type": "pyout",
       "prompt_number": 187,
       "text": [
        "       a  b  c  d\n",
        "three  1  2  3  0\n",
        "one    5  6  7  4"
       ]
      }
     ],
     "prompt_number": 187
    },
    {
     "cell_type": "code",
     "collapsed": false,
     "input": [
      "frame.sort_index(axis=1, ascending=False) # \ub0b4\ub9bc\ucc28\uc21c \uc815\ub82c"
     ],
     "language": "python",
     "metadata": {},
     "outputs": [
      {
       "html": [
        "<div style=\"max-width:1500px;overflow:auto;\">\n",
        "<table border=\"1\" class=\"dataframe\">\n",
        "  <thead>\n",
        "    <tr style=\"text-align: right;\">\n",
        "      <th></th>\n",
        "      <th>d</th>\n",
        "      <th>c</th>\n",
        "      <th>b</th>\n",
        "      <th>a</th>\n",
        "    </tr>\n",
        "  </thead>\n",
        "  <tbody>\n",
        "    <tr>\n",
        "      <th>three</th>\n",
        "      <td>0</td>\n",
        "      <td>3</td>\n",
        "      <td>2</td>\n",
        "      <td>1</td>\n",
        "    </tr>\n",
        "    <tr>\n",
        "      <th>one</th>\n",
        "      <td>4</td>\n",
        "      <td>7</td>\n",
        "      <td>6</td>\n",
        "      <td>5</td>\n",
        "    </tr>\n",
        "  </tbody>\n",
        "</table>\n",
        "</div>"
       ],
       "metadata": {},
       "output_type": "pyout",
       "prompt_number": 188,
       "text": [
        "       d  c  b  a\n",
        "three  0  3  2  1\n",
        "one    4  7  6  5"
       ]
      }
     ],
     "prompt_number": 188
    },
    {
     "cell_type": "code",
     "collapsed": false,
     "input": [
      "obj = Series([4,7,-3,2])"
     ],
     "language": "python",
     "metadata": {},
     "outputs": [],
     "prompt_number": 189
    },
    {
     "cell_type": "code",
     "collapsed": false,
     "input": [
      "obj.order() # Series \uac1d\uccb4 \uc815\ub82c"
     ],
     "language": "python",
     "metadata": {},
     "outputs": [
      {
       "metadata": {},
       "output_type": "pyout",
       "prompt_number": 190,
       "text": [
        "2   -3\n",
        "3    2\n",
        "0    4\n",
        "1    7\n",
        "dtype: int64"
       ]
      }
     ],
     "prompt_number": 190
    },
    {
     "cell_type": "code",
     "collapsed": false,
     "input": [
      "frame = DataFrame({'b' : [4,7,-3,2], 'a' : [0,1,0,1]})"
     ],
     "language": "python",
     "metadata": {},
     "outputs": [],
     "prompt_number": 191
    },
    {
     "cell_type": "code",
     "collapsed": false,
     "input": [
      "frame.sort_index(by='b') # dataframe \uac1d\uccb4 \uc815\ub82c"
     ],
     "language": "python",
     "metadata": {},
     "outputs": [
      {
       "html": [
        "<div style=\"max-width:1500px;overflow:auto;\">\n",
        "<table border=\"1\" class=\"dataframe\">\n",
        "  <thead>\n",
        "    <tr style=\"text-align: right;\">\n",
        "      <th></th>\n",
        "      <th>a</th>\n",
        "      <th>b</th>\n",
        "    </tr>\n",
        "  </thead>\n",
        "  <tbody>\n",
        "    <tr>\n",
        "      <th>2</th>\n",
        "      <td>0</td>\n",
        "      <td>-3</td>\n",
        "    </tr>\n",
        "    <tr>\n",
        "      <th>3</th>\n",
        "      <td>1</td>\n",
        "      <td>2</td>\n",
        "    </tr>\n",
        "    <tr>\n",
        "      <th>0</th>\n",
        "      <td>0</td>\n",
        "      <td>4</td>\n",
        "    </tr>\n",
        "    <tr>\n",
        "      <th>1</th>\n",
        "      <td>1</td>\n",
        "      <td>7</td>\n",
        "    </tr>\n",
        "  </tbody>\n",
        "</table>\n",
        "</div>"
       ],
       "metadata": {},
       "output_type": "pyout",
       "prompt_number": 192,
       "text": [
        "   a  b\n",
        "2  0 -3\n",
        "3  1  2\n",
        "0  0  4\n",
        "1  1  7"
       ]
      }
     ],
     "prompt_number": 192
    },
    {
     "cell_type": "code",
     "collapsed": false,
     "input": [
      "frame.sort_index(by = ['a','b']) # \uc5ec\ub7ec\uac1c \uceec\ub7fc \uc815\ub82c"
     ],
     "language": "python",
     "metadata": {},
     "outputs": [
      {
       "html": [
        "<div style=\"max-width:1500px;overflow:auto;\">\n",
        "<table border=\"1\" class=\"dataframe\">\n",
        "  <thead>\n",
        "    <tr style=\"text-align: right;\">\n",
        "      <th></th>\n",
        "      <th>a</th>\n",
        "      <th>b</th>\n",
        "    </tr>\n",
        "  </thead>\n",
        "  <tbody>\n",
        "    <tr>\n",
        "      <th>2</th>\n",
        "      <td>0</td>\n",
        "      <td>-3</td>\n",
        "    </tr>\n",
        "    <tr>\n",
        "      <th>0</th>\n",
        "      <td>0</td>\n",
        "      <td>4</td>\n",
        "    </tr>\n",
        "    <tr>\n",
        "      <th>3</th>\n",
        "      <td>1</td>\n",
        "      <td>2</td>\n",
        "    </tr>\n",
        "    <tr>\n",
        "      <th>1</th>\n",
        "      <td>1</td>\n",
        "      <td>7</td>\n",
        "    </tr>\n",
        "  </tbody>\n",
        "</table>\n",
        "</div>"
       ],
       "metadata": {},
       "output_type": "pyout",
       "prompt_number": 193,
       "text": [
        "   a  b\n",
        "2  0 -3\n",
        "0  0  4\n",
        "3  1  2\n",
        "1  1  7"
       ]
      }
     ],
     "prompt_number": 193
    },
    {
     "cell_type": "code",
     "collapsed": false,
     "input": [
      "obj = Series([7,-5,7,4,2,0,4])\n",
      "obj.rank() # Series \uc758 \uc21c\uc704 \ub9e4\uae30\uae30(\ub3d9 \uc21c\uc704\uc5d0 \ub300\ud574\uc120 \ud3c9\uade0 \uc21c\uc704)"
     ],
     "language": "python",
     "metadata": {},
     "outputs": [
      {
       "metadata": {},
       "output_type": "pyout",
       "prompt_number": 195,
       "text": [
        "0    6.5\n",
        "1    1.0\n",
        "2    6.5\n",
        "3    4.5\n",
        "4    3.0\n",
        "5    2.0\n",
        "6    4.5\n",
        "dtype: float64"
       ]
      }
     ],
     "prompt_number": 195
    },
    {
     "cell_type": "code",
     "collapsed": false,
     "input": [
      "obj.rank(method='first') # \ub370\uc774\ud130 \uc0c1\uc758 \ub098\ud0c0\ub098\ub294 \uc21c\uc11c\uc5d0 \ub530\ub77c"
     ],
     "language": "python",
     "metadata": {},
     "outputs": [
      {
       "metadata": {},
       "output_type": "pyout",
       "prompt_number": 196,
       "text": [
        "0    6\n",
        "1    1\n",
        "2    7\n",
        "3    4\n",
        "4    3\n",
        "5    2\n",
        "6    5\n",
        "dtype: float64"
       ]
      }
     ],
     "prompt_number": 196
    },
    {
     "cell_type": "code",
     "collapsed": false,
     "input": [
      "obj.rank(ascending=False, method='max') # \uc21c\uc704 \ucd5c\ub300\uac12\uc73c\ub85c \ub0b4\ub9bc\ucc28\uc21c"
     ],
     "language": "python",
     "metadata": {},
     "outputs": [
      {
       "metadata": {},
       "output_type": "pyout",
       "prompt_number": 197,
       "text": [
        "0    2\n",
        "1    7\n",
        "2    2\n",
        "3    4\n",
        "4    5\n",
        "5    6\n",
        "6    4\n",
        "dtype: float64"
       ]
      }
     ],
     "prompt_number": 197
    },
    {
     "cell_type": "code",
     "collapsed": false,
     "input": [
      "frame = DataFrame({'b':[4.3,7,-3,2], 'a': [0,1,0,1], 'c': [-2,5,8,-2.5]})\n",
      "frame.rank(axis=1) # data frame\uc758 rank"
     ],
     "language": "python",
     "metadata": {},
     "outputs": [
      {
       "html": [
        "<div style=\"max-width:1500px;overflow:auto;\">\n",
        "<table border=\"1\" class=\"dataframe\">\n",
        "  <thead>\n",
        "    <tr style=\"text-align: right;\">\n",
        "      <th></th>\n",
        "      <th>a</th>\n",
        "      <th>b</th>\n",
        "      <th>c</th>\n",
        "    </tr>\n",
        "  </thead>\n",
        "  <tbody>\n",
        "    <tr>\n",
        "      <th>0</th>\n",
        "      <td>2</td>\n",
        "      <td>3</td>\n",
        "      <td>1</td>\n",
        "    </tr>\n",
        "    <tr>\n",
        "      <th>1</th>\n",
        "      <td>1</td>\n",
        "      <td>3</td>\n",
        "      <td>2</td>\n",
        "    </tr>\n",
        "    <tr>\n",
        "      <th>2</th>\n",
        "      <td>2</td>\n",
        "      <td>1</td>\n",
        "      <td>3</td>\n",
        "    </tr>\n",
        "    <tr>\n",
        "      <th>3</th>\n",
        "      <td>2</td>\n",
        "      <td>3</td>\n",
        "      <td>1</td>\n",
        "    </tr>\n",
        "  </tbody>\n",
        "</table>\n",
        "</div>"
       ],
       "metadata": {},
       "output_type": "pyout",
       "prompt_number": 200,
       "text": [
        "   a  b  c\n",
        "0  2  3  1\n",
        "1  1  3  2\n",
        "2  2  1  3\n",
        "3  2  3  1"
       ]
      }
     ],
     "prompt_number": 200
    },
    {
     "cell_type": "heading",
     "level": 3,
     "metadata": {},
     "source": [
      "2.7 \uc911\ubcf5 \uc0c9\uc778"
     ]
    },
    {
     "cell_type": "code",
     "collapsed": false,
     "input": [
      "obj = Series(range(5), index = ['a','a','b','b','c'])\n",
      "obj"
     ],
     "language": "python",
     "metadata": {},
     "outputs": [
      {
       "metadata": {},
       "output_type": "pyout",
       "prompt_number": 201,
       "text": [
        "a    0\n",
        "a    1\n",
        "b    2\n",
        "b    3\n",
        "c    4\n",
        "dtype: int64"
       ]
      }
     ],
     "prompt_number": 201
    },
    {
     "cell_type": "code",
     "collapsed": false,
     "input": [
      "obj.index.is_unique # index\uc758 \uac12\uc774 \uc720\uc77c\ud55c\uc9c0 \uc5ec\ubd80"
     ],
     "language": "python",
     "metadata": {},
     "outputs": [
      {
       "metadata": {},
       "output_type": "pyout",
       "prompt_number": 202,
       "text": [
        "False"
       ]
      }
     ],
     "prompt_number": 202
    },
    {
     "cell_type": "code",
     "collapsed": false,
     "input": [
      "obj['a'] # \uc911\ubcf5\ub41c \uc0c9\uc778 \uac12\uc5d0 \ub300\ud55c \ucd9c\ub825"
     ],
     "language": "python",
     "metadata": {},
     "outputs": [
      {
       "metadata": {},
       "output_type": "pyout",
       "prompt_number": 203,
       "text": [
        "a    0\n",
        "a    1\n",
        "dtype: int64"
       ]
      }
     ],
     "prompt_number": 203
    },
    {
     "cell_type": "code",
     "collapsed": false,
     "input": [
      "df = DataFrame(np.random.randn(4,3), index = ['a','a','b','b'])\n",
      "df"
     ],
     "language": "python",
     "metadata": {},
     "outputs": [
      {
       "html": [
        "<div style=\"max-width:1500px;overflow:auto;\">\n",
        "<table border=\"1\" class=\"dataframe\">\n",
        "  <thead>\n",
        "    <tr style=\"text-align: right;\">\n",
        "      <th></th>\n",
        "      <th>0</th>\n",
        "      <th>1</th>\n",
        "      <th>2</th>\n",
        "    </tr>\n",
        "  </thead>\n",
        "  <tbody>\n",
        "    <tr>\n",
        "      <th>a</th>\n",
        "      <td>0.746367</td>\n",
        "      <td>1.782712</td>\n",
        "      <td>-0.677888</td>\n",
        "    </tr>\n",
        "    <tr>\n",
        "      <th>a</th>\n",
        "      <td>-0.349522</td>\n",
        "      <td>-0.738390</td>\n",
        "      <td>-0.327309</td>\n",
        "    </tr>\n",
        "    <tr>\n",
        "      <th>b</th>\n",
        "      <td>-0.948883</td>\n",
        "      <td>0.292543</td>\n",
        "      <td>-0.836895</td>\n",
        "    </tr>\n",
        "    <tr>\n",
        "      <th>b</th>\n",
        "      <td>1.246464</td>\n",
        "      <td>0.377045</td>\n",
        "      <td>-0.987614</td>\n",
        "    </tr>\n",
        "  </tbody>\n",
        "</table>\n",
        "</div>"
       ],
       "metadata": {},
       "output_type": "pyout",
       "prompt_number": 204,
       "text": [
        "          0         1         2\n",
        "a  0.746367  1.782712 -0.677888\n",
        "a -0.349522 -0.738390 -0.327309\n",
        "b -0.948883  0.292543 -0.836895\n",
        "b  1.246464  0.377045 -0.987614"
       ]
      }
     ],
     "prompt_number": 204
    },
    {
     "cell_type": "code",
     "collapsed": false,
     "input": [
      "df.ix['b'] # dataframe\uc5d0\uc11c\uc758 \uc911\ubcf5 \uc0c9\uc778 \uac12 \ucd9c\ub825"
     ],
     "language": "python",
     "metadata": {},
     "outputs": [
      {
       "html": [
        "<div style=\"max-width:1500px;overflow:auto;\">\n",
        "<table border=\"1\" class=\"dataframe\">\n",
        "  <thead>\n",
        "    <tr style=\"text-align: right;\">\n",
        "      <th></th>\n",
        "      <th>0</th>\n",
        "      <th>1</th>\n",
        "      <th>2</th>\n",
        "    </tr>\n",
        "  </thead>\n",
        "  <tbody>\n",
        "    <tr>\n",
        "      <th>b</th>\n",
        "      <td>-0.948883</td>\n",
        "      <td>0.292543</td>\n",
        "      <td>-0.836895</td>\n",
        "    </tr>\n",
        "    <tr>\n",
        "      <th>b</th>\n",
        "      <td>1.246464</td>\n",
        "      <td>0.377045</td>\n",
        "      <td>-0.987614</td>\n",
        "    </tr>\n",
        "  </tbody>\n",
        "</table>\n",
        "</div>"
       ],
       "metadata": {},
       "output_type": "pyout",
       "prompt_number": 205,
       "text": [
        "          0         1         2\n",
        "b -0.948883  0.292543 -0.836895\n",
        "b  1.246464  0.377045 -0.987614"
       ]
      }
     ],
     "prompt_number": 205
    },
    {
     "cell_type": "heading",
     "level": 1,
     "metadata": {},
     "source": [
      "3. \uae30\uc220\ud1b5\uacc4 \uacc4\uc0b0\uacfc \uc694\uc57d"
     ]
    },
    {
     "cell_type": "code",
     "collapsed": false,
     "input": [
      "df = DataFrame([[1.4, np.nan], [7.1, -4.5], [np.nan, np.nan], [0.75, -1.3]], index = ['a','b','c','d'], columns = ['one','two'])"
     ],
     "language": "python",
     "metadata": {},
     "outputs": [],
     "prompt_number": 206
    },
    {
     "cell_type": "code",
     "collapsed": false,
     "input": [
      "df"
     ],
     "language": "python",
     "metadata": {},
     "outputs": [
      {
       "html": [
        "<div style=\"max-width:1500px;overflow:auto;\">\n",
        "<table border=\"1\" class=\"dataframe\">\n",
        "  <thead>\n",
        "    <tr style=\"text-align: right;\">\n",
        "      <th></th>\n",
        "      <th>one</th>\n",
        "      <th>two</th>\n",
        "    </tr>\n",
        "  </thead>\n",
        "  <tbody>\n",
        "    <tr>\n",
        "      <th>a</th>\n",
        "      <td>1.40</td>\n",
        "      <td>NaN</td>\n",
        "    </tr>\n",
        "    <tr>\n",
        "      <th>b</th>\n",
        "      <td>7.10</td>\n",
        "      <td>-4.5</td>\n",
        "    </tr>\n",
        "    <tr>\n",
        "      <th>c</th>\n",
        "      <td>NaN</td>\n",
        "      <td>NaN</td>\n",
        "    </tr>\n",
        "    <tr>\n",
        "      <th>d</th>\n",
        "      <td>0.75</td>\n",
        "      <td>-1.3</td>\n",
        "    </tr>\n",
        "  </tbody>\n",
        "</table>\n",
        "</div>"
       ],
       "metadata": {},
       "output_type": "pyout",
       "prompt_number": 207,
       "text": [
        "    one  two\n",
        "a  1.40  NaN\n",
        "b  7.10 -4.5\n",
        "c   NaN  NaN\n",
        "d  0.75 -1.3"
       ]
      }
     ],
     "prompt_number": 207
    },
    {
     "cell_type": "code",
     "collapsed": false,
     "input": [
      "df.sum() # column \ud569"
     ],
     "language": "python",
     "metadata": {},
     "outputs": [
      {
       "metadata": {},
       "output_type": "pyout",
       "prompt_number": 208,
       "text": [
        "one    9.25\n",
        "two   -5.80\n",
        "dtype: float64"
       ]
      }
     ],
     "prompt_number": 208
    },
    {
     "cell_type": "code",
     "collapsed": false,
     "input": [
      "df.sum(axis=1) # row \ud569"
     ],
     "language": "python",
     "metadata": {},
     "outputs": [
      {
       "metadata": {},
       "output_type": "pyout",
       "prompt_number": 209,
       "text": [
        "a    1.40\n",
        "b    2.60\n",
        "c    0.00\n",
        "d   -0.55\n",
        "dtype: float64"
       ]
      }
     ],
     "prompt_number": 209
    },
    {
     "cell_type": "code",
     "collapsed": false,
     "input": [
      "df.mean(axis=1, skipna=False) # NA \uc81c\uc678 \ud6c4 \uacc4\uc0b0"
     ],
     "language": "python",
     "metadata": {},
     "outputs": [
      {
       "metadata": {},
       "output_type": "pyout",
       "prompt_number": 210,
       "text": [
        "a      NaN\n",
        "b    1.300\n",
        "c      NaN\n",
        "d   -0.275\n",
        "dtype: float64"
       ]
      }
     ],
     "prompt_number": 210
    },
    {
     "cell_type": "code",
     "collapsed": false,
     "input": [
      "df.idxmax() # \ucd5c\ub300\uac12\uc744 \uac00\uc9c4 index \ubc18\ud658"
     ],
     "language": "python",
     "metadata": {},
     "outputs": [
      {
       "metadata": {},
       "output_type": "pyout",
       "prompt_number": 211,
       "text": [
        "one    b\n",
        "two    d\n",
        "dtype: object"
       ]
      }
     ],
     "prompt_number": 211
    },
    {
     "cell_type": "code",
     "collapsed": false,
     "input": [
      "df.cumsum() # column \ub204\uc801 \uacc4\uc0b0"
     ],
     "language": "python",
     "metadata": {},
     "outputs": [
      {
       "html": [
        "<div style=\"max-width:1500px;overflow:auto;\">\n",
        "<table border=\"1\" class=\"dataframe\">\n",
        "  <thead>\n",
        "    <tr style=\"text-align: right;\">\n",
        "      <th></th>\n",
        "      <th>one</th>\n",
        "      <th>two</th>\n",
        "    </tr>\n",
        "  </thead>\n",
        "  <tbody>\n",
        "    <tr>\n",
        "      <th>a</th>\n",
        "      <td>1.40</td>\n",
        "      <td>NaN</td>\n",
        "    </tr>\n",
        "    <tr>\n",
        "      <th>b</th>\n",
        "      <td>8.50</td>\n",
        "      <td>-4.5</td>\n",
        "    </tr>\n",
        "    <tr>\n",
        "      <th>c</th>\n",
        "      <td>NaN</td>\n",
        "      <td>NaN</td>\n",
        "    </tr>\n",
        "    <tr>\n",
        "      <th>d</th>\n",
        "      <td>9.25</td>\n",
        "      <td>-5.8</td>\n",
        "    </tr>\n",
        "  </tbody>\n",
        "</table>\n",
        "</div>"
       ],
       "metadata": {},
       "output_type": "pyout",
       "prompt_number": 212,
       "text": [
        "    one  two\n",
        "a  1.40  NaN\n",
        "b  8.50 -4.5\n",
        "c   NaN  NaN\n",
        "d  9.25 -5.8"
       ]
      }
     ],
     "prompt_number": 212
    },
    {
     "cell_type": "code",
     "collapsed": false,
     "input": [
      "df.describe() # df\uc758 \uae30\ubcf8\ud1b5\uacc4\ub7c9 \uacc4\uc0b0"
     ],
     "language": "python",
     "metadata": {},
     "outputs": [
      {
       "html": [
        "<div style=\"max-width:1500px;overflow:auto;\">\n",
        "<table border=\"1\" class=\"dataframe\">\n",
        "  <thead>\n",
        "    <tr style=\"text-align: right;\">\n",
        "      <th></th>\n",
        "      <th>one</th>\n",
        "      <th>two</th>\n",
        "    </tr>\n",
        "  </thead>\n",
        "  <tbody>\n",
        "    <tr>\n",
        "      <th>count</th>\n",
        "      <td>3.000000</td>\n",
        "      <td>2.000000</td>\n",
        "    </tr>\n",
        "    <tr>\n",
        "      <th>mean</th>\n",
        "      <td>3.083333</td>\n",
        "      <td>-2.900000</td>\n",
        "    </tr>\n",
        "    <tr>\n",
        "      <th>std</th>\n",
        "      <td>3.493685</td>\n",
        "      <td>2.262742</td>\n",
        "    </tr>\n",
        "    <tr>\n",
        "      <th>min</th>\n",
        "      <td>0.750000</td>\n",
        "      <td>-4.500000</td>\n",
        "    </tr>\n",
        "    <tr>\n",
        "      <th>25%</th>\n",
        "      <td>1.075000</td>\n",
        "      <td>-3.700000</td>\n",
        "    </tr>\n",
        "    <tr>\n",
        "      <th>50%</th>\n",
        "      <td>1.400000</td>\n",
        "      <td>-2.900000</td>\n",
        "    </tr>\n",
        "    <tr>\n",
        "      <th>75%</th>\n",
        "      <td>4.250000</td>\n",
        "      <td>-2.100000</td>\n",
        "    </tr>\n",
        "    <tr>\n",
        "      <th>max</th>\n",
        "      <td>7.100000</td>\n",
        "      <td>-1.300000</td>\n",
        "    </tr>\n",
        "  </tbody>\n",
        "</table>\n",
        "</div>"
       ],
       "metadata": {},
       "output_type": "pyout",
       "prompt_number": 213,
       "text": [
        "            one       two\n",
        "count  3.000000  2.000000\n",
        "mean   3.083333 -2.900000\n",
        "std    3.493685  2.262742\n",
        "min    0.750000 -4.500000\n",
        "25%    1.075000 -3.700000\n",
        "50%    1.400000 -2.900000\n",
        "75%    4.250000 -2.100000\n",
        "max    7.100000 -1.300000"
       ]
      }
     ],
     "prompt_number": 213
    },
    {
     "cell_type": "code",
     "collapsed": false,
     "input": [
      "obj = Series(['a','a','b','c'] * 4)\n",
      "obj.describe()"
     ],
     "language": "python",
     "metadata": {},
     "outputs": [
      {
       "metadata": {},
       "output_type": "pyout",
       "prompt_number": 214,
       "text": [
        "count     16\n",
        "unique     3\n",
        "top        a\n",
        "freq       8\n",
        "dtype: object"
       ]
      }
     ],
     "prompt_number": 214
    },
    {
     "cell_type": "heading",
     "level": 3,
     "metadata": {},
     "source": [
      "3.1 \uc0c1\uad00\uad00\uacc4\uc640 \uacf5\ubd84\uc0b0"
     ]
    },
    {
     "cell_type": "code",
     "collapsed": false,
     "input": [
      "import pandas.io.data as web\n",
      "\n",
      "all_data = {}\n",
      "for ticker in ['AAPL', 'IBM', 'MSFT', 'A']:\n",
      "    all_data[ticker] = web.get_data_yahoo(ticker, '1/1/2000', '1/1/2010')"
     ],
     "language": "python",
     "metadata": {},
     "outputs": [],
     "prompt_number": 218
    },
    {
     "cell_type": "code",
     "collapsed": false,
     "input": [
      "price = DataFrame({tic: data['Adj Close'] for tic, data in all_data.iteritems()})\n",
      "volumne = DataFrame({tic: data['Volume'] for tic, data in all_data.iteritems()})"
     ],
     "language": "python",
     "metadata": {},
     "outputs": [],
     "prompt_number": 220
    },
    {
     "cell_type": "code",
     "collapsed": false,
     "input": [
      "returns = price.pct_change() # \ud37c\uc13c\ud2b8 \ubcc0\ud654\uc728 \uacc4\uc0b0"
     ],
     "language": "python",
     "metadata": {},
     "outputs": [],
     "prompt_number": 221
    },
    {
     "cell_type": "code",
     "collapsed": false,
     "input": [
      "returns.tail()"
     ],
     "language": "python",
     "metadata": {},
     "outputs": [
      {
       "html": [
        "<div style=\"max-width:1500px;overflow:auto;\">\n",
        "<table border=\"1\" class=\"dataframe\">\n",
        "  <thead>\n",
        "    <tr style=\"text-align: right;\">\n",
        "      <th></th>\n",
        "      <th>A</th>\n",
        "      <th>AAPL</th>\n",
        "      <th>IBM</th>\n",
        "      <th>MSFT</th>\n",
        "    </tr>\n",
        "    <tr>\n",
        "      <th>Date</th>\n",
        "      <th></th>\n",
        "      <th></th>\n",
        "      <th></th>\n",
        "      <th></th>\n",
        "    </tr>\n",
        "  </thead>\n",
        "  <tbody>\n",
        "    <tr>\n",
        "      <th>2009-12-24</th>\n",
        "      <td>0.000990</td>\n",
        "      <td>0.034339</td>\n",
        "      <td>0.004385</td>\n",
        "      <td>0.002587</td>\n",
        "    </tr>\n",
        "    <tr>\n",
        "      <th>2009-12-28</th>\n",
        "      <td>0.002308</td>\n",
        "      <td>0.012294</td>\n",
        "      <td>0.013326</td>\n",
        "      <td>0.005484</td>\n",
        "    </tr>\n",
        "    <tr>\n",
        "      <th>2009-12-29</th>\n",
        "      <td>-0.002303</td>\n",
        "      <td>-0.011861</td>\n",
        "      <td>-0.003477</td>\n",
        "      <td>0.007058</td>\n",
        "    </tr>\n",
        "    <tr>\n",
        "      <th>2009-12-30</th>\n",
        "      <td>0.025388</td>\n",
        "      <td>0.012147</td>\n",
        "      <td>0.005461</td>\n",
        "      <td>-0.013699</td>\n",
        "    </tr>\n",
        "    <tr>\n",
        "      <th>2009-12-31</th>\n",
        "      <td>-0.000965</td>\n",
        "      <td>-0.004300</td>\n",
        "      <td>-0.012597</td>\n",
        "      <td>-0.015504</td>\n",
        "    </tr>\n",
        "  </tbody>\n",
        "</table>\n",
        "</div>"
       ],
       "metadata": {},
       "output_type": "pyout",
       "prompt_number": 222,
       "text": [
        "                   A      AAPL       IBM      MSFT\n",
        "Date                                              \n",
        "2009-12-24  0.000990  0.034339  0.004385  0.002587\n",
        "2009-12-28  0.002308  0.012294  0.013326  0.005484\n",
        "2009-12-29 -0.002303 -0.011861 -0.003477  0.007058\n",
        "2009-12-30  0.025388  0.012147  0.005461 -0.013699\n",
        "2009-12-31 -0.000965 -0.004300 -0.012597 -0.015504"
       ]
      }
     ],
     "prompt_number": 222
    },
    {
     "cell_type": "code",
     "collapsed": false,
     "input": [
      "returns.MSFT.corr(returns.IBM) # \uc0c1\uad00\uad00\uacc4"
     ],
     "language": "python",
     "metadata": {},
     "outputs": [
      {
       "metadata": {},
       "output_type": "pyout",
       "prompt_number": 223,
       "text": [
        "0.4959796934744839"
       ]
      }
     ],
     "prompt_number": 223
    },
    {
     "cell_type": "code",
     "collapsed": false,
     "input": [
      "returns.MSFT.cov(returns.IBM) # \uacf5\ubd84\uc0b0"
     ],
     "language": "python",
     "metadata": {},
     "outputs": [
      {
       "metadata": {},
       "output_type": "pyout",
       "prompt_number": 224,
       "text": [
        "0.00021595764518338303"
       ]
      }
     ],
     "prompt_number": 224
    },
    {
     "cell_type": "code",
     "collapsed": false,
     "input": [
      "returns.corr()"
     ],
     "language": "python",
     "metadata": {},
     "outputs": [
      {
       "html": [
        "<div style=\"max-width:1500px;overflow:auto;\">\n",
        "<table border=\"1\" class=\"dataframe\">\n",
        "  <thead>\n",
        "    <tr style=\"text-align: right;\">\n",
        "      <th></th>\n",
        "      <th>A</th>\n",
        "      <th>AAPL</th>\n",
        "      <th>IBM</th>\n",
        "      <th>MSFT</th>\n",
        "    </tr>\n",
        "  </thead>\n",
        "  <tbody>\n",
        "    <tr>\n",
        "      <th>A</th>\n",
        "      <td>1.000000</td>\n",
        "      <td>0.348892</td>\n",
        "      <td>0.366040</td>\n",
        "      <td>0.389510</td>\n",
        "    </tr>\n",
        "    <tr>\n",
        "      <th>AAPL</th>\n",
        "      <td>0.348892</td>\n",
        "      <td>1.000000</td>\n",
        "      <td>0.410011</td>\n",
        "      <td>0.424305</td>\n",
        "    </tr>\n",
        "    <tr>\n",
        "      <th>IBM</th>\n",
        "      <td>0.366040</td>\n",
        "      <td>0.410011</td>\n",
        "      <td>1.000000</td>\n",
        "      <td>0.495980</td>\n",
        "    </tr>\n",
        "    <tr>\n",
        "      <th>MSFT</th>\n",
        "      <td>0.389510</td>\n",
        "      <td>0.424305</td>\n",
        "      <td>0.495980</td>\n",
        "      <td>1.000000</td>\n",
        "    </tr>\n",
        "  </tbody>\n",
        "</table>\n",
        "</div>"
       ],
       "metadata": {},
       "output_type": "pyout",
       "prompt_number": 225,
       "text": [
        "             A      AAPL       IBM      MSFT\n",
        "A     1.000000  0.348892  0.366040  0.389510\n",
        "AAPL  0.348892  1.000000  0.410011  0.424305\n",
        "IBM   0.366040  0.410011  1.000000  0.495980\n",
        "MSFT  0.389510  0.424305  0.495980  1.000000"
       ]
      }
     ],
     "prompt_number": 225
    },
    {
     "cell_type": "code",
     "collapsed": false,
     "input": [
      "returns.corrwith(returns.IBM)"
     ],
     "language": "python",
     "metadata": {},
     "outputs": [
      {
       "metadata": {},
       "output_type": "pyout",
       "prompt_number": 226,
       "text": [
        "A       0.366040\n",
        "AAPL    0.410011\n",
        "IBM     1.000000\n",
        "MSFT    0.495980\n",
        "dtype: float64"
       ]
      }
     ],
     "prompt_number": 226
    },
    {
     "cell_type": "code",
     "collapsed": false,
     "input": [
      "returns.corrwith(volumne)"
     ],
     "language": "python",
     "metadata": {},
     "outputs": [
      {
       "metadata": {},
       "output_type": "pyout",
       "prompt_number": 230,
       "text": [
        "A       0.041991\n",
        "AAPL   -0.057549\n",
        "IBM    -0.007892\n",
        "MSFT   -0.014245\n",
        "dtype: float64"
       ]
      }
     ],
     "prompt_number": 230
    },
    {
     "cell_type": "heading",
     "level": 3,
     "metadata": {},
     "source": [
      "3.2 \uc720\uc77c\uac12, \uac12\uc138\uae30, \uba64\ubc84\uc2ed"
     ]
    },
    {
     "cell_type": "code",
     "collapsed": false,
     "input": [
      "obj = Series(['c','a','d','a','a','b','b','c','c'])"
     ],
     "language": "python",
     "metadata": {},
     "outputs": [],
     "prompt_number": 231
    },
    {
     "cell_type": "code",
     "collapsed": false,
     "input": [
      "uniques = obj.unique() # \uc720\uc77c\uac12\n",
      "uniques"
     ],
     "language": "python",
     "metadata": {},
     "outputs": [
      {
       "metadata": {},
       "output_type": "pyout",
       "prompt_number": 232,
       "text": [
        "array(['c', 'a', 'd', 'b'], dtype=object)"
       ]
      }
     ],
     "prompt_number": 232
    },
    {
     "cell_type": "code",
     "collapsed": false,
     "input": [
      "obj.value_counts() # \ub3c4\uc218\ubd84\ud3ec \uacc4\uc0b0"
     ],
     "language": "python",
     "metadata": {},
     "outputs": [
      {
       "metadata": {},
       "output_type": "pyout",
       "prompt_number": 233,
       "text": [
        "c    3\n",
        "a    3\n",
        "b    2\n",
        "d    1\n",
        "dtype: int64"
       ]
      }
     ],
     "prompt_number": 233
    },
    {
     "cell_type": "code",
     "collapsed": false,
     "input": [
      "pd.value_counts(obj.values, sort=False) # pandas \ud328\ud0a4\uc9c0\ub97c \ud1b5\ud55c \uc811\uadfc\ub3c4 \uac00\ub2a5."
     ],
     "language": "python",
     "metadata": {},
     "outputs": [
      {
       "metadata": {},
       "output_type": "pyout",
       "prompt_number": 234,
       "text": [
        "a    3\n",
        "c    3\n",
        "b    2\n",
        "d    1\n",
        "dtype: int64"
       ]
      }
     ],
     "prompt_number": 234
    },
    {
     "cell_type": "code",
     "collapsed": false,
     "input": [
      "mask = obj.isin(['b','c']) # b,c \uac00 \ud574\ub2f9 series\uc5d0 \uc788\ub294\uc9c0 boolean \uac12\uc73c\ub85c \ubc18\ud658"
     ],
     "language": "python",
     "metadata": {},
     "outputs": [],
     "prompt_number": 235
    },
    {
     "cell_type": "code",
     "collapsed": false,
     "input": [
      "mask"
     ],
     "language": "python",
     "metadata": {},
     "outputs": [
      {
       "metadata": {},
       "output_type": "pyout",
       "prompt_number": 236,
       "text": [
        "0     True\n",
        "1    False\n",
        "2    False\n",
        "3    False\n",
        "4    False\n",
        "5     True\n",
        "6     True\n",
        "7     True\n",
        "8     True\n",
        "dtype: bool"
       ]
      }
     ],
     "prompt_number": 236
    },
    {
     "cell_type": "code",
     "collapsed": false,
     "input": [
      "data = DataFrame({'Qu1' : [1,3,4,3,4], 'Qu2' : [2,3,1,2,3], 'Qu3' : [1,5,2,4,4]})"
     ],
     "language": "python",
     "metadata": {},
     "outputs": [],
     "prompt_number": 237
    },
    {
     "cell_type": "code",
     "collapsed": false,
     "input": [
      "data"
     ],
     "language": "python",
     "metadata": {},
     "outputs": [
      {
       "html": [
        "<div style=\"max-width:1500px;overflow:auto;\">\n",
        "<table border=\"1\" class=\"dataframe\">\n",
        "  <thead>\n",
        "    <tr style=\"text-align: right;\">\n",
        "      <th></th>\n",
        "      <th>Qu1</th>\n",
        "      <th>Qu2</th>\n",
        "      <th>Qu3</th>\n",
        "    </tr>\n",
        "  </thead>\n",
        "  <tbody>\n",
        "    <tr>\n",
        "      <th>0</th>\n",
        "      <td>1</td>\n",
        "      <td>2</td>\n",
        "      <td>1</td>\n",
        "    </tr>\n",
        "    <tr>\n",
        "      <th>1</th>\n",
        "      <td>3</td>\n",
        "      <td>3</td>\n",
        "      <td>5</td>\n",
        "    </tr>\n",
        "    <tr>\n",
        "      <th>2</th>\n",
        "      <td>4</td>\n",
        "      <td>1</td>\n",
        "      <td>2</td>\n",
        "    </tr>\n",
        "    <tr>\n",
        "      <th>3</th>\n",
        "      <td>3</td>\n",
        "      <td>2</td>\n",
        "      <td>4</td>\n",
        "    </tr>\n",
        "    <tr>\n",
        "      <th>4</th>\n",
        "      <td>4</td>\n",
        "      <td>3</td>\n",
        "      <td>4</td>\n",
        "    </tr>\n",
        "  </tbody>\n",
        "</table>\n",
        "</div>"
       ],
       "metadata": {},
       "output_type": "pyout",
       "prompt_number": 240,
       "text": [
        "   Qu1  Qu2  Qu3\n",
        "0    1    2    1\n",
        "1    3    3    5\n",
        "2    4    1    2\n",
        "3    3    2    4\n",
        "4    4    3    4"
       ]
      }
     ],
     "prompt_number": 240
    },
    {
     "cell_type": "code",
     "collapsed": false,
     "input": [
      "result = data.apply(pd.value_counts).fillna(0) # dataframe\uc758 \ud788\uc2a4\ud1a0\uadf8\ub7a8\uc744 \uadf8\ub9ac\uae30 \uc704\ud55c \uc791\uc5c5"
     ],
     "language": "python",
     "metadata": {},
     "outputs": [],
     "prompt_number": 238
    },
    {
     "cell_type": "code",
     "collapsed": false,
     "input": [
      "result"
     ],
     "language": "python",
     "metadata": {},
     "outputs": [
      {
       "html": [
        "<div style=\"max-width:1500px;overflow:auto;\">\n",
        "<table border=\"1\" class=\"dataframe\">\n",
        "  <thead>\n",
        "    <tr style=\"text-align: right;\">\n",
        "      <th></th>\n",
        "      <th>Qu1</th>\n",
        "      <th>Qu2</th>\n",
        "      <th>Qu3</th>\n",
        "    </tr>\n",
        "  </thead>\n",
        "  <tbody>\n",
        "    <tr>\n",
        "      <th>1</th>\n",
        "      <td>1</td>\n",
        "      <td>1</td>\n",
        "      <td>1</td>\n",
        "    </tr>\n",
        "    <tr>\n",
        "      <th>2</th>\n",
        "      <td>0</td>\n",
        "      <td>2</td>\n",
        "      <td>1</td>\n",
        "    </tr>\n",
        "    <tr>\n",
        "      <th>3</th>\n",
        "      <td>2</td>\n",
        "      <td>2</td>\n",
        "      <td>0</td>\n",
        "    </tr>\n",
        "    <tr>\n",
        "      <th>4</th>\n",
        "      <td>2</td>\n",
        "      <td>0</td>\n",
        "      <td>2</td>\n",
        "    </tr>\n",
        "    <tr>\n",
        "      <th>5</th>\n",
        "      <td>0</td>\n",
        "      <td>0</td>\n",
        "      <td>1</td>\n",
        "    </tr>\n",
        "  </tbody>\n",
        "</table>\n",
        "</div>"
       ],
       "metadata": {},
       "output_type": "pyout",
       "prompt_number": 239,
       "text": [
        "   Qu1  Qu2  Qu3\n",
        "1    1    1    1\n",
        "2    0    2    1\n",
        "3    2    2    0\n",
        "4    2    0    2\n",
        "5    0    0    1"
       ]
      }
     ],
     "prompt_number": 239
    },
    {
     "cell_type": "heading",
     "level": 1,
     "metadata": {},
     "source": [
      "4. \ub204\ub77d\ub41c \ub370\uc774\ud130 \ucc98\ub9ac\ud558\uae30"
     ]
    },
    {
     "cell_type": "code",
     "collapsed": false,
     "input": [
      "string_data = Series(['aardvark', 'artichoke' ,np.nan, 'avocado'])\n",
      "string_data"
     ],
     "language": "python",
     "metadata": {},
     "outputs": [
      {
       "metadata": {},
       "output_type": "pyout",
       "prompt_number": 245,
       "text": [
        "0     aardvark\n",
        "1    artichoke\n",
        "2          NaN\n",
        "3      avocado\n",
        "dtype: object"
       ]
      }
     ],
     "prompt_number": 245
    },
    {
     "cell_type": "code",
     "collapsed": false,
     "input": [
      "string_data.isnull()"
     ],
     "language": "python",
     "metadata": {},
     "outputs": [
      {
       "metadata": {},
       "output_type": "pyout",
       "prompt_number": 242,
       "text": [
        "0    False\n",
        "1    False\n",
        "2     True\n",
        "3    False\n",
        "dtype: bool"
       ]
      }
     ],
     "prompt_number": 242
    },
    {
     "cell_type": "code",
     "collapsed": false,
     "input": [
      "string_data[0] = None # \uc598\ub3c4 \ub204\ub77d\ub41c \ub370\uc774\ud130"
     ],
     "language": "python",
     "metadata": {},
     "outputs": [],
     "prompt_number": 243
    },
    {
     "cell_type": "code",
     "collapsed": false,
     "input": [
      "string_data.isnull()"
     ],
     "language": "python",
     "metadata": {},
     "outputs": [
      {
       "metadata": {},
       "output_type": "pyout",
       "prompt_number": 244,
       "text": [
        "0     True\n",
        "1    False\n",
        "2     True\n",
        "3    False\n",
        "dtype: bool"
       ]
      }
     ],
     "prompt_number": 244
    },
    {
     "cell_type": "heading",
     "level": 3,
     "metadata": {},
     "source": [
      "4.1 \ub204\ub77d\ub41c \ub370\uc774\ud130 \uace8\ub77c\ub0b4\uae30"
     ]
    },
    {
     "cell_type": "code",
     "collapsed": false,
     "input": [
      "from numpy import nan as NA\n",
      "data= Series([1,NA, 3.5, NA, 7])"
     ],
     "language": "python",
     "metadata": {},
     "outputs": [],
     "prompt_number": 246
    },
    {
     "cell_type": "code",
     "collapsed": false,
     "input": [
      "data.dropna() # NA \uc81c\uac70"
     ],
     "language": "python",
     "metadata": {},
     "outputs": [
      {
       "metadata": {},
       "output_type": "pyout",
       "prompt_number": 247,
       "text": [
        "0    1.0\n",
        "2    3.5\n",
        "4    7.0\n",
        "dtype: float64"
       ]
      }
     ],
     "prompt_number": 247
    },
    {
     "cell_type": "code",
     "collapsed": false,
     "input": [
      "data[data.notnull()] # NA \uc81c\uac70"
     ],
     "language": "python",
     "metadata": {},
     "outputs": [
      {
       "metadata": {},
       "output_type": "pyout",
       "prompt_number": 248,
       "text": [
        "0    1.0\n",
        "2    3.5\n",
        "4    7.0\n",
        "dtype: float64"
       ]
      }
     ],
     "prompt_number": 248
    },
    {
     "cell_type": "code",
     "collapsed": false,
     "input": [
      "data = DataFrame([[1., 6.5, 3.], [1., NA, NA], [NA, NA, NA], [NA, 6.5, 3.]])\n",
      "cleaned = data.dropna() # dataframe \uc5d0\uc11c\ub294 NA\uac00 \ud3ec\ud568\ub41c row \uc804\uccb4 \uc0ad\uc81c"
     ],
     "language": "python",
     "metadata": {},
     "outputs": [],
     "prompt_number": 249
    },
    {
     "cell_type": "code",
     "collapsed": false,
     "input": [
      "cleaned"
     ],
     "language": "python",
     "metadata": {},
     "outputs": [
      {
       "html": [
        "<div style=\"max-width:1500px;overflow:auto;\">\n",
        "<table border=\"1\" class=\"dataframe\">\n",
        "  <thead>\n",
        "    <tr style=\"text-align: right;\">\n",
        "      <th></th>\n",
        "      <th>0</th>\n",
        "      <th>1</th>\n",
        "      <th>2</th>\n",
        "    </tr>\n",
        "  </thead>\n",
        "  <tbody>\n",
        "    <tr>\n",
        "      <th>0</th>\n",
        "      <td>1</td>\n",
        "      <td>6.5</td>\n",
        "      <td>3</td>\n",
        "    </tr>\n",
        "  </tbody>\n",
        "</table>\n",
        "</div>"
       ],
       "metadata": {},
       "output_type": "pyout",
       "prompt_number": 250,
       "text": [
        "   0    1  2\n",
        "0  1  6.5  3"
       ]
      }
     ],
     "prompt_number": 250
    },
    {
     "cell_type": "code",
     "collapsed": false,
     "input": [
      "data.dropna(how='all') # \ubaa8\ub4e0 \uac12\uc774 NA\uc778 \ub85c\uc6b0\ub9cc \uc81c\uac70"
     ],
     "language": "python",
     "metadata": {},
     "outputs": [
      {
       "html": [
        "<div style=\"max-width:1500px;overflow:auto;\">\n",
        "<table border=\"1\" class=\"dataframe\">\n",
        "  <thead>\n",
        "    <tr style=\"text-align: right;\">\n",
        "      <th></th>\n",
        "      <th>0</th>\n",
        "      <th>1</th>\n",
        "      <th>2</th>\n",
        "    </tr>\n",
        "  </thead>\n",
        "  <tbody>\n",
        "    <tr>\n",
        "      <th>0</th>\n",
        "      <td>1</td>\n",
        "      <td>6.5</td>\n",
        "      <td>3</td>\n",
        "    </tr>\n",
        "    <tr>\n",
        "      <th>1</th>\n",
        "      <td>1</td>\n",
        "      <td>NaN</td>\n",
        "      <td>NaN</td>\n",
        "    </tr>\n",
        "    <tr>\n",
        "      <th>3</th>\n",
        "      <td>NaN</td>\n",
        "      <td>6.5</td>\n",
        "      <td>3</td>\n",
        "    </tr>\n",
        "  </tbody>\n",
        "</table>\n",
        "</div>"
       ],
       "metadata": {},
       "output_type": "pyout",
       "prompt_number": 251,
       "text": [
        "    0    1   2\n",
        "0   1  6.5   3\n",
        "1   1  NaN NaN\n",
        "3 NaN  6.5   3"
       ]
      }
     ],
     "prompt_number": 251
    },
    {
     "cell_type": "code",
     "collapsed": false,
     "input": [
      "data[4] = None # NA\ub3c4 \ub418\uace0 None\ub3c4 \uc5c6\ub294 \ub370\uc774\ud130\ub85c \uc778\uc2dd"
     ],
     "language": "python",
     "metadata": {},
     "outputs": [],
     "prompt_number": 252
    },
    {
     "cell_type": "code",
     "collapsed": false,
     "input": [
      "data.dropna(axis=1, how='all')"
     ],
     "language": "python",
     "metadata": {},
     "outputs": [
      {
       "html": [
        "<div style=\"max-width:1500px;overflow:auto;\">\n",
        "<table border=\"1\" class=\"dataframe\">\n",
        "  <thead>\n",
        "    <tr style=\"text-align: right;\">\n",
        "      <th></th>\n",
        "      <th>0</th>\n",
        "      <th>1</th>\n",
        "      <th>2</th>\n",
        "    </tr>\n",
        "  </thead>\n",
        "  <tbody>\n",
        "    <tr>\n",
        "      <th>0</th>\n",
        "      <td>1</td>\n",
        "      <td>6.5</td>\n",
        "      <td>3</td>\n",
        "    </tr>\n",
        "    <tr>\n",
        "      <th>1</th>\n",
        "      <td>1</td>\n",
        "      <td>NaN</td>\n",
        "      <td>NaN</td>\n",
        "    </tr>\n",
        "    <tr>\n",
        "      <th>2</th>\n",
        "      <td>NaN</td>\n",
        "      <td>NaN</td>\n",
        "      <td>NaN</td>\n",
        "    </tr>\n",
        "    <tr>\n",
        "      <th>3</th>\n",
        "      <td>NaN</td>\n",
        "      <td>6.5</td>\n",
        "      <td>3</td>\n",
        "    </tr>\n",
        "  </tbody>\n",
        "</table>\n",
        "</div>"
       ],
       "metadata": {},
       "output_type": "pyout",
       "prompt_number": 253,
       "text": [
        "    0    1   2\n",
        "0   1  6.5   3\n",
        "1   1  NaN NaN\n",
        "2 NaN  NaN NaN\n",
        "3 NaN  6.5   3"
       ]
      }
     ],
     "prompt_number": 253
    },
    {
     "cell_type": "code",
     "collapsed": false,
     "input": [
      "df = DataFrame(np.random.randn(7,3))\n",
      "df.ix[:4, 1] = NA; df.ix[:2, 2] = NA"
     ],
     "language": "python",
     "metadata": {},
     "outputs": [],
     "prompt_number": 254
    },
    {
     "cell_type": "code",
     "collapsed": false,
     "input": [
      "df"
     ],
     "language": "python",
     "metadata": {},
     "outputs": [
      {
       "html": [
        "<div style=\"max-width:1500px;overflow:auto;\">\n",
        "<table border=\"1\" class=\"dataframe\">\n",
        "  <thead>\n",
        "    <tr style=\"text-align: right;\">\n",
        "      <th></th>\n",
        "      <th>0</th>\n",
        "      <th>1</th>\n",
        "      <th>2</th>\n",
        "    </tr>\n",
        "  </thead>\n",
        "  <tbody>\n",
        "    <tr>\n",
        "      <th>0</th>\n",
        "      <td>-0.444516</td>\n",
        "      <td>NaN</td>\n",
        "      <td>NaN</td>\n",
        "    </tr>\n",
        "    <tr>\n",
        "      <th>1</th>\n",
        "      <td>0.469575</td>\n",
        "      <td>NaN</td>\n",
        "      <td>NaN</td>\n",
        "    </tr>\n",
        "    <tr>\n",
        "      <th>2</th>\n",
        "      <td>-1.262498</td>\n",
        "      <td>NaN</td>\n",
        "      <td>NaN</td>\n",
        "    </tr>\n",
        "    <tr>\n",
        "      <th>3</th>\n",
        "      <td>-0.024713</td>\n",
        "      <td>NaN</td>\n",
        "      <td>-0.987806</td>\n",
        "    </tr>\n",
        "    <tr>\n",
        "      <th>4</th>\n",
        "      <td>-0.925045</td>\n",
        "      <td>NaN</td>\n",
        "      <td>1.420008</td>\n",
        "    </tr>\n",
        "    <tr>\n",
        "      <th>5</th>\n",
        "      <td>0.211196</td>\n",
        "      <td>0.149573</td>\n",
        "      <td>-0.653660</td>\n",
        "    </tr>\n",
        "    <tr>\n",
        "      <th>6</th>\n",
        "      <td>0.592025</td>\n",
        "      <td>0.775546</td>\n",
        "      <td>-1.266977</td>\n",
        "    </tr>\n",
        "  </tbody>\n",
        "</table>\n",
        "</div>"
       ],
       "metadata": {},
       "output_type": "pyout",
       "prompt_number": 256,
       "text": [
        "          0         1         2\n",
        "0 -0.444516       NaN       NaN\n",
        "1  0.469575       NaN       NaN\n",
        "2 -1.262498       NaN       NaN\n",
        "3 -0.024713       NaN -0.987806\n",
        "4 -0.925045       NaN  1.420008\n",
        "5  0.211196  0.149573 -0.653660\n",
        "6  0.592025  0.775546 -1.266977"
       ]
      }
     ],
     "prompt_number": 256
    },
    {
     "cell_type": "code",
     "collapsed": false,
     "input": [
      "df.dropna(thresh=3) # 3\uac1c \uc774\uc0c1\uc758 \uac12\uc774 \ub4e4\uc5b4\uc788\ub294 \ub85c\uc6b0\ub9cc \uac80\uc0c9"
     ],
     "language": "python",
     "metadata": {},
     "outputs": [
      {
       "html": [
        "<div style=\"max-width:1500px;overflow:auto;\">\n",
        "<table border=\"1\" class=\"dataframe\">\n",
        "  <thead>\n",
        "    <tr style=\"text-align: right;\">\n",
        "      <th></th>\n",
        "      <th>0</th>\n",
        "      <th>1</th>\n",
        "      <th>2</th>\n",
        "    </tr>\n",
        "  </thead>\n",
        "  <tbody>\n",
        "    <tr>\n",
        "      <th>5</th>\n",
        "      <td>0.211196</td>\n",
        "      <td>0.149573</td>\n",
        "      <td>-0.653660</td>\n",
        "    </tr>\n",
        "    <tr>\n",
        "      <th>6</th>\n",
        "      <td>0.592025</td>\n",
        "      <td>0.775546</td>\n",
        "      <td>-1.266977</td>\n",
        "    </tr>\n",
        "  </tbody>\n",
        "</table>\n",
        "</div>"
       ],
       "metadata": {},
       "output_type": "pyout",
       "prompt_number": 255,
       "text": [
        "          0         1         2\n",
        "5  0.211196  0.149573 -0.653660\n",
        "6  0.592025  0.775546 -1.266977"
       ]
      }
     ],
     "prompt_number": 255
    },
    {
     "cell_type": "heading",
     "level": 3,
     "metadata": {},
     "source": [
      "4.2 \ub204\ub77d\ub41c \uac12 \ucc44\uc6b0\uae30"
     ]
    },
    {
     "cell_type": "code",
     "collapsed": false,
     "input": [
      "df.fillna(0)"
     ],
     "language": "python",
     "metadata": {},
     "outputs": [
      {
       "html": [
        "<div style=\"max-width:1500px;overflow:auto;\">\n",
        "<table border=\"1\" class=\"dataframe\">\n",
        "  <thead>\n",
        "    <tr style=\"text-align: right;\">\n",
        "      <th></th>\n",
        "      <th>0</th>\n",
        "      <th>1</th>\n",
        "      <th>2</th>\n",
        "    </tr>\n",
        "  </thead>\n",
        "  <tbody>\n",
        "    <tr>\n",
        "      <th>0</th>\n",
        "      <td>-0.444516</td>\n",
        "      <td>0.000000</td>\n",
        "      <td>0.000000</td>\n",
        "    </tr>\n",
        "    <tr>\n",
        "      <th>1</th>\n",
        "      <td>0.469575</td>\n",
        "      <td>0.000000</td>\n",
        "      <td>0.000000</td>\n",
        "    </tr>\n",
        "    <tr>\n",
        "      <th>2</th>\n",
        "      <td>-1.262498</td>\n",
        "      <td>0.000000</td>\n",
        "      <td>0.000000</td>\n",
        "    </tr>\n",
        "    <tr>\n",
        "      <th>3</th>\n",
        "      <td>-0.024713</td>\n",
        "      <td>0.000000</td>\n",
        "      <td>-0.987806</td>\n",
        "    </tr>\n",
        "    <tr>\n",
        "      <th>4</th>\n",
        "      <td>-0.925045</td>\n",
        "      <td>0.000000</td>\n",
        "      <td>1.420008</td>\n",
        "    </tr>\n",
        "    <tr>\n",
        "      <th>5</th>\n",
        "      <td>0.211196</td>\n",
        "      <td>0.149573</td>\n",
        "      <td>-0.653660</td>\n",
        "    </tr>\n",
        "    <tr>\n",
        "      <th>6</th>\n",
        "      <td>0.592025</td>\n",
        "      <td>0.775546</td>\n",
        "      <td>-1.266977</td>\n",
        "    </tr>\n",
        "  </tbody>\n",
        "</table>\n",
        "</div>"
       ],
       "metadata": {},
       "output_type": "pyout",
       "prompt_number": 257,
       "text": [
        "          0         1         2\n",
        "0 -0.444516  0.000000  0.000000\n",
        "1  0.469575  0.000000  0.000000\n",
        "2 -1.262498  0.000000  0.000000\n",
        "3 -0.024713  0.000000 -0.987806\n",
        "4 -0.925045  0.000000  1.420008\n",
        "5  0.211196  0.149573 -0.653660\n",
        "6  0.592025  0.775546 -1.266977"
       ]
      }
     ],
     "prompt_number": 257
    },
    {
     "cell_type": "code",
     "collapsed": false,
     "input": [
      "df.fillna({1:0.5, 3:-1})"
     ],
     "language": "python",
     "metadata": {},
     "outputs": [
      {
       "html": [
        "<div style=\"max-width:1500px;overflow:auto;\">\n",
        "<table border=\"1\" class=\"dataframe\">\n",
        "  <thead>\n",
        "    <tr style=\"text-align: right;\">\n",
        "      <th></th>\n",
        "      <th>0</th>\n",
        "      <th>1</th>\n",
        "      <th>2</th>\n",
        "    </tr>\n",
        "  </thead>\n",
        "  <tbody>\n",
        "    <tr>\n",
        "      <th>0</th>\n",
        "      <td>-0.444516</td>\n",
        "      <td>0.500000</td>\n",
        "      <td>NaN</td>\n",
        "    </tr>\n",
        "    <tr>\n",
        "      <th>1</th>\n",
        "      <td>0.469575</td>\n",
        "      <td>0.500000</td>\n",
        "      <td>NaN</td>\n",
        "    </tr>\n",
        "    <tr>\n",
        "      <th>2</th>\n",
        "      <td>-1.262498</td>\n",
        "      <td>0.500000</td>\n",
        "      <td>NaN</td>\n",
        "    </tr>\n",
        "    <tr>\n",
        "      <th>3</th>\n",
        "      <td>-0.024713</td>\n",
        "      <td>0.500000</td>\n",
        "      <td>-0.987806</td>\n",
        "    </tr>\n",
        "    <tr>\n",
        "      <th>4</th>\n",
        "      <td>-0.925045</td>\n",
        "      <td>0.500000</td>\n",
        "      <td>1.420008</td>\n",
        "    </tr>\n",
        "    <tr>\n",
        "      <th>5</th>\n",
        "      <td>0.211196</td>\n",
        "      <td>0.149573</td>\n",
        "      <td>-0.653660</td>\n",
        "    </tr>\n",
        "    <tr>\n",
        "      <th>6</th>\n",
        "      <td>0.592025</td>\n",
        "      <td>0.775546</td>\n",
        "      <td>-1.266977</td>\n",
        "    </tr>\n",
        "  </tbody>\n",
        "</table>\n",
        "</div>"
       ],
       "metadata": {},
       "output_type": "pyout",
       "prompt_number": 258,
       "text": [
        "          0         1         2\n",
        "0 -0.444516  0.500000       NaN\n",
        "1  0.469575  0.500000       NaN\n",
        "2 -1.262498  0.500000       NaN\n",
        "3 -0.024713  0.500000 -0.987806\n",
        "4 -0.925045  0.500000  1.420008\n",
        "5  0.211196  0.149573 -0.653660\n",
        "6  0.592025  0.775546 -1.266977"
       ]
      }
     ],
     "prompt_number": 258
    },
    {
     "cell_type": "code",
     "collapsed": false,
     "input": [
      "df = DataFrame(np.random.randn(6,3))\n",
      "df.ix[2:, 1] = NA; df.ix[4:, 2] = NA"
     ],
     "language": "python",
     "metadata": {},
     "outputs": [],
     "prompt_number": 260
    },
    {
     "cell_type": "code",
     "collapsed": false,
     "input": [
      "df"
     ],
     "language": "python",
     "metadata": {},
     "outputs": [
      {
       "html": [
        "<div style=\"max-width:1500px;overflow:auto;\">\n",
        "<table border=\"1\" class=\"dataframe\">\n",
        "  <thead>\n",
        "    <tr style=\"text-align: right;\">\n",
        "      <th></th>\n",
        "      <th>0</th>\n",
        "      <th>1</th>\n",
        "      <th>2</th>\n",
        "    </tr>\n",
        "  </thead>\n",
        "  <tbody>\n",
        "    <tr>\n",
        "      <th>0</th>\n",
        "      <td>-1.546102</td>\n",
        "      <td>-0.241112</td>\n",
        "      <td>1.226102</td>\n",
        "    </tr>\n",
        "    <tr>\n",
        "      <th>1</th>\n",
        "      <td>-0.995176</td>\n",
        "      <td>-0.558489</td>\n",
        "      <td>2.328193</td>\n",
        "    </tr>\n",
        "    <tr>\n",
        "      <th>2</th>\n",
        "      <td>-0.483776</td>\n",
        "      <td>NaN</td>\n",
        "      <td>0.188237</td>\n",
        "    </tr>\n",
        "    <tr>\n",
        "      <th>3</th>\n",
        "      <td>0.225807</td>\n",
        "      <td>NaN</td>\n",
        "      <td>0.551516</td>\n",
        "    </tr>\n",
        "    <tr>\n",
        "      <th>4</th>\n",
        "      <td>0.511547</td>\n",
        "      <td>NaN</td>\n",
        "      <td>NaN</td>\n",
        "    </tr>\n",
        "    <tr>\n",
        "      <th>5</th>\n",
        "      <td>-1.118397</td>\n",
        "      <td>NaN</td>\n",
        "      <td>NaN</td>\n",
        "    </tr>\n",
        "  </tbody>\n",
        "</table>\n",
        "</div>"
       ],
       "metadata": {},
       "output_type": "pyout",
       "prompt_number": 261,
       "text": [
        "          0         1         2\n",
        "0 -1.546102 -0.241112  1.226102\n",
        "1 -0.995176 -0.558489  2.328193\n",
        "2 -0.483776       NaN  0.188237\n",
        "3  0.225807       NaN  0.551516\n",
        "4  0.511547       NaN       NaN\n",
        "5 -1.118397       NaN       NaN"
       ]
      }
     ],
     "prompt_number": 261
    },
    {
     "cell_type": "code",
     "collapsed": false,
     "input": [
      "df.fillna(method='ffill') # NA\ub97c NA\uc774\uc804\uc758 \uac12\uc73c\ub85c \ucc44\uc6cc"
     ],
     "language": "python",
     "metadata": {},
     "outputs": [
      {
       "html": [
        "<div style=\"max-width:1500px;overflow:auto;\">\n",
        "<table border=\"1\" class=\"dataframe\">\n",
        "  <thead>\n",
        "    <tr style=\"text-align: right;\">\n",
        "      <th></th>\n",
        "      <th>0</th>\n",
        "      <th>1</th>\n",
        "      <th>2</th>\n",
        "    </tr>\n",
        "  </thead>\n",
        "  <tbody>\n",
        "    <tr>\n",
        "      <th>0</th>\n",
        "      <td>-1.546102</td>\n",
        "      <td>-0.241112</td>\n",
        "      <td>1.226102</td>\n",
        "    </tr>\n",
        "    <tr>\n",
        "      <th>1</th>\n",
        "      <td>-0.995176</td>\n",
        "      <td>-0.558489</td>\n",
        "      <td>2.328193</td>\n",
        "    </tr>\n",
        "    <tr>\n",
        "      <th>2</th>\n",
        "      <td>-0.483776</td>\n",
        "      <td>-0.558489</td>\n",
        "      <td>0.188237</td>\n",
        "    </tr>\n",
        "    <tr>\n",
        "      <th>3</th>\n",
        "      <td>0.225807</td>\n",
        "      <td>-0.558489</td>\n",
        "      <td>0.551516</td>\n",
        "    </tr>\n",
        "    <tr>\n",
        "      <th>4</th>\n",
        "      <td>0.511547</td>\n",
        "      <td>-0.558489</td>\n",
        "      <td>0.551516</td>\n",
        "    </tr>\n",
        "    <tr>\n",
        "      <th>5</th>\n",
        "      <td>-1.118397</td>\n",
        "      <td>-0.558489</td>\n",
        "      <td>0.551516</td>\n",
        "    </tr>\n",
        "  </tbody>\n",
        "</table>\n",
        "</div>"
       ],
       "metadata": {},
       "output_type": "pyout",
       "prompt_number": 263,
       "text": [
        "          0         1         2\n",
        "0 -1.546102 -0.241112  1.226102\n",
        "1 -0.995176 -0.558489  2.328193\n",
        "2 -0.483776 -0.558489  0.188237\n",
        "3  0.225807 -0.558489  0.551516\n",
        "4  0.511547 -0.558489  0.551516\n",
        "5 -1.118397 -0.558489  0.551516"
       ]
      }
     ],
     "prompt_number": 263
    },
    {
     "cell_type": "code",
     "collapsed": false,
     "input": [
      "df.fillna(method='ffill', limit=2) # \uac1c\uc218\uc9c0\uc815\ud558\uc5ec \ub123\uae30"
     ],
     "language": "python",
     "metadata": {},
     "outputs": [
      {
       "html": [
        "<div style=\"max-width:1500px;overflow:auto;\">\n",
        "<table border=\"1\" class=\"dataframe\">\n",
        "  <thead>\n",
        "    <tr style=\"text-align: right;\">\n",
        "      <th></th>\n",
        "      <th>0</th>\n",
        "      <th>1</th>\n",
        "      <th>2</th>\n",
        "    </tr>\n",
        "  </thead>\n",
        "  <tbody>\n",
        "    <tr>\n",
        "      <th>0</th>\n",
        "      <td>-1.546102</td>\n",
        "      <td>-0.241112</td>\n",
        "      <td>1.226102</td>\n",
        "    </tr>\n",
        "    <tr>\n",
        "      <th>1</th>\n",
        "      <td>-0.995176</td>\n",
        "      <td>-0.558489</td>\n",
        "      <td>2.328193</td>\n",
        "    </tr>\n",
        "    <tr>\n",
        "      <th>2</th>\n",
        "      <td>-0.483776</td>\n",
        "      <td>-0.558489</td>\n",
        "      <td>0.188237</td>\n",
        "    </tr>\n",
        "    <tr>\n",
        "      <th>3</th>\n",
        "      <td>0.225807</td>\n",
        "      <td>-0.558489</td>\n",
        "      <td>0.551516</td>\n",
        "    </tr>\n",
        "    <tr>\n",
        "      <th>4</th>\n",
        "      <td>0.511547</td>\n",
        "      <td>NaN</td>\n",
        "      <td>0.551516</td>\n",
        "    </tr>\n",
        "    <tr>\n",
        "      <th>5</th>\n",
        "      <td>-1.118397</td>\n",
        "      <td>NaN</td>\n",
        "      <td>0.551516</td>\n",
        "    </tr>\n",
        "  </tbody>\n",
        "</table>\n",
        "</div>"
       ],
       "metadata": {},
       "output_type": "pyout",
       "prompt_number": 264,
       "text": [
        "          0         1         2\n",
        "0 -1.546102 -0.241112  1.226102\n",
        "1 -0.995176 -0.558489  2.328193\n",
        "2 -0.483776 -0.558489  0.188237\n",
        "3  0.225807 -0.558489  0.551516\n",
        "4  0.511547       NaN  0.551516\n",
        "5 -1.118397       NaN  0.551516"
       ]
      }
     ],
     "prompt_number": 264
    },
    {
     "cell_type": "code",
     "collapsed": false,
     "input": [
      "data = Series([1., NA, 3.5, NA,7])"
     ],
     "language": "python",
     "metadata": {},
     "outputs": [],
     "prompt_number": 265
    },
    {
     "cell_type": "code",
     "collapsed": false,
     "input": [
      "data.fillna(data.mean()) # NA\uac12\uc5d0 data\uc758 \ud3c9\uade0\uce58\ub97c \ub123\uae30"
     ],
     "language": "python",
     "metadata": {},
     "outputs": [
      {
       "metadata": {},
       "output_type": "pyout",
       "prompt_number": 266,
       "text": [
        "0    1.000000\n",
        "1    3.833333\n",
        "2    3.500000\n",
        "3    3.833333\n",
        "4    7.000000\n",
        "dtype: float64"
       ]
      }
     ],
     "prompt_number": 266
    },
    {
     "cell_type": "heading",
     "level": 1,
     "metadata": {},
     "source": [
      "5. \uacc4\uce35\uc801 \uc0c9\uc778"
     ]
    },
    {
     "cell_type": "code",
     "collapsed": false,
     "input": [
      "data= Series(np.random.randn(10), index=[['a','a','a','b','b','b','c','c','d','d'], [1,2,3,1,2,3,1,2,2,3]])"
     ],
     "language": "python",
     "metadata": {},
     "outputs": [],
     "prompt_number": 267
    },
    {
     "cell_type": "code",
     "collapsed": false,
     "input": [
      "data"
     ],
     "language": "python",
     "metadata": {},
     "outputs": [
      {
       "metadata": {},
       "output_type": "pyout",
       "prompt_number": 268,
       "text": [
        "a  1   -0.355637\n",
        "   2   -0.762017\n",
        "   3    2.025817\n",
        "b  1   -0.893652\n",
        "   2    1.098441\n",
        "   3    0.015688\n",
        "c  1   -2.024979\n",
        "   2    0.210822\n",
        "d  2    1.594390\n",
        "   3    1.268509\n",
        "dtype: float64"
       ]
      }
     ],
     "prompt_number": 268
    },
    {
     "cell_type": "code",
     "collapsed": false,
     "input": [
      "data.index"
     ],
     "language": "python",
     "metadata": {},
     "outputs": [
      {
       "metadata": {},
       "output_type": "pyout",
       "prompt_number": 269,
       "text": [
        "MultiIndex(levels=[[u'a', u'b', u'c', u'd'], [1, 2, 3]],\n",
        "           labels=[[0, 0, 0, 1, 1, 1, 2, 2, 3, 3], [0, 1, 2, 0, 1, 2, 0, 1, 1, 2]])"
       ]
      }
     ],
     "prompt_number": 269
    },
    {
     "cell_type": "code",
     "collapsed": false,
     "input": [
      "data['b']"
     ],
     "language": "python",
     "metadata": {},
     "outputs": [
      {
       "metadata": {},
       "output_type": "pyout",
       "prompt_number": 270,
       "text": [
        "1   -0.893652\n",
        "2    1.098441\n",
        "3    0.015688\n",
        "dtype: float64"
       ]
      }
     ],
     "prompt_number": 270
    },
    {
     "cell_type": "code",
     "collapsed": false,
     "input": [
      "data[:,2]"
     ],
     "language": "python",
     "metadata": {},
     "outputs": [
      {
       "metadata": {},
       "output_type": "pyout",
       "prompt_number": 271,
       "text": [
        "a   -0.762017\n",
        "b    1.098441\n",
        "c    0.210822\n",
        "d    1.594390\n",
        "dtype: float64"
       ]
      }
     ],
     "prompt_number": 271
    },
    {
     "cell_type": "code",
     "collapsed": false,
     "input": [
      "data.unstack() # \uacc4\uce35\uc801 \uc0c9\uc778\ub41c dataframe\uc744 \ubcc0\uacbd"
     ],
     "language": "python",
     "metadata": {},
     "outputs": [
      {
       "html": [
        "<div style=\"max-width:1500px;overflow:auto;\">\n",
        "<table border=\"1\" class=\"dataframe\">\n",
        "  <thead>\n",
        "    <tr style=\"text-align: right;\">\n",
        "      <th></th>\n",
        "      <th>1</th>\n",
        "      <th>2</th>\n",
        "      <th>3</th>\n",
        "    </tr>\n",
        "  </thead>\n",
        "  <tbody>\n",
        "    <tr>\n",
        "      <th>a</th>\n",
        "      <td>-0.355637</td>\n",
        "      <td>-0.762017</td>\n",
        "      <td>2.025817</td>\n",
        "    </tr>\n",
        "    <tr>\n",
        "      <th>b</th>\n",
        "      <td>-0.893652</td>\n",
        "      <td>1.098441</td>\n",
        "      <td>0.015688</td>\n",
        "    </tr>\n",
        "    <tr>\n",
        "      <th>c</th>\n",
        "      <td>-2.024979</td>\n",
        "      <td>0.210822</td>\n",
        "      <td>NaN</td>\n",
        "    </tr>\n",
        "    <tr>\n",
        "      <th>d</th>\n",
        "      <td>NaN</td>\n",
        "      <td>1.594390</td>\n",
        "      <td>1.268509</td>\n",
        "    </tr>\n",
        "  </tbody>\n",
        "</table>\n",
        "</div>"
       ],
       "metadata": {},
       "output_type": "pyout",
       "prompt_number": 272,
       "text": [
        "          1         2         3\n",
        "a -0.355637 -0.762017  2.025817\n",
        "b -0.893652  1.098441  0.015688\n",
        "c -2.024979  0.210822       NaN\n",
        "d       NaN  1.594390  1.268509"
       ]
      }
     ],
     "prompt_number": 272
    },
    {
     "cell_type": "code",
     "collapsed": false,
     "input": [
      "data.unstack().stack()"
     ],
     "language": "python",
     "metadata": {},
     "outputs": [
      {
       "metadata": {},
       "output_type": "pyout",
       "prompt_number": 273,
       "text": [
        "a  1   -0.355637\n",
        "   2   -0.762017\n",
        "   3    2.025817\n",
        "b  1   -0.893652\n",
        "   2    1.098441\n",
        "   3    0.015688\n",
        "c  1   -2.024979\n",
        "   2    0.210822\n",
        "d  2    1.594390\n",
        "   3    1.268509\n",
        "dtype: float64"
       ]
      }
     ],
     "prompt_number": 273
    },
    {
     "cell_type": "code",
     "collapsed": false,
     "input": [
      "frame = DataFrame(np.arange(12).reshape((4,3)), index = [['a','a','b','b'], [1,2,1,2]], columns = [['Ohio','Ohio','Colorado'], ['Green', 'Red', 'Green']])"
     ],
     "language": "python",
     "metadata": {},
     "outputs": [],
     "prompt_number": 274
    },
    {
     "cell_type": "code",
     "collapsed": false,
     "input": [
      "frame"
     ],
     "language": "python",
     "metadata": {},
     "outputs": [
      {
       "html": [
        "<div style=\"max-width:1500px;overflow:auto;\">\n",
        "<table border=\"1\" class=\"dataframe\">\n",
        "  <thead>\n",
        "    <tr>\n",
        "      <th></th>\n",
        "      <th></th>\n",
        "      <th colspan=\"2\" halign=\"left\">Ohio</th>\n",
        "      <th>Colorado</th>\n",
        "    </tr>\n",
        "    <tr>\n",
        "      <th></th>\n",
        "      <th></th>\n",
        "      <th>Green</th>\n",
        "      <th>Red</th>\n",
        "      <th>Green</th>\n",
        "    </tr>\n",
        "  </thead>\n",
        "  <tbody>\n",
        "    <tr>\n",
        "      <th rowspan=\"2\" valign=\"top\">a</th>\n",
        "      <th>1</th>\n",
        "      <td>0</td>\n",
        "      <td>1</td>\n",
        "      <td>2</td>\n",
        "    </tr>\n",
        "    <tr>\n",
        "      <th>2</th>\n",
        "      <td>3</td>\n",
        "      <td>4</td>\n",
        "      <td>5</td>\n",
        "    </tr>\n",
        "    <tr>\n",
        "      <th rowspan=\"2\" valign=\"top\">b</th>\n",
        "      <th>1</th>\n",
        "      <td>6</td>\n",
        "      <td>7</td>\n",
        "      <td>8</td>\n",
        "    </tr>\n",
        "    <tr>\n",
        "      <th>2</th>\n",
        "      <td>9</td>\n",
        "      <td>10</td>\n",
        "      <td>11</td>\n",
        "    </tr>\n",
        "  </tbody>\n",
        "</table>\n",
        "</div>"
       ],
       "metadata": {},
       "output_type": "pyout",
       "prompt_number": 275,
       "text": [
        "     Ohio     Colorado\n",
        "    Green Red    Green\n",
        "a 1     0   1        2\n",
        "  2     3   4        5\n",
        "b 1     6   7        8\n",
        "  2     9  10       11"
       ]
      }
     ],
     "prompt_number": 275
    },
    {
     "cell_type": "code",
     "collapsed": false,
     "input": [
      "frame.index.names = ['key1', 'key2']"
     ],
     "language": "python",
     "metadata": {},
     "outputs": [],
     "prompt_number": 276
    },
    {
     "cell_type": "code",
     "collapsed": false,
     "input": [
      "frame.columns.names = ['state', 'color']"
     ],
     "language": "python",
     "metadata": {},
     "outputs": [],
     "prompt_number": 277
    },
    {
     "cell_type": "code",
     "collapsed": false,
     "input": [
      "frame"
     ],
     "language": "python",
     "metadata": {},
     "outputs": [
      {
       "html": [
        "<div style=\"max-width:1500px;overflow:auto;\">\n",
        "<table border=\"1\" class=\"dataframe\">\n",
        "  <thead>\n",
        "    <tr>\n",
        "      <th></th>\n",
        "      <th>state</th>\n",
        "      <th colspan=\"2\" halign=\"left\">Ohio</th>\n",
        "      <th>Colorado</th>\n",
        "    </tr>\n",
        "    <tr>\n",
        "      <th></th>\n",
        "      <th>color</th>\n",
        "      <th>Green</th>\n",
        "      <th>Red</th>\n",
        "      <th>Green</th>\n",
        "    </tr>\n",
        "    <tr>\n",
        "      <th>key1</th>\n",
        "      <th>key2</th>\n",
        "      <th></th>\n",
        "      <th></th>\n",
        "      <th></th>\n",
        "    </tr>\n",
        "  </thead>\n",
        "  <tbody>\n",
        "    <tr>\n",
        "      <th rowspan=\"2\" valign=\"top\">a</th>\n",
        "      <th>1</th>\n",
        "      <td>0</td>\n",
        "      <td>1</td>\n",
        "      <td>2</td>\n",
        "    </tr>\n",
        "    <tr>\n",
        "      <th>2</th>\n",
        "      <td>3</td>\n",
        "      <td>4</td>\n",
        "      <td>5</td>\n",
        "    </tr>\n",
        "    <tr>\n",
        "      <th rowspan=\"2\" valign=\"top\">b</th>\n",
        "      <th>1</th>\n",
        "      <td>6</td>\n",
        "      <td>7</td>\n",
        "      <td>8</td>\n",
        "    </tr>\n",
        "    <tr>\n",
        "      <th>2</th>\n",
        "      <td>9</td>\n",
        "      <td>10</td>\n",
        "      <td>11</td>\n",
        "    </tr>\n",
        "  </tbody>\n",
        "</table>\n",
        "</div>"
       ],
       "metadata": {},
       "output_type": "pyout",
       "prompt_number": 278,
       "text": [
        "state      Ohio     Colorado\n",
        "color     Green Red    Green\n",
        "key1 key2                   \n",
        "a    1        0   1        2\n",
        "     2        3   4        5\n",
        "b    1        6   7        8\n",
        "     2        9  10       11"
       ]
      }
     ],
     "prompt_number": 278
    },
    {
     "cell_type": "heading",
     "level": 3,
     "metadata": {},
     "source": [
      "5.1 \uacc4\uce35 \uc21c\uc11c \ubc14\uafb8\uace0 \uc815\ub82c"
     ]
    },
    {
     "cell_type": "code",
     "collapsed": false,
     "input": [
      "frame.swaplevel('key1', 'key2') # key1\uacfc key2\uc758 \ub808\ubca8 \ubcc0\uacbd"
     ],
     "language": "python",
     "metadata": {},
     "outputs": [
      {
       "html": [
        "<div style=\"max-width:1500px;overflow:auto;\">\n",
        "<table border=\"1\" class=\"dataframe\">\n",
        "  <thead>\n",
        "    <tr>\n",
        "      <th></th>\n",
        "      <th>state</th>\n",
        "      <th colspan=\"2\" halign=\"left\">Ohio</th>\n",
        "      <th>Colorado</th>\n",
        "    </tr>\n",
        "    <tr>\n",
        "      <th></th>\n",
        "      <th>color</th>\n",
        "      <th>Green</th>\n",
        "      <th>Red</th>\n",
        "      <th>Green</th>\n",
        "    </tr>\n",
        "    <tr>\n",
        "      <th>key2</th>\n",
        "      <th>key1</th>\n",
        "      <th></th>\n",
        "      <th></th>\n",
        "      <th></th>\n",
        "    </tr>\n",
        "  </thead>\n",
        "  <tbody>\n",
        "    <tr>\n",
        "      <th>1</th>\n",
        "      <th>a</th>\n",
        "      <td>0</td>\n",
        "      <td>1</td>\n",
        "      <td>2</td>\n",
        "    </tr>\n",
        "    <tr>\n",
        "      <th>2</th>\n",
        "      <th>a</th>\n",
        "      <td>3</td>\n",
        "      <td>4</td>\n",
        "      <td>5</td>\n",
        "    </tr>\n",
        "    <tr>\n",
        "      <th>1</th>\n",
        "      <th>b</th>\n",
        "      <td>6</td>\n",
        "      <td>7</td>\n",
        "      <td>8</td>\n",
        "    </tr>\n",
        "    <tr>\n",
        "      <th>2</th>\n",
        "      <th>b</th>\n",
        "      <td>9</td>\n",
        "      <td>10</td>\n",
        "      <td>11</td>\n",
        "    </tr>\n",
        "  </tbody>\n",
        "</table>\n",
        "</div>"
       ],
       "metadata": {},
       "output_type": "pyout",
       "prompt_number": 279,
       "text": [
        "state      Ohio     Colorado\n",
        "color     Green Red    Green\n",
        "key2 key1                   \n",
        "1    a        0   1        2\n",
        "2    a        3   4        5\n",
        "1    b        6   7        8\n",
        "2    b        9  10       11"
       ]
      }
     ],
     "prompt_number": 279
    },
    {
     "cell_type": "code",
     "collapsed": false,
     "input": [
      "frame.sortlevel(1) # \ub808\ubca8\uc815\ub82c"
     ],
     "language": "python",
     "metadata": {},
     "outputs": [
      {
       "html": [
        "<div style=\"max-width:1500px;overflow:auto;\">\n",
        "<table border=\"1\" class=\"dataframe\">\n",
        "  <thead>\n",
        "    <tr>\n",
        "      <th></th>\n",
        "      <th>state</th>\n",
        "      <th colspan=\"2\" halign=\"left\">Ohio</th>\n",
        "      <th>Colorado</th>\n",
        "    </tr>\n",
        "    <tr>\n",
        "      <th></th>\n",
        "      <th>color</th>\n",
        "      <th>Green</th>\n",
        "      <th>Red</th>\n",
        "      <th>Green</th>\n",
        "    </tr>\n",
        "    <tr>\n",
        "      <th>key1</th>\n",
        "      <th>key2</th>\n",
        "      <th></th>\n",
        "      <th></th>\n",
        "      <th></th>\n",
        "    </tr>\n",
        "  </thead>\n",
        "  <tbody>\n",
        "    <tr>\n",
        "      <th>a</th>\n",
        "      <th>1</th>\n",
        "      <td>0</td>\n",
        "      <td>1</td>\n",
        "      <td>2</td>\n",
        "    </tr>\n",
        "    <tr>\n",
        "      <th>b</th>\n",
        "      <th>1</th>\n",
        "      <td>6</td>\n",
        "      <td>7</td>\n",
        "      <td>8</td>\n",
        "    </tr>\n",
        "    <tr>\n",
        "      <th>a</th>\n",
        "      <th>2</th>\n",
        "      <td>3</td>\n",
        "      <td>4</td>\n",
        "      <td>5</td>\n",
        "    </tr>\n",
        "    <tr>\n",
        "      <th>b</th>\n",
        "      <th>2</th>\n",
        "      <td>9</td>\n",
        "      <td>10</td>\n",
        "      <td>11</td>\n",
        "    </tr>\n",
        "  </tbody>\n",
        "</table>\n",
        "</div>"
       ],
       "metadata": {},
       "output_type": "pyout",
       "prompt_number": 280,
       "text": [
        "state      Ohio     Colorado\n",
        "color     Green Red    Green\n",
        "key1 key2                   \n",
        "a    1        0   1        2\n",
        "b    1        6   7        8\n",
        "a    2        3   4        5\n",
        "b    2        9  10       11"
       ]
      }
     ],
     "prompt_number": 280
    },
    {
     "cell_type": "code",
     "collapsed": false,
     "input": [
      "frame.swaplevel(0,1).sortlevel(0) # key2,key2 \ubcc0\uacbd \ud6c4 level\uc815\ub82c"
     ],
     "language": "python",
     "metadata": {},
     "outputs": [
      {
       "html": [
        "<div style=\"max-width:1500px;overflow:auto;\">\n",
        "<table border=\"1\" class=\"dataframe\">\n",
        "  <thead>\n",
        "    <tr>\n",
        "      <th></th>\n",
        "      <th>state</th>\n",
        "      <th colspan=\"2\" halign=\"left\">Ohio</th>\n",
        "      <th>Colorado</th>\n",
        "    </tr>\n",
        "    <tr>\n",
        "      <th></th>\n",
        "      <th>color</th>\n",
        "      <th>Green</th>\n",
        "      <th>Red</th>\n",
        "      <th>Green</th>\n",
        "    </tr>\n",
        "    <tr>\n",
        "      <th>key2</th>\n",
        "      <th>key1</th>\n",
        "      <th></th>\n",
        "      <th></th>\n",
        "      <th></th>\n",
        "    </tr>\n",
        "  </thead>\n",
        "  <tbody>\n",
        "    <tr>\n",
        "      <th rowspan=\"2\" valign=\"top\">1</th>\n",
        "      <th>a</th>\n",
        "      <td>0</td>\n",
        "      <td>1</td>\n",
        "      <td>2</td>\n",
        "    </tr>\n",
        "    <tr>\n",
        "      <th>b</th>\n",
        "      <td>6</td>\n",
        "      <td>7</td>\n",
        "      <td>8</td>\n",
        "    </tr>\n",
        "    <tr>\n",
        "      <th rowspan=\"2\" valign=\"top\">2</th>\n",
        "      <th>a</th>\n",
        "      <td>3</td>\n",
        "      <td>4</td>\n",
        "      <td>5</td>\n",
        "    </tr>\n",
        "    <tr>\n",
        "      <th>b</th>\n",
        "      <td>9</td>\n",
        "      <td>10</td>\n",
        "      <td>11</td>\n",
        "    </tr>\n",
        "  </tbody>\n",
        "</table>\n",
        "</div>"
       ],
       "metadata": {},
       "output_type": "pyout",
       "prompt_number": 281,
       "text": [
        "state      Ohio     Colorado\n",
        "color     Green Red    Green\n",
        "key2 key1                   \n",
        "1    a        0   1        2\n",
        "     b        6   7        8\n",
        "2    a        3   4        5\n",
        "     b        9  10       11"
       ]
      }
     ],
     "prompt_number": 281
    },
    {
     "cell_type": "heading",
     "level": 3,
     "metadata": {},
     "source": [
      "5.2 \ub2e8\uacc4\ubcc4 \uc694\uc57d\ud1b5\uacc4"
     ]
    },
    {
     "cell_type": "code",
     "collapsed": false,
     "input": [
      "frame.sum(level='key2') # key2\uc5d0 \ub300\ud55c sum"
     ],
     "language": "python",
     "metadata": {},
     "outputs": [
      {
       "html": [
        "<div style=\"max-width:1500px;overflow:auto;\">\n",
        "<table border=\"1\" class=\"dataframe\">\n",
        "  <thead>\n",
        "    <tr>\n",
        "      <th>state</th>\n",
        "      <th colspan=\"2\" halign=\"left\">Ohio</th>\n",
        "      <th>Colorado</th>\n",
        "    </tr>\n",
        "    <tr>\n",
        "      <th>color</th>\n",
        "      <th>Green</th>\n",
        "      <th>Red</th>\n",
        "      <th>Green</th>\n",
        "    </tr>\n",
        "    <tr>\n",
        "      <th>key2</th>\n",
        "      <th></th>\n",
        "      <th></th>\n",
        "      <th></th>\n",
        "    </tr>\n",
        "  </thead>\n",
        "  <tbody>\n",
        "    <tr>\n",
        "      <th>1</th>\n",
        "      <td>6</td>\n",
        "      <td>8</td>\n",
        "      <td>10</td>\n",
        "    </tr>\n",
        "    <tr>\n",
        "      <th>2</th>\n",
        "      <td>12</td>\n",
        "      <td>14</td>\n",
        "      <td>16</td>\n",
        "    </tr>\n",
        "  </tbody>\n",
        "</table>\n",
        "</div>"
       ],
       "metadata": {},
       "output_type": "pyout",
       "prompt_number": 282,
       "text": [
        "state  Ohio     Colorado\n",
        "color Green Red    Green\n",
        "key2                    \n",
        "1         6   8       10\n",
        "2        12  14       16"
       ]
      }
     ],
     "prompt_number": 282
    },
    {
     "cell_type": "code",
     "collapsed": false,
     "input": [
      "frame.sum(level='color', axis=1) # color \ub97c \uae30\uc900\uc73c\ub85c sum"
     ],
     "language": "python",
     "metadata": {},
     "outputs": [
      {
       "html": [
        "<div style=\"max-width:1500px;overflow:auto;\">\n",
        "<table border=\"1\" class=\"dataframe\">\n",
        "  <thead>\n",
        "    <tr style=\"text-align: right;\">\n",
        "      <th></th>\n",
        "      <th>color</th>\n",
        "      <th>Green</th>\n",
        "      <th>Red</th>\n",
        "    </tr>\n",
        "    <tr>\n",
        "      <th>key1</th>\n",
        "      <th>key2</th>\n",
        "      <th></th>\n",
        "      <th></th>\n",
        "    </tr>\n",
        "  </thead>\n",
        "  <tbody>\n",
        "    <tr>\n",
        "      <th rowspan=\"2\" valign=\"top\">a</th>\n",
        "      <th>1</th>\n",
        "      <td>2</td>\n",
        "      <td>1</td>\n",
        "    </tr>\n",
        "    <tr>\n",
        "      <th>2</th>\n",
        "      <td>8</td>\n",
        "      <td>4</td>\n",
        "    </tr>\n",
        "    <tr>\n",
        "      <th rowspan=\"2\" valign=\"top\">b</th>\n",
        "      <th>1</th>\n",
        "      <td>14</td>\n",
        "      <td>7</td>\n",
        "    </tr>\n",
        "    <tr>\n",
        "      <th>2</th>\n",
        "      <td>20</td>\n",
        "      <td>10</td>\n",
        "    </tr>\n",
        "  </tbody>\n",
        "</table>\n",
        "</div>"
       ],
       "metadata": {},
       "output_type": "pyout",
       "prompt_number": 283,
       "text": [
        "color      Green  Red\n",
        "key1 key2            \n",
        "a    1         2    1\n",
        "     2         8    4\n",
        "b    1        14    7\n",
        "     2        20   10"
       ]
      }
     ],
     "prompt_number": 283
    },
    {
     "cell_type": "heading",
     "level": 3,
     "metadata": {},
     "source": [
      "5.3 DataFrame\uc758 \uceec\ub7fc \uc0ac\uc6a9"
     ]
    },
    {
     "cell_type": "code",
     "collapsed": false,
     "input": [
      "frame = DataFrame({'a':range(7), 'b':range(7,0,-1), 'c':['one','one','one','two','two','two', 'two'], 'd':[0,1,2,0,1,2,3]})"
     ],
     "language": "python",
     "metadata": {},
     "outputs": [],
     "prompt_number": 286
    },
    {
     "cell_type": "code",
     "collapsed": false,
     "input": [
      "frame"
     ],
     "language": "python",
     "metadata": {},
     "outputs": [
      {
       "html": [
        "<div style=\"max-width:1500px;overflow:auto;\">\n",
        "<table border=\"1\" class=\"dataframe\">\n",
        "  <thead>\n",
        "    <tr style=\"text-align: right;\">\n",
        "      <th></th>\n",
        "      <th>a</th>\n",
        "      <th>b</th>\n",
        "      <th>c</th>\n",
        "      <th>d</th>\n",
        "    </tr>\n",
        "  </thead>\n",
        "  <tbody>\n",
        "    <tr>\n",
        "      <th>0</th>\n",
        "      <td>0</td>\n",
        "      <td>7</td>\n",
        "      <td>one</td>\n",
        "      <td>0</td>\n",
        "    </tr>\n",
        "    <tr>\n",
        "      <th>1</th>\n",
        "      <td>1</td>\n",
        "      <td>6</td>\n",
        "      <td>one</td>\n",
        "      <td>1</td>\n",
        "    </tr>\n",
        "    <tr>\n",
        "      <th>2</th>\n",
        "      <td>2</td>\n",
        "      <td>5</td>\n",
        "      <td>one</td>\n",
        "      <td>2</td>\n",
        "    </tr>\n",
        "    <tr>\n",
        "      <th>3</th>\n",
        "      <td>3</td>\n",
        "      <td>4</td>\n",
        "      <td>two</td>\n",
        "      <td>0</td>\n",
        "    </tr>\n",
        "    <tr>\n",
        "      <th>4</th>\n",
        "      <td>4</td>\n",
        "      <td>3</td>\n",
        "      <td>two</td>\n",
        "      <td>1</td>\n",
        "    </tr>\n",
        "    <tr>\n",
        "      <th>5</th>\n",
        "      <td>5</td>\n",
        "      <td>2</td>\n",
        "      <td>two</td>\n",
        "      <td>2</td>\n",
        "    </tr>\n",
        "    <tr>\n",
        "      <th>6</th>\n",
        "      <td>6</td>\n",
        "      <td>1</td>\n",
        "      <td>two</td>\n",
        "      <td>3</td>\n",
        "    </tr>\n",
        "  </tbody>\n",
        "</table>\n",
        "</div>"
       ],
       "metadata": {},
       "output_type": "pyout",
       "prompt_number": 287,
       "text": [
        "   a  b    c  d\n",
        "0  0  7  one  0\n",
        "1  1  6  one  1\n",
        "2  2  5  one  2\n",
        "3  3  4  two  0\n",
        "4  4  3  two  1\n",
        "5  5  2  two  2\n",
        "6  6  1  two  3"
       ]
      }
     ],
     "prompt_number": 287
    },
    {
     "cell_type": "code",
     "collapsed": false,
     "input": [
      "frame2 = frame.set_index(['c','d']) # drop = False\uac00 \uc5c6\uc73c\uba74 \uae30\uc874\uc758 c,d \uceec\ub7fc\uc740 \uc0ad\uc81c"
     ],
     "language": "python",
     "metadata": {},
     "outputs": [],
     "prompt_number": 288
    },
    {
     "cell_type": "code",
     "collapsed": false,
     "input": [
      "frame2"
     ],
     "language": "python",
     "metadata": {},
     "outputs": [
      {
       "html": [
        "<div style=\"max-width:1500px;overflow:auto;\">\n",
        "<table border=\"1\" class=\"dataframe\">\n",
        "  <thead>\n",
        "    <tr style=\"text-align: right;\">\n",
        "      <th></th>\n",
        "      <th></th>\n",
        "      <th>a</th>\n",
        "      <th>b</th>\n",
        "    </tr>\n",
        "    <tr>\n",
        "      <th>c</th>\n",
        "      <th>d</th>\n",
        "      <th></th>\n",
        "      <th></th>\n",
        "    </tr>\n",
        "  </thead>\n",
        "  <tbody>\n",
        "    <tr>\n",
        "      <th rowspan=\"3\" valign=\"top\">one</th>\n",
        "      <th>0</th>\n",
        "      <td>0</td>\n",
        "      <td>7</td>\n",
        "    </tr>\n",
        "    <tr>\n",
        "      <th>1</th>\n",
        "      <td>1</td>\n",
        "      <td>6</td>\n",
        "    </tr>\n",
        "    <tr>\n",
        "      <th>2</th>\n",
        "      <td>2</td>\n",
        "      <td>5</td>\n",
        "    </tr>\n",
        "    <tr>\n",
        "      <th rowspan=\"4\" valign=\"top\">two</th>\n",
        "      <th>0</th>\n",
        "      <td>3</td>\n",
        "      <td>4</td>\n",
        "    </tr>\n",
        "    <tr>\n",
        "      <th>1</th>\n",
        "      <td>4</td>\n",
        "      <td>3</td>\n",
        "    </tr>\n",
        "    <tr>\n",
        "      <th>2</th>\n",
        "      <td>5</td>\n",
        "      <td>2</td>\n",
        "    </tr>\n",
        "    <tr>\n",
        "      <th>3</th>\n",
        "      <td>6</td>\n",
        "      <td>1</td>\n",
        "    </tr>\n",
        "  </tbody>\n",
        "</table>\n",
        "</div>"
       ],
       "metadata": {},
       "output_type": "pyout",
       "prompt_number": 289,
       "text": [
        "       a  b\n",
        "c   d      \n",
        "one 0  0  7\n",
        "    1  1  6\n",
        "    2  2  5\n",
        "two 0  3  4\n",
        "    1  4  3\n",
        "    2  5  2\n",
        "    3  6  1"
       ]
      }
     ],
     "prompt_number": 289
    },
    {
     "cell_type": "code",
     "collapsed": false,
     "input": [
      "frame.set_index(['c','d'], drop=False) # \uceec\ub7fc \uc0ad\uc81c \ubc29\uc9c0\uc6a9"
     ],
     "language": "python",
     "metadata": {},
     "outputs": [
      {
       "html": [
        "<div style=\"max-width:1500px;overflow:auto;\">\n",
        "<table border=\"1\" class=\"dataframe\">\n",
        "  <thead>\n",
        "    <tr style=\"text-align: right;\">\n",
        "      <th></th>\n",
        "      <th></th>\n",
        "      <th>a</th>\n",
        "      <th>b</th>\n",
        "      <th>c</th>\n",
        "      <th>d</th>\n",
        "    </tr>\n",
        "    <tr>\n",
        "      <th>c</th>\n",
        "      <th>d</th>\n",
        "      <th></th>\n",
        "      <th></th>\n",
        "      <th></th>\n",
        "      <th></th>\n",
        "    </tr>\n",
        "  </thead>\n",
        "  <tbody>\n",
        "    <tr>\n",
        "      <th rowspan=\"3\" valign=\"top\">one</th>\n",
        "      <th>0</th>\n",
        "      <td>0</td>\n",
        "      <td>7</td>\n",
        "      <td>one</td>\n",
        "      <td>0</td>\n",
        "    </tr>\n",
        "    <tr>\n",
        "      <th>1</th>\n",
        "      <td>1</td>\n",
        "      <td>6</td>\n",
        "      <td>one</td>\n",
        "      <td>1</td>\n",
        "    </tr>\n",
        "    <tr>\n",
        "      <th>2</th>\n",
        "      <td>2</td>\n",
        "      <td>5</td>\n",
        "      <td>one</td>\n",
        "      <td>2</td>\n",
        "    </tr>\n",
        "    <tr>\n",
        "      <th rowspan=\"4\" valign=\"top\">two</th>\n",
        "      <th>0</th>\n",
        "      <td>3</td>\n",
        "      <td>4</td>\n",
        "      <td>two</td>\n",
        "      <td>0</td>\n",
        "    </tr>\n",
        "    <tr>\n",
        "      <th>1</th>\n",
        "      <td>4</td>\n",
        "      <td>3</td>\n",
        "      <td>two</td>\n",
        "      <td>1</td>\n",
        "    </tr>\n",
        "    <tr>\n",
        "      <th>2</th>\n",
        "      <td>5</td>\n",
        "      <td>2</td>\n",
        "      <td>two</td>\n",
        "      <td>2</td>\n",
        "    </tr>\n",
        "    <tr>\n",
        "      <th>3</th>\n",
        "      <td>6</td>\n",
        "      <td>1</td>\n",
        "      <td>two</td>\n",
        "      <td>3</td>\n",
        "    </tr>\n",
        "  </tbody>\n",
        "</table>\n",
        "</div>"
       ],
       "metadata": {},
       "output_type": "pyout",
       "prompt_number": 290,
       "text": [
        "       a  b    c  d\n",
        "c   d              \n",
        "one 0  0  7  one  0\n",
        "    1  1  6  one  1\n",
        "    2  2  5  one  2\n",
        "two 0  3  4  two  0\n",
        "    1  4  3  two  1\n",
        "    2  5  2  two  2\n",
        "    3  6  1  two  3"
       ]
      }
     ],
     "prompt_number": 290
    },
    {
     "cell_type": "code",
     "collapsed": false,
     "input": [
      "frame2.reset_index() # \uacc4\uc99d\uc801 \uc0c9\uc778 \ub2e8\uacc4\uac00 \uceec\ub7fc\uc73c\ub85c \uc774\ub3d9"
     ],
     "language": "python",
     "metadata": {},
     "outputs": [
      {
       "html": [
        "<div style=\"max-width:1500px;overflow:auto;\">\n",
        "<table border=\"1\" class=\"dataframe\">\n",
        "  <thead>\n",
        "    <tr style=\"text-align: right;\">\n",
        "      <th></th>\n",
        "      <th>c</th>\n",
        "      <th>d</th>\n",
        "      <th>a</th>\n",
        "      <th>b</th>\n",
        "    </tr>\n",
        "  </thead>\n",
        "  <tbody>\n",
        "    <tr>\n",
        "      <th>0</th>\n",
        "      <td>one</td>\n",
        "      <td>0</td>\n",
        "      <td>0</td>\n",
        "      <td>7</td>\n",
        "    </tr>\n",
        "    <tr>\n",
        "      <th>1</th>\n",
        "      <td>one</td>\n",
        "      <td>1</td>\n",
        "      <td>1</td>\n",
        "      <td>6</td>\n",
        "    </tr>\n",
        "    <tr>\n",
        "      <th>2</th>\n",
        "      <td>one</td>\n",
        "      <td>2</td>\n",
        "      <td>2</td>\n",
        "      <td>5</td>\n",
        "    </tr>\n",
        "    <tr>\n",
        "      <th>3</th>\n",
        "      <td>two</td>\n",
        "      <td>0</td>\n",
        "      <td>3</td>\n",
        "      <td>4</td>\n",
        "    </tr>\n",
        "    <tr>\n",
        "      <th>4</th>\n",
        "      <td>two</td>\n",
        "      <td>1</td>\n",
        "      <td>4</td>\n",
        "      <td>3</td>\n",
        "    </tr>\n",
        "    <tr>\n",
        "      <th>5</th>\n",
        "      <td>two</td>\n",
        "      <td>2</td>\n",
        "      <td>5</td>\n",
        "      <td>2</td>\n",
        "    </tr>\n",
        "    <tr>\n",
        "      <th>6</th>\n",
        "      <td>two</td>\n",
        "      <td>3</td>\n",
        "      <td>6</td>\n",
        "      <td>1</td>\n",
        "    </tr>\n",
        "  </tbody>\n",
        "</table>\n",
        "</div>"
       ],
       "metadata": {},
       "output_type": "pyout",
       "prompt_number": 291,
       "text": [
        "     c  d  a  b\n",
        "0  one  0  0  7\n",
        "1  one  1  1  6\n",
        "2  one  2  2  5\n",
        "3  two  0  3  4\n",
        "4  two  1  4  3\n",
        "5  two  2  5  2\n",
        "6  two  3  6  1"
       ]
      }
     ],
     "prompt_number": 291
    },
    {
     "cell_type": "heading",
     "level": 1,
     "metadata": {},
     "source": [
      "6. pandas\uc640 \uad00\ub828\ub41c \uae30\ud0c0 \uc8fc\uc81c"
     ]
    },
    {
     "cell_type": "heading",
     "level": 3,
     "metadata": {},
     "source": [
      "6.1 \uc815\uc218 \uc0c9\uc778"
     ]
    },
    {
     "cell_type": "code",
     "collapsed": false,
     "input": [
      "ser = Series(np.arange(3.))\n",
      "ser\n",
      "ser[-1]"
     ],
     "language": "python",
     "metadata": {},
     "outputs": [
      {
       "ename": "KeyError",
       "evalue": "-1L",
       "output_type": "pyerr",
       "traceback": [
        "\u001b[1;31m---------------------------------------------------------------------------\u001b[0m\n\u001b[1;31mKeyError\u001b[0m                                  Traceback (most recent call last)",
        "\u001b[1;32m<ipython-input-303-9befea4ee203>\u001b[0m in \u001b[0;36m<module>\u001b[1;34m()\u001b[0m\n\u001b[0;32m      1\u001b[0m \u001b[0mser\u001b[0m \u001b[1;33m=\u001b[0m \u001b[0mSeries\u001b[0m\u001b[1;33m(\u001b[0m\u001b[0mnp\u001b[0m\u001b[1;33m.\u001b[0m\u001b[0marange\u001b[0m\u001b[1;33m(\u001b[0m\u001b[1;36m3.\u001b[0m\u001b[1;33m)\u001b[0m\u001b[1;33m)\u001b[0m\u001b[1;33m\u001b[0m\u001b[0m\n\u001b[0;32m      2\u001b[0m \u001b[0mser\u001b[0m\u001b[1;33m\u001b[0m\u001b[0m\n\u001b[1;32m----> 3\u001b[1;33m \u001b[0mser\u001b[0m\u001b[1;33m[\u001b[0m\u001b[1;33m-\u001b[0m\u001b[1;36m1\u001b[0m\u001b[1;33m]\u001b[0m\u001b[1;33m\u001b[0m\u001b[0m\n\u001b[0m",
        "\u001b[1;32mC:\\ANACONDA\\lib\\site-packages\\pandas\\core\\series.pyc\u001b[0m in \u001b[0;36m__getitem__\u001b[1;34m(self, key)\u001b[0m\n\u001b[0;32m    519\u001b[0m     \u001b[1;32mdef\u001b[0m \u001b[0m__getitem__\u001b[0m\u001b[1;33m(\u001b[0m\u001b[0mself\u001b[0m\u001b[1;33m,\u001b[0m \u001b[0mkey\u001b[0m\u001b[1;33m)\u001b[0m\u001b[1;33m:\u001b[0m\u001b[1;33m\u001b[0m\u001b[0m\n\u001b[0;32m    520\u001b[0m         \u001b[1;32mtry\u001b[0m\u001b[1;33m:\u001b[0m\u001b[1;33m\u001b[0m\u001b[0m\n\u001b[1;32m--> 521\u001b[1;33m             \u001b[0mresult\u001b[0m \u001b[1;33m=\u001b[0m \u001b[0mself\u001b[0m\u001b[1;33m.\u001b[0m\u001b[0mindex\u001b[0m\u001b[1;33m.\u001b[0m\u001b[0mget_value\u001b[0m\u001b[1;33m(\u001b[0m\u001b[0mself\u001b[0m\u001b[1;33m,\u001b[0m \u001b[0mkey\u001b[0m\u001b[1;33m)\u001b[0m\u001b[1;33m\u001b[0m\u001b[0m\n\u001b[0m\u001b[0;32m    522\u001b[0m \u001b[1;33m\u001b[0m\u001b[0m\n\u001b[0;32m    523\u001b[0m             \u001b[1;32mif\u001b[0m \u001b[1;32mnot\u001b[0m \u001b[0mnp\u001b[0m\u001b[1;33m.\u001b[0m\u001b[0misscalar\u001b[0m\u001b[1;33m(\u001b[0m\u001b[0mresult\u001b[0m\u001b[1;33m)\u001b[0m\u001b[1;33m:\u001b[0m\u001b[1;33m\u001b[0m\u001b[0m\n",
        "\u001b[1;32mC:\\ANACONDA\\lib\\site-packages\\pandas\\core\\index.pyc\u001b[0m in \u001b[0;36mget_value\u001b[1;34m(self, series, key)\u001b[0m\n\u001b[0;32m   1593\u001b[0m \u001b[1;33m\u001b[0m\u001b[0m\n\u001b[0;32m   1594\u001b[0m         \u001b[1;32mtry\u001b[0m\u001b[1;33m:\u001b[0m\u001b[1;33m\u001b[0m\u001b[0m\n\u001b[1;32m-> 1595\u001b[1;33m             \u001b[1;32mreturn\u001b[0m \u001b[0mself\u001b[0m\u001b[1;33m.\u001b[0m\u001b[0m_engine\u001b[0m\u001b[1;33m.\u001b[0m\u001b[0mget_value\u001b[0m\u001b[1;33m(\u001b[0m\u001b[0ms\u001b[0m\u001b[1;33m,\u001b[0m \u001b[0mk\u001b[0m\u001b[1;33m)\u001b[0m\u001b[1;33m\u001b[0m\u001b[0m\n\u001b[0m\u001b[0;32m   1596\u001b[0m         \u001b[1;32mexcept\u001b[0m \u001b[0mKeyError\u001b[0m \u001b[1;32mas\u001b[0m \u001b[0me1\u001b[0m\u001b[1;33m:\u001b[0m\u001b[1;33m\u001b[0m\u001b[0m\n\u001b[0;32m   1597\u001b[0m             \u001b[1;32mif\u001b[0m \u001b[0mlen\u001b[0m\u001b[1;33m(\u001b[0m\u001b[0mself\u001b[0m\u001b[1;33m)\u001b[0m \u001b[1;33m>\u001b[0m \u001b[1;36m0\u001b[0m \u001b[1;32mand\u001b[0m \u001b[0mself\u001b[0m\u001b[1;33m.\u001b[0m\u001b[0minferred_type\u001b[0m \u001b[1;32min\u001b[0m \u001b[1;33m[\u001b[0m\u001b[1;34m'integer'\u001b[0m\u001b[1;33m,\u001b[0m\u001b[1;34m'boolean'\u001b[0m\u001b[1;33m]\u001b[0m\u001b[1;33m:\u001b[0m\u001b[1;33m\u001b[0m\u001b[0m\n",
        "\u001b[1;32mC:\\ANACONDA\\lib\\site-packages\\pandas\\index.pyd\u001b[0m in \u001b[0;36mpandas.index.IndexEngine.get_value (pandas\\index.c:3113)\u001b[1;34m()\u001b[0m\n",
        "\u001b[1;32mC:\\ANACONDA\\lib\\site-packages\\pandas\\index.pyd\u001b[0m in \u001b[0;36mpandas.index.IndexEngine.get_value (pandas\\index.c:2844)\u001b[1;34m()\u001b[0m\n",
        "\u001b[1;32mC:\\ANACONDA\\lib\\site-packages\\pandas\\index.pyd\u001b[0m in \u001b[0;36mpandas.index.IndexEngine.get_loc (pandas\\index.c:3704)\u001b[1;34m()\u001b[0m\n",
        "\u001b[1;32mC:\\ANACONDA\\lib\\site-packages\\pandas\\hashtable.pyd\u001b[0m in \u001b[0;36mpandas.hashtable.Int64HashTable.get_item (pandas\\hashtable.c:7224)\u001b[1;34m()\u001b[0m\n",
        "\u001b[1;32mC:\\ANACONDA\\lib\\site-packages\\pandas\\hashtable.pyd\u001b[0m in \u001b[0;36mpandas.hashtable.Int64HashTable.get_item (pandas\\hashtable.c:7162)\u001b[1;34m()\u001b[0m\n",
        "\u001b[1;31mKeyError\u001b[0m: -1L"
       ]
      }
     ],
     "prompt_number": 303
    },
    {
     "cell_type": "code",
     "collapsed": false,
     "input": [
      "ser2 = Series(np.arange(3.), index = ['a','b','c']) \n",
      "ser2"
     ],
     "language": "python",
     "metadata": {},
     "outputs": [
      {
       "metadata": {},
       "output_type": "pyout",
       "prompt_number": 295,
       "text": [
        "a    0\n",
        "b    1\n",
        "c    2\n",
        "dtype: float64"
       ]
      }
     ],
     "prompt_number": 295
    },
    {
     "cell_type": "code",
     "collapsed": false,
     "input": [
      "ser2[-1] # \uc815\uc218 \uc0c9\uc778\uc774 \uc544\ub2cc \uacbd\uc6b0\ub294 \uac80\uc0c9 \uac00\ub2a5"
     ],
     "language": "python",
     "metadata": {},
     "outputs": [
      {
       "metadata": {},
       "output_type": "pyout",
       "prompt_number": 302,
       "text": [
        "2.0"
       ]
      }
     ],
     "prompt_number": 302
    },
    {
     "cell_type": "code",
     "collapsed": false,
     "input": [
      "ser.ix[:1]"
     ],
     "language": "python",
     "metadata": {},
     "outputs": [
      {
       "metadata": {},
       "output_type": "pyout",
       "prompt_number": 296,
       "text": [
        "0    0\n",
        "1    1\n",
        "dtype: float64"
       ]
      }
     ],
     "prompt_number": 296
    },
    {
     "cell_type": "code",
     "collapsed": false,
     "input": [
      "ser3 = Series(range(3), index = [-5,1,3])\n",
      "ser3\n"
     ],
     "language": "python",
     "metadata": {},
     "outputs": [
      {
       "metadata": {},
       "output_type": "pyout",
       "prompt_number": 306,
       "text": [
        "-5    0\n",
        " 1    1\n",
        " 3    2\n",
        "dtype: int64"
       ]
      }
     ],
     "prompt_number": 306
    },
    {
     "cell_type": "code",
     "collapsed": false,
     "input": [
      "ser3.iget_value(0) # \uc0c9\uc778\uc758 \uc885\ub958\uc640 \uc0c1\uad00\uc5c6\uc774 \uac80\uc0c9(\uac12 \uc704\uc8fc\ub85c)"
     ],
     "language": "python",
     "metadata": {},
     "outputs": [
      {
       "metadata": {},
       "output_type": "pyout",
       "prompt_number": 313,
       "text": [
        "0"
       ]
      }
     ],
     "prompt_number": 313
    },
    {
     "cell_type": "code",
     "collapsed": false,
     "input": [
      "frame = DataFrame(np.arange(6).reshape(3,2), index = [2,0,1])\n",
      "frame"
     ],
     "language": "python",
     "metadata": {},
     "outputs": [
      {
       "html": [
        "<div style=\"max-width:1500px;overflow:auto;\">\n",
        "<table border=\"1\" class=\"dataframe\">\n",
        "  <thead>\n",
        "    <tr style=\"text-align: right;\">\n",
        "      <th></th>\n",
        "      <th>0</th>\n",
        "      <th>1</th>\n",
        "    </tr>\n",
        "  </thead>\n",
        "  <tbody>\n",
        "    <tr>\n",
        "      <th>2</th>\n",
        "      <td>0</td>\n",
        "      <td>1</td>\n",
        "    </tr>\n",
        "    <tr>\n",
        "      <th>0</th>\n",
        "      <td>2</td>\n",
        "      <td>3</td>\n",
        "    </tr>\n",
        "    <tr>\n",
        "      <th>1</th>\n",
        "      <td>4</td>\n",
        "      <td>5</td>\n",
        "    </tr>\n",
        "  </tbody>\n",
        "</table>\n",
        "</div>"
       ],
       "metadata": {},
       "output_type": "pyout",
       "prompt_number": 319,
       "text": [
        "   0  1\n",
        "2  0  1\n",
        "0  2  3\n",
        "1  4  5"
       ]
      }
     ],
     "prompt_number": 319
    },
    {
     "cell_type": "code",
     "collapsed": false,
     "input": [
      "frame.irow(0) # 0\ubc88\uc9f8 \ub85c\uc6b0"
     ],
     "language": "python",
     "metadata": {},
     "outputs": [
      {
       "metadata": {},
       "output_type": "pyout",
       "prompt_number": 318,
       "text": [
        "0    0\n",
        "1    1\n",
        "Name: 2, dtype: int32"
       ]
      }
     ],
     "prompt_number": 318
    },
    {
     "cell_type": "heading",
     "level": 3,
     "metadata": {},
     "source": [
      "6.2 Panel \ub370\uc774\ud130"
     ]
    },
    {
     "cell_type": "heading",
     "level": 6,
     "metadata": {},
     "source": [
      "DataFrame\uc758 3\ucc28\uc6d0 \ubc84\uc804"
     ]
    },
    {
     "cell_type": "code",
     "collapsed": false,
     "input": [
      "import pandas.io.data as web\n",
      "pdata = pd.Panel(dict((stk, web.get_data_yahoo(stk, '1/1/2009', '6/1/2012')) for stk in ['AAPL' , 'A', 'MSFT', 'DELL']))"
     ],
     "language": "python",
     "metadata": {},
     "outputs": [],
     "prompt_number": 320
    },
    {
     "cell_type": "code",
     "collapsed": false,
     "input": [
      "pdata"
     ],
     "language": "python",
     "metadata": {},
     "outputs": [
      {
       "metadata": {},
       "output_type": "pyout",
       "prompt_number": 321,
       "text": [
        "<class 'pandas.core.panel.Panel'>\n",
        "Dimensions: 4 (items) x 868 (major_axis) x 6 (minor_axis)\n",
        "Items axis: A to MSFT\n",
        "Major_axis axis: 2009-01-02 00:00:00 to 2012-06-01 00:00:00\n",
        "Minor_axis axis: Open to Adj Close"
       ]
      }
     ],
     "prompt_number": 321
    },
    {
     "cell_type": "code",
     "collapsed": false,
     "input": [
      "pdata = pdata.swapaxes('items', 'minor')"
     ],
     "language": "python",
     "metadata": {},
     "outputs": [],
     "prompt_number": 322
    },
    {
     "cell_type": "code",
     "collapsed": false,
     "input": [
      "pdata['Adj Close']"
     ],
     "language": "python",
     "metadata": {},
     "outputs": [
      {
       "html": [
        "<div style=\"max-width:1500px;overflow:auto;\">\n",
        "<table border=\"1\" class=\"dataframe\">\n",
        "  <thead>\n",
        "    <tr style=\"text-align: right;\">\n",
        "      <th></th>\n",
        "      <th>A</th>\n",
        "      <th>AAPL</th>\n",
        "      <th>DELL</th>\n",
        "      <th>MSFT</th>\n",
        "    </tr>\n",
        "    <tr>\n",
        "      <th>Date</th>\n",
        "      <th></th>\n",
        "      <th></th>\n",
        "      <th></th>\n",
        "      <th></th>\n",
        "    </tr>\n",
        "  </thead>\n",
        "  <tbody>\n",
        "    <tr>\n",
        "      <th>2009-01-02</th>\n",
        "      <td>11.158166</td>\n",
        "      <td>12.006086</td>\n",
        "      <td>10.39902</td>\n",
        "      <td>16.954103</td>\n",
        "    </tr>\n",
        "    <tr>\n",
        "      <th>2009-01-05</th>\n",
        "      <td>11.536061</td>\n",
        "      <td>12.512789</td>\n",
        "      <td>10.26359</td>\n",
        "      <td>17.112553</td>\n",
        "    </tr>\n",
        "    <tr>\n",
        "      <th>2009-01-06</th>\n",
        "      <td>12.456755</td>\n",
        "      <td>12.306404</td>\n",
        "      <td>10.68922</td>\n",
        "      <td>17.312699</td>\n",
        "    </tr>\n",
        "    <tr>\n",
        "      <th>2009-01-07</th>\n",
        "      <td>12.525463</td>\n",
        "      <td>12.040484</td>\n",
        "      <td>10.78596</td>\n",
        "      <td>16.270268</td>\n",
        "    </tr>\n",
        "    <tr>\n",
        "      <th>2009-01-08</th>\n",
        "      <td>12.607905</td>\n",
        "      <td>12.264068</td>\n",
        "      <td>10.90204</td>\n",
        "      <td>16.778975</td>\n",
        "    </tr>\n",
        "    <tr>\n",
        "      <th>2009-01-09</th>\n",
        "      <td>12.724717</td>\n",
        "      <td>11.983595</td>\n",
        "      <td>10.75694</td>\n",
        "      <td>16.278607</td>\n",
        "    </tr>\n",
        "    <tr>\n",
        "      <th>2009-01-12</th>\n",
        "      <td>12.724717</td>\n",
        "      <td>11.729582</td>\n",
        "      <td>10.30228</td>\n",
        "      <td>16.236909</td>\n",
        "    </tr>\n",
        "    <tr>\n",
        "      <th>2009-01-13</th>\n",
        "      <td>13.095734</td>\n",
        "      <td>11.603899</td>\n",
        "      <td>10.40869</td>\n",
        "      <td>16.528790</td>\n",
        "    </tr>\n",
        "    <tr>\n",
        "      <th>2009-01-14</th>\n",
        "      <td>12.676622</td>\n",
        "      <td>11.289028</td>\n",
        "      <td>9.97338</td>\n",
        "      <td>15.920011</td>\n",
        "    </tr>\n",
        "    <tr>\n",
        "      <th>2009-01-15</th>\n",
        "      <td>13.136959</td>\n",
        "      <td>11.031046</td>\n",
        "      <td>10.19587</td>\n",
        "      <td>16.045102</td>\n",
        "    </tr>\n",
        "    <tr>\n",
        "      <th>2009-01-16</th>\n",
        "      <td>13.404921</td>\n",
        "      <td>10.892133</td>\n",
        "      <td>9.93469</td>\n",
        "      <td>16.437056</td>\n",
        "    </tr>\n",
        "    <tr>\n",
        "      <th>2009-01-20</th>\n",
        "      <td>12.745330</td>\n",
        "      <td>10.345740</td>\n",
        "      <td>9.52840</td>\n",
        "      <td>15.411304</td>\n",
        "    </tr>\n",
        "    <tr>\n",
        "      <th>2009-01-21</th>\n",
        "      <td>13.233148</td>\n",
        "      <td>10.958282</td>\n",
        "      <td>9.86697</td>\n",
        "      <td>16.161854</td>\n",
        "    </tr>\n",
        "    <tr>\n",
        "      <th>2009-01-22</th>\n",
        "      <td>12.985800</td>\n",
        "      <td>11.689893</td>\n",
        "      <td>9.65416</td>\n",
        "      <td>14.268800</td>\n",
        "    </tr>\n",
        "    <tr>\n",
        "      <th>2009-01-23</th>\n",
        "      <td>12.807160</td>\n",
        "      <td>11.689893</td>\n",
        "      <td>9.80893</td>\n",
        "      <td>14.343855</td>\n",
        "    </tr>\n",
        "    <tr>\n",
        "      <th>2009-01-26</th>\n",
        "      <td>12.992678</td>\n",
        "      <td>11.859235</td>\n",
        "      <td>9.97338</td>\n",
        "      <td>14.702450</td>\n",
        "    </tr>\n",
        "    <tr>\n",
        "      <th>2009-01-27</th>\n",
        "      <td>12.848386</td>\n",
        "      <td>12.003440</td>\n",
        "      <td>9.74122</td>\n",
        "      <td>14.727469</td>\n",
        "    </tr>\n",
        "    <tr>\n",
        "      <th>2009-01-28</th>\n",
        "      <td>13.027026</td>\n",
        "      <td>12.462516</td>\n",
        "      <td>10.52477</td>\n",
        "      <td>15.044369</td>\n",
        "    </tr>\n",
        "    <tr>\n",
        "      <th>2009-01-29</th>\n",
        "      <td>12.759066</td>\n",
        "      <td>12.303758</td>\n",
        "      <td>9.62514</td>\n",
        "      <td>14.669093</td>\n",
        "    </tr>\n",
        "    <tr>\n",
        "      <th>2009-01-30</th>\n",
        "      <td>12.422397</td>\n",
        "      <td>11.924061</td>\n",
        "      <td>9.18983</td>\n",
        "      <td>14.260460</td>\n",
        "    </tr>\n",
        "    <tr>\n",
        "      <th>2009-02-02</th>\n",
        "      <td>12.388049</td>\n",
        "      <td>12.106633</td>\n",
        "      <td>9.00603</td>\n",
        "      <td>14.869240</td>\n",
        "    </tr>\n",
        "    <tr>\n",
        "      <th>2009-02-03</th>\n",
        "      <td>12.511718</td>\n",
        "      <td>12.301112</td>\n",
        "      <td>9.45101</td>\n",
        "      <td>15.427983</td>\n",
        "    </tr>\n",
        "    <tr>\n",
        "      <th>2009-02-04</th>\n",
        "      <td>12.697226</td>\n",
        "      <td>12.376522</td>\n",
        "      <td>9.47036</td>\n",
        "      <td>15.536395</td>\n",
        "    </tr>\n",
        "    <tr>\n",
        "      <th>2009-02-05</th>\n",
        "      <td>13.274375</td>\n",
        "      <td>12.761510</td>\n",
        "      <td>9.12212</td>\n",
        "      <td>15.878314</td>\n",
        "    </tr>\n",
        "    <tr>\n",
        "      <th>2009-02-06</th>\n",
        "      <td>13.260639</td>\n",
        "      <td>13.192803</td>\n",
        "      <td>9.15114</td>\n",
        "      <td>16.395359</td>\n",
        "    </tr>\n",
        "    <tr>\n",
        "      <th>2009-02-09</th>\n",
        "      <td>13.081998</td>\n",
        "      <td>13.561917</td>\n",
        "      <td>9.32526</td>\n",
        "      <td>16.211892</td>\n",
        "    </tr>\n",
        "    <tr>\n",
        "      <th>2009-02-10</th>\n",
        "      <td>12.546075</td>\n",
        "      <td>12.942760</td>\n",
        "      <td>8.86093</td>\n",
        "      <td>15.678166</td>\n",
        "    </tr>\n",
        "    <tr>\n",
        "      <th>2009-02-11</th>\n",
        "      <td>12.621651</td>\n",
        "      <td>12.809138</td>\n",
        "      <td>8.72550</td>\n",
        "      <td>16.020083</td>\n",
        "    </tr>\n",
        "    <tr>\n",
        "      <th>2009-02-12</th>\n",
        "      <td>12.800292</td>\n",
        "      <td>13.133269</td>\n",
        "      <td>8.87060</td>\n",
        "      <td>16.061782</td>\n",
        "    </tr>\n",
        "    <tr>\n",
        "      <th>2009-02-13</th>\n",
        "      <td>12.690358</td>\n",
        "      <td>13.118716</td>\n",
        "      <td>8.82224</td>\n",
        "      <td>15.920011</td>\n",
        "    </tr>\n",
        "    <tr>\n",
        "      <th>...</th>\n",
        "      <td>...</td>\n",
        "      <td>...</td>\n",
        "      <td>...</td>\n",
        "      <td>...</td>\n",
        "    </tr>\n",
        "    <tr>\n",
        "      <th>2012-04-23</th>\n",
        "      <td>28.419691</td>\n",
        "      <td>75.635032</td>\n",
        "      <td>15.57434</td>\n",
        "      <td>28.918103</td>\n",
        "    </tr>\n",
        "    <tr>\n",
        "      <th>2012-04-24</th>\n",
        "      <td>27.407409</td>\n",
        "      <td>74.124187</td>\n",
        "      <td>15.65173</td>\n",
        "      <td>28.738041</td>\n",
        "    </tr>\n",
        "    <tr>\n",
        "      <th>2012-04-25</th>\n",
        "      <td>28.357721</td>\n",
        "      <td>80.702069</td>\n",
        "      <td>15.88390</td>\n",
        "      <td>28.990130</td>\n",
        "    </tr>\n",
        "    <tr>\n",
        "      <th>2012-04-26</th>\n",
        "      <td>28.915512</td>\n",
        "      <td>80.397780</td>\n",
        "      <td>15.99030</td>\n",
        "      <td>28.909101</td>\n",
        "    </tr>\n",
        "    <tr>\n",
        "      <th>2012-04-27</th>\n",
        "      <td>29.308023</td>\n",
        "      <td>79.775980</td>\n",
        "      <td>15.90324</td>\n",
        "      <td>28.792060</td>\n",
        "    </tr>\n",
        "    <tr>\n",
        "      <th>2012-04-30</th>\n",
        "      <td>29.046343</td>\n",
        "      <td>77.259659</td>\n",
        "      <td>15.83553</td>\n",
        "      <td>28.828073</td>\n",
        "    </tr>\n",
        "    <tr>\n",
        "      <th>2012-05-01</th>\n",
        "      <td>29.590366</td>\n",
        "      <td>77.014910</td>\n",
        "      <td>15.86455</td>\n",
        "      <td>28.819068</td>\n",
        "    </tr>\n",
        "    <tr>\n",
        "      <th>2012-05-02</th>\n",
        "      <td>29.638569</td>\n",
        "      <td>77.524255</td>\n",
        "      <td>15.64689</td>\n",
        "      <td>28.630003</td>\n",
        "    </tr>\n",
        "    <tr>\n",
        "      <th>2012-05-03</th>\n",
        "      <td>29.067003</td>\n",
        "      <td>76.973895</td>\n",
        "      <td>15.70010</td>\n",
        "      <td>28.593991</td>\n",
        "    </tr>\n",
        "    <tr>\n",
        "      <th>2012-05-04</th>\n",
        "      <td>28.240648</td>\n",
        "      <td>74.781710</td>\n",
        "      <td>15.29381</td>\n",
        "      <td>27.891745</td>\n",
        "    </tr>\n",
        "    <tr>\n",
        "      <th>2012-05-07</th>\n",
        "      <td>28.137359</td>\n",
        "      <td>75.341333</td>\n",
        "      <td>15.30348</td>\n",
        "      <td>27.594641</td>\n",
        "    </tr>\n",
        "    <tr>\n",
        "      <th>2012-05-08</th>\n",
        "      <td>27.731070</td>\n",
        "      <td>75.169344</td>\n",
        "      <td>15.19708</td>\n",
        "      <td>27.459594</td>\n",
        "    </tr>\n",
        "    <tr>\n",
        "      <th>2012-05-09</th>\n",
        "      <td>27.496930</td>\n",
        "      <td>75.301646</td>\n",
        "      <td>15.15838</td>\n",
        "      <td>27.693676</td>\n",
        "    </tr>\n",
        "    <tr>\n",
        "      <th>2012-05-10</th>\n",
        "      <td>27.366089</td>\n",
        "      <td>75.478919</td>\n",
        "      <td>15.04230</td>\n",
        "      <td>27.675670</td>\n",
        "    </tr>\n",
        "    <tr>\n",
        "      <th>2012-05-11</th>\n",
        "      <td>27.166386</td>\n",
        "      <td>74.974867</td>\n",
        "      <td>14.91654</td>\n",
        "      <td>28.053802</td>\n",
        "    </tr>\n",
        "    <tr>\n",
        "      <th>2012-05-14</th>\n",
        "      <td>26.787650</td>\n",
        "      <td>73.851650</td>\n",
        "      <td>14.93589</td>\n",
        "      <td>27.621651</td>\n",
        "    </tr>\n",
        "    <tr>\n",
        "      <th>2012-05-15</th>\n",
        "      <td>27.896337</td>\n",
        "      <td>73.183543</td>\n",
        "      <td>14.83916</td>\n",
        "      <td>27.376969</td>\n",
        "    </tr>\n",
        "    <tr>\n",
        "      <th>2012-05-16</th>\n",
        "      <td>27.379866</td>\n",
        "      <td>72.245548</td>\n",
        "      <td>14.52477</td>\n",
        "      <td>27.096041</td>\n",
        "    </tr>\n",
        "    <tr>\n",
        "      <th>2012-05-17</th>\n",
        "      <td>27.290343</td>\n",
        "      <td>70.134066</td>\n",
        "      <td>14.45222</td>\n",
        "      <td>26.932920</td>\n",
        "    </tr>\n",
        "    <tr>\n",
        "      <th>2012-05-18</th>\n",
        "      <td>26.670575</td>\n",
        "      <td>70.168461</td>\n",
        "      <td>14.25875</td>\n",
        "      <td>26.525121</td>\n",
        "    </tr>\n",
        "    <tr>\n",
        "      <th>2012-05-21</th>\n",
        "      <td>27.538250</td>\n",
        "      <td>74.256482</td>\n",
        "      <td>14.48124</td>\n",
        "      <td>26.960108</td>\n",
        "    </tr>\n",
        "    <tr>\n",
        "      <th>2012-05-22</th>\n",
        "      <td>27.882570</td>\n",
        "      <td>73.686282</td>\n",
        "      <td>14.58765</td>\n",
        "      <td>26.969170</td>\n",
        "    </tr>\n",
        "    <tr>\n",
        "      <th>2012-05-23</th>\n",
        "      <td>28.075380</td>\n",
        "      <td>75.484211</td>\n",
        "      <td>12.08221</td>\n",
        "      <td>26.380126</td>\n",
        "    </tr>\n",
        "    <tr>\n",
        "      <th>2012-05-24</th>\n",
        "      <td>28.247541</td>\n",
        "      <td>74.790973</td>\n",
        "      <td>12.04351</td>\n",
        "      <td>26.343876</td>\n",
        "    </tr>\n",
        "    <tr>\n",
        "      <th>2012-05-25</th>\n",
        "      <td>28.240648</td>\n",
        "      <td>74.390105</td>\n",
        "      <td>12.05319</td>\n",
        "      <td>26.334814</td>\n",
        "    </tr>\n",
        "    <tr>\n",
        "      <th>2012-05-28</th>\n",
        "      <td>NaN</td>\n",
        "      <td>NaN</td>\n",
        "      <td>12.05319</td>\n",
        "      <td>NaN</td>\n",
        "    </tr>\n",
        "    <tr>\n",
        "      <th>2012-05-29</th>\n",
        "      <td>29.046343</td>\n",
        "      <td>75.710442</td>\n",
        "      <td>12.24666</td>\n",
        "      <td>26.787925</td>\n",
        "    </tr>\n",
        "    <tr>\n",
        "      <th>2012-05-30</th>\n",
        "      <td>28.474787</td>\n",
        "      <td>76.623304</td>\n",
        "      <td>12.14992</td>\n",
        "      <td>26.588557</td>\n",
        "    </tr>\n",
        "    <tr>\n",
        "      <th>2012-05-31</th>\n",
        "      <td>27.999634</td>\n",
        "      <td>76.432797</td>\n",
        "      <td>11.92743</td>\n",
        "      <td>26.452624</td>\n",
        "    </tr>\n",
        "    <tr>\n",
        "      <th>2012-06-01</th>\n",
        "      <td>26.319382</td>\n",
        "      <td>74.218116</td>\n",
        "      <td>11.67592</td>\n",
        "      <td>25.782020</td>\n",
        "    </tr>\n",
        "  </tbody>\n",
        "</table>\n",
        "<p>868 rows \u00d7 4 columns</p>\n",
        "</div>"
       ],
       "metadata": {},
       "output_type": "pyout",
       "prompt_number": 325,
       "text": [
        "                    A       AAPL      DELL       MSFT\n",
        "Date                                                 \n",
        "2009-01-02  11.158166  12.006086  10.39902  16.954103\n",
        "2009-01-05  11.536061  12.512789  10.26359  17.112553\n",
        "2009-01-06  12.456755  12.306404  10.68922  17.312699\n",
        "2009-01-07  12.525463  12.040484  10.78596  16.270268\n",
        "2009-01-08  12.607905  12.264068  10.90204  16.778975\n",
        "2009-01-09  12.724717  11.983595  10.75694  16.278607\n",
        "2009-01-12  12.724717  11.729582  10.30228  16.236909\n",
        "2009-01-13  13.095734  11.603899  10.40869  16.528790\n",
        "2009-01-14  12.676622  11.289028   9.97338  15.920011\n",
        "2009-01-15  13.136959  11.031046  10.19587  16.045102\n",
        "2009-01-16  13.404921  10.892133   9.93469  16.437056\n",
        "2009-01-20  12.745330  10.345740   9.52840  15.411304\n",
        "2009-01-21  13.233148  10.958282   9.86697  16.161854\n",
        "2009-01-22  12.985800  11.689893   9.65416  14.268800\n",
        "2009-01-23  12.807160  11.689893   9.80893  14.343855\n",
        "2009-01-26  12.992678  11.859235   9.97338  14.702450\n",
        "2009-01-27  12.848386  12.003440   9.74122  14.727469\n",
        "2009-01-28  13.027026  12.462516  10.52477  15.044369\n",
        "2009-01-29  12.759066  12.303758   9.62514  14.669093\n",
        "2009-01-30  12.422397  11.924061   9.18983  14.260460\n",
        "2009-02-02  12.388049  12.106633   9.00603  14.869240\n",
        "2009-02-03  12.511718  12.301112   9.45101  15.427983\n",
        "2009-02-04  12.697226  12.376522   9.47036  15.536395\n",
        "2009-02-05  13.274375  12.761510   9.12212  15.878314\n",
        "2009-02-06  13.260639  13.192803   9.15114  16.395359\n",
        "2009-02-09  13.081998  13.561917   9.32526  16.211892\n",
        "2009-02-10  12.546075  12.942760   8.86093  15.678166\n",
        "2009-02-11  12.621651  12.809138   8.72550  16.020083\n",
        "2009-02-12  12.800292  13.133269   8.87060  16.061782\n",
        "2009-02-13  12.690358  13.118716   8.82224  15.920011\n",
        "...               ...        ...       ...        ...\n",
        "2012-04-23  28.419691  75.635032  15.57434  28.918103\n",
        "2012-04-24  27.407409  74.124187  15.65173  28.738041\n",
        "2012-04-25  28.357721  80.702069  15.88390  28.990130\n",
        "2012-04-26  28.915512  80.397780  15.99030  28.909101\n",
        "2012-04-27  29.308023  79.775980  15.90324  28.792060\n",
        "2012-04-30  29.046343  77.259659  15.83553  28.828073\n",
        "2012-05-01  29.590366  77.014910  15.86455  28.819068\n",
        "2012-05-02  29.638569  77.524255  15.64689  28.630003\n",
        "2012-05-03  29.067003  76.973895  15.70010  28.593991\n",
        "2012-05-04  28.240648  74.781710  15.29381  27.891745\n",
        "2012-05-07  28.137359  75.341333  15.30348  27.594641\n",
        "2012-05-08  27.731070  75.169344  15.19708  27.459594\n",
        "2012-05-09  27.496930  75.301646  15.15838  27.693676\n",
        "2012-05-10  27.366089  75.478919  15.04230  27.675670\n",
        "2012-05-11  27.166386  74.974867  14.91654  28.053802\n",
        "2012-05-14  26.787650  73.851650  14.93589  27.621651\n",
        "2012-05-15  27.896337  73.183543  14.83916  27.376969\n",
        "2012-05-16  27.379866  72.245548  14.52477  27.096041\n",
        "2012-05-17  27.290343  70.134066  14.45222  26.932920\n",
        "2012-05-18  26.670575  70.168461  14.25875  26.525121\n",
        "2012-05-21  27.538250  74.256482  14.48124  26.960108\n",
        "2012-05-22  27.882570  73.686282  14.58765  26.969170\n",
        "2012-05-23  28.075380  75.484211  12.08221  26.380126\n",
        "2012-05-24  28.247541  74.790973  12.04351  26.343876\n",
        "2012-05-25  28.240648  74.390105  12.05319  26.334814\n",
        "2012-05-28        NaN        NaN  12.05319        NaN\n",
        "2012-05-29  29.046343  75.710442  12.24666  26.787925\n",
        "2012-05-30  28.474787  76.623304  12.14992  26.588557\n",
        "2012-05-31  27.999634  76.432797  11.92743  26.452624\n",
        "2012-06-01  26.319382  74.218116  11.67592  25.782020\n",
        "\n",
        "[868 rows x 4 columns]"
       ]
      }
     ],
     "prompt_number": 325
    },
    {
     "cell_type": "code",
     "collapsed": false,
     "input": [
      "pdata.ix[:, '6/1/2012', :]"
     ],
     "language": "python",
     "metadata": {},
     "outputs": [
      {
       "html": [
        "<div style=\"max-width:1500px;overflow:auto;\">\n",
        "<table border=\"1\" class=\"dataframe\">\n",
        "  <thead>\n",
        "    <tr style=\"text-align: right;\">\n",
        "      <th></th>\n",
        "      <th>Open</th>\n",
        "      <th>High</th>\n",
        "      <th>Low</th>\n",
        "      <th>Close</th>\n",
        "      <th>Volume</th>\n",
        "      <th>Adj Close</th>\n",
        "    </tr>\n",
        "  </thead>\n",
        "  <tbody>\n",
        "    <tr>\n",
        "      <th>A</th>\n",
        "      <td>39.200004</td>\n",
        "      <td>39.439997</td>\n",
        "      <td>38.060004</td>\n",
        "      <td>38.220006</td>\n",
        "      <td>7578700</td>\n",
        "      <td>26.319382</td>\n",
        "    </tr>\n",
        "    <tr>\n",
        "      <th>AAPL</th>\n",
        "      <td>569.159996</td>\n",
        "      <td>572.650009</td>\n",
        "      <td>560.520012</td>\n",
        "      <td>560.989983</td>\n",
        "      <td>130246900</td>\n",
        "      <td>74.218116</td>\n",
        "    </tr>\n",
        "    <tr>\n",
        "      <th>DELL</th>\n",
        "      <td>12.150000</td>\n",
        "      <td>12.300000</td>\n",
        "      <td>12.045000</td>\n",
        "      <td>12.070000</td>\n",
        "      <td>19397600</td>\n",
        "      <td>11.675920</td>\n",
        "    </tr>\n",
        "    <tr>\n",
        "      <th>MSFT</th>\n",
        "      <td>28.760000</td>\n",
        "      <td>28.959999</td>\n",
        "      <td>28.440001</td>\n",
        "      <td>28.450001</td>\n",
        "      <td>56634300</td>\n",
        "      <td>25.782020</td>\n",
        "    </tr>\n",
        "  </tbody>\n",
        "</table>\n",
        "</div>"
       ],
       "metadata": {},
       "output_type": "pyout",
       "prompt_number": 326,
       "text": [
        "            Open        High         Low       Close     Volume  Adj Close\n",
        "A      39.200004   39.439997   38.060004   38.220006    7578700  26.319382\n",
        "AAPL  569.159996  572.650009  560.520012  560.989983  130246900  74.218116\n",
        "DELL   12.150000   12.300000   12.045000   12.070000   19397600  11.675920\n",
        "MSFT   28.760000   28.959999   28.440001   28.450001   56634300  25.782020"
       ]
      }
     ],
     "prompt_number": 326
    },
    {
     "cell_type": "code",
     "collapsed": false,
     "input": [
      "pdata.ix['Adj Close', '5/22/2012':, :]"
     ],
     "language": "python",
     "metadata": {},
     "outputs": [
      {
       "html": [
        "<div style=\"max-width:1500px;overflow:auto;\">\n",
        "<table border=\"1\" class=\"dataframe\">\n",
        "  <thead>\n",
        "    <tr style=\"text-align: right;\">\n",
        "      <th></th>\n",
        "      <th>A</th>\n",
        "      <th>AAPL</th>\n",
        "      <th>DELL</th>\n",
        "      <th>MSFT</th>\n",
        "    </tr>\n",
        "    <tr>\n",
        "      <th>Date</th>\n",
        "      <th></th>\n",
        "      <th></th>\n",
        "      <th></th>\n",
        "      <th></th>\n",
        "    </tr>\n",
        "  </thead>\n",
        "  <tbody>\n",
        "    <tr>\n",
        "      <th>2012-05-22</th>\n",
        "      <td>27.882570</td>\n",
        "      <td>73.686282</td>\n",
        "      <td>14.58765</td>\n",
        "      <td>26.969170</td>\n",
        "    </tr>\n",
        "    <tr>\n",
        "      <th>2012-05-23</th>\n",
        "      <td>28.075380</td>\n",
        "      <td>75.484211</td>\n",
        "      <td>12.08221</td>\n",
        "      <td>26.380126</td>\n",
        "    </tr>\n",
        "    <tr>\n",
        "      <th>2012-05-24</th>\n",
        "      <td>28.247541</td>\n",
        "      <td>74.790973</td>\n",
        "      <td>12.04351</td>\n",
        "      <td>26.343876</td>\n",
        "    </tr>\n",
        "    <tr>\n",
        "      <th>2012-05-25</th>\n",
        "      <td>28.240648</td>\n",
        "      <td>74.390105</td>\n",
        "      <td>12.05319</td>\n",
        "      <td>26.334814</td>\n",
        "    </tr>\n",
        "    <tr>\n",
        "      <th>2012-05-28</th>\n",
        "      <td>NaN</td>\n",
        "      <td>NaN</td>\n",
        "      <td>12.05319</td>\n",
        "      <td>NaN</td>\n",
        "    </tr>\n",
        "    <tr>\n",
        "      <th>2012-05-29</th>\n",
        "      <td>29.046343</td>\n",
        "      <td>75.710442</td>\n",
        "      <td>12.24666</td>\n",
        "      <td>26.787925</td>\n",
        "    </tr>\n",
        "    <tr>\n",
        "      <th>2012-05-30</th>\n",
        "      <td>28.474787</td>\n",
        "      <td>76.623304</td>\n",
        "      <td>12.14992</td>\n",
        "      <td>26.588557</td>\n",
        "    </tr>\n",
        "    <tr>\n",
        "      <th>2012-05-31</th>\n",
        "      <td>27.999634</td>\n",
        "      <td>76.432797</td>\n",
        "      <td>11.92743</td>\n",
        "      <td>26.452624</td>\n",
        "    </tr>\n",
        "    <tr>\n",
        "      <th>2012-06-01</th>\n",
        "      <td>26.319382</td>\n",
        "      <td>74.218116</td>\n",
        "      <td>11.67592</td>\n",
        "      <td>25.782020</td>\n",
        "    </tr>\n",
        "  </tbody>\n",
        "</table>\n",
        "</div>"
       ],
       "metadata": {},
       "output_type": "pyout",
       "prompt_number": 327,
       "text": [
        "                    A       AAPL      DELL       MSFT\n",
        "Date                                                 \n",
        "2012-05-22  27.882570  73.686282  14.58765  26.969170\n",
        "2012-05-23  28.075380  75.484211  12.08221  26.380126\n",
        "2012-05-24  28.247541  74.790973  12.04351  26.343876\n",
        "2012-05-25  28.240648  74.390105  12.05319  26.334814\n",
        "2012-05-28        NaN        NaN  12.05319        NaN\n",
        "2012-05-29  29.046343  75.710442  12.24666  26.787925\n",
        "2012-05-30  28.474787  76.623304  12.14992  26.588557\n",
        "2012-05-31  27.999634  76.432797  11.92743  26.452624\n",
        "2012-06-01  26.319382  74.218116  11.67592  25.782020"
       ]
      }
     ],
     "prompt_number": 327
    },
    {
     "cell_type": "code",
     "collapsed": false,
     "input": [
      "stacked = pdata.ix[:, '5/30/2012':, :].to_frame()"
     ],
     "language": "python",
     "metadata": {},
     "outputs": [],
     "prompt_number": 328
    },
    {
     "cell_type": "code",
     "collapsed": false,
     "input": [
      "stacked"
     ],
     "language": "python",
     "metadata": {},
     "outputs": [
      {
       "html": [
        "<div style=\"max-width:1500px;overflow:auto;\">\n",
        "<table border=\"1\" class=\"dataframe\">\n",
        "  <thead>\n",
        "    <tr style=\"text-align: right;\">\n",
        "      <th></th>\n",
        "      <th></th>\n",
        "      <th>Open</th>\n",
        "      <th>High</th>\n",
        "      <th>Low</th>\n",
        "      <th>Close</th>\n",
        "      <th>Volume</th>\n",
        "      <th>Adj Close</th>\n",
        "    </tr>\n",
        "    <tr>\n",
        "      <th>Date</th>\n",
        "      <th>minor</th>\n",
        "      <th></th>\n",
        "      <th></th>\n",
        "      <th></th>\n",
        "      <th></th>\n",
        "      <th></th>\n",
        "      <th></th>\n",
        "    </tr>\n",
        "  </thead>\n",
        "  <tbody>\n",
        "    <tr>\n",
        "      <th rowspan=\"4\" valign=\"top\">2012-05-30</th>\n",
        "      <th>A</th>\n",
        "      <td>41.640003</td>\n",
        "      <td>41.640003</td>\n",
        "      <td>40.800000</td>\n",
        "      <td>41.350003</td>\n",
        "      <td>4297900</td>\n",
        "      <td>28.474787</td>\n",
        "    </tr>\n",
        "    <tr>\n",
        "      <th>AAPL</th>\n",
        "      <td>569.199997</td>\n",
        "      <td>579.989990</td>\n",
        "      <td>566.559990</td>\n",
        "      <td>579.169998</td>\n",
        "      <td>132357400</td>\n",
        "      <td>76.623304</td>\n",
        "    </tr>\n",
        "    <tr>\n",
        "      <th>DELL</th>\n",
        "      <td>12.590000</td>\n",
        "      <td>12.700000</td>\n",
        "      <td>12.460000</td>\n",
        "      <td>12.560000</td>\n",
        "      <td>19787800</td>\n",
        "      <td>12.149920</td>\n",
        "    </tr>\n",
        "    <tr>\n",
        "      <th>MSFT</th>\n",
        "      <td>29.350000</td>\n",
        "      <td>29.480000</td>\n",
        "      <td>29.120001</td>\n",
        "      <td>29.340000</td>\n",
        "      <td>41585500</td>\n",
        "      <td>26.588557</td>\n",
        "    </tr>\n",
        "    <tr>\n",
        "      <th rowspan=\"4\" valign=\"top\">2012-05-31</th>\n",
        "      <th>A</th>\n",
        "      <td>41.459998</td>\n",
        "      <td>41.619997</td>\n",
        "      <td>40.270006</td>\n",
        "      <td>40.660005</td>\n",
        "      <td>5887300</td>\n",
        "      <td>27.999634</td>\n",
        "    </tr>\n",
        "    <tr>\n",
        "      <th>AAPL</th>\n",
        "      <td>580.740021</td>\n",
        "      <td>581.499985</td>\n",
        "      <td>571.460022</td>\n",
        "      <td>577.730019</td>\n",
        "      <td>122918600</td>\n",
        "      <td>76.432797</td>\n",
        "    </tr>\n",
        "    <tr>\n",
        "      <th>DELL</th>\n",
        "      <td>12.530000</td>\n",
        "      <td>12.540000</td>\n",
        "      <td>12.330000</td>\n",
        "      <td>12.330000</td>\n",
        "      <td>19955600</td>\n",
        "      <td>11.927430</td>\n",
        "    </tr>\n",
        "    <tr>\n",
        "      <th>MSFT</th>\n",
        "      <td>29.299999</td>\n",
        "      <td>29.420000</td>\n",
        "      <td>28.940001</td>\n",
        "      <td>29.190001</td>\n",
        "      <td>39134000</td>\n",
        "      <td>26.452624</td>\n",
        "    </tr>\n",
        "    <tr>\n",
        "      <th rowspan=\"4\" valign=\"top\">2012-06-01</th>\n",
        "      <th>A</th>\n",
        "      <td>39.200004</td>\n",
        "      <td>39.439997</td>\n",
        "      <td>38.060004</td>\n",
        "      <td>38.220006</td>\n",
        "      <td>7578700</td>\n",
        "      <td>26.319382</td>\n",
        "    </tr>\n",
        "    <tr>\n",
        "      <th>AAPL</th>\n",
        "      <td>569.159996</td>\n",
        "      <td>572.650009</td>\n",
        "      <td>560.520012</td>\n",
        "      <td>560.989983</td>\n",
        "      <td>130246900</td>\n",
        "      <td>74.218116</td>\n",
        "    </tr>\n",
        "    <tr>\n",
        "      <th>DELL</th>\n",
        "      <td>12.150000</td>\n",
        "      <td>12.300000</td>\n",
        "      <td>12.045000</td>\n",
        "      <td>12.070000</td>\n",
        "      <td>19397600</td>\n",
        "      <td>11.675920</td>\n",
        "    </tr>\n",
        "    <tr>\n",
        "      <th>MSFT</th>\n",
        "      <td>28.760000</td>\n",
        "      <td>28.959999</td>\n",
        "      <td>28.440001</td>\n",
        "      <td>28.450001</td>\n",
        "      <td>56634300</td>\n",
        "      <td>25.782020</td>\n",
        "    </tr>\n",
        "  </tbody>\n",
        "</table>\n",
        "</div>"
       ],
       "metadata": {},
       "output_type": "pyout",
       "prompt_number": 329,
       "text": [
        "                        Open        High         Low       Close     Volume  \\\n",
        "Date       minor                                                              \n",
        "2012-05-30 A       41.640003   41.640003   40.800000   41.350003    4297900   \n",
        "           AAPL   569.199997  579.989990  566.559990  579.169998  132357400   \n",
        "           DELL    12.590000   12.700000   12.460000   12.560000   19787800   \n",
        "           MSFT    29.350000   29.480000   29.120001   29.340000   41585500   \n",
        "2012-05-31 A       41.459998   41.619997   40.270006   40.660005    5887300   \n",
        "           AAPL   580.740021  581.499985  571.460022  577.730019  122918600   \n",
        "           DELL    12.530000   12.540000   12.330000   12.330000   19955600   \n",
        "           MSFT    29.299999   29.420000   28.940001   29.190001   39134000   \n",
        "2012-06-01 A       39.200004   39.439997   38.060004   38.220006    7578700   \n",
        "           AAPL   569.159996  572.650009  560.520012  560.989983  130246900   \n",
        "           DELL    12.150000   12.300000   12.045000   12.070000   19397600   \n",
        "           MSFT    28.760000   28.959999   28.440001   28.450001   56634300   \n",
        "\n",
        "                  Adj Close  \n",
        "Date       minor             \n",
        "2012-05-30 A      28.474787  \n",
        "           AAPL   76.623304  \n",
        "           DELL   12.149920  \n",
        "           MSFT   26.588557  \n",
        "2012-05-31 A      27.999634  \n",
        "           AAPL   76.432797  \n",
        "           DELL   11.927430  \n",
        "           MSFT   26.452624  \n",
        "2012-06-01 A      26.319382  \n",
        "           AAPL   74.218116  \n",
        "           DELL   11.675920  \n",
        "           MSFT   25.782020  "
       ]
      }
     ],
     "prompt_number": 329
    },
    {
     "cell_type": "code",
     "collapsed": false,
     "input": [],
     "language": "python",
     "metadata": {},
     "outputs": []
    }
   ],
   "metadata": {}
  }
 ]
}